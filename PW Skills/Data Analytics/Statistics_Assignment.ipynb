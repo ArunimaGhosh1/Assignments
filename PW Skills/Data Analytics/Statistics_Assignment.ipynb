{
  "cells": [
    {
      "cell_type": "code",
      "execution_count": null,
      "metadata": {
        "id": "VAcl-ckbR46k"
      },
      "outputs": [],
      "source": [
        "import numpy as np\n",
        "import pandas as pd\n",
        "\n",
        "import matplotlib.pyplot as plt\n",
        "import seaborn as sns"
      ]
    },
    {
      "cell_type": "markdown",
      "metadata": {
        "id": "QUocy673RPTt"
      },
      "source": [
        "####**1. Generate a list of 100 integers containing values between 90 to 130 and store it in the variable `int_list`. After generating the list, find the following**:"
      ]
    },
    {
      "cell_type": "code",
      "execution_count": null,
      "metadata": {
        "colab": {
          "base_uri": "https://localhost:8080/"
        },
        "id": "w4c7PUoESDtx",
        "outputId": "f3beb028-c685-494a-c322-074d421ccde9"
      },
      "outputs": [
        {
          "output_type": "execute_result",
          "data": {
            "text/plain": [
              "array([116,  94, 117, 114, 118,  94, 121, 119, 114, 108, 121,  93,  97,\n",
              "       103, 126, 113,  90, 129, 118,  94, 122, 124,  93, 124, 130, 124,\n",
              "       118, 105, 130, 121, 116,  99,  95,  90, 100, 107, 108, 123, 130,\n",
              "        93,  91, 103, 102, 121, 122, 100, 130,  99, 130,  91, 114, 114,\n",
              "       114, 129, 123,  94, 128,  90, 114, 117, 110, 103,  99,  98, 127,\n",
              "        90, 125, 128, 111,  92, 113, 113, 125,  94, 107, 104, 102, 103,\n",
              "       102, 129, 102, 118,  94, 123, 107, 101, 104,  92, 128, 129, 108,\n",
              "       105, 115,  93,  92, 113, 119,  94, 109, 118])"
            ]
          },
          "metadata": {},
          "execution_count": 2
        }
      ],
      "source": [
        "int_list = np.random.randint(90, 131, 100)\n",
        "int_list"
      ]
    },
    {
      "cell_type": "markdown",
      "metadata": {
        "id": "wRvw934vRjrx"
      },
      "source": [
        "####(i) Write a Python function to calculate the mean of a given list of numbers.\n",
        "####Create a function to find the median of a list of numbers."
      ]
    },
    {
      "cell_type": "code",
      "execution_count": null,
      "metadata": {
        "colab": {
          "base_uri": "https://localhost:8080/"
        },
        "id": "ZOmpe2flRFGk",
        "outputId": "8a32b99f-a7c5-4c8e-e0cd-f186a362b32e"
      },
      "outputs": [
        {
          "output_type": "execute_result",
          "data": {
            "text/plain": [
              "110.16"
            ]
          },
          "metadata": {},
          "execution_count": 3
        }
      ],
      "source": [
        "np.mean(int_list)"
      ]
    },
    {
      "cell_type": "code",
      "execution_count": null,
      "metadata": {
        "colab": {
          "base_uri": "https://localhost:8080/"
        },
        "id": "QHOa2uUbSKQh",
        "outputId": "5bc5bea8-7770-4080-c67c-cbf30c4f6b53"
      },
      "outputs": [
        {
          "output_type": "execute_result",
          "data": {
            "text/plain": [
              "112.0"
            ]
          },
          "metadata": {},
          "execution_count": 4
        }
      ],
      "source": [
        "np.median(int_list)"
      ]
    },
    {
      "cell_type": "markdown",
      "metadata": {
        "id": "fr1lGUzMSTcU"
      },
      "source": [
        "#### (ii) Develop a program to compute the mode of a list of integers."
      ]
    },
    {
      "cell_type": "code",
      "execution_count": null,
      "metadata": {
        "colab": {
          "base_uri": "https://localhost:8080/"
        },
        "id": "S5iKXyRKSMO7",
        "outputId": "353f04f2-3d07-49c0-aec0-f83119251a1c"
      },
      "outputs": [
        {
          "output_type": "execute_result",
          "data": {
            "text/plain": [
              "94"
            ]
          },
          "metadata": {},
          "execution_count": 5
        }
      ],
      "source": [
        "import statistics\n",
        "\n",
        "statistics.mode(int_list)"
      ]
    },
    {
      "cell_type": "markdown",
      "metadata": {
        "id": "oLNpc5DBSe20"
      },
      "source": [
        "#### (iii) Implement a function to calculate the weighted mean of a list of values and their corresponding weights."
      ]
    },
    {
      "cell_type": "code",
      "execution_count": null,
      "metadata": {
        "colab": {
          "base_uri": "https://localhost:8080/"
        },
        "id": "kpw-UioUSaj8",
        "outputId": "269102c7-638f-473c-c34a-49150ce8a6f8"
      },
      "outputs": [
        {
          "output_type": "execute_result",
          "data": {
            "text/plain": [
              "array([0.11671039, 0.07312105, 0.97357634, 0.74505848, 0.77161931,\n",
              "       0.48138914, 0.21235004, 0.37919604, 0.69946169, 0.30291132,\n",
              "       0.3501932 , 0.46294931, 0.36357903, 0.267346  , 0.63046556,\n",
              "       0.53107889, 0.91384003, 0.55117228, 0.95036361, 0.43259536,\n",
              "       0.76514583, 0.87449916, 0.17037615, 0.48466118, 0.20815686,\n",
              "       0.79328558, 0.00300587, 0.77537198, 0.87928749, 0.43553758,\n",
              "       0.77499679, 0.71336771, 0.88616353, 0.59191237, 0.01560161,\n",
              "       0.4842343 , 0.84026603, 0.09400174, 0.04563745, 0.11857943,\n",
              "       0.73608572, 0.73449985, 0.20316739, 0.26839284, 0.61892001,\n",
              "       0.0705637 , 0.41026773, 0.57438821, 0.21831233, 0.11294353,\n",
              "       0.41287385, 0.76453958, 0.25038759, 0.44631399, 0.09626159,\n",
              "       0.93243443, 0.34023441, 0.50068576, 0.71897543, 0.87232232,\n",
              "       0.45940456, 0.48391195, 0.64816446, 0.49130683, 0.9157144 ,\n",
              "       0.75486934, 0.61646808, 0.1489816 , 0.35680683, 0.66626443,\n",
              "       0.38972899, 0.36218767, 0.3182288 , 0.153409  , 0.48954242,\n",
              "       0.58039816, 0.52140624, 0.27114632, 0.7772971 , 0.86861156,\n",
              "       0.9238906 , 0.18116133, 0.90069586, 0.78337803, 0.13298448,\n",
              "       0.27136137, 0.48707519, 0.16690283, 0.07676031, 0.65051837,\n",
              "       0.59285244, 0.51091255, 0.65084174, 0.3770187 , 0.62993469,\n",
              "       0.78908677, 0.25148318, 0.77220108, 0.62271006, 0.32105686])"
            ]
          },
          "metadata": {},
          "execution_count": 6
        }
      ],
      "source": [
        "weights = np.random.random(size=100)\n",
        "weights"
      ]
    },
    {
      "cell_type": "code",
      "execution_count": null,
      "metadata": {
        "colab": {
          "base_uri": "https://localhost:8080/"
        },
        "id": "ibVweBN2jCeD",
        "outputId": "eceafe62-7bd7-4293-a93e-e651ed358386"
      },
      "outputs": [
        {
          "output_type": "execute_result",
          "data": {
            "text/plain": [
              "109.8978705139915"
            ]
          },
          "metadata": {},
          "execution_count": 7
        }
      ],
      "source": [
        "weighted_mean = sum(int_list * weights) / sum(weights)\n",
        "weighted_mean"
      ]
    },
    {
      "cell_type": "markdown",
      "metadata": {
        "id": "SoOjanjIlNRZ"
      },
      "source": [
        "####(iv) Write a Python function to find the geometric mean of a list of positive numbers."
      ]
    },
    {
      "cell_type": "code",
      "execution_count": null,
      "metadata": {
        "colab": {
          "base_uri": "https://localhost:8080/"
        },
        "id": "mkPEqPokkoEF",
        "outputId": "b1a50713-55e8-4e6f-b807-786968d952c8"
      },
      "outputs": [
        {
          "output_type": "execute_result",
          "data": {
            "text/plain": [
              "109.42013541324408"
            ]
          },
          "metadata": {},
          "execution_count": 8
        }
      ],
      "source": [
        "import scipy.stats as stats\n",
        "\n",
        "stats.gmean(int_list)"
      ]
    },
    {
      "cell_type": "markdown",
      "metadata": {
        "id": "vKqEuYaZqRyg"
      },
      "source": [
        "####(v) Create a program to calculate the harmonic mean of a list of values.\n"
      ]
    },
    {
      "cell_type": "code",
      "execution_count": null,
      "metadata": {
        "colab": {
          "base_uri": "https://localhost:8080/"
        },
        "id": "gQEOkcuYmbkj",
        "outputId": "343152af-c275-49ac-bad7-6e7a9a238f98"
      },
      "outputs": [
        {
          "output_type": "execute_result",
          "data": {
            "text/plain": [
              "108.6761643014854"
            ]
          },
          "metadata": {},
          "execution_count": 9
        }
      ],
      "source": [
        "stats.hmean(int_list)"
      ]
    },
    {
      "cell_type": "markdown",
      "metadata": {
        "id": "wIysINYaqbqu"
      },
      "source": [
        "####(vi) Build a function to determine the midrange of a list of numbers (average of the minimum and maximum)."
      ]
    },
    {
      "cell_type": "code",
      "execution_count": null,
      "metadata": {
        "colab": {
          "base_uri": "https://localhost:8080/"
        },
        "id": "fYkTRVUlqWT6",
        "outputId": "24021790-de10-45ff-c049-3277a3b8eafc"
      },
      "outputs": [
        {
          "output_type": "execute_result",
          "data": {
            "text/plain": [
              "110.0"
            ]
          },
          "metadata": {},
          "execution_count": 10
        }
      ],
      "source": [
        "min_and_max = np.min(int_list), np.max(int_list)\n",
        "np.average(min_and_max)"
      ]
    },
    {
      "cell_type": "code",
      "execution_count": null,
      "metadata": {
        "colab": {
          "base_uri": "https://localhost:8080/"
        },
        "id": "hjlWmTsXsztk",
        "outputId": "06dbc973-bb7e-4e7e-f2e0-c53a0d27d34c"
      },
      "outputs": [
        {
          "output_type": "execute_result",
          "data": {
            "text/plain": [
              "(90, 130)"
            ]
          },
          "metadata": {},
          "execution_count": 11
        }
      ],
      "source": [
        "np.min(int_list), np.max(int_list)"
      ]
    },
    {
      "cell_type": "markdown",
      "metadata": {
        "id": "RmYEkdL_tHuy"
      },
      "source": [
        "####(vii) Implement a Python program to find the trimmed mean of a list, excluding a certain percentage of outliers."
      ]
    },
    {
      "cell_type": "code",
      "execution_count": null,
      "metadata": {
        "colab": {
          "base_uri": "https://localhost:8080/"
        },
        "id": "TYh9aw8Ms_ad",
        "outputId": "d2b4d89f-c3c8-4a3c-ada7-cadfd2885dff"
      },
      "outputs": [
        {
          "output_type": "execute_result",
          "data": {
            "text/plain": [
              "110.16"
            ]
          },
          "metadata": {},
          "execution_count": 12
        }
      ],
      "source": [
        "stats.tmean(int_list)"
      ]
    },
    {
      "cell_type": "markdown",
      "metadata": {
        "id": "rDIOnQm9xJMY"
      },
      "source": [
        "####**2. Generate a list of 500 integers containing values between 200 to 300 and store it in the variable `int_list2`. After generating the list, find the following:**"
      ]
    },
    {
      "cell_type": "code",
      "execution_count": null,
      "metadata": {
        "colab": {
          "base_uri": "https://localhost:8080/"
        },
        "id": "GNeIr06mzh8v",
        "outputId": "90c94765-a1eb-4fe2-c544-e86009666684"
      },
      "outputs": [
        {
          "output_type": "execute_result",
          "data": {
            "text/plain": [
              "array([293, 237, 285, 226, 260, 289, 261, 211, 261, 234, 233, 229, 228,\n",
              "       227, 231, 217, 264, 250, 207, 264, 287, 217, 254, 201, 263, 260,\n",
              "       268, 298, 225, 235, 288, 279, 204, 239, 252, 268, 222, 201, 229,\n",
              "       273, 268, 239, 243, 255, 263, 281, 270, 260, 275, 287, 212, 234,\n",
              "       289, 234, 290, 249, 298, 265, 283, 216, 271, 281, 282, 270, 279,\n",
              "       232, 289, 228, 212, 281, 285, 261, 221, 292, 229, 232, 266, 300,\n",
              "       242, 226, 207, 249, 271, 228, 273, 286, 213, 247, 262, 280, 236,\n",
              "       254, 223, 289, 212, 290, 295, 228, 272, 208, 300, 290, 296, 300,\n",
              "       271, 282, 274, 231, 218, 289, 217, 257, 229, 290, 260, 255, 286,\n",
              "       272, 287, 235, 217, 239, 280, 282, 227, 235, 212, 258, 260, 278,\n",
              "       203, 267, 270, 291, 277, 258, 202, 208, 279, 268, 292, 238, 260,\n",
              "       257, 232, 282, 292, 296, 298, 288, 265, 259, 226, 268, 256, 226,\n",
              "       257, 225, 291, 284, 268, 206, 284, 232, 244, 241, 275, 258, 234,\n",
              "       247, 257, 242, 229, 229, 252, 268, 288, 233, 230, 210, 276, 258,\n",
              "       265, 248, 231, 208, 240, 286, 279, 273, 270, 234, 205, 299, 218,\n",
              "       274, 204, 250, 244, 298, 297, 214, 202, 300, 242, 296, 260, 236,\n",
              "       296, 266, 203, 254, 266, 209, 266, 282, 293, 203, 259, 253, 285,\n",
              "       220, 270, 202, 297, 278, 239, 269, 249, 283, 205, 207, 277, 288,\n",
              "       242, 266, 266, 278, 237, 240, 288, 258, 203, 253, 292, 294, 224,\n",
              "       238, 235, 289, 263, 269, 297, 225, 244, 254, 224, 279, 292, 263,\n",
              "       279, 297, 232, 299, 267, 265, 296, 213, 291, 275, 252, 217, 247,\n",
              "       285, 219, 226, 286, 217, 274, 282, 258, 254, 283, 238, 272, 294,\n",
              "       268, 237, 300, 225, 279, 263, 270, 246, 270, 295, 223, 231, 286,\n",
              "       235, 210, 279, 200, 202, 279, 260, 279, 222, 276, 201, 203, 246,\n",
              "       254, 202, 213, 268, 219, 244, 253, 207, 226, 225, 295, 245, 225,\n",
              "       236, 248, 291, 235, 285, 275, 236, 290, 254, 280, 254, 214, 210,\n",
              "       210, 252, 266, 233, 283, 263, 244, 240, 260, 281, 282, 296, 222,\n",
              "       247, 263, 222, 288, 211, 216, 200, 244, 261, 279, 210, 299, 293,\n",
              "       298, 213, 260, 216, 241, 222, 288, 258, 289, 244, 254, 220, 212,\n",
              "       201, 235, 223, 226, 219, 282, 298, 227, 275, 249, 231, 217, 270,\n",
              "       238, 202, 268, 258, 238, 265, 251, 239, 205, 243, 205, 206, 230,\n",
              "       274, 272, 300, 270, 247, 215, 280, 280, 239, 202, 201, 226, 206,\n",
              "       216, 284, 258, 208, 251, 299, 216, 236, 233, 209, 223, 282, 289,\n",
              "       214, 283, 243, 211, 268, 207, 261, 260, 257, 281, 297, 267, 257,\n",
              "       241, 283, 220, 252, 203, 230, 217, 265, 284, 276, 280, 298, 245,\n",
              "       255, 207, 227, 213, 273, 224, 262, 271, 257, 290, 295, 210, 243,\n",
              "       250, 216, 218, 276, 283, 247, 225, 250, 209, 213, 281, 266, 236,\n",
              "       221, 261, 289, 241, 240, 206, 238, 295, 269, 299, 224, 203, 296,\n",
              "       270, 293, 230, 282, 299, 232])"
            ]
          },
          "metadata": {},
          "execution_count": 13
        }
      ],
      "source": [
        "int_list2 = np.random.randint(200, 301, 500)\n",
        "int_list2"
      ]
    },
    {
      "cell_type": "markdown",
      "metadata": {
        "id": "y3xHRptJxSwu"
      },
      "source": [
        "####(i) Compare the given list of visualization for the given data:\n",
        "\n",
        "####1. Frequency & Gaussian distribution."
      ]
    },
    {
      "cell_type": "code",
      "execution_count": null,
      "metadata": {
        "colab": {
          "base_uri": "https://localhost:8080/",
          "height": 472
        },
        "id": "C3h-u1_wNBnL",
        "outputId": "deea5fce-5674-4b19-e1e6-4d12557927ec"
      },
      "outputs": [
        {
          "output_type": "display_data",
          "data": {
            "text/plain": [
              "<Figure size 640x480 with 1 Axes>"
            ],
            "image/png": "[encoded data removed]"
          },
          "metadata": {}
        }
      ],
      "source": [
        "mu = 0\n",
        "sigma = 0.1\n",
        "sample = np.random.normal(mu, sigma, size=1000)\n",
        "\n",
        "plt.hist(sample, bins=30, density=True, color='r')\n",
        "plt.title('Gaussian Distribution')\n",
        "plt.xlabel('Data points')\n",
        "plt.ylabel('Probability Density')\n",
        "plt.show()"
      ]
    },
    {
      "cell_type": "markdown",
      "metadata": {
        "id": "5mDsHhWaxpLL"
      },
      "source": [
        "####2. Frequency smoothened KDE plot"
      ]
    },
    {
      "cell_type": "code",
      "execution_count": null,
      "metadata": {
        "colab": {
          "base_uri": "https://localhost:8080/",
          "height": 447
        },
        "id": "l0rhXw-ZQBr1",
        "outputId": "57712e24-a44a-4c9a-a799-4035a29a411a"
      },
      "outputs": [
        {
          "output_type": "execute_result",
          "data": {
            "text/plain": [
              "<Axes: ylabel='Density'>"
            ]
          },
          "metadata": {},
          "execution_count": 15
        },
        {
          "output_type": "display_data",
          "data": {
            "text/plain": [
              "<Figure size 640x480 with 1 Axes>"
            ],
            "image/png": "[encoded data removed]"
          },
          "metadata": {}
        }
      ],
      "source": [
        "sns.kdeplot(sample, color='r')"
      ]
    },
    {
      "cell_type": "markdown",
      "metadata": {
        "id": "ysd8uYYrxrVR"
      },
      "source": [
        "####3. Gaussian distribution & smoothened KDE plot"
      ]
    },
    {
      "cell_type": "code",
      "execution_count": null,
      "metadata": {
        "colab": {
          "base_uri": "https://localhost:8080/",
          "height": 548
        },
        "id": "MwSMSNYRtWjb",
        "outputId": "5bff7675-4b4f-4a1d-c476-ae4a31e98bbc"
      },
      "outputs": [
        {
          "output_type": "display_data",
          "data": {
            "text/plain": [
              "<Figure size 500x500 with 1 Axes>"
            ],
            "image/png": "[encoded data removed]"
          },
          "metadata": {}
        }
      ],
      "source": [
        "sns.displot(sample, bins=30, kde=True, color='r')\n",
        "plt.title('Gaussian Distribution with KDE')\n",
        "plt.xlabel('Data points')\n",
        "plt.ylabel('Probability Density')\n",
        "plt.show()"
      ]
    },
    {
      "cell_type": "markdown",
      "metadata": {
        "id": "2R2gOA-uSxNj"
      },
      "source": [
        "####(ii) Write a Python function to calculate the range of a given list of numbers."
      ]
    },
    {
      "cell_type": "code",
      "execution_count": null,
      "metadata": {
        "colab": {
          "base_uri": "https://localhost:8080/"
        },
        "id": "NTDZBYHjSXvH",
        "outputId": "34c99e05-2ac9-4dc4-f787-c9b11490be52"
      },
      "outputs": [
        {
          "output_type": "execute_result",
          "data": {
            "text/plain": [
              "100"
            ]
          },
          "metadata": {},
          "execution_count": 17
        }
      ],
      "source": [
        "np.ptp(int_list2)"
      ]
    },
    {
      "cell_type": "code",
      "execution_count": null,
      "metadata": {
        "colab": {
          "base_uri": "https://localhost:8080/"
        },
        "id": "KfK3--_CUsu4",
        "outputId": "fa3b9858-a2f8-4476-88cc-c4c498e2ed9a"
      },
      "outputs": [
        {
          "output_type": "stream",
          "name": "stdout",
          "text": [
            "100\n"
          ]
        }
      ],
      "source": [
        "def calculate_range(int_list2):\n",
        "  min_value = min(int_list2)\n",
        "  max_value = max(int_list2)\n",
        "\n",
        "  return max_value - min_value\n",
        "\n",
        "range_of_list = calculate_range(int_list2)\n",
        "print(range_of_list)"
      ]
    },
    {
      "cell_type": "markdown",
      "metadata": {
        "id": "iCRlyAWsWhUr"
      },
      "source": [
        "####(iii) Create a program to find the variance and standard deviation of a list of numbers."
      ]
    },
    {
      "cell_type": "code",
      "execution_count": null,
      "metadata": {
        "colab": {
          "base_uri": "https://localhost:8080/"
        },
        "id": "mLJ597JHWc5f",
        "outputId": "ea85a504-9fd7-48c1-8112-6f89b34abf94"
      },
      "outputs": [
        {
          "output_type": "execute_result",
          "data": {
            "text/plain": [
              "851.8016"
            ]
          },
          "metadata": {},
          "execution_count": 19
        }
      ],
      "source": [
        "variance = np.var(int_list2)\n",
        "variance"
      ]
    },
    {
      "cell_type": "code",
      "execution_count": null,
      "metadata": {
        "colab": {
          "base_uri": "https://localhost:8080/"
        },
        "id": "TTOEbae9W6ab",
        "outputId": "be6dc7b6-6ab2-4f2d-b27d-6328e8b7bd36"
      },
      "outputs": [
        {
          "output_type": "execute_result",
          "data": {
            "text/plain": [
              "851"
            ]
          },
          "metadata": {},
          "execution_count": 20
        }
      ],
      "source": [
        "# population variance\n",
        "p_variance = statistics.pvariance(int_list2)\n",
        "p_variance"
      ]
    },
    {
      "cell_type": "code",
      "execution_count": null,
      "metadata": {
        "colab": {
          "base_uri": "https://localhost:8080/"
        },
        "id": "oBbUcCxBXCQn",
        "outputId": "1344460d-f075-424b-8f86-404cc1157c29"
      },
      "outputs": [
        {
          "output_type": "execute_result",
          "data": {
            "text/plain": [
              "853"
            ]
          },
          "metadata": {},
          "execution_count": 21
        }
      ],
      "source": [
        "# sample variance\n",
        "s_variance = statistics.variance(int_list2)\n",
        "s_variance"
      ]
    },
    {
      "cell_type": "code",
      "execution_count": null,
      "metadata": {
        "colab": {
          "base_uri": "https://localhost:8080/"
        },
        "id": "nDIOCkBnXFvq",
        "outputId": "2a5647b9-424c-45cb-acfd-6670e8f6ce0e"
      },
      "outputs": [
        {
          "output_type": "execute_result",
          "data": {
            "text/plain": [
              "29.18564030478002"
            ]
          },
          "metadata": {},
          "execution_count": 22
        }
      ],
      "source": [
        "standard_deviation = np.std(int_list2)\n",
        "standard_deviation"
      ]
    },
    {
      "cell_type": "markdown",
      "metadata": {
        "id": "zvDkGDf_Xb_y"
      },
      "source": [
        "#### (iv) Implement a function to compute the interquartile range (IQR) of a list of values."
      ]
    },
    {
      "cell_type": "code",
      "execution_count": null,
      "metadata": {
        "colab": {
          "base_uri": "https://localhost:8080/"
        },
        "id": "olb7CgIIX-hv",
        "outputId": "8c1efd53-0e64-44a5-871c-2e713988d8fb"
      },
      "outputs": [
        {
          "output_type": "execute_result",
          "data": {
            "text/plain": [
              "51.25"
            ]
          },
          "metadata": {},
          "execution_count": 23
        }
      ],
      "source": [
        "stats.iqr(int_list2)"
      ]
    },
    {
      "cell_type": "markdown",
      "metadata": {
        "id": "jGMV-PrrXgzt"
      },
      "source": [
        "####(v) Build a program to calculate the coefficient of variation for a dataset."
      ]
    },
    {
      "cell_type": "code",
      "execution_count": null,
      "metadata": {
        "colab": {
          "base_uri": "https://localhost:8080/"
        },
        "id": "p0is3nE4YLp1",
        "outputId": "d5a00602-56fb-49ac-ef8f-c7541ef1c17f"
      },
      "outputs": [
        {
          "output_type": "execute_result",
          "data": {
            "text/plain": [
              "0.11557753961975296"
            ]
          },
          "metadata": {},
          "execution_count": 24
        }
      ],
      "source": [
        "stats.variation(int_list2)"
      ]
    },
    {
      "cell_type": "markdown",
      "metadata": {
        "id": "8iAzEp5hXjOE"
      },
      "source": [
        "####(vi) Write a Python function to find the mean absolute deviation (MAD) of a list of numbers."
      ]
    },
    {
      "cell_type": "code",
      "execution_count": null,
      "metadata": {
        "colab": {
          "base_uri": "https://localhost:8080/"
        },
        "id": "_pqQi01dYk_8",
        "outputId": "e9bc4242-dff1-4c25-8ce4-7e799e421033"
      },
      "outputs": [
        {
          "output_type": "execute_result",
          "data": {
            "text/plain": [
              "25.412959999999998"
            ]
          },
          "metadata": {},
          "execution_count": 25
        }
      ],
      "source": [
        "np.mean(np.absolute(int_list2 - np.mean(int_list2)))"
      ]
    },
    {
      "cell_type": "markdown",
      "metadata": {
        "id": "EJad6ZKgXlzi"
      },
      "source": [
        "####(vii) Create a program to calculate the quartile deviation of a list of values."
      ]
    },
    {
      "cell_type": "code",
      "execution_count": null,
      "metadata": {
        "colab": {
          "base_uri": "https://localhost:8080/"
        },
        "id": "oeM2RVB0aH-n",
        "outputId": "f546e87f-b66f-4731-d7dc-0c15ce2ecd49"
      },
      "outputs": [
        {
          "output_type": "execute_result",
          "data": {
            "text/plain": [
              "25.625"
            ]
          },
          "metadata": {},
          "execution_count": 26
        }
      ],
      "source": [
        "def quartile_deviation(int_list2):\n",
        "  iqr = stats.iqr(int_list2)\n",
        "  return np.absolute(iqr/2)\n",
        "\n",
        "quartile_deviation(int_list2)"
      ]
    },
    {
      "cell_type": "markdown",
      "metadata": {
        "id": "RW3nlJJUXn_R"
      },
      "source": [
        "####(viii) Implement a function to find the range-based coefficient of dispersion for a dataset."
      ]
    },
    {
      "cell_type": "code",
      "execution_count": null,
      "metadata": {
        "colab": {
          "base_uri": "https://localhost:8080/"
        },
        "id": "7W85q5kxXS6f",
        "outputId": "07e401b8-74e2-473a-98b9-3e7d8ae7f268"
      },
      "outputs": [
        {
          "output_type": "execute_result",
          "data": {
            "text/plain": [
              "0.2"
            ]
          },
          "metadata": {},
          "execution_count": 27
        }
      ],
      "source": [
        "def coefficient_of_dispersion(int_list2):\n",
        "  min_value = np.min(int_list2)\n",
        "  max_value = np.max(int_list2)\n",
        "  return (max_value - min_value) / (max_value + min_value)\n",
        "\n",
        "coefficient_of_dispersion(int_list2)"
      ]
    },
    {
      "cell_type": "markdown",
      "metadata": {
        "id": "ayvzQpx3JDzO"
      },
      "source": [
        "####**3. Write a Python class representing a discrete random variable with methods to calculate its expected value and variance.**"
      ]
    },
    {
      "cell_type": "code",
      "execution_count": null,
      "metadata": {
        "colab": {
          "base_uri": "https://localhost:8080/"
        },
        "id": "2IjPpDTGH33c",
        "outputId": "199a288e-aafa-4831-c4d8-57350a3b6fc2"
      },
      "outputs": [
        {
          "output_type": "stream",
          "name": "stdout",
          "text": [
            "Expected Value: 3.2\n",
            "Variance: 1.56\n"
          ]
        }
      ],
      "source": [
        "class DiscreteRandomVariable:\n",
        "  def __init__(self, outcomes, probabilities):\n",
        "    if len(outcomes) != len(probabilities):\n",
        "      raise ValueError(\"The number of outcomes must match the number of probabilities.\")\n",
        "\n",
        "    if not all(0 <= p <= 1 for p in probabilities):\n",
        "      raise ValueError(\"Probabilities must be between 0 and 1.\")\n",
        "\n",
        "    if not sum(probabilities) == 1:\n",
        "      raise ValueError(\"The sum of the probabilities must be 1.\")\n",
        "\n",
        "    self.outcomes = outcomes\n",
        "    self.probabilities = probabilities\n",
        "\n",
        "  def expected_value(self):\n",
        "    return sum(o * p for o, p in zip(self.outcomes, self.probabilities))\n",
        "\n",
        "  def variance(self):\n",
        "    mean = self.expected_value()\n",
        "    return sum(p * (o - mean) ** 2 for o, p in zip(self.outcomes, self.probabilities))\n",
        "\n",
        "# Example usage:\n",
        "outcomes = [1, 2, 3, 4, 5]\n",
        "probabilities = [0.1, 0.2, 0.3, 0.2, 0.2]\n",
        "\n",
        "random_variable = DiscreteRandomVariable(outcomes, probabilities)\n",
        "print(\"Expected Value:\", random_variable.expected_value())\n",
        "print(\"Variance:\", random_variable.variance())"
      ]
    },
    {
      "cell_type": "markdown",
      "metadata": {
        "id": "8PFFJbC6JGms"
      },
      "source": [
        "####**4. Implement a program to simulate the rolling of a fair six-sided die and calculate the expected value and variance of the outcomes.**"
      ]
    },
    {
      "cell_type": "code",
      "execution_count": null,
      "metadata": {
        "colab": {
          "base_uri": "https://localhost:8080/"
        },
        "id": "djkhmM_yIoc3",
        "outputId": "00e2ec33-bcff-4512-80f4-04eee2436d6d"
      },
      "outputs": [
        {
          "output_type": "stream",
          "name": "stdout",
          "text": [
            "Expected Value: 3.0103\n",
            "Variance: 1.9947939099996903\n"
          ]
        }
      ],
      "source": [
        "# Function to simulate rolling a die\n",
        "def roll_die():\n",
        "  return np.random.randint(1, 6)\n",
        "\n",
        "# Function to calculate expected value\n",
        "def calculate_expected_value(outcomes):\n",
        "  return sum(outcomes) / len(outcomes)\n",
        "\n",
        "# Function to calculate variance\n",
        "def calculate_variance(outcomes, expected_value):\n",
        "  return sum((x - expected_value) ** 2 for x in outcomes) / len(outcomes)\n",
        "\n",
        "# Simulate rolling the die 10000 times\n",
        "num_rolls = 10000\n",
        "outcomes = [roll_die() for _ in range(num_rolls)]\n",
        "\n",
        "# Calculate expected value\n",
        "expected_value = calculate_expected_value(outcomes)\n",
        "\n",
        "# Calculate variance\n",
        "variance = calculate_variance(outcomes, expected_value)\n",
        "\n",
        "print(f\"Expected Value: {expected_value}\")\n",
        "print(f\"Variance: {variance}\")"
      ]
    },
    {
      "cell_type": "markdown",
      "metadata": {
        "id": "HpSAcZG_JIxd"
      },
      "source": [
        "####**5. Create a Python function to generate random samples from a given probabililty distribution (e.g., binomial, Poisson) and calculate their mean and variance.**"
      ]
    },
    {
      "cell_type": "code",
      "execution_count": null,
      "metadata": {
        "colab": {
          "base_uri": "https://localhost:8080/"
        },
        "id": "yNA4gBdWMJgD",
        "outputId": "03e3ceaa-9394-4814-cd0d-a80c5c9c7448"
      },
      "outputs": [
        {
          "output_type": "execute_result",
          "data": {
            "text/plain": [
              "0.522"
            ]
          },
          "metadata": {},
          "execution_count": 30
        }
      ],
      "source": [
        "sample_of_binomial_dist = np.random.binomial(n=1, p=0.5, size=1000)\n",
        "\n",
        "np.mean(sample_of_binomial_dist)"
      ]
    },
    {
      "cell_type": "code",
      "execution_count": null,
      "metadata": {
        "colab": {
          "base_uri": "https://localhost:8080/"
        },
        "id": "zGk0_x8sMv4I",
        "outputId": "07cc4e43-9338-4943-e48d-06029debb7ec"
      },
      "outputs": [
        {
          "output_type": "execute_result",
          "data": {
            "text/plain": [
              "0.24951599999999996"
            ]
          },
          "metadata": {},
          "execution_count": 31
        }
      ],
      "source": [
        "np.var(sample_of_binomial_dist)"
      ]
    },
    {
      "cell_type": "code",
      "execution_count": null,
      "metadata": {
        "colab": {
          "base_uri": "https://localhost:8080/"
        },
        "id": "iPv7CTJKMXM9",
        "outputId": "4a3672b7-04dc-4739-8b62-3007c9c0606f"
      },
      "outputs": [
        {
          "output_type": "execute_result",
          "data": {
            "text/plain": [
              "5.0098"
            ]
          },
          "metadata": {},
          "execution_count": 32
        }
      ],
      "source": [
        "sample_of_poisson_dist = np.random.poisson(lam=5, size=10000)\n",
        "\n",
        "np.mean(sample_of_poisson_dist)"
      ]
    },
    {
      "cell_type": "code",
      "execution_count": null,
      "metadata": {
        "colab": {
          "base_uri": "https://localhost:8080/"
        },
        "id": "orSMcrpUM2ns",
        "outputId": "73dcc83b-47ac-48ba-e8d2-2a34336ad3af"
      },
      "outputs": [
        {
          "output_type": "execute_result",
          "data": {
            "text/plain": [
              "5.0729039600000005"
            ]
          },
          "metadata": {},
          "execution_count": 33
        }
      ],
      "source": [
        "np.var(sample_of_poisson_dist)"
      ]
    },
    {
      "cell_type": "markdown",
      "metadata": {
        "id": "5euaRsjrJL-Z"
      },
      "source": [
        "####**6. Write a Python script to generate random numbers from a Gaussian (normal) distribution and compute the mean, variance, and standard deviation of the samples.**"
      ]
    },
    {
      "cell_type": "code",
      "execution_count": null,
      "metadata": {
        "colab": {
          "base_uri": "https://localhost:8080/"
        },
        "id": "pHplH9dkIjQk",
        "outputId": "ea8810c7-4097-41f7-b0d1-7330ed6b5b67"
      },
      "outputs": [
        {
          "output_type": "stream",
          "name": "stdout",
          "text": [
            "Mean of samples: [0.0021739633836774202, 0.0024931278605986452, -0.0008370408489652421, -0.0025050475752199644]\n",
            "Variance of samples: [0.009777406750569935, 0.009810243303762128, 0.009164355798731911, 0.01037543612475069]\n",
            "Standard Deviation of samples: [0.09888077037811717, 0.09904667235077677, 0.0957306419007619, 0.10185988476702047]\n"
          ]
        }
      ],
      "source": [
        "mu = 0\n",
        "sigma = 0.1\n",
        "sample1 = np.random.normal(mu, sigma, size=1000)\n",
        "sample2 = np.random.normal(mu, sigma, size=1000)\n",
        "sample3 = np.random.normal(mu, sigma, size=1000)\n",
        "sample4 = np.random.normal(mu, sigma, size=1000)\n",
        "\n",
        "mean_of_samples = []\n",
        "var_of_samples = []\n",
        "std_of_samples = []\n",
        "samples = [sample1, sample2, sample3, sample4]\n",
        "\n",
        "for sample in samples:\n",
        "  mean_of_samples.append(np.mean(sample))\n",
        "  var_of_samples.append(np.var(sample))\n",
        "  std_of_samples.append(np.std(sample))\n",
        "\n",
        "print(\"Mean of samples:\", mean_of_samples)\n",
        "print(\"Variance of samples:\", var_of_samples)\n",
        "print(\"Standard Deviation of samples:\", std_of_samples)"
      ]
    },
    {
      "cell_type": "markdown",
      "metadata": {
        "id": "e9sV1iHDQEiL"
      },
      "source": [
        "####**7. Use seaborn library to load 'tips' dataset. Find the following from the dataset for the columns 'total_bill' and 'tip':**"
      ]
    },
    {
      "cell_type": "code",
      "execution_count": null,
      "metadata": {
        "colab": {
          "base_uri": "https://localhost:8080/",
          "height": 423
        },
        "id": "dO03JrBLQWLz",
        "outputId": "a39b2110-10d7-4392-b367-ce7657ed2d5d"
      },
      "outputs": [
        {
          "output_type": "execute_result",
          "data": {
            "text/plain": [
              "     total_bill   tip     sex smoker   day    time  size\n",
              "0         16.99  1.01  Female     No   Sun  Dinner     2\n",
              "1         10.34  1.66    Male     No   Sun  Dinner     3\n",
              "2         21.01  3.50    Male     No   Sun  Dinner     3\n",
              "3         23.68  3.31    Male     No   Sun  Dinner     2\n",
              "4         24.59  3.61  Female     No   Sun  Dinner     4\n",
              "..          ...   ...     ...    ...   ...     ...   ...\n",
              "239       29.03  5.92    Male     No   Sat  Dinner     3\n",
              "240       27.18  2.00  Female    Yes   Sat  Dinner     2\n",
              "241       22.67  2.00    Male    Yes   Sat  Dinner     2\n",
              "242       17.82  1.75    Male     No   Sat  Dinner     2\n",
              "243       18.78  3.00  Female     No  Thur  Dinner     2\n",
              "\n",
              "[244 rows x 7 columns]"
            ],
            "text/html": [
              "\n",
              "  <div id=\"df-7cf0175f-5ed8-4cff-9031-28d31e6e2628\" class=\"colab-df-container\">\n",
              "    <div>\n",
              "<style scoped>\n",
              "    .dataframe tbody tr th:only-of-type {\n",
              "        vertical-align: middle;\n",
              "    }\n",
              "\n",
              "    .dataframe tbody tr th {\n",
              "        vertical-align: top;\n",
              "    }\n",
              "\n",
              "    .dataframe thead th {\n",
              "        text-align: right;\n",
              "    }\n",
              "</style>\n",
              "<table border=\"1\" class=\"dataframe\">\n",
              "  <thead>\n",
              "    <tr style=\"text-align: right;\">\n",
              "      <th></th>\n",
              "      <th>total_bill</th>\n",
              "      <th>tip</th>\n",
              "      <th>sex</th>\n",
              "      <th>smoker</th>\n",
              "      <th>day</th>\n",
              "      <th>time</th>\n",
              "      <th>size</th>\n",
              "    </tr>\n",
              "  </thead>\n",
              "  <tbody>\n",
              "    <tr>\n",
              "      <th>0</th>\n",
              "      <td>16.99</td>\n",
              "      <td>1.01</td>\n",
              "      <td>Female</td>\n",
              "      <td>No</td>\n",
              "      <td>Sun</td>\n",
              "      <td>Dinner</td>\n",
              "      <td>2</td>\n",
              "    </tr>\n",
              "    <tr>\n",
              "      <th>1</th>\n",
              "      <td>10.34</td>\n",
              "      <td>1.66</td>\n",
              "      <td>Male</td>\n",
              "      <td>No</td>\n",
              "      <td>Sun</td>\n",
              "      <td>Dinner</td>\n",
              "      <td>3</td>\n",
              "    </tr>\n",
              "    <tr>\n",
              "      <th>2</th>\n",
              "      <td>21.01</td>\n",
              "      <td>3.50</td>\n",
              "      <td>Male</td>\n",
              "      <td>No</td>\n",
              "      <td>Sun</td>\n",
              "      <td>Dinner</td>\n",
              "      <td>3</td>\n",
              "    </tr>\n",
              "    <tr>\n",
              "      <th>3</th>\n",
              "      <td>23.68</td>\n",
              "      <td>3.31</td>\n",
              "      <td>Male</td>\n",
              "      <td>No</td>\n",
              "      <td>Sun</td>\n",
              "      <td>Dinner</td>\n",
              "      <td>2</td>\n",
              "    </tr>\n",
              "    <tr>\n",
              "      <th>4</th>\n",
              "      <td>24.59</td>\n",
              "      <td>3.61</td>\n",
              "      <td>Female</td>\n",
              "      <td>No</td>\n",
              "      <td>Sun</td>\n",
              "      <td>Dinner</td>\n",
              "      <td>4</td>\n",
              "    </tr>\n",
              "    <tr>\n",
              "      <th>...</th>\n",
              "      <td>...</td>\n",
              "      <td>...</td>\n",
              "      <td>...</td>\n",
              "      <td>...</td>\n",
              "      <td>...</td>\n",
              "      <td>...</td>\n",
              "      <td>...</td>\n",
              "    </tr>\n",
              "    <tr>\n",
              "      <th>239</th>\n",
              "      <td>29.03</td>\n",
              "      <td>5.92</td>\n",
              "      <td>Male</td>\n",
              "      <td>No</td>\n",
              "      <td>Sat</td>\n",
              "      <td>Dinner</td>\n",
              "      <td>3</td>\n",
              "    </tr>\n",
              "    <tr>\n",
              "      <th>240</th>\n",
              "      <td>27.18</td>\n",
              "      <td>2.00</td>\n",
              "      <td>Female</td>\n",
              "      <td>Yes</td>\n",
              "      <td>Sat</td>\n",
              "      <td>Dinner</td>\n",
              "      <td>2</td>\n",
              "    </tr>\n",
              "    <tr>\n",
              "      <th>241</th>\n",
              "      <td>22.67</td>\n",
              "      <td>2.00</td>\n",
              "      <td>Male</td>\n",
              "      <td>Yes</td>\n",
              "      <td>Sat</td>\n",
              "      <td>Dinner</td>\n",
              "      <td>2</td>\n",
              "    </tr>\n",
              "    <tr>\n",
              "      <th>242</th>\n",
              "      <td>17.82</td>\n",
              "      <td>1.75</td>\n",
              "      <td>Male</td>\n",
              "      <td>No</td>\n",
              "      <td>Sat</td>\n",
              "      <td>Dinner</td>\n",
              "      <td>2</td>\n",
              "    </tr>\n",
              "    <tr>\n",
              "      <th>243</th>\n",
              "      <td>18.78</td>\n",
              "      <td>3.00</td>\n",
              "      <td>Female</td>\n",
              "      <td>No</td>\n",
              "      <td>Thur</td>\n",
              "      <td>Dinner</td>\n",
              "      <td>2</td>\n",
              "    </tr>\n",
              "  </tbody>\n",
              "</table>\n",
              "<p>244 rows × 7 columns</p>\n",
              "</div>\n",
              "    <div class=\"colab-df-buttons\">\n",
              "\n",
              "  <div class=\"colab-df-container\">\n",
              "    <button class=\"colab-df-convert\" onclick=\"convertToInteractive('df-7cf0175f-5ed8-4cff-9031-28d31e6e2628')\"\n",
              "            title=\"Convert this dataframe to an interactive table.\"\n",
              "            style=\"display:none;\">\n",
              "\n",
              "  <svg xmlns=\"http://www.w3.org/2000/svg\" height=\"24px\" viewBox=\"0 -960 960 960\">\n",
              "    <path d=\"M120-120v-720h720v720H120Zm60-500h600v-160H180v160Zm220 220h160v-160H400v160Zm0 220h160v-160H400v160ZM180-400h160v-160H180v160Zm440 0h160v-160H620v160ZM180-180h160v-160H180v160Zm440 0h160v-160H620v160Z\"/>\n",
              "  </svg>\n",
              "    </button>\n",
              "\n",
              "  <style>\n",
              "    .colab-df-container {\n",
              "      display:flex;\n",
              "      gap: 12px;\n",
              "    }\n",
              "\n",
              "    .colab-df-convert {\n",
              "      background-color: #E8F0FE;\n",
              "      border: none;\n",
              "      border-radius: 50%;\n",
              "      cursor: pointer;\n",
              "      display: none;\n",
              "      fill: #1967D2;\n",
              "      height: 32px;\n",
              "      padding: 0 0 0 0;\n",
              "      width: 32px;\n",
              "    }\n",
              "\n",
              "    .colab-df-convert:hover {\n",
              "      background-color: #E2EBFA;\n",
              "      box-shadow: 0px 1px 2px rgba(60, 64, 67, 0.3), 0px 1px 3px 1px rgba(60, 64, 67, 0.15);\n",
              "      fill: #174EA6;\n",
              "    }\n",
              "\n",
              "    .colab-df-buttons div {\n",
              "      margin-bottom: 4px;\n",
              "    }\n",
              "\n",
              "    [theme=dark] .colab-df-convert {\n",
              "      background-color: #3B4455;\n",
              "      fill: #D2E3FC;\n",
              "    }\n",
              "\n",
              "    [theme=dark] .colab-df-convert:hover {\n",
              "      background-color: #434B5C;\n",
              "      box-shadow: 0px 1px 3px 1px rgba(0, 0, 0, 0.15);\n",
              "      filter: drop-shadow(0px 1px 2px rgba(0, 0, 0, 0.3));\n",
              "      fill: #FFFFFF;\n",
              "    }\n",
              "  </style>\n",
              "\n",
              "    <script>\n",
              "      const buttonEl =\n",
              "        document.querySelector('#df-7cf0175f-5ed8-4cff-9031-28d31e6e2628 button.colab-df-convert');\n",
              "      buttonEl.style.display =\n",
              "        google.colab.kernel.accessAllowed ? 'block' : 'none';\n",
              "\n",
              "      async function convertToInteractive(key) {\n",
              "        const element = document.querySelector('#df-7cf0175f-5ed8-4cff-9031-28d31e6e2628');\n",
              "        const dataTable =\n",
              "          await google.colab.kernel.invokeFunction('convertToInteractive',\n",
              "                                                    [key], {});\n",
              "        if (!dataTable) return;\n",
              "\n",
              "        const docLinkHtml = 'Like what you see? Visit the ' +\n",
              "          '<a target=\"_blank\" href=https://colab.research.google.com/notebooks/data_table.ipynb>data table notebook</a>'\n",
              "          + ' to learn more about interactive tables.';\n",
              "        element.innerHTML = '';\n",
              "        dataTable['output_type'] = 'display_data';\n",
              "        await google.colab.output.renderOutput(dataTable, element);\n",
              "        const docLink = document.createElement('div');\n",
              "        docLink.innerHTML = docLinkHtml;\n",
              "        element.appendChild(docLink);\n",
              "      }\n",
              "    </script>\n",
              "  </div>\n",
              "\n",
              "\n",
              "<div id=\"df-4f6b202c-0f09-46b6-96da-78bf3381f1ba\">\n",
              "  <button class=\"colab-df-quickchart\" onclick=\"quickchart('df-4f6b202c-0f09-46b6-96da-78bf3381f1ba')\"\n",
              "            title=\"Suggest charts\"\n",
              "            style=\"display:none;\">\n",
              "\n",
              "<svg xmlns=\"http://www.w3.org/2000/svg\" height=\"24px\"viewBox=\"0 0 24 24\"\n",
              "     width=\"24px\">\n",
              "    <g>\n",
              "        <path d=\"M19 3H5c-1.1 0-2 .9-2 2v14c0 1.1.9 2 2 2h14c1.1 0 2-.9 2-2V5c0-1.1-.9-2-2-2zM9 17H7v-7h2v7zm4 0h-2V7h2v10zm4 0h-2v-4h2v4z\"/>\n",
              "    </g>\n",
              "</svg>\n",
              "  </button>\n",
              "\n",
              "<style>\n",
              "  .colab-df-quickchart {\n",
              "      --bg-color: #E8F0FE;\n",
              "      --fill-color: #1967D2;\n",
              "      --hover-bg-color: #E2EBFA;\n",
              "      --hover-fill-color: #174EA6;\n",
              "      --disabled-fill-color: #AAA;\n",
              "      --disabled-bg-color: #DDD;\n",
              "  }\n",
              "\n",
              "  [theme=dark] .colab-df-quickchart {\n",
              "      --bg-color: #3B4455;\n",
              "      --fill-color: #D2E3FC;\n",
              "      --hover-bg-color: #434B5C;\n",
              "      --hover-fill-color: #FFFFFF;\n",
              "      --disabled-bg-color: #3B4455;\n",
              "      --disabled-fill-color: #666;\n",
              "  }\n",
              "\n",
              "  .colab-df-quickchart {\n",
              "    background-color: var(--bg-color);\n",
              "    border: none;\n",
              "    border-radius: 50%;\n",
              "    cursor: pointer;\n",
              "    display: none;\n",
              "    fill: var(--fill-color);\n",
              "    height: 32px;\n",
              "    padding: 0;\n",
              "    width: 32px;\n",
              "  }\n",
              "\n",
              "  .colab-df-quickchart:hover {\n",
              "    background-color: var(--hover-bg-color);\n",
              "    box-shadow: 0 1px 2px rgba(60, 64, 67, 0.3), 0 1px 3px 1px rgba(60, 64, 67, 0.15);\n",
              "    fill: var(--button-hover-fill-color);\n",
              "  }\n",
              "\n",
              "  .colab-df-quickchart-complete:disabled,\n",
              "  .colab-df-quickchart-complete:disabled:hover {\n",
              "    background-color: var(--disabled-bg-color);\n",
              "    fill: var(--disabled-fill-color);\n",
              "    box-shadow: none;\n",
              "  }\n",
              "\n",
              "  .colab-df-spinner {\n",
              "    border: 2px solid var(--fill-color);\n",
              "    border-color: transparent;\n",
              "    border-bottom-color: var(--fill-color);\n",
              "    animation:\n",
              "      spin 1s steps(1) infinite;\n",
              "  }\n",
              "\n",
              "  @keyframes spin {\n",
              "    0% {\n",
              "      border-color: transparent;\n",
              "      border-bottom-color: var(--fill-color);\n",
              "      border-left-color: var(--fill-color);\n",
              "    }\n",
              "    20% {\n",
              "      border-color: transparent;\n",
              "      border-left-color: var(--fill-color);\n",
              "      border-top-color: var(--fill-color);\n",
              "    }\n",
              "    30% {\n",
              "      border-color: transparent;\n",
              "      border-left-color: var(--fill-color);\n",
              "      border-top-color: var(--fill-color);\n",
              "      border-right-color: var(--fill-color);\n",
              "    }\n",
              "    40% {\n",
              "      border-color: transparent;\n",
              "      border-right-color: var(--fill-color);\n",
              "      border-top-color: var(--fill-color);\n",
              "    }\n",
              "    60% {\n",
              "      border-color: transparent;\n",
              "      border-right-color: var(--fill-color);\n",
              "    }\n",
              "    80% {\n",
              "      border-color: transparent;\n",
              "      border-right-color: var(--fill-color);\n",
              "      border-bottom-color: var(--fill-color);\n",
              "    }\n",
              "    90% {\n",
              "      border-color: transparent;\n",
              "      border-bottom-color: var(--fill-color);\n",
              "    }\n",
              "  }\n",
              "</style>\n",
              "\n",
              "  <script>\n",
              "    async function quickchart(key) {\n",
              "      const quickchartButtonEl =\n",
              "        document.querySelector('#' + key + ' button');\n",
              "      quickchartButtonEl.disabled = true;  // To prevent multiple clicks.\n",
              "      quickchartButtonEl.classList.add('colab-df-spinner');\n",
              "      try {\n",
              "        const charts = await google.colab.kernel.invokeFunction(\n",
              "            'suggestCharts', [key], {});\n",
              "      } catch (error) {\n",
              "        console.error('Error during call to suggestCharts:', error);\n",
              "      }\n",
              "      quickchartButtonEl.classList.remove('colab-df-spinner');\n",
              "      quickchartButtonEl.classList.add('colab-df-quickchart-complete');\n",
              "    }\n",
              "    (() => {\n",
              "      let quickchartButtonEl =\n",
              "        document.querySelector('#df-4f6b202c-0f09-46b6-96da-78bf3381f1ba button');\n",
              "      quickchartButtonEl.style.display =\n",
              "        google.colab.kernel.accessAllowed ? 'block' : 'none';\n",
              "    })();\n",
              "  </script>\n",
              "</div>\n",
              "\n",
              "  <div id=\"id_e3f21cb0-1e98-4559-ab74-7d425023d638\">\n",
              "    <style>\n",
              "      .colab-df-generate {\n",
              "        background-color: #E8F0FE;\n",
              "        border: none;\n",
              "        border-radius: 50%;\n",
              "        cursor: pointer;\n",
              "        display: none;\n",
              "        fill: #1967D2;\n",
              "        height: 32px;\n",
              "        padding: 0 0 0 0;\n",
              "        width: 32px;\n",
              "      }\n",
              "\n",
              "      .colab-df-generate:hover {\n",
              "        background-color: #E2EBFA;\n",
              "        box-shadow: 0px 1px 2px rgba(60, 64, 67, 0.3), 0px 1px 3px 1px rgba(60, 64, 67, 0.15);\n",
              "        fill: #174EA6;\n",
              "      }\n",
              "\n",
              "      [theme=dark] .colab-df-generate {\n",
              "        background-color: #3B4455;\n",
              "        fill: #D2E3FC;\n",
              "      }\n",
              "\n",
              "      [theme=dark] .colab-df-generate:hover {\n",
              "        background-color: #434B5C;\n",
              "        box-shadow: 0px 1px 3px 1px rgba(0, 0, 0, 0.15);\n",
              "        filter: drop-shadow(0px 1px 2px rgba(0, 0, 0, 0.3));\n",
              "        fill: #FFFFFF;\n",
              "      }\n",
              "    </style>\n",
              "    <button class=\"colab-df-generate\" onclick=\"generateWithVariable('tips')\"\n",
              "            title=\"Generate code using this dataframe.\"\n",
              "            style=\"display:none;\">\n",
              "\n",
              "  <svg xmlns=\"http://www.w3.org/2000/svg\" height=\"24px\"viewBox=\"0 0 24 24\"\n",
              "       width=\"24px\">\n",
              "    <path d=\"M7,19H8.4L18.45,9,17,7.55,7,17.6ZM5,21V16.75L18.45,3.32a2,2,0,0,1,2.83,0l1.4,1.43a1.91,1.91,0,0,1,.58,1.4,1.91,1.91,0,0,1-.58,1.4L9.25,21ZM18.45,9,17,7.55Zm-12,3A5.31,5.31,0,0,0,4.9,8.1,5.31,5.31,0,0,0,1,6.5,5.31,5.31,0,0,0,4.9,4.9,5.31,5.31,0,0,0,6.5,1,5.31,5.31,0,0,0,8.1,4.9,5.31,5.31,0,0,0,12,6.5,5.46,5.46,0,0,0,6.5,12Z\"/>\n",
              "  </svg>\n",
              "    </button>\n",
              "    <script>\n",
              "      (() => {\n",
              "      const buttonEl =\n",
              "        document.querySelector('#id_e3f21cb0-1e98-4559-ab74-7d425023d638 button.colab-df-generate');\n",
              "      buttonEl.style.display =\n",
              "        google.colab.kernel.accessAllowed ? 'block' : 'none';\n",
              "\n",
              "      buttonEl.onclick = () => {\n",
              "        google.colab.notebook.generateWithVariable('tips');\n",
              "      }\n",
              "      })();\n",
              "    </script>\n",
              "  </div>\n",
              "\n",
              "    </div>\n",
              "  </div>\n"
            ],
            "application/vnd.google.colaboratory.intrinsic+json": {
              "type": "dataframe",
              "variable_name": "tips",
              "summary": "{\n  \"name\": \"tips\",\n  \"rows\": 244,\n  \"fields\": [\n    {\n      \"column\": \"total_bill\",\n      \"properties\": {\n        \"dtype\": \"number\",\n        \"std\": 8.902411954856856,\n        \"min\": 3.07,\n        \"max\": 50.81,\n        \"num_unique_values\": 229,\n        \"samples\": [\n          22.12,\n          20.23,\n          14.78\n        ],\n        \"semantic_type\": \"\",\n        \"description\": \"\"\n      }\n    },\n    {\n      \"column\": \"tip\",\n      \"properties\": {\n        \"dtype\": \"number\",\n        \"std\": 1.3836381890011822,\n        \"min\": 1.0,\n        \"max\": 10.0,\n        \"num_unique_values\": 123,\n        \"samples\": [\n          3.35,\n          1.5,\n          6.73\n        ],\n        \"semantic_type\": \"\",\n        \"description\": \"\"\n      }\n    },\n    {\n      \"column\": \"sex\",\n      \"properties\": {\n        \"dtype\": \"category\",\n        \"num_unique_values\": 2,\n        \"samples\": [\n          \"Male\",\n          \"Female\"\n        ],\n        \"semantic_type\": \"\",\n        \"description\": \"\"\n      }\n    },\n    {\n      \"column\": \"smoker\",\n      \"properties\": {\n        \"dtype\": \"category\",\n        \"num_unique_values\": 2,\n        \"samples\": [\n          \"Yes\",\n          \"No\"\n        ],\n        \"semantic_type\": \"\",\n        \"description\": \"\"\n      }\n    },\n    {\n      \"column\": \"day\",\n      \"properties\": {\n        \"dtype\": \"category\",\n        \"num_unique_values\": 4,\n        \"samples\": [\n          \"Sat\",\n          \"Fri\"\n        ],\n        \"semantic_type\": \"\",\n        \"description\": \"\"\n      }\n    },\n    {\n      \"column\": \"time\",\n      \"properties\": {\n        \"dtype\": \"category\",\n        \"num_unique_values\": 2,\n        \"samples\": [\n          \"Lunch\",\n          \"Dinner\"\n        ],\n        \"semantic_type\": \"\",\n        \"description\": \"\"\n      }\n    },\n    {\n      \"column\": \"size\",\n      \"properties\": {\n        \"dtype\": \"number\",\n        \"std\": 0,\n        \"min\": 1,\n        \"max\": 6,\n        \"num_unique_values\": 6,\n        \"samples\": [\n          2,\n          3\n        ],\n        \"semantic_type\": \"\",\n        \"description\": \"\"\n      }\n    }\n  ]\n}"
            }
          },
          "metadata": {},
          "execution_count": 35
        }
      ],
      "source": [
        "tips = sns.load_dataset('tips')\n",
        "tips"
      ]
    },
    {
      "cell_type": "code",
      "execution_count": null,
      "metadata": {
        "colab": {
          "base_uri": "https://localhost:8080/",
          "height": 423
        },
        "id": "FOd6LqrXQgLO",
        "outputId": "f9bf5e1e-ef26-476c-8a3e-286aad2451bc"
      },
      "outputs": [
        {
          "output_type": "execute_result",
          "data": {
            "text/plain": [
              "     total_bill   tip\n",
              "0         16.99  1.01\n",
              "1         10.34  1.66\n",
              "2         21.01  3.50\n",
              "3         23.68  3.31\n",
              "4         24.59  3.61\n",
              "..          ...   ...\n",
              "239       29.03  5.92\n",
              "240       27.18  2.00\n",
              "241       22.67  2.00\n",
              "242       17.82  1.75\n",
              "243       18.78  3.00\n",
              "\n",
              "[244 rows x 2 columns]"
            ],
            "text/html": [
              "\n",
              "  <div id=\"df-a37f4f2c-648e-40dc-bf56-01e764f31234\" class=\"colab-df-container\">\n",
              "    <div>\n",
              "<style scoped>\n",
              "    .dataframe tbody tr th:only-of-type {\n",
              "        vertical-align: middle;\n",
              "    }\n",
              "\n",
              "    .dataframe tbody tr th {\n",
              "        vertical-align: top;\n",
              "    }\n",
              "\n",
              "    .dataframe thead th {\n",
              "        text-align: right;\n",
              "    }\n",
              "</style>\n",
              "<table border=\"1\" class=\"dataframe\">\n",
              "  <thead>\n",
              "    <tr style=\"text-align: right;\">\n",
              "      <th></th>\n",
              "      <th>total_bill</th>\n",
              "      <th>tip</th>\n",
              "    </tr>\n",
              "  </thead>\n",
              "  <tbody>\n",
              "    <tr>\n",
              "      <th>0</th>\n",
              "      <td>16.99</td>\n",
              "      <td>1.01</td>\n",
              "    </tr>\n",
              "    <tr>\n",
              "      <th>1</th>\n",
              "      <td>10.34</td>\n",
              "      <td>1.66</td>\n",
              "    </tr>\n",
              "    <tr>\n",
              "      <th>2</th>\n",
              "      <td>21.01</td>\n",
              "      <td>3.50</td>\n",
              "    </tr>\n",
              "    <tr>\n",
              "      <th>3</th>\n",
              "      <td>23.68</td>\n",
              "      <td>3.31</td>\n",
              "    </tr>\n",
              "    <tr>\n",
              "      <th>4</th>\n",
              "      <td>24.59</td>\n",
              "      <td>3.61</td>\n",
              "    </tr>\n",
              "    <tr>\n",
              "      <th>...</th>\n",
              "      <td>...</td>\n",
              "      <td>...</td>\n",
              "    </tr>\n",
              "    <tr>\n",
              "      <th>239</th>\n",
              "      <td>29.03</td>\n",
              "      <td>5.92</td>\n",
              "    </tr>\n",
              "    <tr>\n",
              "      <th>240</th>\n",
              "      <td>27.18</td>\n",
              "      <td>2.00</td>\n",
              "    </tr>\n",
              "    <tr>\n",
              "      <th>241</th>\n",
              "      <td>22.67</td>\n",
              "      <td>2.00</td>\n",
              "    </tr>\n",
              "    <tr>\n",
              "      <th>242</th>\n",
              "      <td>17.82</td>\n",
              "      <td>1.75</td>\n",
              "    </tr>\n",
              "    <tr>\n",
              "      <th>243</th>\n",
              "      <td>18.78</td>\n",
              "      <td>3.00</td>\n",
              "    </tr>\n",
              "  </tbody>\n",
              "</table>\n",
              "<p>244 rows × 2 columns</p>\n",
              "</div>\n",
              "    <div class=\"colab-df-buttons\">\n",
              "\n",
              "  <div class=\"colab-df-container\">\n",
              "    <button class=\"colab-df-convert\" onclick=\"convertToInteractive('df-a37f4f2c-648e-40dc-bf56-01e764f31234')\"\n",
              "            title=\"Convert this dataframe to an interactive table.\"\n",
              "            style=\"display:none;\">\n",
              "\n",
              "  <svg xmlns=\"http://www.w3.org/2000/svg\" height=\"24px\" viewBox=\"0 -960 960 960\">\n",
              "    <path d=\"M120-120v-720h720v720H120Zm60-500h600v-160H180v160Zm220 220h160v-160H400v160Zm0 220h160v-160H400v160ZM180-400h160v-160H180v160Zm440 0h160v-160H620v160ZM180-180h160v-160H180v160Zm440 0h160v-160H620v160Z\"/>\n",
              "  </svg>\n",
              "    </button>\n",
              "\n",
              "  <style>\n",
              "    .colab-df-container {\n",
              "      display:flex;\n",
              "      gap: 12px;\n",
              "    }\n",
              "\n",
              "    .colab-df-convert {\n",
              "      background-color: #E8F0FE;\n",
              "      border: none;\n",
              "      border-radius: 50%;\n",
              "      cursor: pointer;\n",
              "      display: none;\n",
              "      fill: #1967D2;\n",
              "      height: 32px;\n",
              "      padding: 0 0 0 0;\n",
              "      width: 32px;\n",
              "    }\n",
              "\n",
              "    .colab-df-convert:hover {\n",
              "      background-color: #E2EBFA;\n",
              "      box-shadow: 0px 1px 2px rgba(60, 64, 67, 0.3), 0px 1px 3px 1px rgba(60, 64, 67, 0.15);\n",
              "      fill: #174EA6;\n",
              "    }\n",
              "\n",
              "    .colab-df-buttons div {\n",
              "      margin-bottom: 4px;\n",
              "    }\n",
              "\n",
              "    [theme=dark] .colab-df-convert {\n",
              "      background-color: #3B4455;\n",
              "      fill: #D2E3FC;\n",
              "    }\n",
              "\n",
              "    [theme=dark] .colab-df-convert:hover {\n",
              "      background-color: #434B5C;\n",
              "      box-shadow: 0px 1px 3px 1px rgba(0, 0, 0, 0.15);\n",
              "      filter: drop-shadow(0px 1px 2px rgba(0, 0, 0, 0.3));\n",
              "      fill: #FFFFFF;\n",
              "    }\n",
              "  </style>\n",
              "\n",
              "    <script>\n",
              "      const buttonEl =\n",
              "        document.querySelector('#df-a37f4f2c-648e-40dc-bf56-01e764f31234 button.colab-df-convert');\n",
              "      buttonEl.style.display =\n",
              "        google.colab.kernel.accessAllowed ? 'block' : 'none';\n",
              "\n",
              "      async function convertToInteractive(key) {\n",
              "        const element = document.querySelector('#df-a37f4f2c-648e-40dc-bf56-01e764f31234');\n",
              "        const dataTable =\n",
              "          await google.colab.kernel.invokeFunction('convertToInteractive',\n",
              "                                                    [key], {});\n",
              "        if (!dataTable) return;\n",
              "\n",
              "        const docLinkHtml = 'Like what you see? Visit the ' +\n",
              "          '<a target=\"_blank\" href=https://colab.research.google.com/notebooks/data_table.ipynb>data table notebook</a>'\n",
              "          + ' to learn more about interactive tables.';\n",
              "        element.innerHTML = '';\n",
              "        dataTable['output_type'] = 'display_data';\n",
              "        await google.colab.output.renderOutput(dataTable, element);\n",
              "        const docLink = document.createElement('div');\n",
              "        docLink.innerHTML = docLinkHtml;\n",
              "        element.appendChild(docLink);\n",
              "      }\n",
              "    </script>\n",
              "  </div>\n",
              "\n",
              "\n",
              "<div id=\"df-34c036f2-980e-4319-848e-f015afa32df7\">\n",
              "  <button class=\"colab-df-quickchart\" onclick=\"quickchart('df-34c036f2-980e-4319-848e-f015afa32df7')\"\n",
              "            title=\"Suggest charts\"\n",
              "            style=\"display:none;\">\n",
              "\n",
              "<svg xmlns=\"http://www.w3.org/2000/svg\" height=\"24px\"viewBox=\"0 0 24 24\"\n",
              "     width=\"24px\">\n",
              "    <g>\n",
              "        <path d=\"M19 3H5c-1.1 0-2 .9-2 2v14c0 1.1.9 2 2 2h14c1.1 0 2-.9 2-2V5c0-1.1-.9-2-2-2zM9 17H7v-7h2v7zm4 0h-2V7h2v10zm4 0h-2v-4h2v4z\"/>\n",
              "    </g>\n",
              "</svg>\n",
              "  </button>\n",
              "\n",
              "<style>\n",
              "  .colab-df-quickchart {\n",
              "      --bg-color: #E8F0FE;\n",
              "      --fill-color: #1967D2;\n",
              "      --hover-bg-color: #E2EBFA;\n",
              "      --hover-fill-color: #174EA6;\n",
              "      --disabled-fill-color: #AAA;\n",
              "      --disabled-bg-color: #DDD;\n",
              "  }\n",
              "\n",
              "  [theme=dark] .colab-df-quickchart {\n",
              "      --bg-color: #3B4455;\n",
              "      --fill-color: #D2E3FC;\n",
              "      --hover-bg-color: #434B5C;\n",
              "      --hover-fill-color: #FFFFFF;\n",
              "      --disabled-bg-color: #3B4455;\n",
              "      --disabled-fill-color: #666;\n",
              "  }\n",
              "\n",
              "  .colab-df-quickchart {\n",
              "    background-color: var(--bg-color);\n",
              "    border: none;\n",
              "    border-radius: 50%;\n",
              "    cursor: pointer;\n",
              "    display: none;\n",
              "    fill: var(--fill-color);\n",
              "    height: 32px;\n",
              "    padding: 0;\n",
              "    width: 32px;\n",
              "  }\n",
              "\n",
              "  .colab-df-quickchart:hover {\n",
              "    background-color: var(--hover-bg-color);\n",
              "    box-shadow: 0 1px 2px rgba(60, 64, 67, 0.3), 0 1px 3px 1px rgba(60, 64, 67, 0.15);\n",
              "    fill: var(--button-hover-fill-color);\n",
              "  }\n",
              "\n",
              "  .colab-df-quickchart-complete:disabled,\n",
              "  .colab-df-quickchart-complete:disabled:hover {\n",
              "    background-color: var(--disabled-bg-color);\n",
              "    fill: var(--disabled-fill-color);\n",
              "    box-shadow: none;\n",
              "  }\n",
              "\n",
              "  .colab-df-spinner {\n",
              "    border: 2px solid var(--fill-color);\n",
              "    border-color: transparent;\n",
              "    border-bottom-color: var(--fill-color);\n",
              "    animation:\n",
              "      spin 1s steps(1) infinite;\n",
              "  }\n",
              "\n",
              "  @keyframes spin {\n",
              "    0% {\n",
              "      border-color: transparent;\n",
              "      border-bottom-color: var(--fill-color);\n",
              "      border-left-color: var(--fill-color);\n",
              "    }\n",
              "    20% {\n",
              "      border-color: transparent;\n",
              "      border-left-color: var(--fill-color);\n",
              "      border-top-color: var(--fill-color);\n",
              "    }\n",
              "    30% {\n",
              "      border-color: transparent;\n",
              "      border-left-color: var(--fill-color);\n",
              "      border-top-color: var(--fill-color);\n",
              "      border-right-color: var(--fill-color);\n",
              "    }\n",
              "    40% {\n",
              "      border-color: transparent;\n",
              "      border-right-color: var(--fill-color);\n",
              "      border-top-color: var(--fill-color);\n",
              "    }\n",
              "    60% {\n",
              "      border-color: transparent;\n",
              "      border-right-color: var(--fill-color);\n",
              "    }\n",
              "    80% {\n",
              "      border-color: transparent;\n",
              "      border-right-color: var(--fill-color);\n",
              "      border-bottom-color: var(--fill-color);\n",
              "    }\n",
              "    90% {\n",
              "      border-color: transparent;\n",
              "      border-bottom-color: var(--fill-color);\n",
              "    }\n",
              "  }\n",
              "</style>\n",
              "\n",
              "  <script>\n",
              "    async function quickchart(key) {\n",
              "      const quickchartButtonEl =\n",
              "        document.querySelector('#' + key + ' button');\n",
              "      quickchartButtonEl.disabled = true;  // To prevent multiple clicks.\n",
              "      quickchartButtonEl.classList.add('colab-df-spinner');\n",
              "      try {\n",
              "        const charts = await google.colab.kernel.invokeFunction(\n",
              "            'suggestCharts', [key], {});\n",
              "      } catch (error) {\n",
              "        console.error('Error during call to suggestCharts:', error);\n",
              "      }\n",
              "      quickchartButtonEl.classList.remove('colab-df-spinner');\n",
              "      quickchartButtonEl.classList.add('colab-df-quickchart-complete');\n",
              "    }\n",
              "    (() => {\n",
              "      let quickchartButtonEl =\n",
              "        document.querySelector('#df-34c036f2-980e-4319-848e-f015afa32df7 button');\n",
              "      quickchartButtonEl.style.display =\n",
              "        google.colab.kernel.accessAllowed ? 'block' : 'none';\n",
              "    })();\n",
              "  </script>\n",
              "</div>\n",
              "\n",
              "  <div id=\"id_da5dec8f-1f60-4ebd-9d3c-3d147bb06df2\">\n",
              "    <style>\n",
              "      .colab-df-generate {\n",
              "        background-color: #E8F0FE;\n",
              "        border: none;\n",
              "        border-radius: 50%;\n",
              "        cursor: pointer;\n",
              "        display: none;\n",
              "        fill: #1967D2;\n",
              "        height: 32px;\n",
              "        padding: 0 0 0 0;\n",
              "        width: 32px;\n",
              "      }\n",
              "\n",
              "      .colab-df-generate:hover {\n",
              "        background-color: #E2EBFA;\n",
              "        box-shadow: 0px 1px 2px rgba(60, 64, 67, 0.3), 0px 1px 3px 1px rgba(60, 64, 67, 0.15);\n",
              "        fill: #174EA6;\n",
              "      }\n",
              "\n",
              "      [theme=dark] .colab-df-generate {\n",
              "        background-color: #3B4455;\n",
              "        fill: #D2E3FC;\n",
              "      }\n",
              "\n",
              "      [theme=dark] .colab-df-generate:hover {\n",
              "        background-color: #434B5C;\n",
              "        box-shadow: 0px 1px 3px 1px rgba(0, 0, 0, 0.15);\n",
              "        filter: drop-shadow(0px 1px 2px rgba(0, 0, 0, 0.3));\n",
              "        fill: #FFFFFF;\n",
              "      }\n",
              "    </style>\n",
              "    <button class=\"colab-df-generate\" onclick=\"generateWithVariable('tips_df')\"\n",
              "            title=\"Generate code using this dataframe.\"\n",
              "            style=\"display:none;\">\n",
              "\n",
              "  <svg xmlns=\"http://www.w3.org/2000/svg\" height=\"24px\"viewBox=\"0 0 24 24\"\n",
              "       width=\"24px\">\n",
              "    <path d=\"M7,19H8.4L18.45,9,17,7.55,7,17.6ZM5,21V16.75L18.45,3.32a2,2,0,0,1,2.83,0l1.4,1.43a1.91,1.91,0,0,1,.58,1.4,1.91,1.91,0,0,1-.58,1.4L9.25,21ZM18.45,9,17,7.55Zm-12,3A5.31,5.31,0,0,0,4.9,8.1,5.31,5.31,0,0,0,1,6.5,5.31,5.31,0,0,0,4.9,4.9,5.31,5.31,0,0,0,6.5,1,5.31,5.31,0,0,0,8.1,4.9,5.31,5.31,0,0,0,12,6.5,5.46,5.46,0,0,0,6.5,12Z\"/>\n",
              "  </svg>\n",
              "    </button>\n",
              "    <script>\n",
              "      (() => {\n",
              "      const buttonEl =\n",
              "        document.querySelector('#id_da5dec8f-1f60-4ebd-9d3c-3d147bb06df2 button.colab-df-generate');\n",
              "      buttonEl.style.display =\n",
              "        google.colab.kernel.accessAllowed ? 'block' : 'none';\n",
              "\n",
              "      buttonEl.onclick = () => {\n",
              "        google.colab.notebook.generateWithVariable('tips_df');\n",
              "      }\n",
              "      })();\n",
              "    </script>\n",
              "  </div>\n",
              "\n",
              "    </div>\n",
              "  </div>\n"
            ],
            "application/vnd.google.colaboratory.intrinsic+json": {
              "type": "dataframe",
              "variable_name": "tips_df",
              "summary": "{\n  \"name\": \"tips_df\",\n  \"rows\": 244,\n  \"fields\": [\n    {\n      \"column\": \"total_bill\",\n      \"properties\": {\n        \"dtype\": \"number\",\n        \"std\": 8.902411954856856,\n        \"min\": 3.07,\n        \"max\": 50.81,\n        \"num_unique_values\": 229,\n        \"samples\": [\n          22.12,\n          20.23,\n          14.78\n        ],\n        \"semantic_type\": \"\",\n        \"description\": \"\"\n      }\n    },\n    {\n      \"column\": \"tip\",\n      \"properties\": {\n        \"dtype\": \"number\",\n        \"std\": 1.3836381890011822,\n        \"min\": 1.0,\n        \"max\": 10.0,\n        \"num_unique_values\": 123,\n        \"samples\": [\n          3.35,\n          1.5,\n          6.73\n        ],\n        \"semantic_type\": \"\",\n        \"description\": \"\"\n      }\n    }\n  ]\n}"
            }
          },
          "metadata": {},
          "execution_count": 36
        }
      ],
      "source": [
        "tips_df = tips[['total_bill', 'tip']]\n",
        "tips_df"
      ]
    },
    {
      "cell_type": "markdown",
      "metadata": {
        "id": "_9kILoodQJAw"
      },
      "source": [
        "####(i) Write a Python function that calculates their skewness."
      ]
    },
    {
      "cell_type": "code",
      "execution_count": null,
      "metadata": {
        "colab": {
          "base_uri": "https://localhost:8080/",
          "height": 147
        },
        "id": "Zn5154Sa2YBu",
        "outputId": "5be195d4-ab9c-4418-ff7f-d09f645a0dcc"
      },
      "outputs": [
        {
          "output_type": "execute_result",
          "data": {
            "text/plain": [
              "total_bill    1.133213\n",
              "tip           1.465451\n",
              "dtype: float64"
            ],
            "text/html": [
              "<div>\n",
              "<style scoped>\n",
              "    .dataframe tbody tr th:only-of-type {\n",
              "        vertical-align: middle;\n",
              "    }\n",
              "\n",
              "    .dataframe tbody tr th {\n",
              "        vertical-align: top;\n",
              "    }\n",
              "\n",
              "    .dataframe thead th {\n",
              "        text-align: right;\n",
              "    }\n",
              "</style>\n",
              "<table border=\"1\" class=\"dataframe\">\n",
              "  <thead>\n",
              "    <tr style=\"text-align: right;\">\n",
              "      <th></th>\n",
              "      <th>0</th>\n",
              "    </tr>\n",
              "  </thead>\n",
              "  <tbody>\n",
              "    <tr>\n",
              "      <th>total_bill</th>\n",
              "      <td>1.133213</td>\n",
              "    </tr>\n",
              "    <tr>\n",
              "      <th>tip</th>\n",
              "      <td>1.465451</td>\n",
              "    </tr>\n",
              "  </tbody>\n",
              "</table>\n",
              "</div><br><label><b>dtype:</b> float64</label>"
            ]
          },
          "metadata": {},
          "execution_count": 37
        }
      ],
      "source": [
        "tips_df.skew()"
      ]
    },
    {
      "cell_type": "code",
      "execution_count": null,
      "metadata": {
        "colab": {
          "base_uri": "https://localhost:8080/"
        },
        "id": "g_dr7T0Uzvhx",
        "outputId": "25859d3c-579c-441a-a713-dd1b8842c1d6"
      },
      "outputs": [
        {
          "output_type": "execute_result",
          "data": {
            "text/plain": [
              "array([1.12623463, 1.45642669])"
            ]
          },
          "metadata": {},
          "execution_count": 38
        }
      ],
      "source": [
        "import scipy\n",
        "scipy.stats.skew(tips_df, bias=True)"
      ]
    },
    {
      "cell_type": "code",
      "execution_count": null,
      "metadata": {
        "colab": {
          "base_uri": "https://localhost:8080/"
        },
        "id": "dbTb-Hxn2gGx",
        "outputId": "58d368d1-d6f0-4d21-8d3f-d61b0ff61579"
      },
      "outputs": [
        {
          "output_type": "execute_result",
          "data": {
            "text/plain": [
              "array([1.13321304, 1.46545104])"
            ]
          },
          "metadata": {},
          "execution_count": 39
        }
      ],
      "source": [
        "scipy.stats.skew(tips_df, bias=False)"
      ]
    },
    {
      "cell_type": "markdown",
      "metadata": {
        "id": "ybw2PFBZQMQU"
      },
      "source": [
        "####(ii) Create a program that determines whether the columns exhibit positive skewness, negative skewness, or is approximately symmetric."
      ]
    },
    {
      "cell_type": "code",
      "execution_count": null,
      "metadata": {
        "colab": {
          "base_uri": "https://localhost:8080/"
        },
        "id": "ZvlMvbHsKdBf",
        "outputId": "795c8539-34aa-49fa-e5d5-ef8e1aae95fe"
      },
      "outputs": [
        {
          "output_type": "stream",
          "name": "stdout",
          "text": [
            "Skewness value of 'total_bill' is 1.1332130376158205 and skewness type is Positive Skewness\n",
            "Skewness value of 'tip' is 1.4654510370979401 and skewness type is Positive Skewness\n"
          ]
        }
      ],
      "source": [
        "# Calculate the skewness of each column\n",
        "skewness_total_bill = tips['total_bill'].skew()\n",
        "skewness_tip = tips['tip'].skew()\n",
        "\n",
        "# Determine the skewness type for each column\n",
        "def determine_skewness(skew_value):\n",
        "  if skew_value > 0:\n",
        "    return \"Positive Skewness\"\n",
        "  elif skew_value < 0:\n",
        "    return \"Negative Skewness\"\n",
        "  else:\n",
        "    return \"Approximately Symmetric\"\n",
        "\n",
        "skewness_total_bill_type = determine_skewness(skewness_total_bill)\n",
        "skewness_tip_type = determine_skewness(skewness_tip)\n",
        "\n",
        "print(f\"Skewness value of 'total_bill' is {skewness_total_bill} and skewness type is {skewness_total_bill_type}\")\n",
        "print(f\"Skewness value of 'tip' is {skewness_tip} and skewness type is {skewness_tip_type}\")"
      ]
    },
    {
      "cell_type": "markdown",
      "metadata": {
        "id": "rVAYyLDEQMFk"
      },
      "source": [
        "####(iii) Write a function that calculates the covariance between two columns."
      ]
    },
    {
      "cell_type": "code",
      "execution_count": null,
      "metadata": {
        "colab": {
          "base_uri": "https://localhost:8080/",
          "height": 112
        },
        "id": "NrxthxQ-SUWk",
        "outputId": "b2bac220-3592-4f52-b552-42fca123bfdf"
      },
      "outputs": [
        {
          "output_type": "execute_result",
          "data": {
            "text/plain": [
              "            total_bill       tip\n",
              "total_bill   79.252939  8.323502\n",
              "tip           8.323502  1.914455"
            ],
            "text/html": [
              "\n",
              "  <div id=\"df-a16881cc-622a-4339-bcf0-49a6181e4479\" class=\"colab-df-container\">\n",
              "    <div>\n",
              "<style scoped>\n",
              "    .dataframe tbody tr th:only-of-type {\n",
              "        vertical-align: middle;\n",
              "    }\n",
              "\n",
              "    .dataframe tbody tr th {\n",
              "        vertical-align: top;\n",
              "    }\n",
              "\n",
              "    .dataframe thead th {\n",
              "        text-align: right;\n",
              "    }\n",
              "</style>\n",
              "<table border=\"1\" class=\"dataframe\">\n",
              "  <thead>\n",
              "    <tr style=\"text-align: right;\">\n",
              "      <th></th>\n",
              "      <th>total_bill</th>\n",
              "      <th>tip</th>\n",
              "    </tr>\n",
              "  </thead>\n",
              "  <tbody>\n",
              "    <tr>\n",
              "      <th>total_bill</th>\n",
              "      <td>79.252939</td>\n",
              "      <td>8.323502</td>\n",
              "    </tr>\n",
              "    <tr>\n",
              "      <th>tip</th>\n",
              "      <td>8.323502</td>\n",
              "      <td>1.914455</td>\n",
              "    </tr>\n",
              "  </tbody>\n",
              "</table>\n",
              "</div>\n",
              "    <div class=\"colab-df-buttons\">\n",
              "\n",
              "  <div class=\"colab-df-container\">\n",
              "    <button class=\"colab-df-convert\" onclick=\"convertToInteractive('df-a16881cc-622a-4339-bcf0-49a6181e4479')\"\n",
              "            title=\"Convert this dataframe to an interactive table.\"\n",
              "            style=\"display:none;\">\n",
              "\n",
              "  <svg xmlns=\"http://www.w3.org/2000/svg\" height=\"24px\" viewBox=\"0 -960 960 960\">\n",
              "    <path d=\"M120-120v-720h720v720H120Zm60-500h600v-160H180v160Zm220 220h160v-160H400v160Zm0 220h160v-160H400v160ZM180-400h160v-160H180v160Zm440 0h160v-160H620v160ZM180-180h160v-160H180v160Zm440 0h160v-160H620v160Z\"/>\n",
              "  </svg>\n",
              "    </button>\n",
              "\n",
              "  <style>\n",
              "    .colab-df-container {\n",
              "      display:flex;\n",
              "      gap: 12px;\n",
              "    }\n",
              "\n",
              "    .colab-df-convert {\n",
              "      background-color: #E8F0FE;\n",
              "      border: none;\n",
              "      border-radius: 50%;\n",
              "      cursor: pointer;\n",
              "      display: none;\n",
              "      fill: #1967D2;\n",
              "      height: 32px;\n",
              "      padding: 0 0 0 0;\n",
              "      width: 32px;\n",
              "    }\n",
              "\n",
              "    .colab-df-convert:hover {\n",
              "      background-color: #E2EBFA;\n",
              "      box-shadow: 0px 1px 2px rgba(60, 64, 67, 0.3), 0px 1px 3px 1px rgba(60, 64, 67, 0.15);\n",
              "      fill: #174EA6;\n",
              "    }\n",
              "\n",
              "    .colab-df-buttons div {\n",
              "      margin-bottom: 4px;\n",
              "    }\n",
              "\n",
              "    [theme=dark] .colab-df-convert {\n",
              "      background-color: #3B4455;\n",
              "      fill: #D2E3FC;\n",
              "    }\n",
              "\n",
              "    [theme=dark] .colab-df-convert:hover {\n",
              "      background-color: #434B5C;\n",
              "      box-shadow: 0px 1px 3px 1px rgba(0, 0, 0, 0.15);\n",
              "      filter: drop-shadow(0px 1px 2px rgba(0, 0, 0, 0.3));\n",
              "      fill: #FFFFFF;\n",
              "    }\n",
              "  </style>\n",
              "\n",
              "    <script>\n",
              "      const buttonEl =\n",
              "        document.querySelector('#df-a16881cc-622a-4339-bcf0-49a6181e4479 button.colab-df-convert');\n",
              "      buttonEl.style.display =\n",
              "        google.colab.kernel.accessAllowed ? 'block' : 'none';\n",
              "\n",
              "      async function convertToInteractive(key) {\n",
              "        const element = document.querySelector('#df-a16881cc-622a-4339-bcf0-49a6181e4479');\n",
              "        const dataTable =\n",
              "          await google.colab.kernel.invokeFunction('convertToInteractive',\n",
              "                                                    [key], {});\n",
              "        if (!dataTable) return;\n",
              "\n",
              "        const docLinkHtml = 'Like what you see? Visit the ' +\n",
              "          '<a target=\"_blank\" href=https://colab.research.google.com/notebooks/data_table.ipynb>data table notebook</a>'\n",
              "          + ' to learn more about interactive tables.';\n",
              "        element.innerHTML = '';\n",
              "        dataTable['output_type'] = 'display_data';\n",
              "        await google.colab.output.renderOutput(dataTable, element);\n",
              "        const docLink = document.createElement('div');\n",
              "        docLink.innerHTML = docLinkHtml;\n",
              "        element.appendChild(docLink);\n",
              "      }\n",
              "    </script>\n",
              "  </div>\n",
              "\n",
              "\n",
              "<div id=\"df-e75378b2-fc5e-4332-bf03-356303ea2a16\">\n",
              "  <button class=\"colab-df-quickchart\" onclick=\"quickchart('df-e75378b2-fc5e-4332-bf03-356303ea2a16')\"\n",
              "            title=\"Suggest charts\"\n",
              "            style=\"display:none;\">\n",
              "\n",
              "<svg xmlns=\"http://www.w3.org/2000/svg\" height=\"24px\"viewBox=\"0 0 24 24\"\n",
              "     width=\"24px\">\n",
              "    <g>\n",
              "        <path d=\"M19 3H5c-1.1 0-2 .9-2 2v14c0 1.1.9 2 2 2h14c1.1 0 2-.9 2-2V5c0-1.1-.9-2-2-2zM9 17H7v-7h2v7zm4 0h-2V7h2v10zm4 0h-2v-4h2v4z\"/>\n",
              "    </g>\n",
              "</svg>\n",
              "  </button>\n",
              "\n",
              "<style>\n",
              "  .colab-df-quickchart {\n",
              "      --bg-color: #E8F0FE;\n",
              "      --fill-color: #1967D2;\n",
              "      --hover-bg-color: #E2EBFA;\n",
              "      --hover-fill-color: #174EA6;\n",
              "      --disabled-fill-color: #AAA;\n",
              "      --disabled-bg-color: #DDD;\n",
              "  }\n",
              "\n",
              "  [theme=dark] .colab-df-quickchart {\n",
              "      --bg-color: #3B4455;\n",
              "      --fill-color: #D2E3FC;\n",
              "      --hover-bg-color: #434B5C;\n",
              "      --hover-fill-color: #FFFFFF;\n",
              "      --disabled-bg-color: #3B4455;\n",
              "      --disabled-fill-color: #666;\n",
              "  }\n",
              "\n",
              "  .colab-df-quickchart {\n",
              "    background-color: var(--bg-color);\n",
              "    border: none;\n",
              "    border-radius: 50%;\n",
              "    cursor: pointer;\n",
              "    display: none;\n",
              "    fill: var(--fill-color);\n",
              "    height: 32px;\n",
              "    padding: 0;\n",
              "    width: 32px;\n",
              "  }\n",
              "\n",
              "  .colab-df-quickchart:hover {\n",
              "    background-color: var(--hover-bg-color);\n",
              "    box-shadow: 0 1px 2px rgba(60, 64, 67, 0.3), 0 1px 3px 1px rgba(60, 64, 67, 0.15);\n",
              "    fill: var(--button-hover-fill-color);\n",
              "  }\n",
              "\n",
              "  .colab-df-quickchart-complete:disabled,\n",
              "  .colab-df-quickchart-complete:disabled:hover {\n",
              "    background-color: var(--disabled-bg-color);\n",
              "    fill: var(--disabled-fill-color);\n",
              "    box-shadow: none;\n",
              "  }\n",
              "\n",
              "  .colab-df-spinner {\n",
              "    border: 2px solid var(--fill-color);\n",
              "    border-color: transparent;\n",
              "    border-bottom-color: var(--fill-color);\n",
              "    animation:\n",
              "      spin 1s steps(1) infinite;\n",
              "  }\n",
              "\n",
              "  @keyframes spin {\n",
              "    0% {\n",
              "      border-color: transparent;\n",
              "      border-bottom-color: var(--fill-color);\n",
              "      border-left-color: var(--fill-color);\n",
              "    }\n",
              "    20% {\n",
              "      border-color: transparent;\n",
              "      border-left-color: var(--fill-color);\n",
              "      border-top-color: var(--fill-color);\n",
              "    }\n",
              "    30% {\n",
              "      border-color: transparent;\n",
              "      border-left-color: var(--fill-color);\n",
              "      border-top-color: var(--fill-color);\n",
              "      border-right-color: var(--fill-color);\n",
              "    }\n",
              "    40% {\n",
              "      border-color: transparent;\n",
              "      border-right-color: var(--fill-color);\n",
              "      border-top-color: var(--fill-color);\n",
              "    }\n",
              "    60% {\n",
              "      border-color: transparent;\n",
              "      border-right-color: var(--fill-color);\n",
              "    }\n",
              "    80% {\n",
              "      border-color: transparent;\n",
              "      border-right-color: var(--fill-color);\n",
              "      border-bottom-color: var(--fill-color);\n",
              "    }\n",
              "    90% {\n",
              "      border-color: transparent;\n",
              "      border-bottom-color: var(--fill-color);\n",
              "    }\n",
              "  }\n",
              "</style>\n",
              "\n",
              "  <script>\n",
              "    async function quickchart(key) {\n",
              "      const quickchartButtonEl =\n",
              "        document.querySelector('#' + key + ' button');\n",
              "      quickchartButtonEl.disabled = true;  // To prevent multiple clicks.\n",
              "      quickchartButtonEl.classList.add('colab-df-spinner');\n",
              "      try {\n",
              "        const charts = await google.colab.kernel.invokeFunction(\n",
              "            'suggestCharts', [key], {});\n",
              "      } catch (error) {\n",
              "        console.error('Error during call to suggestCharts:', error);\n",
              "      }\n",
              "      quickchartButtonEl.classList.remove('colab-df-spinner');\n",
              "      quickchartButtonEl.classList.add('colab-df-quickchart-complete');\n",
              "    }\n",
              "    (() => {\n",
              "      let quickchartButtonEl =\n",
              "        document.querySelector('#df-e75378b2-fc5e-4332-bf03-356303ea2a16 button');\n",
              "      quickchartButtonEl.style.display =\n",
              "        google.colab.kernel.accessAllowed ? 'block' : 'none';\n",
              "    })();\n",
              "  </script>\n",
              "</div>\n",
              "\n",
              "    </div>\n",
              "  </div>\n"
            ],
            "application/vnd.google.colaboratory.intrinsic+json": {
              "type": "dataframe",
              "summary": "{\n  \"name\": \"tips_df\",\n  \"rows\": 2,\n  \"fields\": [\n    {\n      \"column\": \"total_bill\",\n      \"properties\": {\n        \"dtype\": \"number\",\n        \"std\": 50.15468587766306,\n        \"min\": 8.323501629224854,\n        \"max\": 79.25293861397829,\n        \"num_unique_values\": 2,\n        \"samples\": [\n          8.323501629224854,\n          79.25293861397829\n        ],\n        \"semantic_type\": \"\",\n        \"description\": \"\"\n      }\n    },\n    {\n      \"column\": \"tip\",\n      \"properties\": {\n        \"dtype\": \"number\",\n        \"std\": 4.531880588394158,\n        \"min\": 1.914454638062473,\n        \"max\": 8.323501629224854,\n        \"num_unique_values\": 2,\n        \"samples\": [\n          1.914454638062473,\n          8.323501629224854\n        ],\n        \"semantic_type\": \"\",\n        \"description\": \"\"\n      }\n    }\n  ]\n}"
            }
          },
          "metadata": {},
          "execution_count": 41
        }
      ],
      "source": [
        "tips_df.cov()"
      ]
    },
    {
      "cell_type": "markdown",
      "metadata": {
        "id": "mjy87Fr0QL8_"
      },
      "source": [
        "####(iv) Implement a Python program that calculates the Pearson correlation coefficient between two columns."
      ]
    },
    {
      "cell_type": "code",
      "execution_count": null,
      "metadata": {
        "colab": {
          "base_uri": "https://localhost:8080/"
        },
        "id": "EgH6YVI-E3Gc",
        "outputId": "1674a5bf-ad43-4b54-cec7-6090444e044d"
      },
      "outputs": [
        {
          "output_type": "execute_result",
          "data": {
            "text/plain": [
              "PearsonRResult(statistic=0.6757341092113647, pvalue=6.69247064686336e-34)"
            ]
          },
          "metadata": {},
          "execution_count": 42
        }
      ],
      "source": [
        "from scipy import stats\n",
        "stats.pearsonr(tips['total_bill'], tips['tip'])"
      ]
    },
    {
      "cell_type": "markdown",
      "metadata": {
        "id": "5ibBLYh1QLdB"
      },
      "source": [
        "####(v) Write a script to visualize the correlation between two specific columns in a Pandas DataFrame using scatter plots."
      ]
    },
    {
      "cell_type": "code",
      "execution_count": null,
      "metadata": {
        "colab": {
          "base_uri": "https://localhost:8080/",
          "height": 125
        },
        "id": "1pmqHpDAPI2r",
        "outputId": "d4c39846-372d-4158-ef3c-e20a8bb4f1b3"
      },
      "outputs": [
        {
          "output_type": "execute_result",
          "data": {
            "text/plain": [
              "            total_bill       tip\n",
              "total_bill    1.000000  0.675734\n",
              "tip           0.675734  1.000000"
            ],
            "text/html": [
              "\n",
              "  <div id=\"df-dbaf33d4-e5d1-42e8-939e-91882c088858\" class=\"colab-df-container\">\n",
              "    <div>\n",
              "<style scoped>\n",
              "    .dataframe tbody tr th:only-of-type {\n",
              "        vertical-align: middle;\n",
              "    }\n",
              "\n",
              "    .dataframe tbody tr th {\n",
              "        vertical-align: top;\n",
              "    }\n",
              "\n",
              "    .dataframe thead th {\n",
              "        text-align: right;\n",
              "    }\n",
              "</style>\n",
              "<table border=\"1\" class=\"dataframe\">\n",
              "  <thead>\n",
              "    <tr style=\"text-align: right;\">\n",
              "      <th></th>\n",
              "      <th>total_bill</th>\n",
              "      <th>tip</th>\n",
              "    </tr>\n",
              "  </thead>\n",
              "  <tbody>\n",
              "    <tr>\n",
              "      <th>total_bill</th>\n",
              "      <td>1.000000</td>\n",
              "      <td>0.675734</td>\n",
              "    </tr>\n",
              "    <tr>\n",
              "      <th>tip</th>\n",
              "      <td>0.675734</td>\n",
              "      <td>1.000000</td>\n",
              "    </tr>\n",
              "  </tbody>\n",
              "</table>\n",
              "</div>\n",
              "    <div class=\"colab-df-buttons\">\n",
              "\n",
              "  <div class=\"colab-df-container\">\n",
              "    <button class=\"colab-df-convert\" onclick=\"convertToInteractive('df-dbaf33d4-e5d1-42e8-939e-91882c088858')\"\n",
              "            title=\"Convert this dataframe to an interactive table.\"\n",
              "            style=\"display:none;\">\n",
              "\n",
              "  <svg xmlns=\"http://www.w3.org/2000/svg\" height=\"24px\" viewBox=\"0 -960 960 960\">\n",
              "    <path d=\"M120-120v-720h720v720H120Zm60-500h600v-160H180v160Zm220 220h160v-160H400v160Zm0 220h160v-160H400v160ZM180-400h160v-160H180v160Zm440 0h160v-160H620v160ZM180-180h160v-160H180v160Zm440 0h160v-160H620v160Z\"/>\n",
              "  </svg>\n",
              "    </button>\n",
              "\n",
              "  <style>\n",
              "    .colab-df-container {\n",
              "      display:flex;\n",
              "      gap: 12px;\n",
              "    }\n",
              "\n",
              "    .colab-df-convert {\n",
              "      background-color: #E8F0FE;\n",
              "      border: none;\n",
              "      border-radius: 50%;\n",
              "      cursor: pointer;\n",
              "      display: none;\n",
              "      fill: #1967D2;\n",
              "      height: 32px;\n",
              "      padding: 0 0 0 0;\n",
              "      width: 32px;\n",
              "    }\n",
              "\n",
              "    .colab-df-convert:hover {\n",
              "      background-color: #E2EBFA;\n",
              "      box-shadow: 0px 1px 2px rgba(60, 64, 67, 0.3), 0px 1px 3px 1px rgba(60, 64, 67, 0.15);\n",
              "      fill: #174EA6;\n",
              "    }\n",
              "\n",
              "    .colab-df-buttons div {\n",
              "      margin-bottom: 4px;\n",
              "    }\n",
              "\n",
              "    [theme=dark] .colab-df-convert {\n",
              "      background-color: #3B4455;\n",
              "      fill: #D2E3FC;\n",
              "    }\n",
              "\n",
              "    [theme=dark] .colab-df-convert:hover {\n",
              "      background-color: #434B5C;\n",
              "      box-shadow: 0px 1px 3px 1px rgba(0, 0, 0, 0.15);\n",
              "      filter: drop-shadow(0px 1px 2px rgba(0, 0, 0, 0.3));\n",
              "      fill: #FFFFFF;\n",
              "    }\n",
              "  </style>\n",
              "\n",
              "    <script>\n",
              "      const buttonEl =\n",
              "        document.querySelector('#df-dbaf33d4-e5d1-42e8-939e-91882c088858 button.colab-df-convert');\n",
              "      buttonEl.style.display =\n",
              "        google.colab.kernel.accessAllowed ? 'block' : 'none';\n",
              "\n",
              "      async function convertToInteractive(key) {\n",
              "        const element = document.querySelector('#df-dbaf33d4-e5d1-42e8-939e-91882c088858');\n",
              "        const dataTable =\n",
              "          await google.colab.kernel.invokeFunction('convertToInteractive',\n",
              "                                                    [key], {});\n",
              "        if (!dataTable) return;\n",
              "\n",
              "        const docLinkHtml = 'Like what you see? Visit the ' +\n",
              "          '<a target=\"_blank\" href=https://colab.research.google.com/notebooks/data_table.ipynb>data table notebook</a>'\n",
              "          + ' to learn more about interactive tables.';\n",
              "        element.innerHTML = '';\n",
              "        dataTable['output_type'] = 'display_data';\n",
              "        await google.colab.output.renderOutput(dataTable, element);\n",
              "        const docLink = document.createElement('div');\n",
              "        docLink.innerHTML = docLinkHtml;\n",
              "        element.appendChild(docLink);\n",
              "      }\n",
              "    </script>\n",
              "  </div>\n",
              "\n",
              "\n",
              "<div id=\"df-6dbde6bb-4412-4ef3-85d8-d395d6d63c5b\">\n",
              "  <button class=\"colab-df-quickchart\" onclick=\"quickchart('df-6dbde6bb-4412-4ef3-85d8-d395d6d63c5b')\"\n",
              "            title=\"Suggest charts\"\n",
              "            style=\"display:none;\">\n",
              "\n",
              "<svg xmlns=\"http://www.w3.org/2000/svg\" height=\"24px\"viewBox=\"0 0 24 24\"\n",
              "     width=\"24px\">\n",
              "    <g>\n",
              "        <path d=\"M19 3H5c-1.1 0-2 .9-2 2v14c0 1.1.9 2 2 2h14c1.1 0 2-.9 2-2V5c0-1.1-.9-2-2-2zM9 17H7v-7h2v7zm4 0h-2V7h2v10zm4 0h-2v-4h2v4z\"/>\n",
              "    </g>\n",
              "</svg>\n",
              "  </button>\n",
              "\n",
              "<style>\n",
              "  .colab-df-quickchart {\n",
              "      --bg-color: #E8F0FE;\n",
              "      --fill-color: #1967D2;\n",
              "      --hover-bg-color: #E2EBFA;\n",
              "      --hover-fill-color: #174EA6;\n",
              "      --disabled-fill-color: #AAA;\n",
              "      --disabled-bg-color: #DDD;\n",
              "  }\n",
              "\n",
              "  [theme=dark] .colab-df-quickchart {\n",
              "      --bg-color: #3B4455;\n",
              "      --fill-color: #D2E3FC;\n",
              "      --hover-bg-color: #434B5C;\n",
              "      --hover-fill-color: #FFFFFF;\n",
              "      --disabled-bg-color: #3B4455;\n",
              "      --disabled-fill-color: #666;\n",
              "  }\n",
              "\n",
              "  .colab-df-quickchart {\n",
              "    background-color: var(--bg-color);\n",
              "    border: none;\n",
              "    border-radius: 50%;\n",
              "    cursor: pointer;\n",
              "    display: none;\n",
              "    fill: var(--fill-color);\n",
              "    height: 32px;\n",
              "    padding: 0;\n",
              "    width: 32px;\n",
              "  }\n",
              "\n",
              "  .colab-df-quickchart:hover {\n",
              "    background-color: var(--hover-bg-color);\n",
              "    box-shadow: 0 1px 2px rgba(60, 64, 67, 0.3), 0 1px 3px 1px rgba(60, 64, 67, 0.15);\n",
              "    fill: var(--button-hover-fill-color);\n",
              "  }\n",
              "\n",
              "  .colab-df-quickchart-complete:disabled,\n",
              "  .colab-df-quickchart-complete:disabled:hover {\n",
              "    background-color: var(--disabled-bg-color);\n",
              "    fill: var(--disabled-fill-color);\n",
              "    box-shadow: none;\n",
              "  }\n",
              "\n",
              "  .colab-df-spinner {\n",
              "    border: 2px solid var(--fill-color);\n",
              "    border-color: transparent;\n",
              "    border-bottom-color: var(--fill-color);\n",
              "    animation:\n",
              "      spin 1s steps(1) infinite;\n",
              "  }\n",
              "\n",
              "  @keyframes spin {\n",
              "    0% {\n",
              "      border-color: transparent;\n",
              "      border-bottom-color: var(--fill-color);\n",
              "      border-left-color: var(--fill-color);\n",
              "    }\n",
              "    20% {\n",
              "      border-color: transparent;\n",
              "      border-left-color: var(--fill-color);\n",
              "      border-top-color: var(--fill-color);\n",
              "    }\n",
              "    30% {\n",
              "      border-color: transparent;\n",
              "      border-left-color: var(--fill-color);\n",
              "      border-top-color: var(--fill-color);\n",
              "      border-right-color: var(--fill-color);\n",
              "    }\n",
              "    40% {\n",
              "      border-color: transparent;\n",
              "      border-right-color: var(--fill-color);\n",
              "      border-top-color: var(--fill-color);\n",
              "    }\n",
              "    60% {\n",
              "      border-color: transparent;\n",
              "      border-right-color: var(--fill-color);\n",
              "    }\n",
              "    80% {\n",
              "      border-color: transparent;\n",
              "      border-right-color: var(--fill-color);\n",
              "      border-bottom-color: var(--fill-color);\n",
              "    }\n",
              "    90% {\n",
              "      border-color: transparent;\n",
              "      border-bottom-color: var(--fill-color);\n",
              "    }\n",
              "  }\n",
              "</style>\n",
              "\n",
              "  <script>\n",
              "    async function quickchart(key) {\n",
              "      const quickchartButtonEl =\n",
              "        document.querySelector('#' + key + ' button');\n",
              "      quickchartButtonEl.disabled = true;  // To prevent multiple clicks.\n",
              "      quickchartButtonEl.classList.add('colab-df-spinner');\n",
              "      try {\n",
              "        const charts = await google.colab.kernel.invokeFunction(\n",
              "            'suggestCharts', [key], {});\n",
              "      } catch (error) {\n",
              "        console.error('Error during call to suggestCharts:', error);\n",
              "      }\n",
              "      quickchartButtonEl.classList.remove('colab-df-spinner');\n",
              "      quickchartButtonEl.classList.add('colab-df-quickchart-complete');\n",
              "    }\n",
              "    (() => {\n",
              "      let quickchartButtonEl =\n",
              "        document.querySelector('#df-6dbde6bb-4412-4ef3-85d8-d395d6d63c5b button');\n",
              "      quickchartButtonEl.style.display =\n",
              "        google.colab.kernel.accessAllowed ? 'block' : 'none';\n",
              "    })();\n",
              "  </script>\n",
              "</div>\n",
              "\n",
              "  <div id=\"id_80a3b943-2fe4-4e9b-93e4-b8e82ae91c22\">\n",
              "    <style>\n",
              "      .colab-df-generate {\n",
              "        background-color: #E8F0FE;\n",
              "        border: none;\n",
              "        border-radius: 50%;\n",
              "        cursor: pointer;\n",
              "        display: none;\n",
              "        fill: #1967D2;\n",
              "        height: 32px;\n",
              "        padding: 0 0 0 0;\n",
              "        width: 32px;\n",
              "      }\n",
              "\n",
              "      .colab-df-generate:hover {\n",
              "        background-color: #E2EBFA;\n",
              "        box-shadow: 0px 1px 2px rgba(60, 64, 67, 0.3), 0px 1px 3px 1px rgba(60, 64, 67, 0.15);\n",
              "        fill: #174EA6;\n",
              "      }\n",
              "\n",
              "      [theme=dark] .colab-df-generate {\n",
              "        background-color: #3B4455;\n",
              "        fill: #D2E3FC;\n",
              "      }\n",
              "\n",
              "      [theme=dark] .colab-df-generate:hover {\n",
              "        background-color: #434B5C;\n",
              "        box-shadow: 0px 1px 3px 1px rgba(0, 0, 0, 0.15);\n",
              "        filter: drop-shadow(0px 1px 2px rgba(0, 0, 0, 0.3));\n",
              "        fill: #FFFFFF;\n",
              "      }\n",
              "    </style>\n",
              "    <button class=\"colab-df-generate\" onclick=\"generateWithVariable('correlation')\"\n",
              "            title=\"Generate code using this dataframe.\"\n",
              "            style=\"display:none;\">\n",
              "\n",
              "  <svg xmlns=\"http://www.w3.org/2000/svg\" height=\"24px\"viewBox=\"0 0 24 24\"\n",
              "       width=\"24px\">\n",
              "    <path d=\"M7,19H8.4L18.45,9,17,7.55,7,17.6ZM5,21V16.75L18.45,3.32a2,2,0,0,1,2.83,0l1.4,1.43a1.91,1.91,0,0,1,.58,1.4,1.91,1.91,0,0,1-.58,1.4L9.25,21ZM18.45,9,17,7.55Zm-12,3A5.31,5.31,0,0,0,4.9,8.1,5.31,5.31,0,0,0,1,6.5,5.31,5.31,0,0,0,4.9,4.9,5.31,5.31,0,0,0,6.5,1,5.31,5.31,0,0,0,8.1,4.9,5.31,5.31,0,0,0,12,6.5,5.46,5.46,0,0,0,6.5,12Z\"/>\n",
              "  </svg>\n",
              "    </button>\n",
              "    <script>\n",
              "      (() => {\n",
              "      const buttonEl =\n",
              "        document.querySelector('#id_80a3b943-2fe4-4e9b-93e4-b8e82ae91c22 button.colab-df-generate');\n",
              "      buttonEl.style.display =\n",
              "        google.colab.kernel.accessAllowed ? 'block' : 'none';\n",
              "\n",
              "      buttonEl.onclick = () => {\n",
              "        google.colab.notebook.generateWithVariable('correlation');\n",
              "      }\n",
              "      })();\n",
              "    </script>\n",
              "  </div>\n",
              "\n",
              "    </div>\n",
              "  </div>\n"
            ],
            "application/vnd.google.colaboratory.intrinsic+json": {
              "type": "dataframe",
              "variable_name": "correlation",
              "summary": "{\n  \"name\": \"correlation\",\n  \"rows\": 2,\n  \"fields\": [\n    {\n      \"column\": \"total_bill\",\n      \"properties\": {\n        \"dtype\": \"number\",\n        \"std\": 0.2292906102841404,\n        \"min\": 0.6757341092113648,\n        \"max\": 1.0,\n        \"num_unique_values\": 2,\n        \"samples\": [\n          0.6757341092113648,\n          1.0\n        ],\n        \"semantic_type\": \"\",\n        \"description\": \"\"\n      }\n    },\n    {\n      \"column\": \"tip\",\n      \"properties\": {\n        \"dtype\": \"number\",\n        \"std\": 0.2292906102841404,\n        \"min\": 0.6757341092113648,\n        \"max\": 1.0,\n        \"num_unique_values\": 2,\n        \"samples\": [\n          1.0,\n          0.6757341092113648\n        ],\n        \"semantic_type\": \"\",\n        \"description\": \"\"\n      }\n    }\n  ]\n}"
            }
          },
          "metadata": {},
          "execution_count": 43
        }
      ],
      "source": [
        "correlation = tips_df.corr()\n",
        "correlation"
      ]
    },
    {
      "cell_type": "code",
      "execution_count": null,
      "metadata": {
        "colab": {
          "base_uri": "https://localhost:8080/",
          "height": 472
        },
        "id": "4laXNV9-R57S",
        "outputId": "1f36d9c1-b6d6-4a3a-b6cb-9915c88ed49e"
      },
      "outputs": [
        {
          "output_type": "display_data",
          "data": {
            "text/plain": [
              "<Figure size 640x480 with 1 Axes>"
            ],
            "image/png": "[encoded data removed]"
          },
          "metadata": {}
        }
      ],
      "source": [
        "plt.scatter(tips_df['total_bill'], tips_df['tip'])\n",
        "plt.title(\"Tip vs. Total Bill\")\n",
        "plt.xlabel(\"Total Bill\")\n",
        "plt.ylabel(\"Tip\")\n",
        "\n",
        "plt.grid()\n",
        "plt.show()"
      ]
    },
    {
      "cell_type": "markdown",
      "metadata": {
        "id": "XnEjLryWS4cO"
      },
      "source": [
        "####**8. Write a Python function to calculate the probability density function (PDF) of a continuous random variable for a given normal distribution.**"
      ]
    },
    {
      "cell_type": "code",
      "execution_count": null,
      "metadata": {
        "colab": {
          "base_uri": "https://localhost:8080/"
        },
        "id": "xhWJKAxcS61f",
        "outputId": "1ea10680-b8bc-4b1a-aa93-6a6ed0943f88"
      },
      "outputs": [
        {
          "output_type": "execute_result",
          "data": {
            "text/plain": [
              "0.24197072451914337"
            ]
          },
          "metadata": {},
          "execution_count": 45
        }
      ],
      "source": [
        "import math\n",
        "\n",
        "x = 1\n",
        "mu = 0\n",
        "sigma = 1\n",
        "\n",
        "def normal_pdf(x, mu, sigma):\n",
        "  coefficient = 1/(sigma * math.sqrt(2*math.pi))\n",
        "  exponent = math.exp(-0.5 * ((x-mu) / sigma)**2)\n",
        "  return coefficient * exponent\n",
        "\n",
        "normal_pdf(x, mu, sigma)"
      ]
    },
    {
      "cell_type": "markdown",
      "metadata": {
        "id": "90_VHGleS8P2"
      },
      "source": [
        "####**9. Create a program to calculate the cumulative distribution function (CDF) of exponential distribution.**"
      ]
    },
    {
      "cell_type": "code",
      "execution_count": null,
      "metadata": {
        "colab": {
          "base_uri": "https://localhost:8080/"
        },
        "id": "nm07CmbCjdez",
        "outputId": "356a2536-3394-422f-e1a1-a5f2e045ab9e"
      },
      "outputs": [
        {
          "output_type": "stream",
          "name": "stdout",
          "text": [
            "The CDF at x = 5 for lambda = 0.5 is 0.9179\n"
          ]
        }
      ],
      "source": [
        "import math\n",
        "\n",
        "def exponential_cdf(x, lam):\n",
        "  \"\"\"\n",
        "  Calculate the CDF of an exponential distribution.\n",
        "\n",
        "  Parameters:\n",
        "  x (float): The value at which the CDF is evaluated.\n",
        "  lam (float): The rate parameter (lambda) of the exponential distribution.\n",
        "\n",
        "  Returns:\n",
        "  float: The CDF value at x.\n",
        "  \"\"\"\n",
        "  if x < 0:\n",
        "    return 0.0\n",
        "  else:\n",
        "    return 1 - math.exp(-lam * x)\n",
        "\n",
        "# Example usage\n",
        "x = 5  # Change this value to evaluate the CDF at different points\n",
        "lam = 0.5  # Example rate parameter (lambda)\n",
        "cdf_value = exponential_cdf(x, lam)\n",
        "print(f\"The CDF at x = {x} for lambda = {lam} is {cdf_value:.4f}\")"
      ]
    },
    {
      "cell_type": "markdown",
      "metadata": {
        "id": "xgp3hZePS8ux"
      },
      "source": [
        "####**10. Write a Python function to calculate the probability mass function (PMF) of Poisson distribution.**"
      ]
    },
    {
      "cell_type": "code",
      "execution_count": null,
      "metadata": {
        "colab": {
          "base_uri": "https://localhost:8080/"
        },
        "id": "KlZBM0bfSE2H",
        "outputId": "b8609075-e7d1-44e8-d88e-310ba4f3c341"
      },
      "outputs": [
        {
          "output_type": "stream",
          "name": "stdout",
          "text": [
            "Enter the number of occurrences (k): 5\n",
            "Enter the average rate of occurrences (lamda): 1.5\n",
            "The PMF value at k=5 is 0.0141\n"
          ]
        }
      ],
      "source": [
        "import math\n",
        "\n",
        "def poisson_pmf(k, lam_):\n",
        "  \"\"\"\n",
        "  Calculate the Probability Mass Function (PMF) of a Poisson distribution.\n",
        "\n",
        "  Parameters:\n",
        "  k (int): The number of occurrences (non-negative integer).\n",
        "  lam_ (float): The average rate of occurrences (rate parameter).\n",
        "\n",
        "  Returns:\n",
        "  float: The PMF value at k.\n",
        "  \"\"\"\n",
        "  if k < 0 or not isinstance(k, int):\n",
        "    raise ValueError(\"k must be a non-negative integer.\")\n",
        "  if lam_ <= 0:\n",
        "    raise ValueError(\"lambda must be positive.\")\n",
        "\n",
        "  return (math.pow(lam_, k) * math.exp(-lam_)) / math.factorial(k)\n",
        "\n",
        "# Example usage\n",
        "k = int(input(\"Enter the number of occurrences (k): \"))\n",
        "lam_ = float(input(\"Enter the average rate of occurrences (lamda): \"))\n",
        "\n",
        "pmf_value = poisson_pmf(k, lam_)\n",
        "print(f\"The PMF value at k={k} is {pmf_value:.4f}\")"
      ]
    },
    {
      "cell_type": "markdown",
      "metadata": {
        "id": "-TPHQZcyBVM7"
      },
      "source": [
        "####**11. A company wants to test if a new website layout leads to a higher conversion rate (percentage of visitors who make a purchase). They collect data from the old and new layouts to compare.**\n",
        "####To generate the data use the following command:\n",
        "\n",
        "####`import numpy as np`\n",
        "\n",
        "####`# 50 purchases out of 1000 visitors`\n",
        "\n",
        "####`old_layout= np.array([1]*50 + [0]*950)`\n",
        "\n",
        "####`# 70 purchases out of 1000 visitors`\n",
        "\n",
        "####`new_layout= np.array([1]*70 + [0]*930)`\n",
        "\n",
        "####Apply z-test to find which layout is successful.\n"
      ]
    },
    {
      "cell_type": "code",
      "execution_count": null,
      "metadata": {
        "colab": {
          "base_uri": "https://localhost:8080/"
        },
        "id": "GNzyWM6xfNua",
        "outputId": "8ae780e2-a243-48ce-ce94-34ec3005d7f3"
      },
      "outputs": [
        {
          "output_type": "execute_result",
          "data": {
            "text/plain": [
              "(-1.883108942886774, 0.9701571972337869)"
            ]
          },
          "metadata": {},
          "execution_count": 48
        }
      ],
      "source": [
        "from statsmodels.stats.proportion import proportions_ztest\n",
        "\n",
        "# Data\n",
        "old_layout = np.array([1]*50 + [0]*950)  # 50 purchases out of 1000 visitors\n",
        "new_layout = np.array([1]*70 + [0]*930)  # 70 purchases out of 1000 visitors\n",
        "\n",
        "# Counts of successes (purchases) and observations (visitors) for each layout\n",
        "success_counts = np.array([sum(old_layout), sum(new_layout)])\n",
        "n_obs = np.array([len(old_layout), len(new_layout)])\n",
        "\n",
        "# Performing the z-test for proportions\n",
        "z_stat, p_value = proportions_ztest(success_counts, n_obs, alternative='larger')\n",
        "\n",
        "z_stat, p_value"
      ]
    },
    {
      "cell_type": "code",
      "execution_count": null,
      "metadata": {
        "colab": {
          "base_uri": "https://localhost:8080/"
        },
        "id": "ZPNFzdrvf_9_",
        "outputId": "b5a78757-77c5-4e1e-ab6b-63b4dd80f69b"
      },
      "outputs": [
        {
          "output_type": "stream",
          "name": "stdout",
          "text": [
            "There is no significant difference between the old and new layouts.\n"
          ]
        }
      ],
      "source": [
        "# Significance level (alpha)\n",
        "alpha = 0.05\n",
        "\n",
        "# Check if p-value is less than alpha\n",
        "if p_value < alpha:\n",
        "    print(\"The new layout is significantly more successful than the old layout.\")\n",
        "else:\n",
        "    print(\"There is no significant difference between the old and new layouts.\")"
      ]
    },
    {
      "cell_type": "markdown",
      "metadata": {
        "id": "p08B7x65Bwnt"
      },
      "source": [
        "####**12. A tutoring service claims that its program improves students' exam scores. A sample of students who participated in the program was taken, and their scores before and after the program were recorded.**\n",
        "####Use the below code to generate samples of respective arrays of marks:\n",
        "\n",
        "####`before_program = np.array([75, 80, 85, 70, 90, 78, 92, 88, 82, 87])`\n",
        "\n",
        "####`after_program = np.array([80, 85, 90, 80, 92, 80, 95, 90, 85, 88])`\n",
        "\n",
        "####Use z-test to find if the claims made by tutor are true or false.\n"
      ]
    },
    {
      "cell_type": "code",
      "execution_count": null,
      "metadata": {
        "colab": {
          "base_uri": "https://localhost:8080/"
        },
        "id": "XsTBgEaQhZqj",
        "outputId": "e40c303a-4588-4241-fcfe-1c379e383c94"
      },
      "outputs": [
        {
          "output_type": "execute_result",
          "data": {
            "text/plain": [
              "(4.593190894944668, 2.182597052646784e-06)"
            ]
          },
          "metadata": {},
          "execution_count": 50
        }
      ],
      "source": [
        "from scipy.stats import norm\n",
        "\n",
        "# Data for scores before and after the program\n",
        "before_program = np.array([75, 80, 85, 70, 90, 78, 92, 88, 82, 87])\n",
        "after_program = np.array([80, 85, 90, 80, 92, 80, 95, 90, 85, 88])\n",
        "\n",
        "# Calculate the differences\n",
        "differences = after_program - before_program\n",
        "\n",
        "# Calculate the mean and standard deviation of the differences\n",
        "mean_diff = np.mean(differences)\n",
        "std_diff = np.std(differences, ddof=1)  # ddof=1 for sample standard deviation\n",
        "\n",
        "# Calculate the z-score\n",
        "z_score = mean_diff / (std_diff / np.sqrt(len(differences)))\n",
        "\n",
        "# Calculate the p-value (one-tailed test)\n",
        "p_value = 1 - stats.norm.cdf(z_score)\n",
        "\n",
        "z_score, p_value"
      ]
    },
    {
      "cell_type": "code",
      "execution_count": null,
      "metadata": {
        "colab": {
          "base_uri": "https://localhost:8080/"
        },
        "id": "LyQNN4D-iRdC",
        "outputId": "c8470429-e116-4f02-f85e-ef3119b2d8b3"
      },
      "outputs": [
        {
          "output_type": "stream",
          "name": "stdout",
          "text": [
            "The tutoring program significantly improves students' exam scores.\n"
          ]
        }
      ],
      "source": [
        "# Significance level (alpha)\n",
        "alpha = 0.05\n",
        "\n",
        "# Check if p-value is less than alpha\n",
        "if p_value < alpha:\n",
        "    print(\"The tutoring program significantly improves students' exam scores.\")\n",
        "else:\n",
        "    print(\"There is no significant difference in exam scores before and after the tutoring program.\")"
      ]
    },
    {
      "cell_type": "markdown",
      "metadata": {
        "id": "rN2SKREpB8_F"
      },
      "source": [
        "####**13. A pharmaceutical company wants to determine if a new drug is effective in reducing blood pressure. They conduct a study and record blood pressure measurements before and after administering the drug.**\n",
        "####Use the below code to generate samples of respective arrays of blood pressure:\n",
        "\n",
        "####`before_drug = np.array([145, 150, 140, 135, 155, 160, 152, 148, 130, 138])`\n",
        "\n",
        "####`after_drug = np.array([130, 140, 132, 128, 145, 148, 138, 136, 125, 130])`\n",
        "####Implement z-test to find if the drug really works or not.\n"
      ]
    },
    {
      "cell_type": "code",
      "execution_count": null,
      "metadata": {
        "colab": {
          "base_uri": "https://localhost:8080/"
        },
        "id": "MeDNJCcKCD5E",
        "outputId": "ea97555a-df77-4d91-e22d-43cd25b81b08"
      },
      "outputs": [
        {
          "output_type": "execute_result",
          "data": {
            "text/plain": [
              "(-10.049875621120888, 1.0)"
            ]
          },
          "metadata": {},
          "execution_count": 52
        }
      ],
      "source": [
        "# Data\n",
        "before_drug = np.array([145, 150, 140, 135, 155, 160, 152, 148, 130, 138])\n",
        "after_drug = np.array([130, 140, 132, 128, 145, 148, 138, 136, 125, 130])\n",
        "\n",
        "# Calculate the mean and standard deviation of the differences\n",
        "mean_diff = np.mean(after_drug - before_drug)\n",
        "std_diff = np.std((after_drug - before_drug), ddof=1)\n",
        "\n",
        "# Calulate the z-score and p-value (one-tailed test)\n",
        "z_score = mean_diff / (std_diff / np.sqrt(len(after_drug - before_drug)))\n",
        "p_value = 1 - stats.norm.cdf(z_score)\n",
        "\n",
        "z_score, p_value"
      ]
    },
    {
      "cell_type": "code",
      "execution_count": null,
      "metadata": {
        "colab": {
          "base_uri": "https://localhost:8080/"
        },
        "id": "m__w6yjmkDYn",
        "outputId": "874fc2e3-88e2-4c86-9da9-233934f45985"
      },
      "outputs": [
        {
          "output_type": "stream",
          "name": "stdout",
          "text": [
            "There is no significant difference in blood pressure before and after the administering of drug.\n"
          ]
        }
      ],
      "source": [
        "# Significance level (alpha)\n",
        "alpha = 0.05\n",
        "\n",
        "# Check if p-value is less than alpha\n",
        "if p_value < alpha:\n",
        "    print(\"The drug effectively reduces blood pressure.\")\n",
        "else:\n",
        "    print(\"There is no significant difference in blood pressure before and after the administering of drug.\")"
      ]
    },
    {
      "cell_type": "markdown",
      "metadata": {
        "id": "_INcKwlgCPs_"
      },
      "source": [
        "####**14. A customer service department claims that their average response time is less than 5 minutes. A sample of recent customer interactions was taken, and the response times were recorded.**\n",
        "####Implement the below code to generate the array of response time:\n",
        "####`response_times = np.array([4.3, 3.8, 5.1, 4.9, 4.7, 4.2, 5.2, 4.5, 4.6, 4.4])`\n",
        "####Implement z-test to find the claims made by customer service department are true or false."
      ]
    },
    {
      "cell_type": "code",
      "execution_count": null,
      "metadata": {
        "colab": {
          "base_uri": "https://localhost:8080/"
        },
        "id": "Q862NVgjCU1U",
        "outputId": "7b6dde17-d558-48a0-b665-e5542bd96ac9"
      },
      "outputs": [
        {
          "output_type": "execute_result",
          "data": {
            "text/plain": [
              "(-3.184457226042963, 0.9992748712886931)"
            ]
          },
          "metadata": {},
          "execution_count": 54
        }
      ],
      "source": [
        "# Response times data\n",
        "response_times = np.array([4.3, 3.8, 5.1, 4.9, 4.7, 4.2, 5.2, 4.5, 4.6, 4.4])\n",
        "\n",
        "# Parameters\n",
        "population_mean = 5  # Claimed mean response time\n",
        "sample_mean = np.mean(response_times)\n",
        "sample_std = np.std(response_times, ddof=1)\n",
        "n = len(response_times)\n",
        "\n",
        "# Calculate the z-score\n",
        "z_score = (sample_mean - population_mean) / (sample_std / np.sqrt(n))\n",
        "\n",
        "# Calculate the p-value (one-tailed test)\n",
        "p_value = 1 - stats.norm.cdf(z_score)\n",
        "\n",
        "# Output the z-score and p-value\n",
        "z_score, p_value"
      ]
    },
    {
      "cell_type": "code",
      "execution_count": null,
      "metadata": {
        "colab": {
          "base_uri": "https://localhost:8080/"
        },
        "id": "AEOdLW0CG65W",
        "outputId": "d6fecd93-bb2c-4026-d988-73d0dac185cc"
      },
      "outputs": [
        {
          "output_type": "stream",
          "name": "stdout",
          "text": [
            "There is no significant difference in the average response time and 5 minutes.\n"
          ]
        }
      ],
      "source": [
        "# Significance level (alpha)\n",
        "alpha = 0.05\n",
        "\n",
        "# Check if p-value is less than alpha\n",
        "if p_value < alpha:\n",
        "  print(\"The average response time is significantly less than 5 minutes.\")\n",
        "else:\n",
        "  print(\"There is no significant difference in the average response time and 5 minutes.\")"
      ]
    },
    {
      "cell_type": "markdown",
      "metadata": {
        "id": "qyrpiJSvCYLO"
      },
      "source": [
        "####**15. A company is testing two different website layouts to see which one leads to higher click-through rates. Write a Python function to perform an A/B test analysis, including calculating the t-statistic, degrees of freedom, and p-value.**\n",
        "\n",
        "####Use the following data:\n",
        "####`layout_a_clicks = [28, 32, 33, 29, 31, 34, 30, 35, 36, 37]`\n",
        "\n",
        "####`layout_b_clicks = [40, 41, 38, 42, 39, 44, 43, 41, 45, 47]`"
      ]
    },
    {
      "cell_type": "code",
      "source": [
        "import scipy.stats as stats\n",
        "\n",
        "def ab_test(layout_a_clicks, layout_b_clicks):\n",
        "  \"\"\"Performs an A/B test analysis.\n",
        "  Args:\n",
        "  layout_a_clicks: A list of click-through rates for layout A.\n",
        "  layout_b_clicks: A list of click-through rates for layout B.\n",
        "\n",
        "  Returns:\n",
        "  t_statistic: The t-statistic for the test.\n",
        "  dof: The degrees of freedom for the test.\n",
        "  p_value: The p-value for the test.\n",
        "  \"\"\"\n",
        "\n",
        "  # Calculate sample sizes\n",
        "  n_a = len(layout_a_clicks)\n",
        "  n_b = len(layout_b_clicks)\n",
        "\n",
        "  # Calculate means and standard deviations\n",
        "  mean_a = np.mean(layout_a_clicks)\n",
        "  mean_b = np.mean(layout_b_clicks)\n",
        "  std_a = np.std(layout_a_clicks)\n",
        "  std_b = np.std(layout_b_clicks)\n",
        "\n",
        "  # Calculate pooled standard deviation\n",
        "  pooled_std = np.sqrt(((n_a - 1) * std_a**2 + (n_b - 1) * std_b**2) / (n_a + n_b - 2))\n",
        "\n",
        "  # Calculate t-statistic\n",
        "  t_statistic = (mean_b - mean_a) / (pooled_std * np.sqrt(1/n_a + 1/n_b))\n",
        "\n",
        "  # Calculate degrees of freedom\n",
        "  dof = n_a + n_b - 2\n",
        "\n",
        "  # Calculate p-value\n",
        "  p_value = stats.t.sf(abs(t_statistic), dof) * 2\n",
        "\n",
        "  return t_statistic, dof, p_value\n",
        "\n",
        "# Example usage\n",
        "layout_a_clicks = [28, 32, 33, 29, 31, 34, 30, 35, 36, 37]\n",
        "layout_b_clicks = [40, 41, 38, 42, 39, 44, 43, 41, 45, 47]\n",
        "\n",
        "t_statistic, dof, p_value = ab_test(layout_a_clicks, layout_b_clicks)\n",
        "\n",
        "print(\"t-statistic:\", t_statistic)\n",
        "print(\"degrees of freedom:\", dof)\n",
        "print(\"p-value:\", p_value)"
      ],
      "metadata": {
        "colab": {
          "base_uri": "https://localhost:8080/"
        },
        "id": "HO-5OEbdxFvM",
        "outputId": "88699bad-9e8c-4680-f061-1c63b77361e0"
      },
      "execution_count": null,
      "outputs": [
        {
          "output_type": "stream",
          "name": "stdout",
          "text": [
            "t-statistic: 7.692875136699702\n",
            "degrees of freedom: 18\n",
            "p-value: 4.2602886535737106e-07\n"
          ]
        }
      ]
    },
    {
      "cell_type": "markdown",
      "metadata": {
        "id": "VbieVO13Cg-2"
      },
      "source": [
        "####**16. A pharmaceutical company wants to determine if a new drug is more effective than an existing drug in reducing cholesterol levels. Create a program to analyze the clinical trial data and calculate the t statistic and p-value for the treatment effect.**\n",
        "####Use the following data of cholesterol level:\n",
        "####`existing_drug_levels = [180, 182, 175, 185, 178, 176, 172, 184, 179, 183]`\n",
        "####`new_drug_levels = [170, 172, 165, 168, 175, 173, 170, 178, 172, 176]`"
      ]
    },
    {
      "cell_type": "code",
      "source": [
        "import scipy.stats as stats\n",
        "\n",
        "def analyze_clinical_trial(existing_drug_levels, new_drug_levels):\n",
        "  \"\"\"Analyzes clinical trial data to calculate t-statistic and p-value.\n",
        "\n",
        "  Args:\n",
        "    existing_drug_levels: List of cholesterol levels for the existing drug.\n",
        "    new_drug_levels: List of cholesterol levels for the new drug.\n",
        "\n",
        "  Returns:\n",
        "    t_statistic: The calculated t-statistic.\n",
        "    p_value: The p-value for the test.\n",
        "  \"\"\"\n",
        "\n",
        "  # Perform an independent t-test\n",
        "  t_statistic, p_value = stats.ttest_ind(existing_drug_levels, new_drug_levels, equal_var=False)\n",
        "\n",
        "  return t_statistic, p_value\n",
        "\n",
        "# Example usage\n",
        "existing_drug_levels = [180, 182, 175, 185, 178, 176, 172, 184, 179, 183]\n",
        "new_drug_levels = [170, 172, 165, 168, 175, 173, 170, 178, 172, 176]\n",
        "\n",
        "t_stat, p_value = analyze_clinical_trial(existing_drug_levels, new_drug_levels)\n",
        "print(\"t-statistic:\", t_stat)\n",
        "print(\"p-value:\", p_value)"
      ],
      "metadata": {
        "colab": {
          "base_uri": "https://localhost:8080/"
        },
        "id": "lKvduedH3jgG",
        "outputId": "87853ac2-a1c5-4039-a674-a389654de0f0"
      },
      "execution_count": null,
      "outputs": [
        {
          "output_type": "stream",
          "name": "stdout",
          "text": [
            "t-statistic: 4.140480986208659\n",
            "p-value: 0.0006229228945469329\n"
          ]
        }
      ]
    },
    {
      "cell_type": "markdown",
      "metadata": {
        "id": "RkBfrpCrCpVY"
      },
      "source": [
        "####**17. A school district introduces an educational intervention program to improve math scores. Write a Python function to analyze pre- and post-intervention test scores, calculating the t-statistic and p-value to determine if the intervention had a significant impact.**\n",
        "####Use the following data of test score:\n",
        "####`pre_intervention_scores = [80, 85, 90, 75, 88, 82, 92, 78, 85, 87]`\n",
        "\n",
        "####`post_intervention_scores = [90, 92, 88, 92, 95, 91, 96, 93, 89, 93]`"
      ]
    },
    {
      "cell_type": "code",
      "execution_count": null,
      "metadata": {
        "colab": {
          "base_uri": "https://localhost:8080/"
        },
        "id": "LiZ32n9LCtqQ",
        "outputId": "2538cc33-03bc-4a51-bd92-c61db8a083b7"
      },
      "outputs": [
        {
          "output_type": "stream",
          "name": "stdout",
          "text": [
            "t-statistic: -4.42840883965761\n",
            "p-value: 0.0016509548165795493\n"
          ]
        }
      ],
      "source": [
        "def analyze_intervention(pre_intervention_scores, post_intervention_scores):\n",
        "  # Perform a paired t-test\n",
        "  t_statistic, p_value = stats.ttest_rel(pre_intervention_scores, post_intervention_scores)\n",
        "  return t_statistic, p_value\n",
        "\n",
        "# Example usage\n",
        "pre_intervention_scores = [80, 85, 90, 75, 88, 82, 92, 78, 85, 87]\n",
        "post_intervention_scores = [90, 92, 88, 92, 95, 91, 96, 93, 89, 93]\n",
        "\n",
        "t_stat, p_value = analyze_intervention(pre_intervention_scores, post_intervention_scores)\n",
        "print(\"t-statistic:\", t_stat)\n",
        "print(\"p-value:\", p_value)"
      ]
    },
    {
      "cell_type": "markdown",
      "metadata": {
        "id": "QYG6x91nCxtD"
      },
      "source": [
        "####**18. An HR department wants to Investigate if there's a gender-based story gap within the company. Develop a pregram to analyse salary data, calculate the t-statistic, and determine if there's a statistically significant difference between the average salaries of male and female employees.**\n",
        "\n",
        "####Use the below code to generate synthetic data:\n",
        "####`# Generate synthetic salary data for male and female employees`\n",
        "####`np.random.seed(0) # For reproducibility`\n",
        "\n",
        "####`male_salaries = np.random.normal(loc= 50000, scale= 10000, size= 20)`\n",
        "####`female_salaries = np.random.normal(loc= 55000, scale= 9000, size= 20)`"
      ]
    },
    {
      "cell_type": "code",
      "execution_count": null,
      "metadata": {
        "colab": {
          "base_uri": "https://localhost:8080/"
        },
        "id": "6okFoJAMC7zG",
        "outputId": "dfb92f62-0019-46ce-d1f2-1f36e2d1a46e"
      },
      "outputs": [
        {
          "output_type": "stream",
          "name": "stdout",
          "text": [
            "t-statistic: 0.061142089696313844\n",
            "p-value: 0.9515826849267927\n",
            "There is no statistically significant difference in salaries between male and female employees.\n"
          ]
        }
      ],
      "source": [
        "# Generate synthetic salary data for male and female employees\n",
        "np.random.seed(0)  # For reproducibility\n",
        "\n",
        "male_salaries = np.random.normal(loc=50000, scale=10000, size=20)\n",
        "female_salaries = np.random.normal(loc=55000, scale=9000, size=20)\n",
        "\n",
        "# Perform an independent t-test\n",
        "t_statistic, p_value = scipy.stats.ttest_ind(male_salaries, female_salaries, equal_var=False)\n",
        "\n",
        "# Print the results\n",
        "print(\"t-statistic:\", t_statistic)\n",
        "print(\"p-value:\", p_value)\n",
        "\n",
        "# Interpret the results\n",
        "alpha = 0.05\n",
        "if p_value < alpha:\n",
        "    print(\"There is a statistically significant difference in salaries between male and female employees.\")\n",
        "else:\n",
        "    print(\"There is no statistically significant difference in salaries between male and female employees.\")"
      ]
    },
    {
      "cell_type": "markdown",
      "metadata": {
        "id": "26aVyHKeDERp"
      },
      "source": [
        "####**19. A manufacturer produces two different versions of a product and wants to compare their quality scores Create a Python function to analyze quality assessment data, calculate the t-statistic, and decide whether there's a significant difference in quality between the two versions.**\n",
        "####Use the following data:\n",
        "####`version1_scores = [85, 88, 82, 89, 87, 84, 90, 88, 85, 86, 91, 83, 87, 84, 89, 86, 84, 88, 85, 86, 89, 90, 87, 88, 85]`\n",
        "####`version2_scores = [80, 78, 83, 81, 79, 82, 76, 80, 78, 81, 77, 82, 80, 79, 82, 79, 80, 81, 79, 82, 79, 78, 80, 81, 82]`"
      ]
    },
    {
      "cell_type": "code",
      "execution_count": null,
      "metadata": {
        "colab": {
          "base_uri": "https://localhost:8080/"
        },
        "id": "dfjmlCAuDIFI",
        "outputId": "112de5f2-f9bf-481a-f1a0-e8a2adcc4dea"
      },
      "outputs": [
        {
          "output_type": "stream",
          "name": "stdout",
          "text": [
            "t-statistic: 11.325830417646698\n",
            "p-value: 3.6824250702873965e-15\n",
            "There is a statistically significant difference in quality between the two versions.\n"
          ]
        }
      ],
      "source": [
        "# Generate scores data of two versions\n",
        "version1_scores = [85, 88, 82, 89, 87, 84, 90, 88, 85, 86, 91, 83, 87, 84, 89, 86, 84, 88, 85, 86, 89, 90, 87, 88, 85]\n",
        "version2_scores = [80, 78, 83, 81, 79, 82, 76, 80, 78, 81, 77, 82, 80, 79, 82, 79, 80, 81, 79, 82, 79, 78, 80, 81, 82]\n",
        "\n",
        "# Perform a paired t-test\n",
        "t_statistic, p_value = scipy.stats.ttest_ind(version1_scores, version2_scores)\n",
        "\n",
        "# Print the results\n",
        "print(\"t-statistic:\", t_statistic)\n",
        "print(\"p-value:\", p_value)\n",
        "\n",
        "# Interpret the results\n",
        "alpha = 0.05\n",
        "if p_value < alpha:\n",
        "    print(\"There is a statistically significant difference in quality between the two versions.\")\n",
        "else:\n",
        "    print(\"There is no statistically significant difference in quality between the two versions.\")"
      ]
    },
    {
      "cell_type": "markdown",
      "metadata": {
        "id": "pDlAP2vUDQpG"
      },
      "source": [
        "####**20. A restaurant chain collects customer satisfaction scores for two different branches. Write a program to analyze the scores, calculate the t-statistic, and determine if there's a statistically significant difference in customer satisfaction between the branches.**\n",
        "####Use the below data of scores:\n",
        "####`branch_a_scores = [4, 5, 3, 4, 5, 4, 5, 3, 4, 4, 5, 4, 4, 3, 4, 5, 5, 4, 3, 4, 5, 4, 3, 5, 4, 4, 5, 3, 4, 5, 4]`\n",
        "####`branch_b_scores = [3, 4, 2, 3, 4, 3, 4, 2, 3, 3, 4, 3, 3, 2, 3, 4, 4, 3, 2, 3, 4, 3, 2, 4, 3, 3, 4, 2, 3, 4, 3]`"
      ]
    },
    {
      "cell_type": "code",
      "execution_count": null,
      "metadata": {
        "colab": {
          "base_uri": "https://localhost:8080/"
        },
        "id": "38kdyypiDVCN",
        "outputId": "b07de38b-f8dc-4ba0-f485-827dc0fe83be"
      },
      "outputs": [
        {
          "output_type": "stream",
          "name": "stdout",
          "text": [
            "t-statistic: 5.480077554195743\n",
            "p-value: 8.895290509945655e-07\n",
            "There is a statistically significant difference in customer satisfaction between the branches.\n"
          ]
        }
      ],
      "source": [
        "def analyze_branch_scores(branch_a_scores, branch_b_scores):\n",
        "  # Perform an independent t-test\n",
        "  t_statistic, p_value = stats.ttest_ind(branch_a_scores, branch_b_scores, equal_var=False)\n",
        "  return t_statistic, p_value\n",
        "\n",
        "# Example usage\n",
        "branch_a_scores = [4, 5, 3, 4, 5, 4, 5, 3, 4, 4, 5, 4, 4, 3, 4, 5, 5, 4, 3, 4, 5, 4, 3, 5, 4, 4, 5, 3, 4, 5, 4]\n",
        "branch_b_scores = [3, 4, 2, 3, 4, 3, 4, 2, 3, 3, 4, 3, 3, 2, 3, 4, 4, 3, 2, 3, 4, 3, 2, 4, 3, 3, 4, 2, 3, 4, 3]\n",
        "\n",
        "t_stat, p_value = analyze_branch_scores(branch_a_scores, branch_b_scores)\n",
        "print(\"t-statistic:\", t_stat)\n",
        "print(\"p-value:\", p_value)\n",
        "\n",
        "# Interpret the results\n",
        "alpha = 0.05\n",
        "if p_value < alpha:\n",
        "    print(\"There is a statistically significant difference in customer satisfaction between the branches.\")\n",
        "else:\n",
        "    print(\"There is no statistically significant difference in customer satisfaction between the branches.\")"
      ]
    },
    {
      "cell_type": "markdown",
      "metadata": {
        "id": "nJ8A-GCFDX7X"
      },
      "source": [
        "####**21. A political analyst wants to determine if there is a significant association between age groups and voter preferences (Candidate A or Candidate B). They collect data from a sample of 500 voters and classify them into different age groups and candidate preferences. Perform a Chi-Square test to determine if there is a significant association between age groups and voter preferences.**\n",
        "\n",
        "####Use the below code to generate data:\n",
        "####`np.random seed(0)`\n",
        "####`age_groups = np.random.choice(['18-30', '31-50', '51+', '51+'], size = 30)`\n",
        "####`voter_preferences = np.random.choice(['Candidate A', 'Candidate B'], size = 30)`"
      ]
    },
    {
      "cell_type": "code",
      "execution_count": null,
      "metadata": {
        "colab": {
          "base_uri": "https://localhost:8080/"
        },
        "id": "uUHo2T7RDehz",
        "outputId": "5e25a391-cd64-4f75-8557-9988be15c354"
      },
      "outputs": [
        {
          "output_type": "stream",
          "name": "stdout",
          "text": [
            "Chi-square statistic: 0.8779923945254768\n",
            "p-value: 0.6446832311860852\n",
            "There is no significant association between age groups and voter preferences.\n"
          ]
        }
      ],
      "source": [
        "# Generate synthetic data for 500 voters\n",
        "np.random.seed(0)  # For reproducibility\n",
        "\n",
        "age_groups = np.random.choice(['18-30', '31-50', '51+'], size=500)\n",
        "voter_preferences = np.random.choice(['Candidate A', 'Candidate B'], size=500)\n",
        "\n",
        "# Create a contingency table\n",
        "contingency_table = pd.crosstab(age_groups, voter_preferences)\n",
        "\n",
        "# Perform the chi-square test\n",
        "chi2, p_value, dof, expected = stats.chi2_contingency(contingency_table)\n",
        "\n",
        "# Print the results\n",
        "print(\"Chi-square statistic:\", chi2)\n",
        "print(\"p-value:\", p_value)\n",
        "\n",
        "# Interpret the results\n",
        "alpha = 0.05\n",
        "if p_value < alpha:\n",
        "    print(\"There is a significant association between age groups and voter preferences.\")\n",
        "else:\n",
        "    print(\"There is no significant association between age groups and voter preferences.\")"
      ]
    },
    {
      "cell_type": "markdown",
      "metadata": {
        "id": "XN8IBXHRDiCG"
      },
      "source": [
        "####**22. A company conducted a customer satisfaction survey to determine if there is a significant relationship between product satisfaction levels (Satisfied, Neutral, Dissatisfied) and the region where customers are located (East, West, North, South). The survey data is summarized in a contingency table, Conduct a Chi-Square test to determine if there is a significant relationship between product satisfaction levels and customer regions.**\n",
        "\n",
        "####Sample data:\n",
        "####`# Sample data: Product satisfaction levels (rows) vs. Customer regions (columns)`\n",
        "####`data = np.array([[50, 30, 40, 20], [30, 40, 30, 50], [20, 30, 40, 30]])`"
      ]
    },
    {
      "cell_type": "code",
      "execution_count": null,
      "metadata": {
        "colab": {
          "base_uri": "https://localhost:8080/"
        },
        "id": "i07Sl5f-Drcw",
        "outputId": "41bda587-3e62-4ba9-da57-3d21f32184aa"
      },
      "outputs": [
        {
          "output_type": "stream",
          "name": "stdout",
          "text": [
            "Chi-square statistic: 27.777056277056275\n",
            "P-value: 0.00010349448486004387\n",
            "Degrees of freedom: 6\n",
            "Expected frequencies: [[34.14634146 34.14634146 37.56097561 34.14634146]\n",
            " [36.58536585 36.58536585 40.24390244 36.58536585]\n",
            " [29.26829268 29.26829268 32.19512195 29.26829268]]\n",
            "There is a significant relationship between product satisfaction and customer region.\n"
          ]
        }
      ],
      "source": [
        "# Contingency table\n",
        "data = np.array([[50, 30, 40, 20], [30, 40, 30, 50], [20, 30, 40, 30]])\n",
        "\n",
        "# Perform the chi-square test\n",
        "chi2_stat, p_value, dof, expected = stats.chi2_contingency(data)\n",
        "\n",
        "print(\"Chi-square statistic:\", chi2_stat)\n",
        "print(\"P-value:\", p_value)\n",
        "print(\"Degrees of freedom:\", dof)\n",
        "print(\"Expected frequencies:\", expected)\n",
        "\n",
        "# Interpret the results\n",
        "alpha = 0.05 # significance level\n",
        "\n",
        "if p_value < alpha:\n",
        "    print(\"There is a significant relationship between product satisfaction and customer region.\")\n",
        "else:\n",
        "    print(\"There is no sufficient evidence to suggest a relationship between product satisfaction and customer region.\")"
      ]
    },
    {
      "cell_type": "markdown",
      "metadata": {
        "id": "tlHGXXX1DzQt"
      },
      "source": [
        "####**23. A company implemented an employee training program to improve job performance (Effective, Neutral, Ineffective). After the training, they collected data from a sample of employees and classified them based on their job performance before and after the training. Perform a Chi-Square test to determine if there is a significant difference between job performance levels before and after the training.**\n",
        "\n",
        "####Sample data:\n",
        "####`# Sample data: Job performance levels before (rows) and after (columns) training`\n",
        "####`data = np.array([[50, 30, 20], [30, 40, 30], [20, 30, 40]])`"
      ]
    },
    {
      "cell_type": "code",
      "execution_count": null,
      "metadata": {
        "colab": {
          "base_uri": "https://localhost:8080/"
        },
        "id": "16cKRth-D4Rl",
        "outputId": "b8d67868-cf4e-4637-911b-2d27dd91acd0"
      },
      "outputs": [
        {
          "output_type": "stream",
          "name": "stdout",
          "text": [
            "Chi-square statistic: 22.161728395061726\n",
            "P-value: 0.00018609719479882557\n",
            "Degrees of freedom: 4\n",
            "Expected frequencies: [[34.48275862 34.48275862 31.03448276]\n",
            " [34.48275862 34.48275862 31.03448276]\n",
            " [31.03448276 31.03448276 27.93103448]]\n",
            "There is a significant difference between job performance levels before and after the training.\n"
          ]
        }
      ],
      "source": [
        "# Contingency table\n",
        "data = np.array([[50, 30, 20], [30, 40, 30], [20, 30, 40]])\n",
        "\n",
        "# Perform the chi-square test\n",
        "chi2_stat, p_value, dof, expected = stats.chi2_contingency(data)\n",
        "\n",
        "print(\"Chi-square statistic:\", chi2_stat)\n",
        "print(\"P-value:\", p_value)\n",
        "print(\"Degrees of freedom:\", dof)\n",
        "print(\"Expected frequencies:\", expected)\n",
        "\n",
        "# Interpret the results\n",
        "alpha = 0.05 # significance level\n",
        "\n",
        "if p_value < alpha:\n",
        "    print(\"There is a significant difference between job performance levels before and after the training.\")\n",
        "else:\n",
        "    print(\"There is no significant difference between job performance levels before and after the training.\")"
      ]
    },
    {
      "cell_type": "markdown",
      "metadata": {
        "id": "LqjCmd_5D-Co"
      },
      "source": [
        "####**24. A company produces three different versions of a product: Standard, Premium, and Deluxe. The company wants to determine if there is a significant difference in customer satisfaction scores among the three product versions. They conducted a survey and collected customer satisfaction scores for each version from a random sample of customers. Perform an ANOVA test to determine if there is a significant difference in customer satisfaction scores.**\n",
        "\n",
        "####Use the following data:\n",
        "####`# Sample data, Customer satisfaction scores for each product version`\n",
        "####`standard_scores = [80, 85, 90, 78, 88, 82, 92, 78, 85, 87]`\n",
        "####`premium_scores = [90, 92, 88, 92, 95, 91, 96, 93, 89, 93]`\n",
        "####`deluxe_scores = [95, 98, 92, 97, 96, 94, 98, 97, 92, 99]`"
      ]
    },
    {
      "cell_type": "code",
      "execution_count": null,
      "metadata": {
        "colab": {
          "base_uri": "https://localhost:8080/"
        },
        "id": "-7YTlGyDEGww",
        "outputId": "755fcbd5-68cf-4704-d345-eb4431a367ac"
      },
      "outputs": [
        {
          "output_type": "stream",
          "name": "stdout",
          "text": [
            "F-statistic: 27.03556231003039\n",
            "P-value: 3.5786328857349003e-07\n",
            "There is a significant difference in customer satisfaction scores among the product versions.\n"
          ]
        }
      ],
      "source": [
        "# Customer satisfaction scores for each product version\n",
        "standard_scores = [80, 85, 90, 78, 88, 82, 92, 78, 85, 87]\n",
        "premium_scores = [90, 92, 88, 92, 95, 91, 96, 93, 89, 93]\n",
        "deluxe_scores = [95, 98, 92, 97, 96, 94, 98, 97, 92, 99]\n",
        "\n",
        "# Combine data into a single array\n",
        "all_scores = np.array([standard_scores, premium_scores, deluxe_scores])\n",
        "\n",
        "# Perform ANOVA test\n",
        "f_statistic, p_value = stats.f_oneway(standard_scores, premium_scores, deluxe_scores)\n",
        "\n",
        "# Set significance level (alpha)\n",
        "alpha = 0.05\n",
        "\n",
        "print(\"F-statistic:\", f_statistic)\n",
        "print(\"P-value:\", p_value)\n",
        "\n",
        "if p_value < alpha:\n",
        "    print(\"There is a significant difference in customer satisfaction scores among the product versions.\")\n",
        "else:\n",
        "    print(\"There is no sufficient evidence to suggest a significant difference in customer satisfaction scores among the product versions.\")"
      ]
    },
    {
      "cell_type": "code",
      "source": [],
      "metadata": {
        "id": "K4-o1HWidTfw"
      },
      "execution_count": null,
      "outputs": []
    }
  ],
  "metadata": {
    "colab": {
      "provenance": []
    },
    "kernelspec": {
      "display_name": "Python 3",
      "name": "python3"
    },
    "language_info": {
      "name": "python"
    }
  },
  "nbformat": 4,
  "nbformat_minor": 0
}