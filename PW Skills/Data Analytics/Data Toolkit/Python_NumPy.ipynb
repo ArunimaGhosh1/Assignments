{
  "nbformat": 4,
  "nbformat_minor": 0,
  "metadata": {
    "colab": {
      "provenance": []
    },
    "kernelspec": {
      "name": "python3",
      "display_name": "Python 3"
    },
    "language_info": {
      "name": "python"
    }
  },
  "cells": [
    {
      "cell_type": "markdown",
      "source": [
        "#### 1. Create a NumPy array 'arr' of integers from 0 to 5 and print its data type."
      ],
      "metadata": {
        "id": "4lpy5WQMZrcg"
      }
    },
    {
      "cell_type": "code",
      "execution_count": null,
      "metadata": {
        "id": "Y7Vm0qCtZljD",
        "colab": {
          "base_uri": "https://localhost:8080/"
        },
        "outputId": "153371e1-d5f0-4461-9d09-3700fe0a1370"
      },
      "outputs": [
        {
          "output_type": "stream",
          "name": "stdout",
          "text": [
            "int64\n"
          ]
        }
      ],
      "source": [
        "import numpy as np\n",
        "arr = np.array([0,1,2,3,4,5])\n",
        "print(arr.dtype)"
      ]
    },
    {
      "cell_type": "code",
      "source": [
        "# Another way\n",
        "arr = np.arange(0,6)\n",
        "print(arr.dtype)"
      ],
      "metadata": {
        "colab": {
          "base_uri": "https://localhost:8080/"
        },
        "id": "N5Pjl69METNB",
        "outputId": "8afe987e-ab95-4783-9b0b-32a4604cb099"
      },
      "execution_count": null,
      "outputs": [
        {
          "output_type": "stream",
          "name": "stdout",
          "text": [
            "int64\n"
          ]
        }
      ]
    },
    {
      "cell_type": "markdown",
      "source": [
        "#### 2. Given a Numpy array 'arr', check if its data type is float64.\n",
        "```arr = np.array([1.5, 2.6, 3.7])```"
      ],
      "metadata": {
        "id": "BuXuwIrJEkuG"
      }
    },
    {
      "cell_type": "code",
      "source": [
        "arr = np.array([1.5, 2.6, 3.7])\n",
        "\n",
        "if arr.dtype == np.float64:\n",
        "    print(\"Yes, the data type of 'arr' is float64.\")\n",
        "else:\n",
        "    print(\"No, the data type of 'arr' is not float64.\")"
      ],
      "metadata": {
        "colab": {
          "base_uri": "https://localhost:8080/"
        },
        "id": "IFwtgwGpEeAG",
        "outputId": "bfbfa0fd-3f87-4f8a-d34d-86a524675fad"
      },
      "execution_count": null,
      "outputs": [
        {
          "output_type": "stream",
          "name": "stdout",
          "text": [
            "Yes, the data type of 'arr' is float64.\n"
          ]
        }
      ]
    },
    {
      "cell_type": "markdown",
      "source": [
        "#### 3. Create a NumPy array 'arr' with a data type of complex128 containing three complex numbers."
      ],
      "metadata": {
        "id": "UF4QQrnjF9Lc"
      }
    },
    {
      "cell_type": "code",
      "source": [
        "arr = np.array([1,2,3], dtype = np.complex128)\n",
        "arr"
      ],
      "metadata": {
        "colab": {
          "base_uri": "https://localhost:8080/"
        },
        "id": "B-vhSXGeF3sT",
        "outputId": "9c6e6653-57c4-4d5c-bf82-162645785509"
      },
      "execution_count": null,
      "outputs": [
        {
          "output_type": "execute_result",
          "data": {
            "text/plain": [
              "array([1.+0.j, 2.+0.j, 3.+0.j])"
            ]
          },
          "metadata": {},
          "execution_count": 4
        }
      ]
    },
    {
      "cell_type": "code",
      "source": [
        "arr = np.array([1+2j,3+4j,5+6j], dtype = np.complex128)\n",
        "print(arr)"
      ],
      "metadata": {
        "colab": {
          "base_uri": "https://localhost:8080/"
        },
        "id": "2W0wUr6rIGyQ",
        "outputId": "e76c46c6-fb1f-4ecb-9491-22d816a6e6c2"
      },
      "execution_count": null,
      "outputs": [
        {
          "output_type": "stream",
          "name": "stdout",
          "text": [
            "[1.+2.j 3.+4.j 5.+6.j]\n"
          ]
        }
      ]
    },
    {
      "cell_type": "code",
      "source": [
        "arr.dtype"
      ],
      "metadata": {
        "colab": {
          "base_uri": "https://localhost:8080/"
        },
        "id": "RUdbY_KeIJW8",
        "outputId": "fc056625-0493-484a-8825-e735a164ebca"
      },
      "execution_count": null,
      "outputs": [
        {
          "output_type": "execute_result",
          "data": {
            "text/plain": [
              "dtype('complex128')"
            ]
          },
          "metadata": {},
          "execution_count": 6
        }
      ]
    },
    {
      "cell_type": "markdown",
      "source": [
        "#### 4. Convert an existing Numpy array 'arr' of integers to float32 data type."
      ],
      "metadata": {
        "id": "002B0y4MIm2i"
      }
    },
    {
      "cell_type": "code",
      "source": [
        "arr = np.arange(0,6)\n",
        "\n",
        "arr_float32 = np.asarray(arr, dtype = np.float32)\n",
        "arr_float32"
      ],
      "metadata": {
        "colab": {
          "base_uri": "https://localhost:8080/"
        },
        "id": "CX_dI2lxIc8C",
        "outputId": "c9f433a7-5e86-43be-a782-3309e33a819d"
      },
      "execution_count": null,
      "outputs": [
        {
          "output_type": "execute_result",
          "data": {
            "text/plain": [
              "array([0., 1., 2., 3., 4., 5.], dtype=float32)"
            ]
          },
          "metadata": {},
          "execution_count": 7
        }
      ]
    },
    {
      "cell_type": "code",
      "source": [
        "arr_float32 = arr.astype(np.float32)\n",
        "print(arr_float32)"
      ],
      "metadata": {
        "colab": {
          "base_uri": "https://localhost:8080/"
        },
        "id": "eLMPzAyILTJ5",
        "outputId": "d89577e5-2d44-47d6-887d-5b9e653f204a"
      },
      "execution_count": null,
      "outputs": [
        {
          "output_type": "stream",
          "name": "stdout",
          "text": [
            "[0. 1. 2. 3. 4. 5.]\n"
          ]
        }
      ]
    },
    {
      "cell_type": "code",
      "source": [
        "print(np.float32(arr))"
      ],
      "metadata": {
        "colab": {
          "base_uri": "https://localhost:8080/"
        },
        "id": "tScPtBnaLZsp",
        "outputId": "697e2eb9-48b5-4b4b-c34f-aecd50be48f5"
      },
      "execution_count": null,
      "outputs": [
        {
          "output_type": "stream",
          "name": "stdout",
          "text": [
            "[0. 1. 2. 3. 4. 5.]\n"
          ]
        }
      ]
    },
    {
      "cell_type": "markdown",
      "source": [
        "#### 5. Given a Numpy array 'arr' with float64 data type, convert it to float32 to reduce decimal precision."
      ],
      "metadata": {
        "id": "QVb_l9CdLi3N"
      }
    },
    {
      "cell_type": "code",
      "source": [
        "arr = np.array([1,2,3,4], dtype=\"float64\")\n",
        "arr"
      ],
      "metadata": {
        "colab": {
          "base_uri": "https://localhost:8080/"
        },
        "id": "OObN0ifyLfcl",
        "outputId": "055f31a5-f272-4f22-e506-fb93a38db1c7"
      },
      "execution_count": null,
      "outputs": [
        {
          "output_type": "execute_result",
          "data": {
            "text/plain": [
              "array([1., 2., 3., 4.])"
            ]
          },
          "metadata": {},
          "execution_count": 12
        }
      ]
    },
    {
      "cell_type": "code",
      "source": [
        "print(arr.dtype)"
      ],
      "metadata": {
        "colab": {
          "base_uri": "https://localhost:8080/"
        },
        "id": "nK70ph9decgx",
        "outputId": "4627dbef-7e6b-48b7-f10c-2afaff280647"
      },
      "execution_count": null,
      "outputs": [
        {
          "output_type": "stream",
          "name": "stdout",
          "text": [
            "float64\n"
          ]
        }
      ]
    },
    {
      "cell_type": "code",
      "source": [
        "a = np.float32(arr)\n",
        "print(a.dtype)"
      ],
      "metadata": {
        "colab": {
          "base_uri": "https://localhost:8080/"
        },
        "id": "hmcclGNqeeW6",
        "outputId": "672e7ea5-30a6-46b2-9ec0-24fc756d5c6d"
      },
      "execution_count": null,
      "outputs": [
        {
          "output_type": "stream",
          "name": "stdout",
          "text": [
            "float32\n"
          ]
        }
      ]
    },
    {
      "cell_type": "markdown",
      "source": [
        "#### 6. Write a function array_attributes that takes a NumPy array as input and returns its shape, size, and data type."
      ],
      "metadata": {
        "id": "aoOKEiopex5q"
      }
    },
    {
      "cell_type": "code",
      "source": [
        "array_attributes = np.array([[1, 2, 3], [4, 5, 6]])\n",
        "shape, size, dtype = array_attributes.shape, array_attributes.size, array_attributes.dtype\n",
        "print(\"Shape:\", shape)\n",
        "print(\"Size:\", size)\n",
        "print(\"Data type:\", dtype)"
      ],
      "metadata": {
        "colab": {
          "base_uri": "https://localhost:8080/"
        },
        "id": "n4FJL195es-7",
        "outputId": "e46cbeeb-db4a-446c-cb89-ec39c05916f6"
      },
      "execution_count": null,
      "outputs": [
        {
          "output_type": "stream",
          "name": "stdout",
          "text": [
            "Shape: (2, 3)\n",
            "Size: 6\n",
            "Data type: int64\n"
          ]
        }
      ]
    },
    {
      "cell_type": "markdown",
      "source": [
        "#### 7. Create a function array_dimension that takes a NumPy array as input and returns its dimensionality."
      ],
      "metadata": {
        "id": "G_HKeO_9gn-B"
      }
    },
    {
      "cell_type": "code",
      "source": [
        "array_dimension = np.array([[1, 2, 3], [4, 5, 6]])\n",
        "\n",
        "dim = array_dimension.ndim\n",
        "print(\"Dimensionality:\", dim)"
      ],
      "metadata": {
        "colab": {
          "base_uri": "https://localhost:8080/"
        },
        "id": "LeSidSB_gric",
        "outputId": "2c4a6f55-e1ed-488f-d024-550ac7082279"
      },
      "execution_count": null,
      "outputs": [
        {
          "output_type": "stream",
          "name": "stdout",
          "text": [
            "Dimensionality: 2\n"
          ]
        }
      ]
    },
    {
      "cell_type": "markdown",
      "source": [
        "#### 8. Design a function item_size_info that takes a Numpy array as input and returns the item size and the total size in bytes."
      ],
      "metadata": {
        "id": "_-_iMeq0jMuu"
      }
    },
    {
      "cell_type": "code",
      "source": [
        "item_size_info = np.array([[1, 2, 3], [4, 5, 6]])\n",
        "\n",
        "item_size = item_size_info.size\n",
        "total_size_in_bytes = item_size_info.itemsize\n",
        "\n",
        "print(\"Item size:\", item_size)\n",
        "print(\"Total size in bytes:\", total_size_in_bytes)"
      ],
      "metadata": {
        "colab": {
          "base_uri": "https://localhost:8080/"
        },
        "id": "E4UDtIWWjHig",
        "outputId": "7e62f17d-2f0b-4fc8-90f5-05f143420754"
      },
      "execution_count": null,
      "outputs": [
        {
          "output_type": "stream",
          "name": "stdout",
          "text": [
            "Item size: 6\n",
            "Total size in bytes: 8\n"
          ]
        }
      ]
    },
    {
      "cell_type": "code",
      "source": [
        "item_size_info = np.array([[1, 2, 3], [4, 5, 6]])\n",
        "\n",
        "print(\"Item size:\", item_size_info.size)\n",
        "print(\"Total size in bytes:\", item_size_info.itemsize)"
      ],
      "metadata": {
        "colab": {
          "base_uri": "https://localhost:8080/"
        },
        "id": "ymHCIJX_lTHc",
        "outputId": "0c2b31fe-a5b1-45e9-e80c-29a7ab556d7f"
      },
      "execution_count": null,
      "outputs": [
        {
          "output_type": "stream",
          "name": "stdout",
          "text": [
            "Item size: 6\n",
            "Total size in bytes: 8\n"
          ]
        }
      ]
    },
    {
      "cell_type": "markdown",
      "source": [
        "#### 9. Create a function array_strides that takes a NumPy array as input and returns the strides of the array."
      ],
      "metadata": {
        "id": "gkIQ4URYlXlV"
      }
    },
    {
      "cell_type": "code",
      "source": [
        "array_strides = np.array([[1, 2, 3], [4, 5, 6]])\n",
        "\n",
        "print(\"Strides of the array:\", array_strides.strides)"
      ],
      "metadata": {
        "colab": {
          "base_uri": "https://localhost:8080/"
        },
        "id": "hCy0DzcglT7G",
        "outputId": "0a6f3820-8227-4f07-8b25-659535ee3545"
      },
      "execution_count": null,
      "outputs": [
        {
          "output_type": "stream",
          "name": "stdout",
          "text": [
            "Strides of the array: (24, 8)\n"
          ]
        }
      ]
    },
    {
      "cell_type": "markdown",
      "source": [
        "#### 10. Design a function shape_stride_relationship that takes a NumPy array as input and returns the shape and strides of the array."
      ],
      "metadata": {
        "id": "WY5HyINsmEt0"
      }
    },
    {
      "cell_type": "code",
      "source": [
        "shape_stride_relationship = np.array([[1, 2, 3], [4, 5, 6]])\n",
        "\n",
        "print(\"Shape of the array:\", shape_stride_relationship.shape)\n",
        "print(\"Strides of the array:\", shape_stride_relationship.strides)"
      ],
      "metadata": {
        "colab": {
          "base_uri": "https://localhost:8080/"
        },
        "id": "kFKYhz3pmA6Z",
        "outputId": "0f010082-8b5e-4f7c-802f-386fe30cb299"
      },
      "execution_count": null,
      "outputs": [
        {
          "output_type": "stream",
          "name": "stdout",
          "text": [
            "Shape of the array: (2, 3)\n",
            "Strides of the array: (24, 8)\n"
          ]
        }
      ]
    },
    {
      "cell_type": "markdown",
      "source": [
        "#### 11. Create a function 'create_zeros_array' that takes an integer 'n' as input and returns a NumPy array of zeros with 'n' elements."
      ],
      "metadata": {
        "id": "9LT_k7X2m6AF"
      }
    },
    {
      "cell_type": "code",
      "source": [
        "create_zeros_array = np.zeros(5)\n",
        "create_zeros_array"
      ],
      "metadata": {
        "colab": {
          "base_uri": "https://localhost:8080/"
        },
        "id": "TS-WIBN6mxJl",
        "outputId": "f8cf67eb-821a-4828-9551-8ee5bfd99f3d"
      },
      "execution_count": null,
      "outputs": [
        {
          "output_type": "execute_result",
          "data": {
            "text/plain": [
              "array([0., 0., 0., 0., 0.])"
            ]
          },
          "metadata": {},
          "execution_count": 22
        }
      ]
    },
    {
      "cell_type": "markdown",
      "source": [
        "#### 12. Write a function 'create_ones_matrix' that takes Integers 'rows' and 'cols' as inputs and generates a 2D NumPy array filled with ones of size 'rows x cols'."
      ],
      "metadata": {
        "id": "YXw0vj3Fnaz4"
      }
    },
    {
      "cell_type": "code",
      "source": [
        "create_ones_matrix = np.ones((3,4))\n",
        "create_ones_matrix"
      ],
      "metadata": {
        "colab": {
          "base_uri": "https://localhost:8080/"
        },
        "id": "Y7BlvFuqnVzi",
        "outputId": "aa18595d-49b5-4414-ceb6-29bc279057e1"
      },
      "execution_count": null,
      "outputs": [
        {
          "output_type": "execute_result",
          "data": {
            "text/plain": [
              "array([[1., 1., 1., 1.],\n",
              "       [1., 1., 1., 1.],\n",
              "       [1., 1., 1., 1.]])"
            ]
          },
          "metadata": {},
          "execution_count": 23
        }
      ]
    },
    {
      "cell_type": "markdown",
      "source": [
        "#### 13. Write a function 'generate_range_array' that takes three integers start, stop, and step as arguments and creates a NumPy array with a range starting from 'start', ending at stop (exclusive), and with the specified 'step'."
      ],
      "metadata": {
        "id": "Enf7Vi2Cnqpp"
      }
    },
    {
      "cell_type": "code",
      "source": [
        "generate_range_array = np.arange(0, 30, 5)\n",
        "generate_range_array"
      ],
      "metadata": {
        "colab": {
          "base_uri": "https://localhost:8080/"
        },
        "id": "slFQINoonn41",
        "outputId": "b2329a77-11c5-41d1-8645-f9e93a6e9c9c"
      },
      "execution_count": null,
      "outputs": [
        {
          "output_type": "execute_result",
          "data": {
            "text/plain": [
              "array([ 0,  5, 10, 15, 20, 25])"
            ]
          },
          "metadata": {},
          "execution_count": 24
        }
      ]
    },
    {
      "cell_type": "code",
      "source": [
        "generate_range_array = np.arange(1, 30, 5)\n",
        "generate_range_array"
      ],
      "metadata": {
        "colab": {
          "base_uri": "https://localhost:8080/"
        },
        "id": "vwegnVP_oOLj",
        "outputId": "474cfe88-10d6-48b0-bf0d-703b95e130cf"
      },
      "execution_count": null,
      "outputs": [
        {
          "output_type": "execute_result",
          "data": {
            "text/plain": [
              "array([ 1,  6, 11, 16, 21, 26])"
            ]
          },
          "metadata": {},
          "execution_count": 25
        }
      ]
    },
    {
      "cell_type": "markdown",
      "source": [
        "#### 14. Design a function 'generate_linear_space' that takes two floats 'start', 'stop', and an integer 'num' as arguments and generates a NumPy array with num equally spaced values between 'start' and 'stop' (inclusive)."
      ],
      "metadata": {
        "id": "oZ2tPyadoVhg"
      }
    },
    {
      "cell_type": "code",
      "source": [
        "generate_linear_space = np.arange(1.5, 20.8, step = 2)\n",
        "generate_linear_space"
      ],
      "metadata": {
        "colab": {
          "base_uri": "https://localhost:8080/"
        },
        "id": "AHOCbrMUoRlq",
        "outputId": "54b53764-d540-4306-f41b-2ccdcad12fee"
      },
      "execution_count": null,
      "outputs": [
        {
          "output_type": "execute_result",
          "data": {
            "text/plain": [
              "array([ 1.5,  3.5,  5.5,  7.5,  9.5, 11.5, 13.5, 15.5, 17.5, 19.5])"
            ]
          },
          "metadata": {},
          "execution_count": 26
        }
      ]
    },
    {
      "cell_type": "markdown",
      "source": [
        "#### 15. Create a function 'create_identity_matrix' that takes an integer 'n' as input and generates a square identity matrix of size 'n x n' using 'numpy.eye'."
      ],
      "metadata": {
        "id": "o2yH1zzNpMWo"
      }
    },
    {
      "cell_type": "code",
      "source": [
        "create_identity_matrix = np.eye(4)\n",
        "create_identity_matrix"
      ],
      "metadata": {
        "colab": {
          "base_uri": "https://localhost:8080/"
        },
        "id": "McGItUfgpJRP",
        "outputId": "6e916c6b-a619-476a-9e4b-7abebe94b699"
      },
      "execution_count": null,
      "outputs": [
        {
          "output_type": "execute_result",
          "data": {
            "text/plain": [
              "array([[1., 0., 0., 0.],\n",
              "       [0., 1., 0., 0.],\n",
              "       [0., 0., 1., 0.],\n",
              "       [0., 0., 0., 1.]])"
            ]
          },
          "metadata": {},
          "execution_count": 27
        }
      ]
    },
    {
      "cell_type": "markdown",
      "source": [
        "#### 16. Write a function that takes a Python list and converts it into a NumPy array."
      ],
      "metadata": {
        "id": "G0_1hXjXprTe"
      }
    },
    {
      "cell_type": "code",
      "source": [
        "list1 = [10, 11, 12, 13, 14, 15, 16, 17, 18, 19, 20]\n",
        "\n",
        "arr = np.array(list1)\n",
        "arr"
      ],
      "metadata": {
        "colab": {
          "base_uri": "https://localhost:8080/"
        },
        "id": "-Da3VTp5pnQ7",
        "outputId": "bd591e35-ace2-407c-893b-2ab972e9aed2"
      },
      "execution_count": null,
      "outputs": [
        {
          "output_type": "execute_result",
          "data": {
            "text/plain": [
              "array([10, 11, 12, 13, 14, 15, 16, 17, 18, 19, 20])"
            ]
          },
          "metadata": {},
          "execution_count": 28
        }
      ]
    },
    {
      "cell_type": "markdown",
      "source": [
        "#### 17. Create a NumPy array and demonstrate the use of 'numpy.view' to create a new array object with the same data."
      ],
      "metadata": {
        "id": "wLWX_gglqKeV"
      }
    },
    {
      "cell_type": "markdown",
      "source": [
        "Here's an example of creating a NumPy array and using ```numpy.view``` to create a new array object with the same data:"
      ],
      "metadata": {
        "id": "al54TCkruYcv"
      }
    },
    {
      "cell_type": "code",
      "source": [
        "arr = np.array([[1, 2, 3], [4, 5, 6]])\n",
        "\n",
        "arr_view = arr.view()\n",
        "\n",
        "print(\"Original array:\")\n",
        "print(arr)\n",
        "\n",
        "print(\"\\nView array:\")\n",
        "print(arr_view)"
      ],
      "metadata": {
        "colab": {
          "base_uri": "https://localhost:8080/"
        },
        "id": "349Q_wOOqFED",
        "outputId": "f4d96eb2-7115-4a0f-a99f-bc7e6c2531f0"
      },
      "execution_count": null,
      "outputs": [
        {
          "output_type": "stream",
          "name": "stdout",
          "text": [
            "Original array:\n",
            "[[1 2 3]\n",
            " [4 5 6]]\n",
            "\n",
            "View array:\n",
            "[[1 2 3]\n",
            " [4 5 6]]\n"
          ]
        }
      ]
    },
    {
      "cell_type": "code",
      "source": [
        "# Modify the view array\n",
        "arr_view[0, 0] = 100\n",
        "\n",
        "# Print both arrays again to see the changes\n",
        "print(\"\\nAfter modifying the view array:\")\n",
        "print(\"Original array:\")\n",
        "print(arr)\n",
        "\n",
        "print(\"\\nView array:\")\n",
        "print(arr_view)"
      ],
      "metadata": {
        "colab": {
          "base_uri": "https://localhost:8080/"
        },
        "id": "jvAxY1l-vrXe",
        "outputId": "ecae284c-2692-4f54-e20a-de63dc2da2c9"
      },
      "execution_count": null,
      "outputs": [
        {
          "output_type": "stream",
          "name": "stdout",
          "text": [
            "\n",
            "After modifying the view array:\n",
            "Original array:\n",
            "[[100   2   3]\n",
            " [  4   5   6]]\n",
            "\n",
            "View array:\n",
            "[[100   2   3]\n",
            " [  4   5   6]]\n"
          ]
        }
      ]
    },
    {
      "cell_type": "markdown",
      "source": [
        "#### 18. Write a function that takes two NumPy arrays and concatenates them along a specified axis."
      ],
      "metadata": {
        "id": "3QXwjUCuwB2b"
      }
    },
    {
      "cell_type": "code",
      "source": [
        "arr1 = np.array([[1, 2], [3, 4]])\n",
        "arr2 = np.array([[5, 6], [7, 8]])\n",
        "\n",
        "concatenate_array = np.concatenate((arr1, arr2), axis=0)\n",
        "print(\"Concatenate along axis 0:\")\n",
        "print(concatenate_array)"
      ],
      "metadata": {
        "colab": {
          "base_uri": "https://localhost:8080/"
        },
        "id": "aqkLMwRyv7T7",
        "outputId": "90d0f55f-87ce-4fbf-9e31-81a450fc9e7d"
      },
      "execution_count": null,
      "outputs": [
        {
          "output_type": "stream",
          "name": "stdout",
          "text": [
            "Concatenate along axis 0:\n",
            "[[1 2]\n",
            " [3 4]\n",
            " [5 6]\n",
            " [7 8]]\n"
          ]
        }
      ]
    },
    {
      "cell_type": "code",
      "source": [
        "arr1 = np.array([[1, 2], [3, 4]])\n",
        "arr2 = np.array([[5, 6], [7, 8]])\n",
        "\n",
        "concatenate_array = np.concatenate((arr1, arr2), axis=1)\n",
        "print(\"Concatenate along axis 1:\")\n",
        "print(concatenate_array)"
      ],
      "metadata": {
        "colab": {
          "base_uri": "https://localhost:8080/"
        },
        "id": "N7jhr55j1jEI",
        "outputId": "cf0c3238-b61d-4014-e310-e1eb35b01c37"
      },
      "execution_count": null,
      "outputs": [
        {
          "output_type": "stream",
          "name": "stdout",
          "text": [
            "Concatenate along axis 1:\n",
            "[[1 2 5 6]\n",
            " [3 4 7 8]]\n"
          ]
        }
      ]
    },
    {
      "cell_type": "markdown",
      "source": [
        "#### 19. Create two NumPy arrays with different shapes and concatenate them horizontally using 'numpy.concatenate'."
      ],
      "metadata": {
        "id": "GzPTcZPV1td8"
      }
    },
    {
      "cell_type": "code",
      "source": [
        "arr1 = np.array([[1, 2], [3, 4]])\n",
        "arr2 = np.array([[5], [6]])\n",
        "\n",
        "concatenate_array = np.concatenate((arr1, arr2), axis=1)\n",
        "print(\"Concatenate horizontally:\")\n",
        "print(concatenate_array)"
      ],
      "metadata": {
        "colab": {
          "base_uri": "https://localhost:8080/"
        },
        "id": "BBaNx5yi1lJe",
        "outputId": "e9d2e50c-682a-4a8b-9626-add56c5f8cfa"
      },
      "execution_count": null,
      "outputs": [
        {
          "output_type": "stream",
          "name": "stdout",
          "text": [
            "Concatenate horizontally:\n",
            "[[1 2 5]\n",
            " [3 4 6]]\n"
          ]
        }
      ]
    },
    {
      "cell_type": "code",
      "source": [
        "arr1 = np.array([[1, 2, 3], [4, 5, 6]])\n",
        "arr2 = np.array([[7, 8], [9, 10]])\n",
        "\n",
        "concatenate_array = np.concatenate((arr1, arr2), axis=1)\n",
        "print(\"Concatenate horizontally:\")\n",
        "print(concatenate_array)"
      ],
      "metadata": {
        "colab": {
          "base_uri": "https://localhost:8080/"
        },
        "id": "n6p6A0XO2CAd",
        "outputId": "9a7fa1b3-4e2a-4a2b-b2af-85e68e6b2e8c"
      },
      "execution_count": null,
      "outputs": [
        {
          "output_type": "stream",
          "name": "stdout",
          "text": [
            "Concatenate horizontally:\n",
            "[[ 1  2  3  7  8]\n",
            " [ 4  5  6  9 10]]\n"
          ]
        }
      ]
    },
    {
      "cell_type": "markdown",
      "source": [
        "#### 20. Write a function that vertically stacks multiple NumPy arrays given as a list."
      ],
      "metadata": {
        "id": "_DdXBvFi2PNq"
      }
    },
    {
      "cell_type": "code",
      "source": [
        "arr1 = np.array([[1, 2, 3],\n",
        "                   [4, 5, 6]])\n",
        "\n",
        "arr2 = np.array([[7, 8, 9],\n",
        "                   [10, 11, 12]])\n",
        "\n",
        "stacked_array = np.vstack([arr1, arr2])\n",
        "print(\"Stacked array:\")\n",
        "print(stacked_array)"
      ],
      "metadata": {
        "colab": {
          "base_uri": "https://localhost:8080/"
        },
        "id": "lso8XHe_2EZo",
        "outputId": "e17d6939-3fa4-4c66-8f39-cf519d628d41"
      },
      "execution_count": null,
      "outputs": [
        {
          "output_type": "stream",
          "name": "stdout",
          "text": [
            "Stacked array:\n",
            "[[ 1  2  3]\n",
            " [ 4  5  6]\n",
            " [ 7  8  9]\n",
            " [10 11 12]]\n"
          ]
        }
      ]
    },
    {
      "cell_type": "code",
      "source": [
        "import numpy as np\n",
        "\n",
        "arr1 = np.array([[1, 2, 3],\n",
        "                   [4, 5, 6]])\n",
        "arr2 = np.array([[7, 8, 9],\n",
        "                   [10, 11, 12]])\n",
        "arr3 = np.array([[13, 14, 15],\n",
        "                   [16, 17, 18]])\n",
        "\n",
        "stacked_array = np.vstack([arr1, arr2, arr3])\n",
        "print(\"Stacked array:\")\n",
        "print(stacked_array)"
      ],
      "metadata": {
        "id": "zuKRpl3a3PBr",
        "colab": {
          "base_uri": "https://localhost:8080/"
        },
        "outputId": "1f6a3e8b-1678-406a-ef0f-807faebe2375"
      },
      "execution_count": null,
      "outputs": [
        {
          "output_type": "stream",
          "name": "stdout",
          "text": [
            "Stacked array:\n",
            "[[ 1  2  3]\n",
            " [ 4  5  6]\n",
            " [ 7  8  9]\n",
            " [10 11 12]\n",
            " [13 14 15]\n",
            " [16 17 18]]\n"
          ]
        }
      ]
    },
    {
      "cell_type": "markdown",
      "source": [
        "#### 21. Write a Python function using NumPy to create an array of integers within a specified range (inclusive) with a given step size."
      ],
      "metadata": {
        "id": "YF2sfniM58v1"
      }
    },
    {
      "cell_type": "code",
      "source": [
        "def create_array(start, stop, step):\n",
        "    return np.arange(start, stop + 1, step, dtype=int)\n",
        "\n",
        "start = 1\n",
        "stop = 10\n",
        "step = 2\n",
        "result = create_array(start, stop, step)\n",
        "print(result)"
      ],
      "metadata": {
        "colab": {
          "base_uri": "https://localhost:8080/"
        },
        "id": "KQYXk03p2VYs",
        "outputId": "53ef631e-0dd8-4924-8807-da26c0c8d7b5"
      },
      "execution_count": null,
      "outputs": [
        {
          "output_type": "stream",
          "name": "stdout",
          "text": [
            "[1 3 5 7 9]\n"
          ]
        }
      ]
    },
    {
      "cell_type": "code",
      "source": [
        "def create_array(start, stop, step):\n",
        "    return np.arange(start, stop + 1, step, dtype=int)\n",
        "\n",
        "result = create_array(0, 20, 4)\n",
        "print(result)"
      ],
      "metadata": {
        "colab": {
          "base_uri": "https://localhost:8080/"
        },
        "id": "8MjG1w_b706N",
        "outputId": "485f5c46-246f-4ef8-eee9-f7f5c81751de"
      },
      "execution_count": null,
      "outputs": [
        {
          "output_type": "stream",
          "name": "stdout",
          "text": [
            "[ 0  4  8 12 16 20]\n"
          ]
        }
      ]
    },
    {
      "cell_type": "markdown",
      "source": [
        "#### 22. Write a Python function using NumPy to generate an array of 10 equally spaced values between 0 and 1 (inclusive)."
      ],
      "metadata": {
        "id": "tg5H16Jp8T7i"
      }
    },
    {
      "cell_type": "code",
      "source": [
        "arr = np.linspace(0, 1, 10)\n",
        "arr"
      ],
      "metadata": {
        "colab": {
          "base_uri": "https://localhost:8080/"
        },
        "id": "nfqdvOap8D09",
        "outputId": "5dc23b1d-f2e0-418d-ebf1-bb87cf47e10c"
      },
      "execution_count": null,
      "outputs": [
        {
          "output_type": "execute_result",
          "data": {
            "text/plain": [
              "array([0.        , 0.11111111, 0.22222222, 0.33333333, 0.44444444,\n",
              "       0.55555556, 0.66666667, 0.77777778, 0.88888889, 1.        ])"
            ]
          },
          "metadata": {},
          "execution_count": 4
        }
      ]
    },
    {
      "cell_type": "code",
      "source": [
        "def generate_array():\n",
        "  return np.linspace(0, 1, 10)\n",
        "\n",
        "result = generate_array()\n",
        "print(result)"
      ],
      "metadata": {
        "colab": {
          "base_uri": "https://localhost:8080/"
        },
        "id": "UGWDIo5v-APF",
        "outputId": "5cbbfe1c-09ae-43b4-9108-21670b7db1bb"
      },
      "execution_count": null,
      "outputs": [
        {
          "output_type": "stream",
          "name": "stdout",
          "text": [
            "[0.         0.11111111 0.22222222 0.33333333 0.44444444 0.55555556\n",
            " 0.66666667 0.77777778 0.88888889 1.        ]\n"
          ]
        }
      ]
    },
    {
      "cell_type": "markdown",
      "source": [
        "#### 23. Write a Python function using NumPy to create an array of 5 logarithmically spaced values between 1 and 1000 (inclusive)."
      ],
      "metadata": {
        "id": "V5yBObF7-Zit"
      }
    },
    {
      "cell_type": "code",
      "source": [
        "log_spaced_array = np.logspace(np.log10(1), np.log10(1000), 5)\n",
        "log_spaced_array"
      ],
      "metadata": {
        "colab": {
          "base_uri": "https://localhost:8080/"
        },
        "id": "0PjRrn8l-UAQ",
        "outputId": "eb679c03-7b80-4eb2-9be1-07d63899c1f4"
      },
      "execution_count": null,
      "outputs": [
        {
          "output_type": "execute_result",
          "data": {
            "text/plain": [
              "array([   1.        ,    5.62341325,   31.6227766 ,  177.827941  ,\n",
              "       1000.        ])"
            ]
          },
          "metadata": {},
          "execution_count": 6
        }
      ]
    },
    {
      "cell_type": "code",
      "source": [
        "def log_spaced_array(start, end, num):\n",
        "  return np.logspace(np.log10(start), np.log10(end), num)\n",
        "\n",
        "result = log_spaced_array(1, 1000, 5)\n",
        "print(result)"
      ],
      "metadata": {
        "colab": {
          "base_uri": "https://localhost:8080/"
        },
        "id": "0GCUUmbSAGmV",
        "outputId": "7351825f-c103-43b0-bc4a-04091966df61"
      },
      "execution_count": null,
      "outputs": [
        {
          "output_type": "stream",
          "name": "stdout",
          "text": [
            "[   1.            5.62341325   31.6227766   177.827941   1000.        ]\n"
          ]
        }
      ]
    },
    {
      "cell_type": "markdown",
      "source": [
        "#### 24. Create a Pandas DataFrame using a NumPy array that contains 5 rows and 3 columns, where the values are random integers between 1 and 100."
      ],
      "metadata": {
        "id": "i0z8MnkQApvr"
      }
    },
    {
      "cell_type": "code",
      "source": [
        "import random\n",
        "import pandas as pd\n",
        "\n",
        "df = pd.DataFrame(np.random.randint(1, 101, size = (5,3)))\n",
        "df"
      ],
      "metadata": {
        "colab": {
          "base_uri": "https://localhost:8080/",
          "height": 206
        },
        "id": "O1mwiURvAj54",
        "outputId": "b0f3e8d4-2f73-41f5-920a-170cdc622c10"
      },
      "execution_count": null,
      "outputs": [
        {
          "output_type": "execute_result",
          "data": {
            "text/plain": [
              "    0   1   2\n",
              "0  42  63  78\n",
              "1  75  41  90\n",
              "2  15  47  24\n",
              "3   4   9  11\n",
              "4  17  96  89"
            ],
            "text/html": [
              "\n",
              "  <div id=\"df-475a3de3-667a-4945-8aa5-86cbd8275606\" class=\"colab-df-container\">\n",
              "    <div>\n",
              "<style scoped>\n",
              "    .dataframe tbody tr th:only-of-type {\n",
              "        vertical-align: middle;\n",
              "    }\n",
              "\n",
              "    .dataframe tbody tr th {\n",
              "        vertical-align: top;\n",
              "    }\n",
              "\n",
              "    .dataframe thead th {\n",
              "        text-align: right;\n",
              "    }\n",
              "</style>\n",
              "<table border=\"1\" class=\"dataframe\">\n",
              "  <thead>\n",
              "    <tr style=\"text-align: right;\">\n",
              "      <th></th>\n",
              "      <th>0</th>\n",
              "      <th>1</th>\n",
              "      <th>2</th>\n",
              "    </tr>\n",
              "  </thead>\n",
              "  <tbody>\n",
              "    <tr>\n",
              "      <th>0</th>\n",
              "      <td>42</td>\n",
              "      <td>63</td>\n",
              "      <td>78</td>\n",
              "    </tr>\n",
              "    <tr>\n",
              "      <th>1</th>\n",
              "      <td>75</td>\n",
              "      <td>41</td>\n",
              "      <td>90</td>\n",
              "    </tr>\n",
              "    <tr>\n",
              "      <th>2</th>\n",
              "      <td>15</td>\n",
              "      <td>47</td>\n",
              "      <td>24</td>\n",
              "    </tr>\n",
              "    <tr>\n",
              "      <th>3</th>\n",
              "      <td>4</td>\n",
              "      <td>9</td>\n",
              "      <td>11</td>\n",
              "    </tr>\n",
              "    <tr>\n",
              "      <th>4</th>\n",
              "      <td>17</td>\n",
              "      <td>96</td>\n",
              "      <td>89</td>\n",
              "    </tr>\n",
              "  </tbody>\n",
              "</table>\n",
              "</div>\n",
              "    <div class=\"colab-df-buttons\">\n",
              "\n",
              "  <div class=\"colab-df-container\">\n",
              "    <button class=\"colab-df-convert\" onclick=\"convertToInteractive('df-475a3de3-667a-4945-8aa5-86cbd8275606')\"\n",
              "            title=\"Convert this dataframe to an interactive table.\"\n",
              "            style=\"display:none;\">\n",
              "\n",
              "  <svg xmlns=\"http://www.w3.org/2000/svg\" height=\"24px\" viewBox=\"0 -960 960 960\">\n",
              "    <path d=\"M120-120v-720h720v720H120Zm60-500h600v-160H180v160Zm220 220h160v-160H400v160Zm0 220h160v-160H400v160ZM180-400h160v-160H180v160Zm440 0h160v-160H620v160ZM180-180h160v-160H180v160Zm440 0h160v-160H620v160Z\"/>\n",
              "  </svg>\n",
              "    </button>\n",
              "\n",
              "  <style>\n",
              "    .colab-df-container {\n",
              "      display:flex;\n",
              "      gap: 12px;\n",
              "    }\n",
              "\n",
              "    .colab-df-convert {\n",
              "      background-color: #E8F0FE;\n",
              "      border: none;\n",
              "      border-radius: 50%;\n",
              "      cursor: pointer;\n",
              "      display: none;\n",
              "      fill: #1967D2;\n",
              "      height: 32px;\n",
              "      padding: 0 0 0 0;\n",
              "      width: 32px;\n",
              "    }\n",
              "\n",
              "    .colab-df-convert:hover {\n",
              "      background-color: #E2EBFA;\n",
              "      box-shadow: 0px 1px 2px rgba(60, 64, 67, 0.3), 0px 1px 3px 1px rgba(60, 64, 67, 0.15);\n",
              "      fill: #174EA6;\n",
              "    }\n",
              "\n",
              "    .colab-df-buttons div {\n",
              "      margin-bottom: 4px;\n",
              "    }\n",
              "\n",
              "    [theme=dark] .colab-df-convert {\n",
              "      background-color: #3B4455;\n",
              "      fill: #D2E3FC;\n",
              "    }\n",
              "\n",
              "    [theme=dark] .colab-df-convert:hover {\n",
              "      background-color: #434B5C;\n",
              "      box-shadow: 0px 1px 3px 1px rgba(0, 0, 0, 0.15);\n",
              "      filter: drop-shadow(0px 1px 2px rgba(0, 0, 0, 0.3));\n",
              "      fill: #FFFFFF;\n",
              "    }\n",
              "  </style>\n",
              "\n",
              "    <script>\n",
              "      const buttonEl =\n",
              "        document.querySelector('#df-475a3de3-667a-4945-8aa5-86cbd8275606 button.colab-df-convert');\n",
              "      buttonEl.style.display =\n",
              "        google.colab.kernel.accessAllowed ? 'block' : 'none';\n",
              "\n",
              "      async function convertToInteractive(key) {\n",
              "        const element = document.querySelector('#df-475a3de3-667a-4945-8aa5-86cbd8275606');\n",
              "        const dataTable =\n",
              "          await google.colab.kernel.invokeFunction('convertToInteractive',\n",
              "                                                    [key], {});\n",
              "        if (!dataTable) return;\n",
              "\n",
              "        const docLinkHtml = 'Like what you see? Visit the ' +\n",
              "          '<a target=\"_blank\" href=https://colab.research.google.com/notebooks/data_table.ipynb>data table notebook</a>'\n",
              "          + ' to learn more about interactive tables.';\n",
              "        element.innerHTML = '';\n",
              "        dataTable['output_type'] = 'display_data';\n",
              "        await google.colab.output.renderOutput(dataTable, element);\n",
              "        const docLink = document.createElement('div');\n",
              "        docLink.innerHTML = docLinkHtml;\n",
              "        element.appendChild(docLink);\n",
              "      }\n",
              "    </script>\n",
              "  </div>\n",
              "\n",
              "\n",
              "<div id=\"df-f91fc1e9-7a12-47fa-8ce2-07e28b927388\">\n",
              "  <button class=\"colab-df-quickchart\" onclick=\"quickchart('df-f91fc1e9-7a12-47fa-8ce2-07e28b927388')\"\n",
              "            title=\"Suggest charts\"\n",
              "            style=\"display:none;\">\n",
              "\n",
              "<svg xmlns=\"http://www.w3.org/2000/svg\" height=\"24px\"viewBox=\"0 0 24 24\"\n",
              "     width=\"24px\">\n",
              "    <g>\n",
              "        <path d=\"M19 3H5c-1.1 0-2 .9-2 2v14c0 1.1.9 2 2 2h14c1.1 0 2-.9 2-2V5c0-1.1-.9-2-2-2zM9 17H7v-7h2v7zm4 0h-2V7h2v10zm4 0h-2v-4h2v4z\"/>\n",
              "    </g>\n",
              "</svg>\n",
              "  </button>\n",
              "\n",
              "<style>\n",
              "  .colab-df-quickchart {\n",
              "      --bg-color: #E8F0FE;\n",
              "      --fill-color: #1967D2;\n",
              "      --hover-bg-color: #E2EBFA;\n",
              "      --hover-fill-color: #174EA6;\n",
              "      --disabled-fill-color: #AAA;\n",
              "      --disabled-bg-color: #DDD;\n",
              "  }\n",
              "\n",
              "  [theme=dark] .colab-df-quickchart {\n",
              "      --bg-color: #3B4455;\n",
              "      --fill-color: #D2E3FC;\n",
              "      --hover-bg-color: #434B5C;\n",
              "      --hover-fill-color: #FFFFFF;\n",
              "      --disabled-bg-color: #3B4455;\n",
              "      --disabled-fill-color: #666;\n",
              "  }\n",
              "\n",
              "  .colab-df-quickchart {\n",
              "    background-color: var(--bg-color);\n",
              "    border: none;\n",
              "    border-radius: 50%;\n",
              "    cursor: pointer;\n",
              "    display: none;\n",
              "    fill: var(--fill-color);\n",
              "    height: 32px;\n",
              "    padding: 0;\n",
              "    width: 32px;\n",
              "  }\n",
              "\n",
              "  .colab-df-quickchart:hover {\n",
              "    background-color: var(--hover-bg-color);\n",
              "    box-shadow: 0 1px 2px rgba(60, 64, 67, 0.3), 0 1px 3px 1px rgba(60, 64, 67, 0.15);\n",
              "    fill: var(--button-hover-fill-color);\n",
              "  }\n",
              "\n",
              "  .colab-df-quickchart-complete:disabled,\n",
              "  .colab-df-quickchart-complete:disabled:hover {\n",
              "    background-color: var(--disabled-bg-color);\n",
              "    fill: var(--disabled-fill-color);\n",
              "    box-shadow: none;\n",
              "  }\n",
              "\n",
              "  .colab-df-spinner {\n",
              "    border: 2px solid var(--fill-color);\n",
              "    border-color: transparent;\n",
              "    border-bottom-color: var(--fill-color);\n",
              "    animation:\n",
              "      spin 1s steps(1) infinite;\n",
              "  }\n",
              "\n",
              "  @keyframes spin {\n",
              "    0% {\n",
              "      border-color: transparent;\n",
              "      border-bottom-color: var(--fill-color);\n",
              "      border-left-color: var(--fill-color);\n",
              "    }\n",
              "    20% {\n",
              "      border-color: transparent;\n",
              "      border-left-color: var(--fill-color);\n",
              "      border-top-color: var(--fill-color);\n",
              "    }\n",
              "    30% {\n",
              "      border-color: transparent;\n",
              "      border-left-color: var(--fill-color);\n",
              "      border-top-color: var(--fill-color);\n",
              "      border-right-color: var(--fill-color);\n",
              "    }\n",
              "    40% {\n",
              "      border-color: transparent;\n",
              "      border-right-color: var(--fill-color);\n",
              "      border-top-color: var(--fill-color);\n",
              "    }\n",
              "    60% {\n",
              "      border-color: transparent;\n",
              "      border-right-color: var(--fill-color);\n",
              "    }\n",
              "    80% {\n",
              "      border-color: transparent;\n",
              "      border-right-color: var(--fill-color);\n",
              "      border-bottom-color: var(--fill-color);\n",
              "    }\n",
              "    90% {\n",
              "      border-color: transparent;\n",
              "      border-bottom-color: var(--fill-color);\n",
              "    }\n",
              "  }\n",
              "</style>\n",
              "\n",
              "  <script>\n",
              "    async function quickchart(key) {\n",
              "      const quickchartButtonEl =\n",
              "        document.querySelector('#' + key + ' button');\n",
              "      quickchartButtonEl.disabled = true;  // To prevent multiple clicks.\n",
              "      quickchartButtonEl.classList.add('colab-df-spinner');\n",
              "      try {\n",
              "        const charts = await google.colab.kernel.invokeFunction(\n",
              "            'suggestCharts', [key], {});\n",
              "      } catch (error) {\n",
              "        console.error('Error during call to suggestCharts:', error);\n",
              "      }\n",
              "      quickchartButtonEl.classList.remove('colab-df-spinner');\n",
              "      quickchartButtonEl.classList.add('colab-df-quickchart-complete');\n",
              "    }\n",
              "    (() => {\n",
              "      let quickchartButtonEl =\n",
              "        document.querySelector('#df-f91fc1e9-7a12-47fa-8ce2-07e28b927388 button');\n",
              "      quickchartButtonEl.style.display =\n",
              "        google.colab.kernel.accessAllowed ? 'block' : 'none';\n",
              "    })();\n",
              "  </script>\n",
              "</div>\n",
              "\n",
              "  <div id=\"id_b2f35318-0b11-4009-b3c0-2341bcb60eb4\">\n",
              "    <style>\n",
              "      .colab-df-generate {\n",
              "        background-color: #E8F0FE;\n",
              "        border: none;\n",
              "        border-radius: 50%;\n",
              "        cursor: pointer;\n",
              "        display: none;\n",
              "        fill: #1967D2;\n",
              "        height: 32px;\n",
              "        padding: 0 0 0 0;\n",
              "        width: 32px;\n",
              "      }\n",
              "\n",
              "      .colab-df-generate:hover {\n",
              "        background-color: #E2EBFA;\n",
              "        box-shadow: 0px 1px 2px rgba(60, 64, 67, 0.3), 0px 1px 3px 1px rgba(60, 64, 67, 0.15);\n",
              "        fill: #174EA6;\n",
              "      }\n",
              "\n",
              "      [theme=dark] .colab-df-generate {\n",
              "        background-color: #3B4455;\n",
              "        fill: #D2E3FC;\n",
              "      }\n",
              "\n",
              "      [theme=dark] .colab-df-generate:hover {\n",
              "        background-color: #434B5C;\n",
              "        box-shadow: 0px 1px 3px 1px rgba(0, 0, 0, 0.15);\n",
              "        filter: drop-shadow(0px 1px 2px rgba(0, 0, 0, 0.3));\n",
              "        fill: #FFFFFF;\n",
              "      }\n",
              "    </style>\n",
              "    <button class=\"colab-df-generate\" onclick=\"generateWithVariable('df')\"\n",
              "            title=\"Generate code using this dataframe.\"\n",
              "            style=\"display:none;\">\n",
              "\n",
              "  <svg xmlns=\"http://www.w3.org/2000/svg\" height=\"24px\"viewBox=\"0 0 24 24\"\n",
              "       width=\"24px\">\n",
              "    <path d=\"M7,19H8.4L18.45,9,17,7.55,7,17.6ZM5,21V16.75L18.45,3.32a2,2,0,0,1,2.83,0l1.4,1.43a1.91,1.91,0,0,1,.58,1.4,1.91,1.91,0,0,1-.58,1.4L9.25,21ZM18.45,9,17,7.55Zm-12,3A5.31,5.31,0,0,0,4.9,8.1,5.31,5.31,0,0,0,1,6.5,5.31,5.31,0,0,0,4.9,4.9,5.31,5.31,0,0,0,6.5,1,5.31,5.31,0,0,0,8.1,4.9,5.31,5.31,0,0,0,12,6.5,5.46,5.46,0,0,0,6.5,12Z\"/>\n",
              "  </svg>\n",
              "    </button>\n",
              "    <script>\n",
              "      (() => {\n",
              "      const buttonEl =\n",
              "        document.querySelector('#id_b2f35318-0b11-4009-b3c0-2341bcb60eb4 button.colab-df-generate');\n",
              "      buttonEl.style.display =\n",
              "        google.colab.kernel.accessAllowed ? 'block' : 'none';\n",
              "\n",
              "      buttonEl.onclick = () => {\n",
              "        google.colab.notebook.generateWithVariable('df');\n",
              "      }\n",
              "      })();\n",
              "    </script>\n",
              "  </div>\n",
              "\n",
              "    </div>\n",
              "  </div>\n"
            ],
            "application/vnd.google.colaboratory.intrinsic+json": {
              "type": "dataframe",
              "variable_name": "df",
              "summary": "{\n  \"name\": \"df\",\n  \"rows\": 5,\n  \"fields\": [\n    {\n      \"column\": 0,\n      \"properties\": {\n        \"dtype\": \"number\",\n        \"std\": 28,\n        \"min\": 4,\n        \"max\": 75,\n        \"num_unique_values\": 5,\n        \"samples\": [\n          75,\n          17,\n          15\n        ],\n        \"semantic_type\": \"\",\n        \"description\": \"\"\n      }\n    },\n    {\n      \"column\": 1,\n      \"properties\": {\n        \"dtype\": \"number\",\n        \"std\": 31,\n        \"min\": 9,\n        \"max\": 96,\n        \"num_unique_values\": 5,\n        \"samples\": [\n          41,\n          96,\n          47\n        ],\n        \"semantic_type\": \"\",\n        \"description\": \"\"\n      }\n    },\n    {\n      \"column\": 2,\n      \"properties\": {\n        \"dtype\": \"number\",\n        \"std\": 37,\n        \"min\": 11,\n        \"max\": 90,\n        \"num_unique_values\": 5,\n        \"samples\": [\n          90,\n          89,\n          24\n        ],\n        \"semantic_type\": \"\",\n        \"description\": \"\"\n      }\n    }\n  ]\n}"
            }
          },
          "metadata": {},
          "execution_count": 8
        }
      ]
    },
    {
      "cell_type": "code",
      "source": [
        "random_array = np.random.randint(1, 101, size = (5,3))\n",
        "\n",
        "df = pd.DataFrame(random_array, columns = ['Column 1', 'Column 2', 'Column 3'])\n",
        "df"
      ],
      "metadata": {
        "colab": {
          "base_uri": "https://localhost:8080/",
          "height": 206
        },
        "id": "JR5bupI_DsfJ",
        "outputId": "1c186e1a-a1ec-410f-b790-dc60d4f6d1b4"
      },
      "execution_count": null,
      "outputs": [
        {
          "output_type": "execute_result",
          "data": {
            "text/plain": [
              "   Column 1  Column 2  Column 3\n",
              "0        54        99        51\n",
              "1        78        74        89\n",
              "2        19         4        79\n",
              "3        50        77        27\n",
              "4        64        49        10"
            ],
            "text/html": [
              "\n",
              "  <div id=\"df-8d729306-0c46-4dc2-825f-6f99dfb39ba2\" class=\"colab-df-container\">\n",
              "    <div>\n",
              "<style scoped>\n",
              "    .dataframe tbody tr th:only-of-type {\n",
              "        vertical-align: middle;\n",
              "    }\n",
              "\n",
              "    .dataframe tbody tr th {\n",
              "        vertical-align: top;\n",
              "    }\n",
              "\n",
              "    .dataframe thead th {\n",
              "        text-align: right;\n",
              "    }\n",
              "</style>\n",
              "<table border=\"1\" class=\"dataframe\">\n",
              "  <thead>\n",
              "    <tr style=\"text-align: right;\">\n",
              "      <th></th>\n",
              "      <th>Column 1</th>\n",
              "      <th>Column 2</th>\n",
              "      <th>Column 3</th>\n",
              "    </tr>\n",
              "  </thead>\n",
              "  <tbody>\n",
              "    <tr>\n",
              "      <th>0</th>\n",
              "      <td>54</td>\n",
              "      <td>99</td>\n",
              "      <td>51</td>\n",
              "    </tr>\n",
              "    <tr>\n",
              "      <th>1</th>\n",
              "      <td>78</td>\n",
              "      <td>74</td>\n",
              "      <td>89</td>\n",
              "    </tr>\n",
              "    <tr>\n",
              "      <th>2</th>\n",
              "      <td>19</td>\n",
              "      <td>4</td>\n",
              "      <td>79</td>\n",
              "    </tr>\n",
              "    <tr>\n",
              "      <th>3</th>\n",
              "      <td>50</td>\n",
              "      <td>77</td>\n",
              "      <td>27</td>\n",
              "    </tr>\n",
              "    <tr>\n",
              "      <th>4</th>\n",
              "      <td>64</td>\n",
              "      <td>49</td>\n",
              "      <td>10</td>\n",
              "    </tr>\n",
              "  </tbody>\n",
              "</table>\n",
              "</div>\n",
              "    <div class=\"colab-df-buttons\">\n",
              "\n",
              "  <div class=\"colab-df-container\">\n",
              "    <button class=\"colab-df-convert\" onclick=\"convertToInteractive('df-8d729306-0c46-4dc2-825f-6f99dfb39ba2')\"\n",
              "            title=\"Convert this dataframe to an interactive table.\"\n",
              "            style=\"display:none;\">\n",
              "\n",
              "  <svg xmlns=\"http://www.w3.org/2000/svg\" height=\"24px\" viewBox=\"0 -960 960 960\">\n",
              "    <path d=\"M120-120v-720h720v720H120Zm60-500h600v-160H180v160Zm220 220h160v-160H400v160Zm0 220h160v-160H400v160ZM180-400h160v-160H180v160Zm440 0h160v-160H620v160ZM180-180h160v-160H180v160Zm440 0h160v-160H620v160Z\"/>\n",
              "  </svg>\n",
              "    </button>\n",
              "\n",
              "  <style>\n",
              "    .colab-df-container {\n",
              "      display:flex;\n",
              "      gap: 12px;\n",
              "    }\n",
              "\n",
              "    .colab-df-convert {\n",
              "      background-color: #E8F0FE;\n",
              "      border: none;\n",
              "      border-radius: 50%;\n",
              "      cursor: pointer;\n",
              "      display: none;\n",
              "      fill: #1967D2;\n",
              "      height: 32px;\n",
              "      padding: 0 0 0 0;\n",
              "      width: 32px;\n",
              "    }\n",
              "\n",
              "    .colab-df-convert:hover {\n",
              "      background-color: #E2EBFA;\n",
              "      box-shadow: 0px 1px 2px rgba(60, 64, 67, 0.3), 0px 1px 3px 1px rgba(60, 64, 67, 0.15);\n",
              "      fill: #174EA6;\n",
              "    }\n",
              "\n",
              "    .colab-df-buttons div {\n",
              "      margin-bottom: 4px;\n",
              "    }\n",
              "\n",
              "    [theme=dark] .colab-df-convert {\n",
              "      background-color: #3B4455;\n",
              "      fill: #D2E3FC;\n",
              "    }\n",
              "\n",
              "    [theme=dark] .colab-df-convert:hover {\n",
              "      background-color: #434B5C;\n",
              "      box-shadow: 0px 1px 3px 1px rgba(0, 0, 0, 0.15);\n",
              "      filter: drop-shadow(0px 1px 2px rgba(0, 0, 0, 0.3));\n",
              "      fill: #FFFFFF;\n",
              "    }\n",
              "  </style>\n",
              "\n",
              "    <script>\n",
              "      const buttonEl =\n",
              "        document.querySelector('#df-8d729306-0c46-4dc2-825f-6f99dfb39ba2 button.colab-df-convert');\n",
              "      buttonEl.style.display =\n",
              "        google.colab.kernel.accessAllowed ? 'block' : 'none';\n",
              "\n",
              "      async function convertToInteractive(key) {\n",
              "        const element = document.querySelector('#df-8d729306-0c46-4dc2-825f-6f99dfb39ba2');\n",
              "        const dataTable =\n",
              "          await google.colab.kernel.invokeFunction('convertToInteractive',\n",
              "                                                    [key], {});\n",
              "        if (!dataTable) return;\n",
              "\n",
              "        const docLinkHtml = 'Like what you see? Visit the ' +\n",
              "          '<a target=\"_blank\" href=https://colab.research.google.com/notebooks/data_table.ipynb>data table notebook</a>'\n",
              "          + ' to learn more about interactive tables.';\n",
              "        element.innerHTML = '';\n",
              "        dataTable['output_type'] = 'display_data';\n",
              "        await google.colab.output.renderOutput(dataTable, element);\n",
              "        const docLink = document.createElement('div');\n",
              "        docLink.innerHTML = docLinkHtml;\n",
              "        element.appendChild(docLink);\n",
              "      }\n",
              "    </script>\n",
              "  </div>\n",
              "\n",
              "\n",
              "<div id=\"df-201a025a-0b7e-43dc-a89b-76decceb373a\">\n",
              "  <button class=\"colab-df-quickchart\" onclick=\"quickchart('df-201a025a-0b7e-43dc-a89b-76decceb373a')\"\n",
              "            title=\"Suggest charts\"\n",
              "            style=\"display:none;\">\n",
              "\n",
              "<svg xmlns=\"http://www.w3.org/2000/svg\" height=\"24px\"viewBox=\"0 0 24 24\"\n",
              "     width=\"24px\">\n",
              "    <g>\n",
              "        <path d=\"M19 3H5c-1.1 0-2 .9-2 2v14c0 1.1.9 2 2 2h14c1.1 0 2-.9 2-2V5c0-1.1-.9-2-2-2zM9 17H7v-7h2v7zm4 0h-2V7h2v10zm4 0h-2v-4h2v4z\"/>\n",
              "    </g>\n",
              "</svg>\n",
              "  </button>\n",
              "\n",
              "<style>\n",
              "  .colab-df-quickchart {\n",
              "      --bg-color: #E8F0FE;\n",
              "      --fill-color: #1967D2;\n",
              "      --hover-bg-color: #E2EBFA;\n",
              "      --hover-fill-color: #174EA6;\n",
              "      --disabled-fill-color: #AAA;\n",
              "      --disabled-bg-color: #DDD;\n",
              "  }\n",
              "\n",
              "  [theme=dark] .colab-df-quickchart {\n",
              "      --bg-color: #3B4455;\n",
              "      --fill-color: #D2E3FC;\n",
              "      --hover-bg-color: #434B5C;\n",
              "      --hover-fill-color: #FFFFFF;\n",
              "      --disabled-bg-color: #3B4455;\n",
              "      --disabled-fill-color: #666;\n",
              "  }\n",
              "\n",
              "  .colab-df-quickchart {\n",
              "    background-color: var(--bg-color);\n",
              "    border: none;\n",
              "    border-radius: 50%;\n",
              "    cursor: pointer;\n",
              "    display: none;\n",
              "    fill: var(--fill-color);\n",
              "    height: 32px;\n",
              "    padding: 0;\n",
              "    width: 32px;\n",
              "  }\n",
              "\n",
              "  .colab-df-quickchart:hover {\n",
              "    background-color: var(--hover-bg-color);\n",
              "    box-shadow: 0 1px 2px rgba(60, 64, 67, 0.3), 0 1px 3px 1px rgba(60, 64, 67, 0.15);\n",
              "    fill: var(--button-hover-fill-color);\n",
              "  }\n",
              "\n",
              "  .colab-df-quickchart-complete:disabled,\n",
              "  .colab-df-quickchart-complete:disabled:hover {\n",
              "    background-color: var(--disabled-bg-color);\n",
              "    fill: var(--disabled-fill-color);\n",
              "    box-shadow: none;\n",
              "  }\n",
              "\n",
              "  .colab-df-spinner {\n",
              "    border: 2px solid var(--fill-color);\n",
              "    border-color: transparent;\n",
              "    border-bottom-color: var(--fill-color);\n",
              "    animation:\n",
              "      spin 1s steps(1) infinite;\n",
              "  }\n",
              "\n",
              "  @keyframes spin {\n",
              "    0% {\n",
              "      border-color: transparent;\n",
              "      border-bottom-color: var(--fill-color);\n",
              "      border-left-color: var(--fill-color);\n",
              "    }\n",
              "    20% {\n",
              "      border-color: transparent;\n",
              "      border-left-color: var(--fill-color);\n",
              "      border-top-color: var(--fill-color);\n",
              "    }\n",
              "    30% {\n",
              "      border-color: transparent;\n",
              "      border-left-color: var(--fill-color);\n",
              "      border-top-color: var(--fill-color);\n",
              "      border-right-color: var(--fill-color);\n",
              "    }\n",
              "    40% {\n",
              "      border-color: transparent;\n",
              "      border-right-color: var(--fill-color);\n",
              "      border-top-color: var(--fill-color);\n",
              "    }\n",
              "    60% {\n",
              "      border-color: transparent;\n",
              "      border-right-color: var(--fill-color);\n",
              "    }\n",
              "    80% {\n",
              "      border-color: transparent;\n",
              "      border-right-color: var(--fill-color);\n",
              "      border-bottom-color: var(--fill-color);\n",
              "    }\n",
              "    90% {\n",
              "      border-color: transparent;\n",
              "      border-bottom-color: var(--fill-color);\n",
              "    }\n",
              "  }\n",
              "</style>\n",
              "\n",
              "  <script>\n",
              "    async function quickchart(key) {\n",
              "      const quickchartButtonEl =\n",
              "        document.querySelector('#' + key + ' button');\n",
              "      quickchartButtonEl.disabled = true;  // To prevent multiple clicks.\n",
              "      quickchartButtonEl.classList.add('colab-df-spinner');\n",
              "      try {\n",
              "        const charts = await google.colab.kernel.invokeFunction(\n",
              "            'suggestCharts', [key], {});\n",
              "      } catch (error) {\n",
              "        console.error('Error during call to suggestCharts:', error);\n",
              "      }\n",
              "      quickchartButtonEl.classList.remove('colab-df-spinner');\n",
              "      quickchartButtonEl.classList.add('colab-df-quickchart-complete');\n",
              "    }\n",
              "    (() => {\n",
              "      let quickchartButtonEl =\n",
              "        document.querySelector('#df-201a025a-0b7e-43dc-a89b-76decceb373a button');\n",
              "      quickchartButtonEl.style.display =\n",
              "        google.colab.kernel.accessAllowed ? 'block' : 'none';\n",
              "    })();\n",
              "  </script>\n",
              "</div>\n",
              "\n",
              "  <div id=\"id_a4d27c69-cc15-4cd3-bc8b-67dc16c74af3\">\n",
              "    <style>\n",
              "      .colab-df-generate {\n",
              "        background-color: #E8F0FE;\n",
              "        border: none;\n",
              "        border-radius: 50%;\n",
              "        cursor: pointer;\n",
              "        display: none;\n",
              "        fill: #1967D2;\n",
              "        height: 32px;\n",
              "        padding: 0 0 0 0;\n",
              "        width: 32px;\n",
              "      }\n",
              "\n",
              "      .colab-df-generate:hover {\n",
              "        background-color: #E2EBFA;\n",
              "        box-shadow: 0px 1px 2px rgba(60, 64, 67, 0.3), 0px 1px 3px 1px rgba(60, 64, 67, 0.15);\n",
              "        fill: #174EA6;\n",
              "      }\n",
              "\n",
              "      [theme=dark] .colab-df-generate {\n",
              "        background-color: #3B4455;\n",
              "        fill: #D2E3FC;\n",
              "      }\n",
              "\n",
              "      [theme=dark] .colab-df-generate:hover {\n",
              "        background-color: #434B5C;\n",
              "        box-shadow: 0px 1px 3px 1px rgba(0, 0, 0, 0.15);\n",
              "        filter: drop-shadow(0px 1px 2px rgba(0, 0, 0, 0.3));\n",
              "        fill: #FFFFFF;\n",
              "      }\n",
              "    </style>\n",
              "    <button class=\"colab-df-generate\" onclick=\"generateWithVariable('df')\"\n",
              "            title=\"Generate code using this dataframe.\"\n",
              "            style=\"display:none;\">\n",
              "\n",
              "  <svg xmlns=\"http://www.w3.org/2000/svg\" height=\"24px\"viewBox=\"0 0 24 24\"\n",
              "       width=\"24px\">\n",
              "    <path d=\"M7,19H8.4L18.45,9,17,7.55,7,17.6ZM5,21V16.75L18.45,3.32a2,2,0,0,1,2.83,0l1.4,1.43a1.91,1.91,0,0,1,.58,1.4,1.91,1.91,0,0,1-.58,1.4L9.25,21ZM18.45,9,17,7.55Zm-12,3A5.31,5.31,0,0,0,4.9,8.1,5.31,5.31,0,0,0,1,6.5,5.31,5.31,0,0,0,4.9,4.9,5.31,5.31,0,0,0,6.5,1,5.31,5.31,0,0,0,8.1,4.9,5.31,5.31,0,0,0,12,6.5,5.46,5.46,0,0,0,6.5,12Z\"/>\n",
              "  </svg>\n",
              "    </button>\n",
              "    <script>\n",
              "      (() => {\n",
              "      const buttonEl =\n",
              "        document.querySelector('#id_a4d27c69-cc15-4cd3-bc8b-67dc16c74af3 button.colab-df-generate');\n",
              "      buttonEl.style.display =\n",
              "        google.colab.kernel.accessAllowed ? 'block' : 'none';\n",
              "\n",
              "      buttonEl.onclick = () => {\n",
              "        google.colab.notebook.generateWithVariable('df');\n",
              "      }\n",
              "      })();\n",
              "    </script>\n",
              "  </div>\n",
              "\n",
              "    </div>\n",
              "  </div>\n"
            ],
            "application/vnd.google.colaboratory.intrinsic+json": {
              "type": "dataframe",
              "variable_name": "df",
              "summary": "{\n  \"name\": \"df\",\n  \"rows\": 5,\n  \"fields\": [\n    {\n      \"column\": \"Column 1\",\n      \"properties\": {\n        \"dtype\": \"number\",\n        \"std\": 21,\n        \"min\": 19,\n        \"max\": 78,\n        \"num_unique_values\": 5,\n        \"samples\": [\n          78,\n          64,\n          19\n        ],\n        \"semantic_type\": \"\",\n        \"description\": \"\"\n      }\n    },\n    {\n      \"column\": \"Column 2\",\n      \"properties\": {\n        \"dtype\": \"number\",\n        \"std\": 36,\n        \"min\": 4,\n        \"max\": 99,\n        \"num_unique_values\": 5,\n        \"samples\": [\n          74,\n          49,\n          4\n        ],\n        \"semantic_type\": \"\",\n        \"description\": \"\"\n      }\n    },\n    {\n      \"column\": \"Column 3\",\n      \"properties\": {\n        \"dtype\": \"number\",\n        \"std\": 33,\n        \"min\": 10,\n        \"max\": 89,\n        \"num_unique_values\": 5,\n        \"samples\": [\n          89,\n          10,\n          79\n        ],\n        \"semantic_type\": \"\",\n        \"description\": \"\"\n      }\n    }\n  ]\n}"
            }
          },
          "metadata": {},
          "execution_count": 9
        }
      ]
    },
    {
      "cell_type": "markdown",
      "source": [
        "#### 25. Write a function that takes a Pandas DataFrame and replaces all negative values in a specific column with zeros. Use NumPy operations within the Pandas DataFrame."
      ],
      "metadata": {
        "id": "HhN3nnfwEeIP"
      }
    },
    {
      "cell_type": "code",
      "source": [
        "import numpy as np\n",
        "import pandas as pd"
      ],
      "metadata": {
        "id": "Pc67QqNwEW65"
      },
      "execution_count": null,
      "outputs": []
    },
    {
      "cell_type": "code",
      "source": [
        "def replace_negatives_with_zeros(df, column_name):\n",
        "  df[column_name] = np.where(df[column_name] < 0, 0, df[column_name])\n",
        "  return df\n",
        "\n",
        "# Example usage:\n",
        "df = pd.DataFrame({'A': [-1, 2, -3, 4, -5], 'B': [5, -6, 7, -8, 9], 'C': [0, 1, -2, 3, -4]})\n",
        "df = replace_negatives_with_zeros(df, 'A')\n",
        "\n",
        "print(df)"
      ],
      "metadata": {
        "colab": {
          "base_uri": "https://localhost:8080/"
        },
        "id": "LTU1CN6MEH9o",
        "outputId": "da488e30-e1a5-462c-ad1f-2350ee614c44"
      },
      "execution_count": null,
      "outputs": [
        {
          "output_type": "stream",
          "name": "stdout",
          "text": [
            "   A  B  C\n",
            "0  0  5  0\n",
            "1  2 -6  1\n",
            "2  0  7 -2\n",
            "3  4 -8  3\n",
            "4  0  9 -4\n"
          ]
        }
      ]
    },
    {
      "cell_type": "markdown",
      "source": [
        "#### 26. Access the 3rd element from the given NumPy array.\n",
        "```arr = np.array([10, 20, 30, 40, 50])```"
      ],
      "metadata": {
        "id": "qGdIFtY7FLO8"
      }
    },
    {
      "cell_type": "code",
      "source": [
        "arr = np.array([10, 20, 30, 40, 50])\n",
        "arr[2]"
      ],
      "metadata": {
        "colab": {
          "base_uri": "https://localhost:8080/"
        },
        "id": "IYtyfsQBE3_o",
        "outputId": "43e81077-eb8e-48ce-e878-fe82be1da499"
      },
      "execution_count": null,
      "outputs": [
        {
          "output_type": "execute_result",
          "data": {
            "text/plain": [
              "30"
            ]
          },
          "metadata": {},
          "execution_count": 4
        }
      ]
    },
    {
      "cell_type": "markdown",
      "source": [
        "#### 27. Retrieve the element at Index (1, 2) from the 2D NumPy array.\n",
        "```arr_2d = np.array([[1, 2, 3], [4, 5, 6], [7, 8, 9]])```"
      ],
      "metadata": {
        "id": "RhKqn1sjF5Z5"
      }
    },
    {
      "cell_type": "code",
      "source": [
        "arr_2d = np.array([[1, 2, 3], [4, 5, 6], [7, 8, 9]])\n",
        "arr_2d"
      ],
      "metadata": {
        "colab": {
          "base_uri": "https://localhost:8080/"
        },
        "id": "yr145583F0P1",
        "outputId": "79985e05-cab2-431d-87dc-f50b0de4d130"
      },
      "execution_count": null,
      "outputs": [
        {
          "output_type": "execute_result",
          "data": {
            "text/plain": [
              "array([[1, 2, 3],\n",
              "       [4, 5, 6],\n",
              "       [7, 8, 9]])"
            ]
          },
          "metadata": {},
          "execution_count": 7
        }
      ]
    },
    {
      "cell_type": "code",
      "source": [
        "arr_2d[1, 2]"
      ],
      "metadata": {
        "colab": {
          "base_uri": "https://localhost:8080/"
        },
        "id": "XfmmNtioGKYd",
        "outputId": "4671b902-09b5-41d0-8826-2d5f6f339faa"
      },
      "execution_count": null,
      "outputs": [
        {
          "output_type": "execute_result",
          "data": {
            "text/plain": [
              "6"
            ]
          },
          "metadata": {},
          "execution_count": 8
        }
      ]
    },
    {
      "cell_type": "markdown",
      "source": [
        "#### 28. Using boolean indexing, extract elements greater than 5 from the given NumPy array.\n",
        "```arr = np.array([3, 8, 2, 10, 5, 7])```"
      ],
      "metadata": {
        "id": "Q2mXsvHCGgcl"
      }
    },
    {
      "cell_type": "code",
      "source": [
        "arr = np.array([3, 8, 2, 10, 5, 7])\n",
        "result = arr[arr > 5]\n",
        "print(result)"
      ],
      "metadata": {
        "colab": {
          "base_uri": "https://localhost:8080/"
        },
        "id": "W6rqOVgsGRKw",
        "outputId": "d0833a45-c059-4660-8e52-bb54f27a159f"
      },
      "execution_count": null,
      "outputs": [
        {
          "output_type": "stream",
          "name": "stdout",
          "text": [
            "[ 8 10  7]\n"
          ]
        }
      ]
    },
    {
      "cell_type": "markdown",
      "source": [
        "#### 29. Perform basic slicing to extract elements from index 2 to 5 (inclusive) from the given NumPy array.\n",
        "```arr = np.array([1, 2, 3, 4, 5, 6, 7, 8, 9])```"
      ],
      "metadata": {
        "id": "2nWVEojpHdmj"
      }
    },
    {
      "cell_type": "code",
      "source": [
        "arr = np.array([1, 2, 3, 4, 5, 6, 7, 8, 9])\n",
        "sliced_arr = arr[2:6]\n",
        "print(sliced_arr)"
      ],
      "metadata": {
        "colab": {
          "base_uri": "https://localhost:8080/"
        },
        "id": "XOexOYoxHW4p",
        "outputId": "9eba8e06-5520-4a68-9675-97cff47fd7bc"
      },
      "execution_count": null,
      "outputs": [
        {
          "output_type": "stream",
          "name": "stdout",
          "text": [
            "[3 4 5 6]\n"
          ]
        }
      ]
    },
    {
      "cell_type": "markdown",
      "source": [
        "#### 30. Slice the 2D NumPy array to extract the sub-array ```[[2, 3], [5, 6]]``` from the given array.\n",
        "```arr_2d = np.array([[1, 2, 3], [4, 5, 6], [7, 8, 9]])```"
      ],
      "metadata": {
        "id": "WN644vG6I0LJ"
      }
    },
    {
      "cell_type": "code",
      "source": [
        "arr_2d = np.array([[1, 2, 3], [4, 5, 6], [7, 8, 9]])\n",
        "arr_2d"
      ],
      "metadata": {
        "colab": {
          "base_uri": "https://localhost:8080/"
        },
        "id": "HY7XNZLrIxL6",
        "outputId": "202d7384-1be3-4fab-840c-17ea85827d5b"
      },
      "execution_count": null,
      "outputs": [
        {
          "output_type": "execute_result",
          "data": {
            "text/plain": [
              "array([[1, 2, 3],\n",
              "       [4, 5, 6],\n",
              "       [7, 8, 9]])"
            ]
          },
          "metadata": {},
          "execution_count": 11
        }
      ]
    },
    {
      "cell_type": "code",
      "source": [
        "sub_arr_2d = arr_2d[0:2, 1:3]\n",
        "print(sub_arr_2d)"
      ],
      "metadata": {
        "colab": {
          "base_uri": "https://localhost:8080/"
        },
        "id": "WN7iOwGCJu6W",
        "outputId": "5e1642d4-f9db-491a-9b94-2f55c84817e8"
      },
      "execution_count": null,
      "outputs": [
        {
          "output_type": "stream",
          "name": "stdout",
          "text": [
            "[[2 3]\n",
            " [5 6]]\n"
          ]
        }
      ]
    },
    {
      "cell_type": "markdown",
      "source": [
        "#### 31. Write a NumPy function to extract elements in specific order from a given 2D array based on indices provided in another array."
      ],
      "metadata": {
        "id": "fIGAdkHHNBYe"
      }
    },
    {
      "cell_type": "code",
      "source": [
        "def extract_elements(arr, indices):\n",
        "  rows = np.arange(arr.shape[0])\n",
        "  extracted_elements = arr[rows[:, np.newaxis], indices]\n",
        "  return extracted_elements\n",
        "\n",
        "arr = np.array([[1, 2, 3],\n",
        "                [4, 5, 6],\n",
        "                [7, 8, 9]])\n",
        "\n",
        "indices = np.array([1, 0, 2])\n",
        "\n",
        "extracted = extract_elements(arr, indices)\n",
        "print(extracted)"
      ],
      "metadata": {
        "colab": {
          "base_uri": "https://localhost:8080/"
        },
        "id": "-3CbIIwnKWwH",
        "outputId": "8242be71-563f-4fcc-8d50-6188d1198c0a"
      },
      "execution_count": null,
      "outputs": [
        {
          "output_type": "stream",
          "name": "stdout",
          "text": [
            "[[2 1 3]\n",
            " [5 4 6]\n",
            " [8 7 9]]\n"
          ]
        }
      ]
    },
    {
      "cell_type": "code",
      "source": [
        "# another way\n",
        "\n",
        "def extract_elements(arr, indices):\n",
        "  return arr[np.arange(arr.shape[0])[:, None], indices]\n",
        "\n",
        "arr = np.array([[1, 2, 3],[4, 5, 6], [7, 8, 9]])\n",
        "indices = np.array([1, 2, 0])\n",
        "\n",
        "result = extract_elements(arr, indices)\n",
        "print(result)"
      ],
      "metadata": {
        "colab": {
          "base_uri": "https://localhost:8080/"
        },
        "id": "G8G2jzFFoyAI",
        "outputId": "eef13ec4-b9b7-42e0-db9d-cc3de65d6ac1"
      },
      "execution_count": null,
      "outputs": [
        {
          "output_type": "stream",
          "name": "stdout",
          "text": [
            "[[2 3 1]\n",
            " [5 6 4]\n",
            " [8 9 7]]\n"
          ]
        }
      ]
    },
    {
      "cell_type": "markdown",
      "source": [
        "#### 32. Create a NumPy function that filters elements greater than a threshold from a given 1D array using boolean indexing."
      ],
      "metadata": {
        "id": "YV9Zz9ropXLT"
      }
    },
    {
      "cell_type": "code",
      "source": [
        "random_array = np.random.randint(0, 100, 20)\n",
        "random_array"
      ],
      "metadata": {
        "colab": {
          "base_uri": "https://localhost:8080/"
        },
        "id": "ihx2npuZpSuV",
        "outputId": "017b8f72-b3d8-4652-fbe0-6f93e039bbbe"
      },
      "execution_count": null,
      "outputs": [
        {
          "output_type": "execute_result",
          "data": {
            "text/plain": [
              "array([69, 76, 81, 91, 43, 58, 25, 86, 50, 79, 84, 15, 20,  2, 15, 47, 58,\n",
              "       53, 16, 93])"
            ]
          },
          "metadata": {},
          "execution_count": 16
        }
      ]
    },
    {
      "cell_type": "code",
      "source": [
        "random_array > 50"
      ],
      "metadata": {
        "colab": {
          "base_uri": "https://localhost:8080/"
        },
        "id": "iH76URFuqJZ-",
        "outputId": "093cdd22-9ae7-4c65-cb2b-f029fed8ceaa"
      },
      "execution_count": null,
      "outputs": [
        {
          "output_type": "execute_result",
          "data": {
            "text/plain": [
              "array([ True,  True,  True,  True, False,  True, False,  True, False,\n",
              "        True,  True, False, False, False, False, False,  True,  True,\n",
              "       False,  True])"
            ]
          },
          "metadata": {},
          "execution_count": 17
        }
      ]
    },
    {
      "cell_type": "code",
      "source": [
        "def filter_greater_than_threshold(array, threshold):\n",
        "    return array[array > threshold]\n",
        "\n",
        "array = np.array([1, 2, 3, 4, 5, 6, 7, 8, 9])\n",
        "threshold = 5\n",
        "result = filter_greater_than_threshold(array, threshold)\n",
        "print(result)"
      ],
      "metadata": {
        "colab": {
          "base_uri": "https://localhost:8080/"
        },
        "id": "xOJL5OPwq2cs",
        "outputId": "5ba817ea-f801-4c14-904c-360919f2986b"
      },
      "execution_count": null,
      "outputs": [
        {
          "output_type": "stream",
          "name": "stdout",
          "text": [
            "[6 7 8 9]\n"
          ]
        }
      ]
    },
    {
      "cell_type": "markdown",
      "source": [
        "#### 33. Develop a NumPy function that extracts specific elements from a 3D array using indices provided in three separate arrays for each dimension."
      ],
      "metadata": {
        "id": "lbOqQX-8rxdW"
      }
    },
    {
      "cell_type": "code",
      "source": [
        "def extract_elements(array, indices_dim1, indices_dim2, indices_dim3):\n",
        "    return array[indices_dim1, indices_dim2, indices_dim3]\n",
        "\n",
        "# Example usage:\n",
        "array = np.array([[[1, 2, 3], [4, 5, 6]], [[7, 8, 9], [10, 11, 12]]])\n",
        "indices_dim1 = np.array([[0, 0], [1, 1]])\n",
        "indices_dim2 = np.array([[0, 1], [1, 1]])\n",
        "indices_dim3 = np.array([[1, 1], [0, 1]])\n",
        "\n",
        "result = extract_elements(array, indices_dim1, indices_dim2, indices_dim3)\n",
        "print(result)"
      ],
      "metadata": {
        "colab": {
          "base_uri": "https://localhost:8080/"
        },
        "id": "EmlqjZlVrtRX",
        "outputId": "9558274c-6f97-44b1-836c-139aae824416"
      },
      "execution_count": null,
      "outputs": [
        {
          "output_type": "stream",
          "name": "stdout",
          "text": [
            "[[ 2  5]\n",
            " [10 11]]\n"
          ]
        }
      ]
    },
    {
      "cell_type": "code",
      "source": [
        "def extract_elements(array, indices_dim1, indices_dim2, indices_dim3):\n",
        "    return array[indices_dim1, indices_dim2, indices_dim3]\n",
        "\n",
        "# Example usage:\n",
        "array = np.array([[[1, 2, 3], [4, 5, 6]], [[7, 8, 9], [10, 11, 12]]])\n",
        "indices_dim1 = np.array([[0, 0], [1, 1]])\n",
        "indices_dim2 = np.array([[0, 1], [0, 1]])\n",
        "indices_dim3 = np.array([[0, 2], [1, 2]])\n",
        "\n",
        "result = extract_elements(array, indices_dim1, indices_dim2, indices_dim3)\n",
        "print(result)"
      ],
      "metadata": {
        "colab": {
          "base_uri": "https://localhost:8080/"
        },
        "id": "D4QvQMvsAETd",
        "outputId": "966c6f37-7c19-462d-f258-26139442cd00"
      },
      "execution_count": null,
      "outputs": [
        {
          "output_type": "stream",
          "name": "stdout",
          "text": [
            "[[ 1  6]\n",
            " [ 8 12]]\n"
          ]
        }
      ]
    },
    {
      "cell_type": "markdown",
      "source": [
        "#### 34. Write a NumPy function that returns elements from an array where both two conditions are satisfied using boolean indexing."
      ],
      "metadata": {
        "id": "29vd1MbSAMnw"
      }
    },
    {
      "cell_type": "code",
      "source": [
        "arr = np.array([[1, 2, 3],\n",
        "                [4, 5, 6],\n",
        "                [7, 8, 9]])\n",
        "\n",
        "condition1 = arr > 3\n",
        "condition2 = arr % 2 == 0\n",
        "\n",
        "result = arr[condition1 & condition2]\n",
        "\n",
        "print(result)"
      ],
      "metadata": {
        "colab": {
          "base_uri": "https://localhost:8080/"
        },
        "id": "2BVGBFUcAJB9",
        "outputId": "9f04fab2-d593-4624-ea5d-f64ffff81b30"
      },
      "execution_count": null,
      "outputs": [
        {
          "output_type": "stream",
          "name": "stdout",
          "text": [
            "[4 6 8]\n"
          ]
        }
      ]
    },
    {
      "cell_type": "markdown",
      "source": [
        "#### 35. Create a NumPy function that extracts elements from a 2D array using row and column indices provided in separate arrays."
      ],
      "metadata": {
        "id": "_jVe7A2BBUHJ"
      }
    },
    {
      "cell_type": "code",
      "source": [
        "def extract_elements(array, row_indices, col_indices):\n",
        "    return array[row_indices, col_indices]\n",
        "\n",
        "# Example usage:\n",
        "array = np.array([[1, 2, 3], [4, 5, 6]])\n",
        "row_indices = np.array([[0, 0], [1, 1]])\n",
        "col_indices = np.array([[0, 1], [1, 1]])\n",
        "\n",
        "result = extract_elements(array, row_indices, col_indices)\n",
        "print(result)"
      ],
      "metadata": {
        "id": "3YJIzqsQBQex",
        "colab": {
          "base_uri": "https://localhost:8080/"
        },
        "outputId": "bd8c59b2-0302-42ff-e02e-181b5c8c94f2"
      },
      "execution_count": null,
      "outputs": [
        {
          "output_type": "stream",
          "name": "stdout",
          "text": [
            "[[1 2]\n",
            " [5 5]]\n"
          ]
        }
      ]
    },
    {
      "cell_type": "code",
      "source": [
        "def extract_elements(array, row_indices, col_indices):\n",
        "    return array[row_indices, col_indices]\n",
        "\n",
        "# Example usage:\n",
        "array = np.array([[1, 2, 3], [4, 5, 6]])\n",
        "row_indices = np.array([0, 0])\n",
        "col_indices = np.array([0, 1])\n",
        "\n",
        "result = extract_elements(array, row_indices, col_indices)\n",
        "print(result)"
      ],
      "metadata": {
        "colab": {
          "base_uri": "https://localhost:8080/"
        },
        "id": "2V0OlaINGOqr",
        "outputId": "403ee250-e35a-4d34-c2be-0ccdf20abeab"
      },
      "execution_count": null,
      "outputs": [
        {
          "output_type": "stream",
          "name": "stdout",
          "text": [
            "[1 2]\n"
          ]
        }
      ]
    },
    {
      "cell_type": "code",
      "source": [
        "def extract_elements(array, row_indices, col_indices):\n",
        "    return array[row_indices, col_indices]\n",
        "\n",
        "# Example usage:\n",
        "array = np.array([[1, 2, 3], [4, 5, 6]])\n",
        "row_indices = np.array([0, 0, 1])\n",
        "col_indices = np.array([0, 1, 1])\n",
        "\n",
        "result = extract_elements(array, row_indices, col_indices)\n",
        "print(result)"
      ],
      "metadata": {
        "colab": {
          "base_uri": "https://localhost:8080/"
        },
        "id": "0mkvZaauI0pU",
        "outputId": "d18a6805-b969-4c27-a35f-9869883f7073"
      },
      "execution_count": null,
      "outputs": [
        {
          "output_type": "stream",
          "name": "stdout",
          "text": [
            "[1 2 5]\n"
          ]
        }
      ]
    },
    {
      "cell_type": "code",
      "source": [
        "def extract_elements(array, row_indices, col_indices):\n",
        "    return array[row_indices, col_indices]\n",
        "\n",
        "# Example usage:\n",
        "array = np.array([[1, 2, 3], [4, 5, 6], [7, 8, 9]])\n",
        "row_indices = np.array([0, 2, 1])\n",
        "col_indices = np.array([1, 1, 1])\n",
        "\n",
        "result = extract_elements(array, row_indices, col_indices)\n",
        "print(result)"
      ],
      "metadata": {
        "colab": {
          "base_uri": "https://localhost:8080/"
        },
        "id": "NvdqVkGtI4jw",
        "outputId": "f57edf92-7c09-4207-bb78-f39c0698e212"
      },
      "execution_count": null,
      "outputs": [
        {
          "output_type": "stream",
          "name": "stdout",
          "text": [
            "[2 8 5]\n"
          ]
        }
      ]
    },
    {
      "cell_type": "code",
      "source": [
        "def extract_elements(array, row_indices, col_indices):\n",
        "    return array[row_indices, col_indices]\n",
        "\n",
        "# Example usage:\n",
        "array = np.array([[1, 2, 3], [4, 5, 6], [7, 8, 9]])\n",
        "row_indices = np.array([[0, 2], [0, 1]])\n",
        "col_indices = np.array([[0, 1], [1, 0]])\n",
        "\n",
        "result = extract_elements(array, row_indices, col_indices)\n",
        "print(result)"
      ],
      "metadata": {
        "colab": {
          "base_uri": "https://localhost:8080/"
        },
        "id": "KgtPCsm0I_hO",
        "outputId": "2a5ebb49-8461-45fa-c6b0-14c8bc5879f0"
      },
      "execution_count": null,
      "outputs": [
        {
          "output_type": "stream",
          "name": "stdout",
          "text": [
            "[[1 8]\n",
            " [2 4]]\n"
          ]
        }
      ]
    },
    {
      "cell_type": "markdown",
      "source": [
        "#### 36. Given an array arr of shape (3, 3), add a scalar value of 5 to each element using NumPy broadcasting."
      ],
      "metadata": {
        "id": "soLW4cX9JLAB"
      }
    },
    {
      "cell_type": "code",
      "source": [
        "arr = np.random.randint(0, 50, size = (3,3))\n",
        "arr"
      ],
      "metadata": {
        "colab": {
          "base_uri": "https://localhost:8080/"
        },
        "id": "rUNe7PCpJFNo",
        "outputId": "7db88905-6a29-4135-c09e-57f97a94ee4d"
      },
      "execution_count": null,
      "outputs": [
        {
          "output_type": "execute_result",
          "data": {
            "text/plain": [
              "array([[44, 32,  7],\n",
              "       [40, 36, 10],\n",
              "       [47, 41, 31]])"
            ]
          },
          "metadata": {},
          "execution_count": 7
        }
      ]
    },
    {
      "cell_type": "code",
      "source": [
        "print(arr + 5)"
      ],
      "metadata": {
        "colab": {
          "base_uri": "https://localhost:8080/"
        },
        "id": "h647mvoNKWiM",
        "outputId": "47831978-db45-45c1-9b8f-7ba12acc3c50"
      },
      "execution_count": null,
      "outputs": [
        {
          "output_type": "stream",
          "name": "stdout",
          "text": [
            "[[49 37 12]\n",
            " [45 41 15]\n",
            " [52 46 36]]\n"
          ]
        }
      ]
    },
    {
      "cell_type": "markdown",
      "source": [
        "#### 37. Consider two arrays arr1 of shape (1,3) and arr2 of shape (3, 4). Multiply each row of arr2 by the corresponding element in arr1 using NumPy broadcasting."
      ],
      "metadata": {
        "id": "FW2hfH9PKd_9"
      }
    },
    {
      "cell_type": "code",
      "source": [
        "arr1 = np.random.randint(0, 10, size = (1,3))\n",
        "arr1"
      ],
      "metadata": {
        "colab": {
          "base_uri": "https://localhost:8080/"
        },
        "id": "CjFGDp6sKZAD",
        "outputId": "0784e2cf-e7f6-400e-c7af-cd90666ee58e"
      },
      "execution_count": null,
      "outputs": [
        {
          "output_type": "execute_result",
          "data": {
            "text/plain": [
              "array([[4, 2, 7]])"
            ]
          },
          "metadata": {},
          "execution_count": 9
        }
      ]
    },
    {
      "cell_type": "code",
      "source": [
        "arr2 = np.random.randint(0, 10, size = (3,4))\n",
        "arr2"
      ],
      "metadata": {
        "colab": {
          "base_uri": "https://localhost:8080/"
        },
        "id": "5LtxzZBxNsvI",
        "outputId": "3666241b-5d44-4354-850b-caaf56a70c77"
      },
      "execution_count": null,
      "outputs": [
        {
          "output_type": "execute_result",
          "data": {
            "text/plain": [
              "array([[5, 2, 5, 4],\n",
              "       [9, 6, 7, 2],\n",
              "       [3, 3, 5, 8]])"
            ]
          },
          "metadata": {},
          "execution_count": 10
        }
      ]
    },
    {
      "cell_type": "code",
      "source": [
        "result = arr2 * arr1.T # Transpose arr1 to broadcast along the rows\n",
        "print(result)"
      ],
      "metadata": {
        "colab": {
          "base_uri": "https://localhost:8080/"
        },
        "id": "ZEFQ5ueXNu4C",
        "outputId": "a00cb913-df7a-4e54-d46e-0d35e02a3f1d"
      },
      "execution_count": null,
      "outputs": [
        {
          "output_type": "stream",
          "name": "stdout",
          "text": [
            "[[20  8 20 16]\n",
            " [18 12 14  4]\n",
            " [21 21 35 56]]\n"
          ]
        }
      ]
    },
    {
      "cell_type": "code",
      "source": [
        "# another way using reshape\n",
        "arr1_reshaped = arr1.reshape(-1,1)\n",
        "result = arr1_reshaped * arr2\n",
        "print(result)"
      ],
      "metadata": {
        "colab": {
          "base_uri": "https://localhost:8080/"
        },
        "id": "DBWA1fH2N6k6",
        "outputId": "a00a8d2b-8dad-425a-c05f-2c06a4ce34c0"
      },
      "execution_count": null,
      "outputs": [
        {
          "output_type": "stream",
          "name": "stdout",
          "text": [
            "[[20  8 20 16]\n",
            " [18 12 14  4]\n",
            " [21 21 35 56]]\n"
          ]
        }
      ]
    },
    {
      "cell_type": "markdown",
      "source": [
        "#### 38. Given a 1D array arr1 of shape (1, 4) and a 2D array arr2 of shape (4, 3), add arr1 to each row of arr2 using NumPy broadcasting."
      ],
      "metadata": {
        "id": "ADWqe9l6OYoQ"
      }
    },
    {
      "cell_type": "code",
      "source": [
        "arr1 = np.random.randint(0, 10, size = (1,4))\n",
        "arr1"
      ],
      "metadata": {
        "colab": {
          "base_uri": "https://localhost:8080/"
        },
        "id": "DGvEj1wMOFjZ",
        "outputId": "ba521dca-1655-4500-adb6-079bfff0a574"
      },
      "execution_count": null,
      "outputs": [
        {
          "output_type": "execute_result",
          "data": {
            "text/plain": [
              "array([[8, 8, 6, 7]])"
            ]
          },
          "metadata": {},
          "execution_count": 14
        }
      ]
    },
    {
      "cell_type": "code",
      "source": [
        "arr2 = np.random.randint(0, 10, size = (4,3))\n",
        "arr2"
      ],
      "metadata": {
        "colab": {
          "base_uri": "https://localhost:8080/"
        },
        "id": "slBeeFfxQfuM",
        "outputId": "ef3dbd42-cbad-48bd-e1ea-f73080440fce"
      },
      "execution_count": null,
      "outputs": [
        {
          "output_type": "execute_result",
          "data": {
            "text/plain": [
              "array([[0, 5, 3],\n",
              "       [9, 0, 9],\n",
              "       [1, 2, 7],\n",
              "       [4, 4, 0]])"
            ]
          },
          "metadata": {},
          "execution_count": 15
        }
      ]
    },
    {
      "cell_type": "code",
      "source": [
        "arr1.T + arr2"
      ],
      "metadata": {
        "colab": {
          "base_uri": "https://localhost:8080/"
        },
        "id": "TJpV2-g5QiXG",
        "outputId": "45b28a5f-ec3d-4f9a-e490-191d7966a6bf"
      },
      "execution_count": null,
      "outputs": [
        {
          "output_type": "execute_result",
          "data": {
            "text/plain": [
              "array([[ 8, 13, 11],\n",
              "       [17,  8, 17],\n",
              "       [ 7,  8, 13],\n",
              "       [11, 11,  7]])"
            ]
          },
          "metadata": {},
          "execution_count": 16
        }
      ]
    },
    {
      "cell_type": "markdown",
      "source": [
        "#### 39. Consider two arrays arr1 of shape (3, 1) and arr2 of shape (1, 3). Add these arrays using NumPy broadcasting."
      ],
      "metadata": {
        "id": "D8Z743V6Qobo"
      }
    },
    {
      "cell_type": "code",
      "source": [
        "import numpy as np\n",
        "arr1 = np.random.randint(0, 10, size = (3,1))\n",
        "arr1"
      ],
      "metadata": {
        "id": "RrNltmbWQjXS",
        "colab": {
          "base_uri": "https://localhost:8080/"
        },
        "outputId": "bbf9a12f-5f56-4827-80e5-aa742df2fff4"
      },
      "execution_count": null,
      "outputs": [
        {
          "output_type": "execute_result",
          "data": {
            "text/plain": [
              "array([[4],\n",
              "       [2],\n",
              "       [4]])"
            ]
          },
          "metadata": {},
          "execution_count": 1
        }
      ]
    },
    {
      "cell_type": "code",
      "source": [
        "arr2 = np.random.randint(0, 10, size = (1,3))\n",
        "arr2"
      ],
      "metadata": {
        "colab": {
          "base_uri": "https://localhost:8080/"
        },
        "id": "ZS_J0N6XS45n",
        "outputId": "cb806c0a-c776-4b61-e10a-c27fb66de516"
      },
      "execution_count": null,
      "outputs": [
        {
          "output_type": "execute_result",
          "data": {
            "text/plain": [
              "array([[5, 1, 5]])"
            ]
          },
          "metadata": {},
          "execution_count": 2
        }
      ]
    },
    {
      "cell_type": "code",
      "source": [
        "arr1 + arr2"
      ],
      "metadata": {
        "colab": {
          "base_uri": "https://localhost:8080/"
        },
        "id": "n1X4P3aDTBXG",
        "outputId": "b956a191-b540-49d0-dbca-0eeacbfa3c43"
      },
      "execution_count": null,
      "outputs": [
        {
          "output_type": "execute_result",
          "data": {
            "text/plain": [
              "array([[9, 5, 9],\n",
              "       [7, 3, 7],\n",
              "       [9, 5, 9]])"
            ]
          },
          "metadata": {},
          "execution_count": 3
        }
      ]
    },
    {
      "cell_type": "markdown",
      "source": [
        "#### 40. Given arrays arr1 of shape (2, 3) and arr2 of shape (2, 2), perform multiplication using NumPy broadcasting. Handle the shape incompatibility."
      ],
      "metadata": {
        "id": "zkKvtKCdTPJ1"
      }
    },
    {
      "cell_type": "code",
      "source": [
        "arr1 = np.random.randint(0, 10, size = (2,3))\n",
        "arr1"
      ],
      "metadata": {
        "colab": {
          "base_uri": "https://localhost:8080/"
        },
        "id": "T31jYryTTJ7K",
        "outputId": "03e95464-c527-4d35-978f-97c5885a6f26"
      },
      "execution_count": null,
      "outputs": [
        {
          "output_type": "execute_result",
          "data": {
            "text/plain": [
              "array([[3, 6, 7],\n",
              "       [4, 0, 8]])"
            ]
          },
          "metadata": {},
          "execution_count": 4
        }
      ]
    },
    {
      "cell_type": "code",
      "source": [
        "arr2 = np.random.randint(0, 10, size = (2,2))\n",
        "arr2"
      ],
      "metadata": {
        "colab": {
          "base_uri": "https://localhost:8080/"
        },
        "id": "UU3mTnS3VHv_",
        "outputId": "04e5dbd7-369e-4643-841b-2028af09afa0"
      },
      "execution_count": null,
      "outputs": [
        {
          "output_type": "execute_result",
          "data": {
            "text/plain": [
              "array([[8, 2],\n",
              "       [6, 9]])"
            ]
          },
          "metadata": {},
          "execution_count": 5
        }
      ]
    },
    {
      "cell_type": "code",
      "source": [
        "arr2_reshaped = arr2[:, :, np.newaxis]\n",
        "arr2_reshaped"
      ],
      "metadata": {
        "colab": {
          "base_uri": "https://localhost:8080/"
        },
        "id": "yGVqkV3gVLF-",
        "outputId": "6712597b-ae88-4ae1-b7f5-35820bb43027"
      },
      "execution_count": null,
      "outputs": [
        {
          "output_type": "execute_result",
          "data": {
            "text/plain": [
              "array([[[8],\n",
              "        [2]],\n",
              "\n",
              "       [[6],\n",
              "        [9]]])"
            ]
          },
          "metadata": {},
          "execution_count": 6
        }
      ]
    },
    {
      "cell_type": "code",
      "source": [
        "arr1 * arr2_reshaped"
      ],
      "metadata": {
        "colab": {
          "base_uri": "https://localhost:8080/"
        },
        "id": "O1Fvm1xkWVKR",
        "outputId": "0de2c549-ae6c-4582-e659-fea019f2255b"
      },
      "execution_count": null,
      "outputs": [
        {
          "output_type": "execute_result",
          "data": {
            "text/plain": [
              "array([[[24, 48, 56],\n",
              "        [ 8,  0, 16]],\n",
              "\n",
              "       [[18, 36, 42],\n",
              "        [36,  0, 72]]])"
            ]
          },
          "metadata": {},
          "execution_count": 7
        }
      ]
    },
    {
      "cell_type": "code",
      "source": [
        "# another way\n",
        "arr1_reshaped = arr1[:, :, np.newaxis]\n",
        "arr1_reshaped"
      ],
      "metadata": {
        "colab": {
          "base_uri": "https://localhost:8080/"
        },
        "id": "M17gykp2WV39",
        "outputId": "16fe5508-0f0c-4a0d-9ca4-c13e4d62ba8d"
      },
      "execution_count": null,
      "outputs": [
        {
          "output_type": "execute_result",
          "data": {
            "text/plain": [
              "array([[[3],\n",
              "        [6],\n",
              "        [7]],\n",
              "\n",
              "       [[4],\n",
              "        [0],\n",
              "        [8]]])"
            ]
          },
          "metadata": {},
          "execution_count": 8
        }
      ]
    },
    {
      "cell_type": "code",
      "source": [
        "arr2_reshaped = arr2[:, np.newaxis, :]\n",
        "arr2_reshaped"
      ],
      "metadata": {
        "colab": {
          "base_uri": "https://localhost:8080/"
        },
        "id": "IQ5EZ8HVWeqj",
        "outputId": "812cc6c6-a325-49bf-ce8e-514ae97ce06b"
      },
      "execution_count": null,
      "outputs": [
        {
          "output_type": "execute_result",
          "data": {
            "text/plain": [
              "array([[[8, 2]],\n",
              "\n",
              "       [[6, 9]]])"
            ]
          },
          "metadata": {},
          "execution_count": 9
        }
      ]
    },
    {
      "cell_type": "code",
      "source": [
        "arr1_reshaped * arr2_reshaped"
      ],
      "metadata": {
        "colab": {
          "base_uri": "https://localhost:8080/"
        },
        "id": "Fmn3KeWKWg_o",
        "outputId": "fa5e1487-ab43-41b1-c314-0b8f7b28293b"
      },
      "execution_count": null,
      "outputs": [
        {
          "output_type": "execute_result",
          "data": {
            "text/plain": [
              "array([[[24,  6],\n",
              "        [48, 12],\n",
              "        [56, 14]],\n",
              "\n",
              "       [[24, 36],\n",
              "        [ 0,  0],\n",
              "        [48, 72]]])"
            ]
          },
          "metadata": {},
          "execution_count": 10
        }
      ]
    },
    {
      "cell_type": "markdown",
      "source": [
        "#### 41. Calculate column-wise mean for the given array:\n",
        "```arr = np.array([[1, 2, 3], [4, 5, 6]])```"
      ],
      "metadata": {
        "id": "ji8aqgq5WnAz"
      }
    },
    {
      "cell_type": "code",
      "source": [
        "arr = np.array([[1, 2, 3], [4, 5, 6]])\n",
        "arr"
      ],
      "metadata": {
        "colab": {
          "base_uri": "https://localhost:8080/"
        },
        "id": "_XCdsBeXWi-X",
        "outputId": "2493289b-8c8d-457a-81c8-b98c7f9af266"
      },
      "execution_count": null,
      "outputs": [
        {
          "output_type": "execute_result",
          "data": {
            "text/plain": [
              "array([[1, 2, 3],\n",
              "       [4, 5, 6]])"
            ]
          },
          "metadata": {},
          "execution_count": 11
        }
      ]
    },
    {
      "cell_type": "code",
      "source": [
        "np.mean(arr, axis = 0)"
      ],
      "metadata": {
        "colab": {
          "base_uri": "https://localhost:8080/"
        },
        "id": "lz9m9wEeXHak",
        "outputId": "4c8b7d17-2e8f-4524-b37e-a1846a533411"
      },
      "execution_count": null,
      "outputs": [
        {
          "output_type": "execute_result",
          "data": {
            "text/plain": [
              "array([2.5, 3.5, 4.5])"
            ]
          },
          "metadata": {},
          "execution_count": 12
        }
      ]
    },
    {
      "cell_type": "markdown",
      "source": [
        "#### 42. Find maximum value in each row of the given array:\n",
        "```arr = np.array([[1, 2, 3], [4, 5, 6]])```"
      ],
      "metadata": {
        "id": "lUygywvJX3rQ"
      }
    },
    {
      "cell_type": "code",
      "source": [
        "arr = np.array([[1, 2, 3], [4, 5, 6]])\n",
        "arr"
      ],
      "metadata": {
        "colab": {
          "base_uri": "https://localhost:8080/"
        },
        "id": "LYxFLsv5XxRd",
        "outputId": "4560367a-18ce-4595-bf43-b5793a53ff52"
      },
      "execution_count": null,
      "outputs": [
        {
          "output_type": "execute_result",
          "data": {
            "text/plain": [
              "array([[1, 2, 3],\n",
              "       [4, 5, 6]])"
            ]
          },
          "metadata": {},
          "execution_count": 13
        }
      ]
    },
    {
      "cell_type": "code",
      "source": [
        "np.max(arr, axis = 1)"
      ],
      "metadata": {
        "colab": {
          "base_uri": "https://localhost:8080/"
        },
        "id": "0_r8M3M2Yeel",
        "outputId": "08d5d141-7b78-474e-9a71-a04ed8c83fe7"
      },
      "execution_count": null,
      "outputs": [
        {
          "output_type": "execute_result",
          "data": {
            "text/plain": [
              "array([3, 6])"
            ]
          },
          "metadata": {},
          "execution_count": 14
        }
      ]
    },
    {
      "cell_type": "markdown",
      "source": [
        "#### 43. For the given array, find indices of maximum value in each column,\n",
        "```arr = np.array([[1, 2, 3], [4, 5, 6]])```"
      ],
      "metadata": {
        "id": "05H8c1sQYtqQ"
      }
    },
    {
      "cell_type": "code",
      "source": [
        "arr = np.array([[1, 2, 3], [4, 5, 6]])\n",
        "np.argmax(arr, axis = 0)"
      ],
      "metadata": {
        "colab": {
          "base_uri": "https://localhost:8080/"
        },
        "id": "TweNDmSlYq0e",
        "outputId": "78dadb00-a8f8-4af0-e89b-63c12148ac51"
      },
      "execution_count": null,
      "outputs": [
        {
          "output_type": "execute_result",
          "data": {
            "text/plain": [
              "array([1, 1, 1])"
            ]
          },
          "metadata": {},
          "execution_count": 16
        }
      ]
    },
    {
      "cell_type": "markdown",
      "source": [
        "#### 44. For the given array, apply custom function to calculate moving sum along rows.\n",
        "```arr = np.array([[1, 2, 3], [4, 5, 6]])```"
      ],
      "metadata": {
        "id": "QEugYIAzZIGE"
      }
    },
    {
      "cell_type": "code",
      "source": [
        "arr = np.array([[1, 2, 3], [4, 5, 6]])\n",
        "\n",
        "moving_sum = np.cumsum(arr, axis=1)\n",
        "print(moving_sum)"
      ],
      "metadata": {
        "colab": {
          "base_uri": "https://localhost:8080/"
        },
        "id": "lZ_XfUu0Y8I1",
        "outputId": "0d595f65-d633-434b-8795-e573f7a50e6b"
      },
      "execution_count": null,
      "outputs": [
        {
          "output_type": "stream",
          "name": "stdout",
          "text": [
            "[[ 1  3  6]\n",
            " [ 4  9 15]]\n"
          ]
        }
      ]
    },
    {
      "cell_type": "markdown",
      "source": [
        "#### 45. In the given array, check if all elements in each column are even.\n",
        "```arr = np.array([[2, 4, 6], [3, 5, 7]])```"
      ],
      "metadata": {
        "id": "-ufRty0Ya_Da"
      }
    },
    {
      "cell_type": "code",
      "source": [
        "arr = np.array([[2, 4, 6], [3, 5, 7]])\n",
        "\n",
        "all_even = np.all(arr%2 == 0, axis=0)\n",
        "print(all_even)"
      ],
      "metadata": {
        "colab": {
          "base_uri": "https://localhost:8080/"
        },
        "id": "NPnTkSEba0lf",
        "outputId": "eb5ff26a-de2f-4400-de93-418e379abfc8"
      },
      "execution_count": null,
      "outputs": [
        {
          "output_type": "stream",
          "name": "stdout",
          "text": [
            "[False False False]\n"
          ]
        }
      ]
    },
    {
      "cell_type": "markdown",
      "source": [
        "#### 46. Given a NumPy array arr, reshape it into a matrix of dimensions 'm' rows and 'n' columns. Return the reshaped matrix.\n",
        "```original_array = np.array([1, 2, 3, 4, 5, 6])```"
      ],
      "metadata": {
        "id": "FGaulzf2cA01"
      }
    },
    {
      "cell_type": "code",
      "source": [
        "original_array = np.array([1, 2, 3, 4, 5, 6])\n",
        "\n",
        "reshaped_array = original_array.reshape(2,3)\n",
        "print(reshaped_array)"
      ],
      "metadata": {
        "id": "J2aWw7V_b8X0",
        "colab": {
          "base_uri": "https://localhost:8080/"
        },
        "outputId": "fdb19ced-7e78-4753-f3e9-35c61763b4ab"
      },
      "execution_count": null,
      "outputs": [
        {
          "output_type": "stream",
          "name": "stdout",
          "text": [
            "[[1 2 3]\n",
            " [4 5 6]]\n"
          ]
        }
      ]
    },
    {
      "cell_type": "code",
      "source": [
        "reshaped_array = original_array.reshape(3,2)\n",
        "print(reshaped_array)"
      ],
      "metadata": {
        "colab": {
          "base_uri": "https://localhost:8080/"
        },
        "id": "JLEbY9z258cW",
        "outputId": "68d333bc-68e5-4a27-ffb1-ad2698146b45"
      },
      "execution_count": null,
      "outputs": [
        {
          "output_type": "stream",
          "name": "stdout",
          "text": [
            "[[1 2]\n",
            " [3 4]\n",
            " [5 6]]\n"
          ]
        }
      ]
    },
    {
      "cell_type": "code",
      "source": [
        "reshaped_array = original_array.reshape(1,6)\n",
        "print(reshaped_array)"
      ],
      "metadata": {
        "colab": {
          "base_uri": "https://localhost:8080/"
        },
        "id": "Sg8uPWEn6Ir9",
        "outputId": "73d5dcf7-7987-4831-90b5-09cf8561114a"
      },
      "execution_count": null,
      "outputs": [
        {
          "output_type": "stream",
          "name": "stdout",
          "text": [
            "[[1 2 3 4 5 6]]\n"
          ]
        }
      ]
    },
    {
      "cell_type": "code",
      "source": [
        "reshaped_array = original_array.reshape(6,1)\n",
        "print(reshaped_array)"
      ],
      "metadata": {
        "colab": {
          "base_uri": "https://localhost:8080/"
        },
        "id": "gakmiK0e6Kyc",
        "outputId": "20c831c9-5894-4597-961c-6a78bbd8dc44"
      },
      "execution_count": null,
      "outputs": [
        {
          "output_type": "stream",
          "name": "stdout",
          "text": [
            "[[1]\n",
            " [2]\n",
            " [3]\n",
            " [4]\n",
            " [5]\n",
            " [6]]\n"
          ]
        }
      ]
    },
    {
      "cell_type": "markdown",
      "source": [
        "#### 47. Create a function that takes a matrix as input and returns the flattened array.\n",
        "```input_matrix = np.array([[1, 2, 3], [4, 5, 6]])```"
      ],
      "metadata": {
        "id": "rZTJA6v-6TZQ"
      }
    },
    {
      "cell_type": "code",
      "source": [
        "input_matrix = np.array([[1, 2, 3], [4, 5, 6]])\n",
        "input_matrix"
      ],
      "metadata": {
        "colab": {
          "base_uri": "https://localhost:8080/"
        },
        "id": "S1ouzNIT6Min",
        "outputId": "b6ba0c05-a611-4129-cc11-fb26bd436610"
      },
      "execution_count": null,
      "outputs": [
        {
          "output_type": "execute_result",
          "data": {
            "text/plain": [
              "array([[1, 2, 3],\n",
              "       [4, 5, 6]])"
            ]
          },
          "metadata": {},
          "execution_count": 8
        }
      ]
    },
    {
      "cell_type": "code",
      "source": [
        "input_matrix.flatten()"
      ],
      "metadata": {
        "colab": {
          "base_uri": "https://localhost:8080/"
        },
        "id": "o5Y62S1S6b6t",
        "outputId": "716871eb-ff90-4c95-a8bc-f4835778f200"
      },
      "execution_count": null,
      "outputs": [
        {
          "output_type": "execute_result",
          "data": {
            "text/plain": [
              "array([1, 2, 3, 4, 5, 6])"
            ]
          },
          "metadata": {},
          "execution_count": 10
        }
      ]
    },
    {
      "cell_type": "markdown",
      "source": [
        "#### 48. Write a function that concatenates two given arrays along a specified axis.\n",
        "```array1 = np.array([[1, 2], [3, 4]])```\n",
        "\n",
        "```array2 = np.array([[5, 6], [7, 8]])```"
      ],
      "metadata": {
        "id": "3iZkZ1496m2H"
      }
    },
    {
      "cell_type": "code",
      "source": [
        "array1 = np.array([[1, 2], [3, 4]])\n",
        "array2 = np.array([[5, 6], [7, 8]])\n",
        "\n",
        "np.concatenate((array1, array2),axis=1)"
      ],
      "metadata": {
        "colab": {
          "base_uri": "https://localhost:8080/"
        },
        "id": "BvO_stP06hq7",
        "outputId": "d0b3f5d3-1cde-4710-b8ab-537d74d77329"
      },
      "execution_count": null,
      "outputs": [
        {
          "output_type": "execute_result",
          "data": {
            "text/plain": [
              "array([[1, 2, 5, 6],\n",
              "       [3, 4, 7, 8]])"
            ]
          },
          "metadata": {},
          "execution_count": 11
        }
      ]
    },
    {
      "cell_type": "code",
      "source": [
        "array1 = np.array([[1, 2], [3, 4]])\n",
        "array2 = np.array([[5, 6], [7, 8]])\n",
        "\n",
        "np.concatenate((array1, array2),axis=0)"
      ],
      "metadata": {
        "colab": {
          "base_uri": "https://localhost:8080/"
        },
        "id": "uUlEfKmX8Jw_",
        "outputId": "4ddf6fe6-881e-4d11-806c-21429c877ea0"
      },
      "execution_count": null,
      "outputs": [
        {
          "output_type": "execute_result",
          "data": {
            "text/plain": [
              "array([[1, 2],\n",
              "       [3, 4],\n",
              "       [5, 6],\n",
              "       [7, 8]])"
            ]
          },
          "metadata": {},
          "execution_count": 12
        }
      ]
    },
    {
      "cell_type": "markdown",
      "source": [
        "#### 49. Create a function that splits an array into multiple sub-arrays along a specified axis.\n",
        "```original_array = np.array([[1, 2, 3], [4, 5, 6], [7, 8, 9]])```"
      ],
      "metadata": {
        "id": "6NznwIWS8Too"
      }
    },
    {
      "cell_type": "code",
      "source": [
        "original_array = np.array([[1, 2, 3], [4, 5, 6], [7, 8, 9]])\n",
        "np.split(original_array, 3, axis=1)"
      ],
      "metadata": {
        "colab": {
          "base_uri": "https://localhost:8080/"
        },
        "id": "dh6Gny498Lek",
        "outputId": "0c26f338-b8a5-466f-f95b-9214a87a77d9"
      },
      "execution_count": null,
      "outputs": [
        {
          "output_type": "execute_result",
          "data": {
            "text/plain": [
              "[array([[1],\n",
              "        [4],\n",
              "        [7]]),\n",
              " array([[2],\n",
              "        [5],\n",
              "        [8]]),\n",
              " array([[3],\n",
              "        [6],\n",
              "        [9]])]"
            ]
          },
          "metadata": {},
          "execution_count": 13
        }
      ]
    },
    {
      "cell_type": "code",
      "source": [
        "np.split(original_array, 3, axis=0)"
      ],
      "metadata": {
        "colab": {
          "base_uri": "https://localhost:8080/"
        },
        "id": "tfft34iq-gP6",
        "outputId": "7b3b2eb8-8a7b-435b-c18f-e1da0165b1c6"
      },
      "execution_count": null,
      "outputs": [
        {
          "output_type": "execute_result",
          "data": {
            "text/plain": [
              "[array([[1, 2, 3]]), array([[4, 5, 6]]), array([[7, 8, 9]])]"
            ]
          },
          "metadata": {},
          "execution_count": 14
        }
      ]
    },
    {
      "cell_type": "markdown",
      "source": [
        "#### 50. Write a function that inserts and then deletes elements from a given array at specified indices.\n",
        "```original_array = np.array([1, 2, 3, 4, 5])```\n",
        "\n",
        "```indices_to_insert = [2,4]```\n",
        "\n",
        "```values_to_insert = [10, 11]```\n",
        "\n",
        "```indices_to_delete = [1, 3]```"
      ],
      "metadata": {
        "id": "ubpuk6pk-slQ"
      }
    },
    {
      "cell_type": "code",
      "source": [
        "import numpy as np"
      ],
      "metadata": {
        "id": "RPYGkUq7-hSM"
      },
      "execution_count": null,
      "outputs": []
    },
    {
      "cell_type": "code",
      "source": [
        "def insert_and_delete_elements(original_array, indices_to_insert, values_to_insert, indices_to_delete):\n",
        "\n",
        "  # Insert elements\n",
        "  for index, value in zip(indices_to_insert, values_to_insert):\n",
        "      original_array = np.insert(original_array, index, value)\n",
        "\n",
        "  # Delete elements\n",
        "  original_array = np.delete(original_array, indices_to_delete)\n",
        "  return original_array\n",
        "\n",
        "original_array = np.array([1, 2, 3, 4, 5])\n",
        "indices_to_insert = [2, 4]\n",
        "values_to_insert = [10, 11]\n",
        "indices_to_delete = [1, 3]\n",
        "\n",
        "result_array = insert_and_delete_elements(original_array, indices_to_insert, values_to_insert, indices_to_delete)\n",
        "print(result_array)"
      ],
      "metadata": {
        "colab": {
          "base_uri": "https://localhost:8080/"
        },
        "id": "uxXM7Gm4jKtu",
        "outputId": "551f2f1e-7b4b-448d-b15c-2bedbe88d75f"
      },
      "execution_count": null,
      "outputs": [
        {
          "output_type": "stream",
          "name": "stdout",
          "text": [
            "[ 1 10 11  4  5]\n"
          ]
        }
      ]
    },
    {
      "cell_type": "markdown",
      "source": [
        "#### 51. Create a NumPy array 'arr1' with random integers and another array 'arr2' with integers from 1 to 10. Perform element-wise addition between 'arr1' and 'arr2'."
      ],
      "metadata": {
        "id": "dojFFOMsj7ye"
      }
    },
    {
      "cell_type": "code",
      "source": [
        "arr1 = np.random.randint(1, 11, 5)\n",
        "arr2 = np.random.randint(1, 11, 5)"
      ],
      "metadata": {
        "id": "aQFqwhcIjy-2"
      },
      "execution_count": null,
      "outputs": []
    },
    {
      "cell_type": "code",
      "source": [
        "arr1"
      ],
      "metadata": {
        "colab": {
          "base_uri": "https://localhost:8080/"
        },
        "id": "-W-ZcLchlN-D",
        "outputId": "7d2ef295-3d0c-43ce-f7a2-e2a21416d73b"
      },
      "execution_count": null,
      "outputs": [
        {
          "output_type": "execute_result",
          "data": {
            "text/plain": [
              "array([1, 2, 4, 5, 6])"
            ]
          },
          "metadata": {},
          "execution_count": 5
        }
      ]
    },
    {
      "cell_type": "code",
      "source": [
        "arr2"
      ],
      "metadata": {
        "colab": {
          "base_uri": "https://localhost:8080/"
        },
        "id": "p3tbNXtglQdN",
        "outputId": "baf6c484-98ab-4c76-e09b-a39c19f42d79"
      },
      "execution_count": null,
      "outputs": [
        {
          "output_type": "execute_result",
          "data": {
            "text/plain": [
              "array([9, 1, 8, 7, 1])"
            ]
          },
          "metadata": {},
          "execution_count": 6
        }
      ]
    },
    {
      "cell_type": "code",
      "source": [
        "arr1 + arr2"
      ],
      "metadata": {
        "colab": {
          "base_uri": "https://localhost:8080/"
        },
        "id": "O4sggbfOlRLb",
        "outputId": "bb235894-8848-4802-d546-5a0665bbb9c9"
      },
      "execution_count": null,
      "outputs": [
        {
          "output_type": "execute_result",
          "data": {
            "text/plain": [
              "array([10,  3, 12, 12,  7])"
            ]
          },
          "metadata": {},
          "execution_count": 7
        }
      ]
    },
    {
      "cell_type": "code",
      "source": [
        "arr1 = np.random.randint(1, 11, (2,3))\n",
        "arr2 = np.random.randint(1, 11, (2,3))"
      ],
      "metadata": {
        "id": "d9h9YALnlTLy"
      },
      "execution_count": null,
      "outputs": []
    },
    {
      "cell_type": "code",
      "source": [
        "arr1"
      ],
      "metadata": {
        "colab": {
          "base_uri": "https://localhost:8080/"
        },
        "id": "_IQmN9J7lV4D",
        "outputId": "7e26f3ac-1e51-4669-f3d5-580d8af86a13"
      },
      "execution_count": null,
      "outputs": [
        {
          "output_type": "execute_result",
          "data": {
            "text/plain": [
              "array([[ 2,  1,  1],\n",
              "       [ 5,  2, 10]])"
            ]
          },
          "metadata": {},
          "execution_count": 9
        }
      ]
    },
    {
      "cell_type": "code",
      "source": [
        "arr2"
      ],
      "metadata": {
        "colab": {
          "base_uri": "https://localhost:8080/"
        },
        "id": "jCuZ8-u4lWhA",
        "outputId": "25eefa20-b261-4379-9c32-de09f152ba71"
      },
      "execution_count": null,
      "outputs": [
        {
          "output_type": "execute_result",
          "data": {
            "text/plain": [
              "array([[4, 8, 3],\n",
              "       [2, 5, 9]])"
            ]
          },
          "metadata": {},
          "execution_count": 10
        }
      ]
    },
    {
      "cell_type": "code",
      "source": [
        "arr1 + arr2"
      ],
      "metadata": {
        "colab": {
          "base_uri": "https://localhost:8080/"
        },
        "id": "lNj5mJYDlXN6",
        "outputId": "da16920f-f544-4fc5-ef34-bb4f9e5c82dd"
      },
      "execution_count": null,
      "outputs": [
        {
          "output_type": "execute_result",
          "data": {
            "text/plain": [
              "array([[ 6,  9,  4],\n",
              "       [ 7,  7, 19]])"
            ]
          },
          "metadata": {},
          "execution_count": 11
        }
      ]
    },
    {
      "cell_type": "markdown",
      "source": [
        "#### 52. Generate a NumPy array 'arr1' with sequential integers from 10 to 1 and another array 'arr2' with integers from 1 to 10. Subtract 'arr2' from 'arr1' element-wise."
      ],
      "metadata": {
        "id": "DHBCX0ARlc7F"
      }
    },
    {
      "cell_type": "code",
      "source": [
        "arr1 = np.arange(10, 0, -1)\n",
        "arr2 = np.arange(1, 11)"
      ],
      "metadata": {
        "id": "xF6QRh5elYir"
      },
      "execution_count": null,
      "outputs": []
    },
    {
      "cell_type": "code",
      "source": [
        "arr1"
      ],
      "metadata": {
        "colab": {
          "base_uri": "https://localhost:8080/"
        },
        "id": "RtMIELy7mnKV",
        "outputId": "880e217d-eee1-4406-b9e3-4713165130ce"
      },
      "execution_count": null,
      "outputs": [
        {
          "output_type": "execute_result",
          "data": {
            "text/plain": [
              "array([10,  9,  8,  7,  6,  5,  4,  3,  2,  1])"
            ]
          },
          "metadata": {},
          "execution_count": 13
        }
      ]
    },
    {
      "cell_type": "code",
      "source": [
        "arr2"
      ],
      "metadata": {
        "colab": {
          "base_uri": "https://localhost:8080/"
        },
        "id": "OS4kd31Qmnw-",
        "outputId": "bd760dcd-3ef6-468a-e828-15f18dad6593"
      },
      "execution_count": null,
      "outputs": [
        {
          "output_type": "execute_result",
          "data": {
            "text/plain": [
              "array([ 1,  2,  3,  4,  5,  6,  7,  8,  9, 10])"
            ]
          },
          "metadata": {},
          "execution_count": 14
        }
      ]
    },
    {
      "cell_type": "code",
      "source": [
        "arr1 - arr2"
      ],
      "metadata": {
        "colab": {
          "base_uri": "https://localhost:8080/"
        },
        "id": "vXprU7oemosr",
        "outputId": "7a4acd46-b5c8-4391-9401-3fca16a07a57"
      },
      "execution_count": null,
      "outputs": [
        {
          "output_type": "execute_result",
          "data": {
            "text/plain": [
              "array([ 9,  7,  5,  3,  1, -1, -3, -5, -7, -9])"
            ]
          },
          "metadata": {},
          "execution_count": 15
        }
      ]
    },
    {
      "cell_type": "markdown",
      "source": [
        "#### 53. Create a NumPy array 'arr1' with random integers and another array 'arr2' with integers from 1 to 5. Perform element-wise multiplication between 'arr1' and 'arr2'."
      ],
      "metadata": {
        "id": "6meTn5NimvDA"
      }
    },
    {
      "cell_type": "code",
      "source": [
        "arr1 = np.random.randint(1, 6, 5)\n",
        "arr2 = np.random.randint(1, 6, 5)"
      ],
      "metadata": {
        "id": "ac9sz9SpmpqN"
      },
      "execution_count": null,
      "outputs": []
    },
    {
      "cell_type": "code",
      "source": [
        "arr1"
      ],
      "metadata": {
        "colab": {
          "base_uri": "https://localhost:8080/"
        },
        "id": "0AHTLXeznIlW",
        "outputId": "c6d767a2-f809-4847-ae91-f8c872afe11c"
      },
      "execution_count": null,
      "outputs": [
        {
          "output_type": "execute_result",
          "data": {
            "text/plain": [
              "array([4, 5, 4, 2, 2])"
            ]
          },
          "metadata": {},
          "execution_count": 17
        }
      ]
    },
    {
      "cell_type": "code",
      "source": [
        "arr2"
      ],
      "metadata": {
        "colab": {
          "base_uri": "https://localhost:8080/"
        },
        "id": "xnzJ5melnJMU",
        "outputId": "5ab8e9e6-7823-4af7-ce06-a43971edb3f4"
      },
      "execution_count": null,
      "outputs": [
        {
          "output_type": "execute_result",
          "data": {
            "text/plain": [
              "array([1, 5, 4, 5, 3])"
            ]
          },
          "metadata": {},
          "execution_count": 18
        }
      ]
    },
    {
      "cell_type": "code",
      "source": [
        "arr1 * arr2"
      ],
      "metadata": {
        "colab": {
          "base_uri": "https://localhost:8080/"
        },
        "id": "8U-UKjF6nJ_L",
        "outputId": "47d0affd-9d38-4df9-f611-37616d8ee6f4"
      },
      "execution_count": null,
      "outputs": [
        {
          "output_type": "execute_result",
          "data": {
            "text/plain": [
              "array([ 4, 25, 16, 10,  6])"
            ]
          },
          "metadata": {},
          "execution_count": 19
        }
      ]
    },
    {
      "cell_type": "markdown",
      "source": [
        "#### 54. Generate a NumPy array 'arr1' with even integers from 2 to 10 and another array 'arr2' with integers from 1 to 5. Perform element-wise division of 'arr1' by 'arr2'."
      ],
      "metadata": {
        "id": "j9Azj7vUnPeD"
      }
    },
    {
      "cell_type": "code",
      "source": [
        "arr1 = np.arange(2, 11, 2)\n",
        "arr2 = np.arange(1, 6)"
      ],
      "metadata": {
        "id": "xHh9jPy8nK3L"
      },
      "execution_count": null,
      "outputs": []
    },
    {
      "cell_type": "code",
      "source": [
        "arr1"
      ],
      "metadata": {
        "colab": {
          "base_uri": "https://localhost:8080/"
        },
        "id": "350u6bSUn1uU",
        "outputId": "2387fc3f-cc59-4fc4-f744-16f4f57e14f4"
      },
      "execution_count": null,
      "outputs": [
        {
          "output_type": "execute_result",
          "data": {
            "text/plain": [
              "array([ 2,  4,  6,  8, 10])"
            ]
          },
          "metadata": {},
          "execution_count": 21
        }
      ]
    },
    {
      "cell_type": "code",
      "source": [
        "arr2"
      ],
      "metadata": {
        "colab": {
          "base_uri": "https://localhost:8080/"
        },
        "id": "O8bgxJesn2Q1",
        "outputId": "e37bc966-8bae-4321-8774-ac5b14464f4d"
      },
      "execution_count": null,
      "outputs": [
        {
          "output_type": "execute_result",
          "data": {
            "text/plain": [
              "array([1, 2, 3, 4, 5])"
            ]
          },
          "metadata": {},
          "execution_count": 22
        }
      ]
    },
    {
      "cell_type": "code",
      "source": [
        "arr1 / arr2"
      ],
      "metadata": {
        "colab": {
          "base_uri": "https://localhost:8080/"
        },
        "id": "8ZBgIe9gn3O2",
        "outputId": "32a30a33-2dd4-4127-d84e-9b7f656de096"
      },
      "execution_count": null,
      "outputs": [
        {
          "output_type": "execute_result",
          "data": {
            "text/plain": [
              "array([2., 2., 2., 2., 2.])"
            ]
          },
          "metadata": {},
          "execution_count": 23
        }
      ]
    },
    {
      "cell_type": "markdown",
      "source": [
        "#### 55. Create a NumPy array 'arr1' with integers from 1 to 5 and another array 'arr2' with the same numbers reversed. Calculate the exponentiation of 'arr1' raised to the power of 'arr2' element-wise."
      ],
      "metadata": {
        "id": "37UzL_z5n-1J"
      }
    },
    {
      "cell_type": "code",
      "source": [
        "arr1 = np.arange(1, 6)\n",
        "arr2 = np.arange(5, 0, -1)"
      ],
      "metadata": {
        "id": "6iNHuWP_n6T3"
      },
      "execution_count": null,
      "outputs": []
    },
    {
      "cell_type": "code",
      "source": [
        "arr1"
      ],
      "metadata": {
        "colab": {
          "base_uri": "https://localhost:8080/"
        },
        "id": "ZPGQASy4o4Br",
        "outputId": "9e9578bd-cab0-4284-dde2-e820de20d9ce"
      },
      "execution_count": null,
      "outputs": [
        {
          "output_type": "execute_result",
          "data": {
            "text/plain": [
              "array([1, 2, 3, 4, 5])"
            ]
          },
          "metadata": {},
          "execution_count": 25
        }
      ]
    },
    {
      "cell_type": "code",
      "source": [
        "arr2"
      ],
      "metadata": {
        "colab": {
          "base_uri": "https://localhost:8080/"
        },
        "id": "EyR---Mao4oi",
        "outputId": "584e2800-4a45-4052-dc31-733cd052d10d"
      },
      "execution_count": null,
      "outputs": [
        {
          "output_type": "execute_result",
          "data": {
            "text/plain": [
              "array([5, 4, 3, 2, 1])"
            ]
          },
          "metadata": {},
          "execution_count": 26
        }
      ]
    },
    {
      "cell_type": "code",
      "source": [
        "np.power(arr1, arr2)"
      ],
      "metadata": {
        "colab": {
          "base_uri": "https://localhost:8080/"
        },
        "id": "c37fxDt8o5RU",
        "outputId": "e211e0d5-45cb-4278-a877-96948e4441e8"
      },
      "execution_count": null,
      "outputs": [
        {
          "output_type": "execute_result",
          "data": {
            "text/plain": [
              "array([ 1, 16, 27, 16,  5])"
            ]
          },
          "metadata": {},
          "execution_count": 27
        }
      ]
    },
    {
      "cell_type": "code",
      "source": [
        "# another way\n",
        "arr1 = np.arange(1, 6)\n",
        "arr2 = np.flip(arr1)"
      ],
      "metadata": {
        "id": "hF4sDnWEo8O0"
      },
      "execution_count": null,
      "outputs": []
    },
    {
      "cell_type": "code",
      "source": [
        "arr1"
      ],
      "metadata": {
        "colab": {
          "base_uri": "https://localhost:8080/"
        },
        "id": "TEO4Ha62o_I6",
        "outputId": "f52f4242-6acc-4690-b45d-a9747a0f36dc"
      },
      "execution_count": null,
      "outputs": [
        {
          "output_type": "execute_result",
          "data": {
            "text/plain": [
              "array([1, 2, 3, 4, 5])"
            ]
          },
          "metadata": {},
          "execution_count": 29
        }
      ]
    },
    {
      "cell_type": "code",
      "source": [
        "arr2"
      ],
      "metadata": {
        "colab": {
          "base_uri": "https://localhost:8080/"
        },
        "id": "YZIYITuko_ze",
        "outputId": "ebde8a60-2fb8-4362-aaff-f4b800bb5cbb"
      },
      "execution_count": null,
      "outputs": [
        {
          "output_type": "execute_result",
          "data": {
            "text/plain": [
              "array([5, 4, 3, 2, 1])"
            ]
          },
          "metadata": {},
          "execution_count": 30
        }
      ]
    },
    {
      "cell_type": "code",
      "source": [
        "np.power(arr1, arr2)"
      ],
      "metadata": {
        "colab": {
          "base_uri": "https://localhost:8080/"
        },
        "id": "2IOi4BZ0pAbJ",
        "outputId": "da357294-24ed-47c5-81bd-77dbc2020c05"
      },
      "execution_count": null,
      "outputs": [
        {
          "output_type": "execute_result",
          "data": {
            "text/plain": [
              "array([ 1, 16, 27, 16,  5])"
            ]
          },
          "metadata": {},
          "execution_count": 31
        }
      ]
    },
    {
      "cell_type": "code",
      "source": [
        "# or\n",
        "arr1 ** arr2"
      ],
      "metadata": {
        "colab": {
          "base_uri": "https://localhost:8080/"
        },
        "id": "DXmtf6gZpQKH",
        "outputId": "75b52970-044a-4f6d-f626-9c6d042d36c0"
      },
      "execution_count": null,
      "outputs": [
        {
          "output_type": "execute_result",
          "data": {
            "text/plain": [
              "array([ 1, 16, 27, 16,  5])"
            ]
          },
          "metadata": {},
          "execution_count": 32
        }
      ]
    },
    {
      "cell_type": "markdown",
      "source": [
        "#### 56. Write a function that counts the occurrences of a specific substring within a NumPy array of strings.\n",
        "```arr = np.array(['hello', 'world', 'hello', 'numpy', 'hello'])```"
      ],
      "metadata": {
        "id": "zE1RpI9XpZAx"
      }
    },
    {
      "cell_type": "code",
      "source": [
        "arr = np.array(['hello', 'world', 'hello', 'numpy', 'hello'])\n",
        "np.char.count(arr, 'hello')"
      ],
      "metadata": {
        "colab": {
          "base_uri": "https://localhost:8080/"
        },
        "id": "qSZPS1xVpTyG",
        "outputId": "d64abde1-da46-4e87-c970-d23bafab08cf"
      },
      "execution_count": null,
      "outputs": [
        {
          "output_type": "execute_result",
          "data": {
            "text/plain": [
              "array([1, 0, 1, 0, 1])"
            ]
          },
          "metadata": {},
          "execution_count": 33
        }
      ]
    },
    {
      "cell_type": "code",
      "source": [
        "def count_substring_occurrences(arr, substring):\n",
        "  return sum(1 for string in arr if substring in string)\n",
        "\n",
        "arr = np.array(['hello', 'world', 'hello', 'numpy', 'hello'])\n",
        "substring = 'hello'\n",
        "occurrences = count_substring_occurrences(arr, substring)\n",
        "\n",
        "print(\"Occurrences of '{}' in the array: {}\".format(substring, occurrences))"
      ],
      "metadata": {
        "colab": {
          "base_uri": "https://localhost:8080/"
        },
        "id": "U4XvR4pSq0U8",
        "outputId": "c7252edb-68b8-4555-8a29-0a56d0040b86"
      },
      "execution_count": null,
      "outputs": [
        {
          "output_type": "stream",
          "name": "stdout",
          "text": [
            "Occurrences of 'hello' in the array: 3\n"
          ]
        }
      ]
    },
    {
      "cell_type": "markdown",
      "source": [
        "#### 57. Write a function that extracts uppercase characters from a NumPy array of strings.\n",
        "```arr = np.array(['Hello', 'World', 'OpenAI', 'GPT'))```"
      ],
      "metadata": {
        "id": "YtyhqKIfrXVF"
      }
    },
    {
      "cell_type": "code",
      "source": [
        "def extract_uppercase(arr):\n",
        "  uppercase_chars = np.array([''.join(filter(str.isupper, s)) for s in arr])\n",
        "  return uppercase_chars\n",
        "\n",
        "arr = np.array(['Hello', 'World', 'OpenAI', 'GPT'])\n",
        "uppercase_chars = extract_uppercase(arr)\n",
        "print(uppercase_chars)"
      ],
      "metadata": {
        "colab": {
          "base_uri": "https://localhost:8080/"
        },
        "id": "H-Que08vrK2n",
        "outputId": "2d48c216-0420-4000-97ef-9e53dead2afb"
      },
      "execution_count": null,
      "outputs": [
        {
          "output_type": "stream",
          "name": "stdout",
          "text": [
            "['H' 'W' 'OAI' 'GPT']\n"
          ]
        }
      ]
    },
    {
      "cell_type": "markdown",
      "source": [
        "#### 58. Write a function that replaces occurrences of a substring in a NumPy array of strings with a new string.\n",
        "```arr = np.array(['apple', 'banana', 'grape', 'pineapple'])```"
      ],
      "metadata": {
        "id": "Fs-WWONG-sWc"
      }
    },
    {
      "cell_type": "code",
      "source": [
        "def replace_substring(arr, old_substring, new_substring):\n",
        "    return np.char.replace(arr, old_substring, new_substring)\n",
        "\n",
        "arr = np.array(['apple', 'banana', 'grape', 'pineapple'])\n",
        "new_arr = replace_substring(arr, 'apple', 'orange')\n",
        "\n",
        "print(new_arr)"
      ],
      "metadata": {
        "id": "2ie2u_vXr98s",
        "colab": {
          "base_uri": "https://localhost:8080/"
        },
        "outputId": "e81842ae-b4ad-4061-f282-2bb440a5975e"
      },
      "execution_count": null,
      "outputs": [
        {
          "output_type": "stream",
          "name": "stdout",
          "text": [
            "['orange' 'banana' 'grape' 'pineorange']\n"
          ]
        }
      ]
    },
    {
      "cell_type": "code",
      "source": [
        "arr = np.array(['apple', 'banana', 'grape', 'pineapple'])\n",
        "np.char.replace(arr, 'a', 'x')"
      ],
      "metadata": {
        "colab": {
          "base_uri": "https://localhost:8080/"
        },
        "id": "AIpjlz6_caIj",
        "outputId": "9b76076e-ccc0-42ff-def9-959f04690719"
      },
      "execution_count": null,
      "outputs": [
        {
          "output_type": "execute_result",
          "data": {
            "text/plain": [
              "array(['xpple', 'bxnxnx', 'grxpe', 'pinexpple'], dtype='<U9')"
            ]
          },
          "metadata": {},
          "execution_count": 3
        }
      ]
    },
    {
      "cell_type": "markdown",
      "source": [
        "#### 59. Write a function that concatenates strings in a NumPy array element-wise.\n",
        "```arr1 = np.array(['Hello', 'World'])```\n",
        "\n",
        "```arr2 = np.array(['Open', 'AI'])```"
      ],
      "metadata": {
        "id": "OCWHH5s6dW3c"
      }
    },
    {
      "cell_type": "code",
      "source": [
        "def concatenate_strings(arr1, arr2):\n",
        "    return np.char.add(arr1, arr2)\n",
        "\n",
        "arr1 = np.array(['Hello', 'World'])\n",
        "arr2 = np.array(['Open', 'AI'])\n",
        "\n",
        "result = concatenate_strings(arr1, arr2)\n",
        "print(result)"
      ],
      "metadata": {
        "colab": {
          "base_uri": "https://localhost:8080/"
        },
        "id": "P0w-WGlUdNEE",
        "outputId": "c279c499-bb6e-4ca8-ee43-19201c14e8d6"
      },
      "execution_count": null,
      "outputs": [
        {
          "output_type": "stream",
          "name": "stdout",
          "text": [
            "['HelloOpen' 'WorldAI']\n"
          ]
        }
      ]
    },
    {
      "cell_type": "code",
      "source": [
        "# another way\n",
        "\n",
        "def concatenate_strings(arr1, arr2):\n",
        "    return np.core.defchararray.add(arr1, arr2)\n",
        "\n",
        "arr1 = np.array(['Hello', 'World'])\n",
        "arr2 = np.array(['Open', 'AI'])\n",
        "\n",
        "concatenated_array = concatenate_strings(arr1, arr2)\n",
        "print(concatenated_array)"
      ],
      "metadata": {
        "colab": {
          "base_uri": "https://localhost:8080/"
        },
        "id": "rh3aSkSWe_q3",
        "outputId": "e2327bc1-f650-4ac1-e8d8-7df5f7d87099"
      },
      "execution_count": null,
      "outputs": [
        {
          "output_type": "stream",
          "name": "stdout",
          "text": [
            "['HelloOpen' 'WorldAI']\n"
          ]
        }
      ]
    },
    {
      "cell_type": "markdown",
      "source": [
        "#### 60. Write a function that finds the length of the longest string in a NumPy array.\n",
        "```arr = np.array(['apple', 'banana', 'grape', 'pineapple'])```"
      ],
      "metadata": {
        "id": "7EB-8czxfHy-"
      }
    },
    {
      "cell_type": "code",
      "source": [
        "arr = np.array(['apple', 'banana', 'grape', 'pineapple'])\n",
        "max(np.vectorize(len)(arr))"
      ],
      "metadata": {
        "colab": {
          "base_uri": "https://localhost:8080/"
        },
        "id": "NJl3jW_nfDR8",
        "outputId": "cffb17cf-06ff-4291-dbc7-0fd67a7da95e"
      },
      "execution_count": null,
      "outputs": [
        {
          "output_type": "execute_result",
          "data": {
            "text/plain": [
              "9"
            ]
          },
          "metadata": {},
          "execution_count": 6
        }
      ]
    },
    {
      "cell_type": "code",
      "source": [
        "# another way\n",
        "\n",
        "def longest_string_length(arr):\n",
        "    return max(len(s) for s in arr)\n",
        "\n",
        "arr = np.array(['apple', 'banana', 'grape', 'pineapple'])\n",
        "print(longest_string_length(arr))"
      ],
      "metadata": {
        "colab": {
          "base_uri": "https://localhost:8080/"
        },
        "id": "mxRyWvfVhE5L",
        "outputId": "dbbf6994-c59f-483b-d229-27d8ad10fbea"
      },
      "execution_count": null,
      "outputs": [
        {
          "output_type": "stream",
          "name": "stdout",
          "text": [
            "9\n"
          ]
        }
      ]
    },
    {
      "cell_type": "code",
      "source": [
        "# another way\n",
        "\n",
        "def longest_string_length(arr):\n",
        "    return max(map(len, arr))\n",
        "\n",
        "arr = np.array(['apple', 'banana', 'grape', 'pineapple'])\n",
        "print(longest_string_length(arr))"
      ],
      "metadata": {
        "colab": {
          "base_uri": "https://localhost:8080/"
        },
        "id": "l8M7GsCihJ06",
        "outputId": "bd80baf7-7a7d-4a26-8260-b5be5b13135b"
      },
      "execution_count": null,
      "outputs": [
        {
          "output_type": "stream",
          "name": "stdout",
          "text": [
            "9\n"
          ]
        }
      ]
    },
    {
      "cell_type": "markdown",
      "source": [
        "#### 61. Create a dataset of 100 random integers between 1 and 1000. Compute the mean, median, variance, and standard deviation of the dataset using NumPy's functions."
      ],
      "metadata": {
        "id": "HufquJE8hTtP"
      }
    },
    {
      "cell_type": "code",
      "source": [
        "dataset = np.random.randint(1, 1001, 100)\n",
        "\n",
        "# Compute mean, median, variance, and standard deviation\n",
        "mean = np.mean(dataset)\n",
        "median = np.median(dataset)\n",
        "variance = np.var(dataset)\n",
        "std_dev = np.std(dataset)\n",
        "\n",
        "print(\"Dataset:\", dataset)\n",
        "print(\"Mean:\", mean)\n",
        "print(\"Median:\", median)\n",
        "print(\"Variance:\", variance)\n",
        "print(\"Standard Deviation:\", std_dev)"
      ],
      "metadata": {
        "colab": {
          "base_uri": "https://localhost:8080/"
        },
        "id": "M3RrOAYXhPWg",
        "outputId": "30a40980-8781-4ef7-821c-5c64c0a4568d"
      },
      "execution_count": null,
      "outputs": [
        {
          "output_type": "stream",
          "name": "stdout",
          "text": [
            "Dataset: [526 201 281 574 367 636 811 117 570 474 590 821 260 221 625 370 693 260\n",
            " 821 489 308 355 459  96 571  23  73 355 195 714 857 141  95 380 960   5\n",
            " 286 626 714 664 673 460  86 331 167 945 140 478 663 433  96 935 490 463\n",
            "  15 485 577  19 304 218   3 763 392 920 738 896 592 314 256 158 501 784\n",
            " 766 255 861 707 979 685 657 230 222  42 121 228 456 495  50 294 374 192\n",
            " 671 595 991 248 382 186 360 335 852  67]\n",
            "Mean: 441.8\n",
            "Median: 412.5\n",
            "Variance: 73954.7\n",
            "Standard Deviation: 271.9461343722319\n"
          ]
        }
      ]
    },
    {
      "cell_type": "markdown",
      "source": [
        "#### 62. Generate an array of 50 random numbers between 1 and 100. Find the 25th and 75th percentiles of the dataset."
      ],
      "metadata": {
        "id": "lr5EPrJ2iZyo"
      }
    },
    {
      "cell_type": "code",
      "source": [
        "random_numbers = np.random.randint(1, 101, 50)\n",
        "\n",
        "# Find the 25th and 75th percentiles\n",
        "percentile_25 = np.percentile(random_numbers, 25)\n",
        "percentile_75 = np.percentile(random_numbers, 75)\n",
        "\n",
        "print(\"25th percentile:\", percentile_25)\n",
        "print(\"75th percentile:\", percentile_75)"
      ],
      "metadata": {
        "colab": {
          "base_uri": "https://localhost:8080/"
        },
        "id": "VTpnF_MziR86",
        "outputId": "08975425-f588-4f55-a873-c323fba14a1f"
      },
      "execution_count": null,
      "outputs": [
        {
          "output_type": "stream",
          "name": "stdout",
          "text": [
            "25th percentile: 24.5\n",
            "75th percentile: 71.25\n"
          ]
        }
      ]
    },
    {
      "cell_type": "markdown",
      "source": [
        "#### 63. Create two arrays representing two sets of variables. Compute the correlation coefficient between these arrays using NumPy's 'corrcoef' function."
      ],
      "metadata": {
        "id": "m9Uo8ljTs0uc"
      }
    },
    {
      "cell_type": "code",
      "source": [
        "array1 = np.random.rand(100)\n",
        "array2 = np.random.rand(100)\n",
        "\n",
        "correlation_coefficient = np.corrcoef(array1, array2)[0, 1]\n",
        "\n",
        "print(\"Correlation Coefficient:\", correlation_coefficient)"
      ],
      "metadata": {
        "colab": {
          "base_uri": "https://localhost:8080/"
        },
        "id": "HPpaprilsrYR",
        "outputId": "4081693c-828e-40f3-fece-c9594d819ac6"
      },
      "execution_count": null,
      "outputs": [
        {
          "output_type": "stream",
          "name": "stdout",
          "text": [
            "Correlation Coefficient: 0.06351982386046869\n"
          ]
        }
      ]
    },
    {
      "cell_type": "markdown",
      "source": [
        "#### 64. Create two matrices and perform matrix multiplication using NumPy's 'dot' function."
      ],
      "metadata": {
        "id": "iKqvZjK8uROa"
      }
    },
    {
      "cell_type": "code",
      "source": [
        "matrix1 = np.array([[1, 2, 3],\n",
        "                    [4, 5, 6]])\n",
        "\n",
        "matrix2 = np.array([[7, 8],\n",
        "                    [9, 10],\n",
        "                    [11, 12]])\n",
        "\n",
        "result = np.dot(matrix1, matrix2)\n",
        "\n",
        "print(\"Matrix 1:\")\n",
        "print(matrix1)\n",
        "print(\"\\nMatrix 2:\")\n",
        "print(matrix2)\n",
        "print(\"\\nResult of matrix multiplication:\")\n",
        "print(result)"
      ],
      "metadata": {
        "colab": {
          "base_uri": "https://localhost:8080/"
        },
        "id": "-ZQQmH_auCZw",
        "outputId": "fcf322f0-93a9-4e66-afd0-beee924d29cc"
      },
      "execution_count": null,
      "outputs": [
        {
          "output_type": "stream",
          "name": "stdout",
          "text": [
            "Matrix 1:\n",
            "[[1 2 3]\n",
            " [4 5 6]]\n",
            "\n",
            "Matrix 2:\n",
            "[[ 7  8]\n",
            " [ 9 10]\n",
            " [11 12]]\n",
            "\n",
            "Result of matrix multiplication:\n",
            "[[ 58  64]\n",
            " [139 154]]\n"
          ]
        }
      ]
    },
    {
      "cell_type": "code",
      "source": [
        "matrix1 = np.array([[1, 2],\n",
        "                    [3, 4]])\n",
        "\n",
        "matrix2 = np.array([[5, 6],\n",
        "                    [7, 8]])\n",
        "\n",
        "result = np.dot(matrix1, matrix2)\n",
        "\n",
        "print(\"Matrix 1:\")\n",
        "print(matrix1)\n",
        "print(\"\\nMatrix 2:\")\n",
        "print(matrix2)\n",
        "print(\"\\nResult of matrix multiplication:\")\n",
        "print(result)"
      ],
      "metadata": {
        "colab": {
          "base_uri": "https://localhost:8080/"
        },
        "id": "7uyCJ4GAvOdR",
        "outputId": "bd53e040-edc7-4897-ef22-36d0b5b2b88d"
      },
      "execution_count": null,
      "outputs": [
        {
          "output_type": "stream",
          "name": "stdout",
          "text": [
            "Matrix 1:\n",
            "[[1 2]\n",
            " [3 4]]\n",
            "\n",
            "Matrix 2:\n",
            "[[5 6]\n",
            " [7 8]]\n",
            "\n",
            "Result of matrix multiplication:\n",
            "[[19 22]\n",
            " [43 50]]\n"
          ]
        }
      ]
    },
    {
      "cell_type": "markdown",
      "source": [
        "#### 65. Create an array of 50 integers between 10 and 1000. Calculate the 10th, 50th (median), and 90th percentiles along with the first and third quartiles."
      ],
      "metadata": {
        "id": "sTzBYlpBvb4J"
      }
    },
    {
      "cell_type": "code",
      "source": [
        "import numpy as np\n",
        "\n",
        "arr = np.random.randint(10, 1001, 50)\n",
        "\n",
        "percentiles = np.percentile(arr, [10, 25, 50, 75, 90])\n",
        "\n",
        "print(\"Array:\", arr)\n",
        "print(\"10th percentile:\", percentiles[0])\n",
        "print(\"First quartile (25th percentile):\", percentiles[1])\n",
        "print(\"Median (50th percentile):\", percentiles[2])\n",
        "print(\"Third quartile (75th percentile):\", percentiles[3])\n",
        "print(\"90th percentile:\", percentiles[4])"
      ],
      "metadata": {
        "id": "BX00v1NqvS50",
        "colab": {
          "base_uri": "https://localhost:8080/"
        },
        "outputId": "cbf6e994-5950-4760-d512-2cde71ee23de"
      },
      "execution_count": null,
      "outputs": [
        {
          "output_type": "stream",
          "name": "stdout",
          "text": [
            "Array: [317 352 237 134 773 158 909 506 440 546 270 793  16  87 580  81 407 583\n",
            "  34 767 116 837 765 412 765 842 242 483 582 806  16 711 619 906 809 602\n",
            " 942  53 802 633 135 913  30 569 223 553 371 205 627 496]\n",
            "10th percentile: 78.20000000000002\n",
            "First quartile (25th percentile): 226.5\n",
            "Median (50th percentile): 526.0\n",
            "Third quartile (75th percentile): 765.0\n",
            "90th percentile: 837.5\n"
          ]
        }
      ]
    },
    {
      "cell_type": "markdown",
      "source": [
        "#### 66. Create a NumPy array of integers and find the index of a specific element."
      ],
      "metadata": {
        "id": "Bwj0VczEXCMK"
      }
    },
    {
      "cell_type": "code",
      "source": [
        "arr = np.random.randint(1, 21, 10)\n",
        "arr"
      ],
      "metadata": {
        "id": "9wkOdZCU9SAG",
        "colab": {
          "base_uri": "https://localhost:8080/"
        },
        "outputId": "25ddccd4-129a-41e2-9a32-9dc2674d9987"
      },
      "execution_count": null,
      "outputs": [
        {
          "output_type": "execute_result",
          "data": {
            "text/plain": [
              "array([15, 15, 15, 16,  1, 10, 18,  9,  8, 14])"
            ]
          },
          "metadata": {},
          "execution_count": 2
        }
      ]
    },
    {
      "cell_type": "code",
      "source": [
        "np.where(arr==15)"
      ],
      "metadata": {
        "colab": {
          "base_uri": "https://localhost:8080/"
        },
        "id": "_DRvIr13W3Fd",
        "outputId": "ffa3780c-19d8-4057-cc8f-6464a6d7cd65"
      },
      "execution_count": null,
      "outputs": [
        {
          "output_type": "execute_result",
          "data": {
            "text/plain": [
              "(array([0, 1, 2]),)"
            ]
          },
          "metadata": {},
          "execution_count": 3
        }
      ]
    },
    {
      "cell_type": "markdown",
      "source": [
        "####67. Generate a random NumPy array and sort it in ascending order."
      ],
      "metadata": {
        "id": "HCL8-gRdXRTm"
      }
    },
    {
      "cell_type": "code",
      "source": [
        "arr = np.random.randint(1,11,5)\n",
        "arr"
      ],
      "metadata": {
        "colab": {
          "base_uri": "https://localhost:8080/"
        },
        "id": "9uXp8YdhXLI8",
        "outputId": "9dcdc2c8-7663-46a9-f68c-4ce4943de79b"
      },
      "execution_count": null,
      "outputs": [
        {
          "output_type": "execute_result",
          "data": {
            "text/plain": [
              "array([4, 8, 1, 7, 1])"
            ]
          },
          "metadata": {},
          "execution_count": 4
        }
      ]
    },
    {
      "cell_type": "code",
      "source": [
        "np.sort(arr)"
      ],
      "metadata": {
        "colab": {
          "base_uri": "https://localhost:8080/"
        },
        "id": "pUPz27iTYL7G",
        "outputId": "4028903a-4b1a-4539-9b40-ca4bb25f9602"
      },
      "execution_count": null,
      "outputs": [
        {
          "output_type": "execute_result",
          "data": {
            "text/plain": [
              "array([1, 1, 4, 7, 8])"
            ]
          },
          "metadata": {},
          "execution_count": 5
        }
      ]
    },
    {
      "cell_type": "markdown",
      "source": [
        "#### 68. Filter elements >20 in the given NumPy array.\n",
        "```arr = np.array([12, 25, 6, 42, 8, 30])```"
      ],
      "metadata": {
        "id": "182YiChNYR5o"
      }
    },
    {
      "cell_type": "code",
      "source": [
        "arr = np.array([12, 25, 6, 42, 8, 30])\n",
        "\n",
        "arr[arr>20]"
      ],
      "metadata": {
        "colab": {
          "base_uri": "https://localhost:8080/"
        },
        "id": "96OgB4a7YOKj",
        "outputId": "7f72f2b0-b685-4ba3-9b64-b55237792153"
      },
      "execution_count": null,
      "outputs": [
        {
          "output_type": "execute_result",
          "data": {
            "text/plain": [
              "array([25, 42, 30])"
            ]
          },
          "metadata": {},
          "execution_count": 6
        }
      ]
    },
    {
      "cell_type": "markdown",
      "source": [
        "#### 69. Filter elements which are divisible by 3 from a given NumPy array.\n",
        "```arr = np.array([1, 5, 8, 12, 15])```"
      ],
      "metadata": {
        "id": "p6BcYXC9Y70n"
      }
    },
    {
      "cell_type": "code",
      "source": [
        "arr = np.array([1, 5, 8, 12, 15])\n",
        "\n",
        "arr[arr%3 == 0]"
      ],
      "metadata": {
        "colab": {
          "base_uri": "https://localhost:8080/"
        },
        "id": "HV8BmdAGY3dX",
        "outputId": "f68b0db1-6718-4aa4-9a08-555b498aed57"
      },
      "execution_count": null,
      "outputs": [
        {
          "output_type": "execute_result",
          "data": {
            "text/plain": [
              "array([12, 15])"
            ]
          },
          "metadata": {},
          "execution_count": 7
        }
      ]
    },
    {
      "cell_type": "markdown",
      "source": [
        "#### 70. Filter elements which are >= 20 and <= 40 from a given NumPy array.\n",
        "```arr = np.array([10, 20, 30, 40, 50])```"
      ],
      "metadata": {
        "id": "sybNGoTPZM1P"
      }
    },
    {
      "cell_type": "code",
      "source": [
        "arr = np.array([10, 20, 30, 40, 50])\n",
        "\n",
        "arr[(arr>=20) & (arr<=40)]"
      ],
      "metadata": {
        "colab": {
          "base_uri": "https://localhost:8080/"
        },
        "id": "Zm4453XbZI79",
        "outputId": "ea6d81c8-176b-4a90-f0f3-3119c20ef684"
      },
      "execution_count": null,
      "outputs": [
        {
          "output_type": "execute_result",
          "data": {
            "text/plain": [
              "array([20, 30, 40])"
            ]
          },
          "metadata": {},
          "execution_count": 8
        }
      ]
    },
    {
      "cell_type": "markdown",
      "source": [
        "#### 71. For the given NumPy array, check its byte order using the 'dtype' attribute byteorder.\n",
        "```arr = np.array([1, 2, 3])```"
      ],
      "metadata": {
        "id": "I0jGsh8YaaKy"
      }
    },
    {
      "cell_type": "code",
      "source": [
        "arr = np.array([1, 2, 3])\n",
        "\n",
        "arr.dtype.byteorder"
      ],
      "metadata": {
        "colab": {
          "base_uri": "https://localhost:8080/",
          "height": 36
        },
        "id": "dG95KeDvaVxg",
        "outputId": "e107d15c-6887-4192-c4a5-eb4e13466fe9"
      },
      "execution_count": null,
      "outputs": [
        {
          "output_type": "execute_result",
          "data": {
            "text/plain": [
              "'='"
            ],
            "application/vnd.google.colaboratory.intrinsic+json": {
              "type": "string"
            }
          },
          "metadata": {},
          "execution_count": 9
        }
      ]
    },
    {
      "cell_type": "markdown",
      "source": [
        "#### 72. For the given NumPy array, perform byte swapping in place using 'byteswap()'.\n",
        "```arr = np.array([1, 2, 3], dtype=np.int32)```"
      ],
      "metadata": {
        "id": "-J0GZOe9bt8A"
      }
    },
    {
      "cell_type": "code",
      "source": [
        "arr = np.array([1, 2, 3], dtype=np.int32)\n",
        "\n",
        "arr.byteswap()"
      ],
      "metadata": {
        "colab": {
          "base_uri": "https://localhost:8080/"
        },
        "id": "_DyOWKiLbpHE",
        "outputId": "e8601ed5-d382-48a0-debf-4af20b0de8e2"
      },
      "execution_count": null,
      "outputs": [
        {
          "output_type": "execute_result",
          "data": {
            "text/plain": [
              "array([16777216, 33554432, 50331648], dtype=int32)"
            ]
          },
          "metadata": {},
          "execution_count": 10
        }
      ]
    },
    {
      "cell_type": "markdown",
      "source": [
        "#### 73. For the given NumPy array, swap its byte order without modifying the original array using 'newbyteorder()'.\n",
        "```arr = np.array([1, 2, 3], dtype=np.int32)```"
      ],
      "metadata": {
        "id": "-2tRNgBHcIgX"
      }
    },
    {
      "cell_type": "code",
      "source": [
        "arr = np.array([1, 2, 3], dtype=np.int32)\n",
        "arr.newbyteorder()"
      ],
      "metadata": {
        "colab": {
          "base_uri": "https://localhost:8080/"
        },
        "id": "yBnL50FvcCjN",
        "outputId": "8ea21468-a923-4367-cc46-96933a2c7d54"
      },
      "execution_count": null,
      "outputs": [
        {
          "output_type": "execute_result",
          "data": {
            "text/plain": [
              "array([16777216, 33554432, 50331648], dtype='>i4')"
            ]
          },
          "metadata": {},
          "execution_count": 11
        }
      ]
    },
    {
      "cell_type": "markdown",
      "source": [
        "#### 74. For the given NumPy array and swap its byte order conditionally based on system endianness using 'newbyteorder()'.\n",
        "```arr = np.array([1, 2, 3], dtype=np.int32)```"
      ],
      "metadata": {
        "id": "qw0FN6X6ceu7"
      }
    },
    {
      "cell_type": "code",
      "source": [
        "import numpy as np\n",
        "import sys\n",
        "\n",
        "arr = np.array([1, 2, 3], dtype=np.int32)\n",
        "arr.newbyteorder(sys.byteorder)"
      ],
      "metadata": {
        "colab": {
          "base_uri": "https://localhost:8080/"
        },
        "id": "gyeoQaUTcWJu",
        "outputId": "a97eade9-f9bf-483e-a3c9-67ca028aafeb"
      },
      "execution_count": null,
      "outputs": [
        {
          "output_type": "execute_result",
          "data": {
            "text/plain": [
              "array([1, 2, 3], dtype=int32)"
            ]
          },
          "metadata": {},
          "execution_count": 12
        }
      ]
    },
    {
      "cell_type": "markdown",
      "source": [
        "#### 75. For the given NumPy array, check if byte swapping is necessary for the current system using 'dtype' attribute 'byteorder'.\n",
        "```arr = np.array([1, 2, 3], dtype=np.int32)```"
      ],
      "metadata": {
        "id": "J9R3yL9TgRBq"
      }
    },
    {
      "cell_type": "code",
      "source": [
        "arr = np.array([1, 2, 3], dtype=np.int32)\n",
        "\n",
        "byte_order = arr.dtype.byteorder\n",
        "\n",
        "if byte_order == '=':\n",
        "    print(\"No byte swapping is necessary for the current system.\")\n",
        "else:\n",
        "    print(\"Byte swapping is necessary for the current system.\")"
      ],
      "metadata": {
        "colab": {
          "base_uri": "https://localhost:8080/"
        },
        "id": "tqXSM-gYgIDn",
        "outputId": "ba09b6ee-49dd-4a8c-ee3c-668936efcca0"
      },
      "execution_count": null,
      "outputs": [
        {
          "output_type": "stream",
          "name": "stdout",
          "text": [
            "No byte swapping is necessary for the current system.\n"
          ]
        }
      ]
    },
    {
      "cell_type": "code",
      "source": [
        "# another way\n",
        "\n",
        "arr = np.array([1, 2, 3], dtype=np.int32)\n",
        "\n",
        "byte_order = arr.dtype.byteorder\n",
        "\n",
        "if byte_order == '|':\n",
        "    print(\"Byte swapping is necessary for the current system.\")\n",
        "else:\n",
        "    print(\"No byte swapping is necessary for the current system.\")"
      ],
      "metadata": {
        "colab": {
          "base_uri": "https://localhost:8080/"
        },
        "id": "kI6UNTiEhFO1",
        "outputId": "87194e0d-8149-44b7-fd99-c0557b473d62"
      },
      "execution_count": null,
      "outputs": [
        {
          "output_type": "stream",
          "name": "stdout",
          "text": [
            "No byte swapping is necessary for the current system.\n"
          ]
        }
      ]
    },
    {
      "cell_type": "markdown",
      "source": [
        "#### 76. Create a NumPy array 'arr1' with values from 1 to 10. Create a copy of 'arr1' named 'copy_arr' and modify an element in 'copy_arr'. Check if modifying 'copy_arr' affects 'arr1'."
      ],
      "metadata": {
        "id": "0k247xG-hVJ9"
      }
    },
    {
      "cell_type": "code",
      "source": [
        "arr1 = np.arange(1, 11)\n",
        "arr1"
      ],
      "metadata": {
        "colab": {
          "base_uri": "https://localhost:8080/"
        },
        "id": "8QZV1gpXhNRp",
        "outputId": "9c7f79cd-c7bf-4971-c641-b22ee64f2f9f"
      },
      "execution_count": null,
      "outputs": [
        {
          "output_type": "execute_result",
          "data": {
            "text/plain": [
              "array([ 1,  2,  3,  4,  5,  6,  7,  8,  9, 10])"
            ]
          },
          "metadata": {},
          "execution_count": 15
        }
      ]
    },
    {
      "cell_type": "code",
      "source": [
        "copy_arr = arr1.copy()\n",
        "copy_arr"
      ],
      "metadata": {
        "colab": {
          "base_uri": "https://localhost:8080/"
        },
        "id": "CSyBDkxlhqPr",
        "outputId": "7b3e87ae-1c2a-4130-c892-0d805d4938fb"
      },
      "execution_count": null,
      "outputs": [
        {
          "output_type": "execute_result",
          "data": {
            "text/plain": [
              "array([ 1,  2,  3,  4,  5,  6,  7,  8,  9, 10])"
            ]
          },
          "metadata": {},
          "execution_count": 16
        }
      ]
    },
    {
      "cell_type": "code",
      "source": [
        "copy_arr[0] = 100\n",
        "copy_arr"
      ],
      "metadata": {
        "colab": {
          "base_uri": "https://localhost:8080/"
        },
        "id": "vOrlUuDtjsQA",
        "outputId": "5dc1a453-a900-42e8-f924-07fe3d15a740"
      },
      "execution_count": null,
      "outputs": [
        {
          "output_type": "execute_result",
          "data": {
            "text/plain": [
              "array([100,   2,   3,   4,   5,   6,   7,   8,   9,  10])"
            ]
          },
          "metadata": {},
          "execution_count": 17
        }
      ]
    },
    {
      "cell_type": "code",
      "source": [
        "arr1"
      ],
      "metadata": {
        "colab": {
          "base_uri": "https://localhost:8080/"
        },
        "id": "sgECILtqjutl",
        "outputId": "89daedb5-4062-4744-8796-e91207f70f97"
      },
      "execution_count": null,
      "outputs": [
        {
          "output_type": "execute_result",
          "data": {
            "text/plain": [
              "array([ 1,  2,  3,  4,  5,  6,  7,  8,  9, 10])"
            ]
          },
          "metadata": {},
          "execution_count": 18
        }
      ]
    },
    {
      "cell_type": "markdown",
      "source": [
        "We can see, modifying 'copy_arr' did not affect 'arr1'."
      ],
      "metadata": {
        "id": "lZFbgLfjjzcD"
      }
    },
    {
      "cell_type": "markdown",
      "source": [
        "#### 77. Create a 2D NumPy array 'matrix' of shape (3, 3) with random integers. Extract a slice 'view_slice' from the matrix. Modify an element in 'view_slice' and observe if it changes the original 'matrix'."
      ],
      "metadata": {
        "id": "IX0WWKSYj8e-"
      }
    },
    {
      "cell_type": "code",
      "source": [
        "matrix = np.random.randint(0, 10, size=(3, 3))\n",
        "print(\"Original Matrix:\")\n",
        "print(matrix)\n",
        "\n",
        "view_slice = matrix[:2, :2]\n",
        "print(\"\\nSlice View:\")\n",
        "print(view_slice)\n",
        "\n",
        "view_slice[0, 0] = 100\n",
        "\n",
        "print(\"\\nModified Matrix:\")\n",
        "print(matrix)"
      ],
      "metadata": {
        "id": "inTo7QTBjvif",
        "colab": {
          "base_uri": "https://localhost:8080/"
        },
        "outputId": "79bc852d-a557-4072-8094-6235c8f2f483"
      },
      "execution_count": null,
      "outputs": [
        {
          "output_type": "stream",
          "name": "stdout",
          "text": [
            "Original Matrix:\n",
            "[[8 7 3]\n",
            " [9 9 0]\n",
            " [9 7 6]]\n",
            "\n",
            "Slice View:\n",
            "[[8 7]\n",
            " [9 9]]\n",
            "\n",
            "Modified Matrix:\n",
            "[[100   7   3]\n",
            " [  9   9   0]\n",
            " [  9   7   6]]\n"
          ]
        }
      ]
    },
    {
      "cell_type": "markdown",
      "source": [
        "#### 78. Create a NumPy array 'array_a' of shape (4, 3) with sequential integers from 1 to 12. Extract a slice 'view_b' from 'array_a' and broadcast the addition of 5 to 'view_b'. Check if it alters the original 'array_a'."
      ],
      "metadata": {
        "id": "X_2RRMnod3lE"
      }
    },
    {
      "cell_type": "code",
      "source": [
        "array_a = np.arange(1, 13).reshape(4, 3)\n",
        "array_a"
      ],
      "metadata": {
        "colab": {
          "base_uri": "https://localhost:8080/"
        },
        "id": "Lo5aIv_td4j4",
        "outputId": "91e12c16-eb73-4c5f-96dc-be8a1ae98e53"
      },
      "execution_count": null,
      "outputs": [
        {
          "output_type": "execute_result",
          "data": {
            "text/plain": [
              "array([[ 1,  2,  3],\n",
              "       [ 4,  5,  6],\n",
              "       [ 7,  8,  9],\n",
              "       [10, 11, 12]])"
            ]
          },
          "metadata": {},
          "execution_count": 3
        }
      ]
    },
    {
      "cell_type": "code",
      "source": [
        "view_b = array_a[1:3, 1:3]\n",
        "view_b"
      ],
      "metadata": {
        "colab": {
          "base_uri": "https://localhost:8080/"
        },
        "id": "PUqUd_1vhCPG",
        "outputId": "93b306ae-11eb-4669-d91b-02c4a35433de"
      },
      "execution_count": null,
      "outputs": [
        {
          "output_type": "execute_result",
          "data": {
            "text/plain": [
              "array([[5, 6],\n",
              "       [8, 9]])"
            ]
          },
          "metadata": {},
          "execution_count": 4
        }
      ]
    },
    {
      "cell_type": "code",
      "source": [
        "view_b += 5\n",
        "view_b"
      ],
      "metadata": {
        "colab": {
          "base_uri": "https://localhost:8080/"
        },
        "id": "bKw1MbLnh9ix",
        "outputId": "326545cf-401a-4eaf-a06d-bb303f179b15"
      },
      "execution_count": null,
      "outputs": [
        {
          "output_type": "execute_result",
          "data": {
            "text/plain": [
              "array([[10, 11],\n",
              "       [13, 14]])"
            ]
          },
          "metadata": {},
          "execution_count": 5
        }
      ]
    },
    {
      "cell_type": "code",
      "source": [
        "array_a"
      ],
      "metadata": {
        "colab": {
          "base_uri": "https://localhost:8080/"
        },
        "id": "E1nJJzQgh9QD",
        "outputId": "8040f6b3-80d2-44d2-e529-4d2994fba050"
      },
      "execution_count": null,
      "outputs": [
        {
          "output_type": "execute_result",
          "data": {
            "text/plain": [
              "array([[ 1,  2,  3],\n",
              "       [ 4, 10, 11],\n",
              "       [ 7, 13, 14],\n",
              "       [10, 11, 12]])"
            ]
          },
          "metadata": {},
          "execution_count": 6
        }
      ]
    },
    {
      "cell_type": "markdown",
      "source": [
        "#### 79. Create a NumPy array 'orig_array' of shape (2, 4) with values from 1 to 8. Create a reshaped view 'reshaped_view' of shape (4, 2) from orig_array. Modify an element in 'reshaped_view' and check if it reflects changes in the original 'orig_array'."
      ],
      "metadata": {
        "id": "wmibWQGfd7Cm"
      }
    },
    {
      "cell_type": "code",
      "source": [
        "orig_array = np.arange(1, 9).reshape(2, 4)\n",
        "orig_array"
      ],
      "metadata": {
        "colab": {
          "base_uri": "https://localhost:8080/"
        },
        "id": "DZ_ryzpJd8MY",
        "outputId": "80cf006d-1c22-46d4-b5ea-93118c9291bd"
      },
      "execution_count": null,
      "outputs": [
        {
          "output_type": "execute_result",
          "data": {
            "text/plain": [
              "array([[1, 2, 3, 4],\n",
              "       [5, 6, 7, 8]])"
            ]
          },
          "metadata": {},
          "execution_count": 7
        }
      ]
    },
    {
      "cell_type": "code",
      "source": [
        "reshaped_view = orig_array.reshape(4, 2)\n",
        "reshaped_view"
      ],
      "metadata": {
        "colab": {
          "base_uri": "https://localhost:8080/"
        },
        "id": "g1NtJqtgikZQ",
        "outputId": "21f96dbd-99b9-474e-d993-5d2bd54b83bb"
      },
      "execution_count": null,
      "outputs": [
        {
          "output_type": "execute_result",
          "data": {
            "text/plain": [
              "array([[1, 2],\n",
              "       [3, 4],\n",
              "       [5, 6],\n",
              "       [7, 8]])"
            ]
          },
          "metadata": {},
          "execution_count": 8
        }
      ]
    },
    {
      "cell_type": "code",
      "source": [
        "reshaped_view[3,1] = 100\n",
        "reshaped_view"
      ],
      "metadata": {
        "colab": {
          "base_uri": "https://localhost:8080/"
        },
        "id": "OsUGQA5jiw3l",
        "outputId": "728cda97-1286-4b83-e551-2c17862e061b"
      },
      "execution_count": null,
      "outputs": [
        {
          "output_type": "execute_result",
          "data": {
            "text/plain": [
              "array([[  1,   2],\n",
              "       [  3,   4],\n",
              "       [  5,   6],\n",
              "       [  7, 100]])"
            ]
          },
          "metadata": {},
          "execution_count": 9
        }
      ]
    },
    {
      "cell_type": "code",
      "source": [
        "orig_array"
      ],
      "metadata": {
        "colab": {
          "base_uri": "https://localhost:8080/"
        },
        "id": "Fubr5bHujhBU",
        "outputId": "35bca496-b0fa-41e7-81f8-9107cfffe4a0"
      },
      "execution_count": null,
      "outputs": [
        {
          "output_type": "execute_result",
          "data": {
            "text/plain": [
              "array([[  1,   2,   3,   4],\n",
              "       [  5,   6,   7, 100]])"
            ]
          },
          "metadata": {},
          "execution_count": 10
        }
      ]
    },
    {
      "cell_type": "markdown",
      "source": [
        "#### 80. Create a NumPy array 'data' of shape (3, 4) with random integers. Extract a copy 'data_copy' of elements greater than 5. Modify an element in 'data_copy' and verify if it affects the original 'data'."
      ],
      "metadata": {
        "id": "02zgAoHrd_ri"
      }
    },
    {
      "cell_type": "code",
      "source": [
        "data = np.random.randint(1, 21, (3,4))\n",
        "data"
      ],
      "metadata": {
        "colab": {
          "base_uri": "https://localhost:8080/"
        },
        "id": "gDLpiCDneAmP",
        "outputId": "a6e9da7c-bff5-4b53-e88d-e02e30facc71"
      },
      "execution_count": null,
      "outputs": [
        {
          "output_type": "execute_result",
          "data": {
            "text/plain": [
              "array([[18, 19,  1, 13],\n",
              "       [12,  3, 18, 20],\n",
              "       [ 8,  7,  1, 11]])"
            ]
          },
          "metadata": {},
          "execution_count": 11
        }
      ]
    },
    {
      "cell_type": "code",
      "source": [
        "data_copy = np.copy(data[data>5])\n",
        "data_copy"
      ],
      "metadata": {
        "colab": {
          "base_uri": "https://localhost:8080/"
        },
        "id": "P31a3fDJjzPt",
        "outputId": "d0794aac-bf45-4e68-983b-3958fef896f2"
      },
      "execution_count": null,
      "outputs": [
        {
          "output_type": "execute_result",
          "data": {
            "text/plain": [
              "array([18, 19, 13, 12, 18, 20,  8,  7, 11])"
            ]
          },
          "metadata": {},
          "execution_count": 12
        }
      ]
    },
    {
      "cell_type": "code",
      "source": [
        "data_copy[0] = 100\n",
        "data_copy"
      ],
      "metadata": {
        "colab": {
          "base_uri": "https://localhost:8080/"
        },
        "id": "WrNtC4eImHkN",
        "outputId": "ca920221-38f7-4ccd-f35d-59e2663da11b"
      },
      "execution_count": null,
      "outputs": [
        {
          "output_type": "execute_result",
          "data": {
            "text/plain": [
              "array([100,  19,  13,  12,  18,  20,   8,   7,  11])"
            ]
          },
          "metadata": {},
          "execution_count": 13
        }
      ]
    },
    {
      "cell_type": "code",
      "source": [
        "data"
      ],
      "metadata": {
        "colab": {
          "base_uri": "https://localhost:8080/"
        },
        "id": "o1hHAbyKmHX3",
        "outputId": "16fc4162-914f-4d9e-d18f-3f66e4c4a963"
      },
      "execution_count": null,
      "outputs": [
        {
          "output_type": "execute_result",
          "data": {
            "text/plain": [
              "array([[18, 19,  1, 13],\n",
              "       [12,  3, 18, 20],\n",
              "       [ 8,  7,  1, 11]])"
            ]
          },
          "metadata": {},
          "execution_count": 14
        }
      ]
    },
    {
      "cell_type": "markdown",
      "source": [
        "We can see that modifying an element in 'data_copy' does not affect the original 'data'."
      ],
      "metadata": {
        "id": "AsDMDaeemSkx"
      }
    },
    {
      "cell_type": "markdown",
      "source": [
        "#### 81. Create two matrices A and B of identical shape containing integers and perform addition and subtraction operations between them."
      ],
      "metadata": {
        "id": "XgEOd7h8eCtj"
      }
    },
    {
      "cell_type": "code",
      "source": [
        "A = np.random.randint(0,10, (2,3))\n",
        "B = np.random.randint(0,10, (2,3))"
      ],
      "metadata": {
        "id": "gsGFlGBXeDkN"
      },
      "execution_count": null,
      "outputs": []
    },
    {
      "cell_type": "code",
      "source": [
        "A"
      ],
      "metadata": {
        "colab": {
          "base_uri": "https://localhost:8080/"
        },
        "id": "MGmlA_Rhm1J9",
        "outputId": "efa91416-9437-40f0-e6ab-ccb903999b08"
      },
      "execution_count": null,
      "outputs": [
        {
          "output_type": "execute_result",
          "data": {
            "text/plain": [
              "array([[0, 2, 7],\n",
              "       [4, 0, 3]])"
            ]
          },
          "metadata": {},
          "execution_count": 16
        }
      ]
    },
    {
      "cell_type": "code",
      "source": [
        "B"
      ],
      "metadata": {
        "colab": {
          "base_uri": "https://localhost:8080/"
        },
        "id": "Uu9h0kDwm1A4",
        "outputId": "05495566-87fe-45ed-82f5-19630ab15368"
      },
      "execution_count": null,
      "outputs": [
        {
          "output_type": "execute_result",
          "data": {
            "text/plain": [
              "array([[9, 8, 5],\n",
              "       [3, 4, 1]])"
            ]
          },
          "metadata": {},
          "execution_count": 17
        }
      ]
    },
    {
      "cell_type": "code",
      "source": [
        "# Addition operation\n",
        "A+B"
      ],
      "metadata": {
        "colab": {
          "base_uri": "https://localhost:8080/"
        },
        "id": "7CvMyrEMm0tX",
        "outputId": "c06cfbfd-be51-4569-f69e-4d6f3defac98"
      },
      "execution_count": null,
      "outputs": [
        {
          "output_type": "execute_result",
          "data": {
            "text/plain": [
              "array([[ 9, 10, 12],\n",
              "       [ 7,  4,  4]])"
            ]
          },
          "metadata": {},
          "execution_count": 18
        }
      ]
    },
    {
      "cell_type": "code",
      "source": [
        "# Subtraction operation\n",
        "A-B"
      ],
      "metadata": {
        "colab": {
          "base_uri": "https://localhost:8080/"
        },
        "id": "zVs9Fn6cm0gp",
        "outputId": "731880fc-003c-4889-e833-afe08f23fa03"
      },
      "execution_count": null,
      "outputs": [
        {
          "output_type": "execute_result",
          "data": {
            "text/plain": [
              "array([[-9, -6,  2],\n",
              "       [ 1, -4,  2]])"
            ]
          },
          "metadata": {},
          "execution_count": 19
        }
      ]
    },
    {
      "cell_type": "markdown",
      "source": [
        "#### 82. Generate two matrices 'C' (3x2) and 'D' (2x4) and perform matrix multiplication."
      ],
      "metadata": {
        "id": "Irwsv68xeFwQ"
      }
    },
    {
      "cell_type": "code",
      "source": [
        "C = np.random.randint(0,10, (3,2))\n",
        "D = np.random.randint(0,10, (2,4))"
      ],
      "metadata": {
        "id": "kN0fkAdReGd3"
      },
      "execution_count": null,
      "outputs": []
    },
    {
      "cell_type": "code",
      "source": [
        "C"
      ],
      "metadata": {
        "colab": {
          "base_uri": "https://localhost:8080/"
        },
        "id": "gJXlBm97nHQN",
        "outputId": "ee9a8877-92cb-479a-e9cf-5e5795672d11"
      },
      "execution_count": null,
      "outputs": [
        {
          "output_type": "execute_result",
          "data": {
            "text/plain": [
              "array([[4, 0],\n",
              "       [4, 1],\n",
              "       [6, 8]])"
            ]
          },
          "metadata": {},
          "execution_count": 21
        }
      ]
    },
    {
      "cell_type": "code",
      "source": [
        "D"
      ],
      "metadata": {
        "colab": {
          "base_uri": "https://localhost:8080/"
        },
        "id": "guWVPZSsnHJU",
        "outputId": "71ff22df-abb2-41ff-fe21-b0589ecb778a"
      },
      "execution_count": null,
      "outputs": [
        {
          "output_type": "execute_result",
          "data": {
            "text/plain": [
              "array([[8, 4, 9, 4],\n",
              "       [6, 2, 4, 6]])"
            ]
          },
          "metadata": {},
          "execution_count": 22
        }
      ]
    },
    {
      "cell_type": "code",
      "source": [
        "C @ D # Returns dot product"
      ],
      "metadata": {
        "colab": {
          "base_uri": "https://localhost:8080/"
        },
        "id": "Fm-GvC4dnHDg",
        "outputId": "1f91ada0-a0a8-4ec7-bfc4-9bfdde99c24f"
      },
      "execution_count": null,
      "outputs": [
        {
          "output_type": "execute_result",
          "data": {
            "text/plain": [
              "array([[32, 16, 36, 16],\n",
              "       [38, 18, 40, 22],\n",
              "       [96, 40, 86, 72]])"
            ]
          },
          "metadata": {},
          "execution_count": 23
        }
      ]
    },
    {
      "cell_type": "code",
      "source": [
        "# Matrix multiplication with dot product\n",
        "np.dot(C, D)"
      ],
      "metadata": {
        "colab": {
          "base_uri": "https://localhost:8080/"
        },
        "id": "uX0HchoioEDk",
        "outputId": "7798ece1-a458-4cc4-cebf-6f7b6fd7174b"
      },
      "execution_count": null,
      "outputs": [
        {
          "output_type": "execute_result",
          "data": {
            "text/plain": [
              "array([[32, 16, 36, 16],\n",
              "       [38, 18, 40, 22],\n",
              "       [96, 40, 86, 72]])"
            ]
          },
          "metadata": {},
          "execution_count": 24
        }
      ]
    },
    {
      "cell_type": "markdown",
      "source": [
        "#### 83. Create a matrix 'E' and find its transpose."
      ],
      "metadata": {
        "id": "J0xuI1RFeIko"
      }
    },
    {
      "cell_type": "code",
      "source": [
        "E = np.random.randint(0,10, (3,2))\n",
        "E"
      ],
      "metadata": {
        "colab": {
          "base_uri": "https://localhost:8080/"
        },
        "id": "bFaHpub-eJvY",
        "outputId": "f063732c-bec2-4ac7-9621-e07b28373329"
      },
      "execution_count": null,
      "outputs": [
        {
          "output_type": "execute_result",
          "data": {
            "text/plain": [
              "array([[8, 8],\n",
              "       [9, 7],\n",
              "       [5, 9]])"
            ]
          },
          "metadata": {},
          "execution_count": 26
        }
      ]
    },
    {
      "cell_type": "code",
      "source": [
        "# Transpose of E\n",
        "E.T"
      ],
      "metadata": {
        "colab": {
          "base_uri": "https://localhost:8080/"
        },
        "id": "XhoiXWjbolyt",
        "outputId": "f509aa94-8dbd-418c-e00f-e1355dca985a"
      },
      "execution_count": null,
      "outputs": [
        {
          "output_type": "execute_result",
          "data": {
            "text/plain": [
              "array([[8, 9, 5],\n",
              "       [8, 7, 9]])"
            ]
          },
          "metadata": {},
          "execution_count": 27
        }
      ]
    },
    {
      "cell_type": "markdown",
      "source": [
        "#### 84. Generate a square matrix 'F' and compute its determinant."
      ],
      "metadata": {
        "id": "A4Rb8e4teNEo"
      }
    },
    {
      "cell_type": "code",
      "source": [
        "F = np.random.randint(0,10, (3,3))\n",
        "F"
      ],
      "metadata": {
        "colab": {
          "base_uri": "https://localhost:8080/"
        },
        "id": "oXSInBROeN7p",
        "outputId": "498a547a-a584-4e96-d00d-de3aad6fed92"
      },
      "execution_count": null,
      "outputs": [
        {
          "output_type": "execute_result",
          "data": {
            "text/plain": [
              "array([[4, 8, 1],\n",
              "       [1, 9, 3],\n",
              "       [9, 5, 6]])"
            ]
          },
          "metadata": {},
          "execution_count": 28
        }
      ]
    },
    {
      "cell_type": "code",
      "source": [
        "# Compute determinant\n",
        "np.linalg.det(F)"
      ],
      "metadata": {
        "colab": {
          "base_uri": "https://localhost:8080/"
        },
        "id": "gufpdLqGpUpl",
        "outputId": "84cc552b-6fdc-440c-97f4-8981126984e8"
      },
      "execution_count": null,
      "outputs": [
        {
          "output_type": "execute_result",
          "data": {
            "text/plain": [
              "247.99999999999986"
            ]
          },
          "metadata": {},
          "execution_count": 29
        }
      ]
    },
    {
      "cell_type": "markdown",
      "source": [
        "#### 85. Create a square matrix 'G' and find its inverse."
      ],
      "metadata": {
        "id": "JjTGHjVseQfK"
      }
    },
    {
      "cell_type": "code",
      "source": [
        "G = np.random.randint(0,10, (3,3))\n",
        "G"
      ],
      "metadata": {
        "colab": {
          "base_uri": "https://localhost:8080/"
        },
        "id": "aukMZKw9eReq",
        "outputId": "c7ee8026-446a-4ece-cf14-b970e6db23c3"
      },
      "execution_count": null,
      "outputs": [
        {
          "output_type": "execute_result",
          "data": {
            "text/plain": [
              "array([[6, 5, 1],\n",
              "       [9, 5, 9],\n",
              "       [4, 4, 8]])"
            ]
          },
          "metadata": {},
          "execution_count": 30
        }
      ]
    },
    {
      "cell_type": "code",
      "source": [
        "# Find inverse of G\n",
        "np.linalg.inv(G)"
      ],
      "metadata": {
        "colab": {
          "base_uri": "https://localhost:8080/"
        },
        "id": "AX4YYbsapbeM",
        "outputId": "a18c046e-af54-4b09-d7e8-e6e64e1cdd41"
      },
      "execution_count": null,
      "outputs": [
        {
          "output_type": "execute_result",
          "data": {
            "text/plain": [
              "array([[-0.02857143,  0.25714286, -0.28571429],\n",
              "       [ 0.25714286, -0.31428571,  0.32142857],\n",
              "       [-0.11428571,  0.02857143,  0.10714286]])"
            ]
          },
          "metadata": {},
          "execution_count": 31
        }
      ]
    }
  ]
}