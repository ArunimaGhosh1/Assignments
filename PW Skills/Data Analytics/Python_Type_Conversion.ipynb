{
 "cells": [
  {
   "cell_type": "markdown",
   "id": "a2a6bbae-7bc0-4f7f-aed6-69a8ccaa686b",
   "metadata": {},
   "source": [
    "1. Convert an integer to a floating-point number."
   ]
  },
  {
   "cell_type": "code",
   "execution_count": 1,
   "id": "5916972e-b51a-451c-be0e-cae92f1944c9",
   "metadata": {},
   "outputs": [
    {
     "data": {
      "text/plain": [
       "float"
      ]
     },
     "execution_count": 1,
     "metadata": {},
     "output_type": "execute_result"
    }
   ],
   "source": [
    "x=15\n",
    "y=float(15)\n",
    "type(y)"
   ]
  },
  {
   "cell_type": "code",
   "execution_count": 2,
   "id": "4b84e718-fafc-4122-bf30-c68f4b7211e2",
   "metadata": {},
   "outputs": [
    {
     "data": {
      "text/plain": [
       "15.0"
      ]
     },
     "execution_count": 2,
     "metadata": {},
     "output_type": "execute_result"
    }
   ],
   "source": [
    "y"
   ]
  },
  {
   "cell_type": "markdown",
   "id": "2dca56f5-cab7-4906-a6b4-01f801f48574",
   "metadata": {},
   "source": [
    "2. Convert a float to an integer."
   ]
  },
  {
   "cell_type": "code",
   "execution_count": 3,
   "id": "1aace5b6-65cd-43ba-8fa4-837a7e8afab0",
   "metadata": {},
   "outputs": [
    {
     "data": {
      "text/plain": [
       "int"
      ]
     },
     "execution_count": 3,
     "metadata": {},
     "output_type": "execute_result"
    }
   ],
   "source": [
    "a=12.7\n",
    "b=int(a)\n",
    "type(b)"
   ]
  },
  {
   "cell_type": "code",
   "execution_count": 4,
   "id": "17f56477-92de-47f2-b07c-2d75a52602b4",
   "metadata": {},
   "outputs": [
    {
     "data": {
      "text/plain": [
       "12"
      ]
     },
     "execution_count": 4,
     "metadata": {},
     "output_type": "execute_result"
    }
   ],
   "source": [
    "b"
   ]
  },
  {
   "cell_type": "markdown",
   "id": "7bf208ee-0f7e-467b-85ac-b7eaeb9cbf99",
   "metadata": {},
   "source": [
    "3. Covert an integer to a string."
   ]
  },
  {
   "cell_type": "code",
   "execution_count": 5,
   "id": "0bbe9644-e725-4242-ae2a-5906735f36c1",
   "metadata": {},
   "outputs": [
    {
     "data": {
      "text/plain": [
       "str"
      ]
     },
     "execution_count": 5,
     "metadata": {},
     "output_type": "execute_result"
    }
   ],
   "source": [
    "int=45\n",
    "int_to_str=str(int)\n",
    "type(int_to_str)"
   ]
  },
  {
   "cell_type": "code",
   "execution_count": 7,
   "id": "6fad1368-7879-4162-95fb-642953079894",
   "metadata": {},
   "outputs": [
    {
     "data": {
      "text/plain": [
       "'45'"
      ]
     },
     "execution_count": 7,
     "metadata": {},
     "output_type": "execute_result"
    }
   ],
   "source": [
    "int_to_str"
   ]
  },
  {
   "cell_type": "markdown",
   "id": "1f9b87cb-784d-4237-8daf-e24e56b9e0ee",
   "metadata": {},
   "source": [
    "4. Convert a list to a tuple."
   ]
  },
  {
   "cell_type": "code",
   "execution_count": 8,
   "id": "6d756588-11cd-40c6-b266-ae9daae48c6e",
   "metadata": {},
   "outputs": [
    {
     "data": {
      "text/plain": [
       "tuple"
      ]
     },
     "execution_count": 8,
     "metadata": {},
     "output_type": "execute_result"
    }
   ],
   "source": [
    "list=[1, 2, \"apple\", \"data science\"]\n",
    "tuple=tuple(list)\n",
    "type(tuple)"
   ]
  },
  {
   "cell_type": "code",
   "execution_count": 9,
   "id": "a78b709f-a1bf-47bf-a303-f0d0c52f05e7",
   "metadata": {},
   "outputs": [
    {
     "data": {
      "text/plain": [
       "(1, 2, 'apple', 'data science')"
      ]
     },
     "execution_count": 9,
     "metadata": {},
     "output_type": "execute_result"
    }
   ],
   "source": [
    "tuple"
   ]
  },
  {
   "cell_type": "markdown",
   "id": "819e40b0-c60d-403d-bc3e-9b5afaddf7a8",
   "metadata": {},
   "source": [
    "5. Convert a tuple to a list."
   ]
  },
  {
   "cell_type": "code",
   "execution_count": 24,
   "id": "71b5183a-fc39-415a-ad8a-a043f18fd24a",
   "metadata": {},
   "outputs": [
    {
     "ename": "SyntaxError",
     "evalue": "invalid syntax (1225726417.py, line 2)",
     "output_type": "error",
     "traceback": [
      "\u001b[0;36m  Cell \u001b[0;32mIn[24], line 2\u001b[0;36m\u001b[0m\n\u001b[0;31m    my_list= (list) my_tuple\u001b[0m\n\u001b[0m                    ^\u001b[0m\n\u001b[0;31mSyntaxError\u001b[0m\u001b[0;31m:\u001b[0m invalid syntax\n"
     ]
    }
   ],
   "source": [
    "my_tuple=(1, 2, 'orange', 'PW Skills')\n",
    "my_list= list (my_tuple)\n",
    "my_list"
   ]
  },
  {
   "cell_type": "markdown",
   "id": "297f1141-d675-497b-8ea5-9af166a96a83",
   "metadata": {},
   "source": [
    "6. Convert a decimal number to binary."
   ]
  },
  {
   "cell_type": "code",
   "execution_count": 17,
   "id": "f0843074-915c-436d-ba3e-1f56d90937b7",
   "metadata": {},
   "outputs": [
    {
     "data": {
      "text/plain": [
       "'0b10010'"
      ]
     },
     "execution_count": 17,
     "metadata": {},
     "output_type": "execute_result"
    }
   ],
   "source": [
    "decimal_number=18\n",
    "binary_number=bin(decimal_number)\n",
    "binary_number"
   ]
  },
  {
   "cell_type": "markdown",
   "id": "4c3a546f-22ee-4533-8c57-849428fb1f79",
   "metadata": {},
   "source": [
    "7. Convert a non-zero number to boolean."
   ]
  },
  {
   "cell_type": "code",
   "execution_count": 19,
   "id": "f2015a0c-6a14-4d79-b0c6-c026b42831ff",
   "metadata": {},
   "outputs": [
    {
     "data": {
      "text/plain": [
       "True"
      ]
     },
     "execution_count": 19,
     "metadata": {},
     "output_type": "execute_result"
    }
   ],
   "source": [
    "number=5\n",
    "boolean_value=bool(number)\n",
    "boolean_value"
   ]
  }
 ],
 "metadata": {
  "kernelspec": {
   "display_name": "Python 3 (ipykernel)",
   "language": "python",
   "name": "python3"
  },
  "language_info": {
   "codemirror_mode": {
    "name": "ipython",
    "version": 3
   },
   "file_extension": ".py",
   "mimetype": "text/x-python",
   "name": "python",
   "nbconvert_exporter": "python",
   "pygments_lexer": "ipython3",
   "version": "3.10.8"
  }
 },
 "nbformat": 4,
 "nbformat_minor": 5
}
