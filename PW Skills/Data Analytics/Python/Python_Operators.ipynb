{
 "cells": [
  {
   "cell_type": "markdown",
   "id": "e46e9ef1-d34f-400f-bd42-1694f579496a",
   "metadata": {},
   "source": [
    "1. Calculate the sum, difference, product, and quotient of two numbers."
   ]
  },
  {
   "cell_type": "code",
   "execution_count": 1,
   "id": "de144ae8-03dc-447e-87b3-7925e2d559b1",
   "metadata": {},
   "outputs": [
    {
     "data": {
      "text/plain": [
       "17"
      ]
     },
     "execution_count": 1,
     "metadata": {},
     "output_type": "execute_result"
    }
   ],
   "source": [
    "#Sum\n",
    "a=5\n",
    "b=12\n",
    "a+b"
   ]
  },
  {
   "cell_type": "code",
   "execution_count": 2,
   "id": "597bf550-2085-4c1f-b571-8e507e536598",
   "metadata": {},
   "outputs": [
    {
     "name": "stdout",
     "output_type": "stream",
     "text": [
      "7\n"
     ]
    }
   ],
   "source": [
    "add=4+3\n",
    "print(add)"
   ]
  },
  {
   "cell_type": "code",
   "execution_count": 3,
   "id": "0b188bd9-c7ba-413f-98c0-51b237796419",
   "metadata": {},
   "outputs": [
    {
     "name": "stdout",
     "output_type": "stream",
     "text": [
      "8\n"
     ]
    }
   ],
   "source": [
    "#Difference\n",
    "c=15\n",
    "d=7\n",
    "print(c-d)"
   ]
  },
  {
   "cell_type": "code",
   "execution_count": 4,
   "id": "eeed42de-1b56-4b45-ab41-5d2047654e36",
   "metadata": {},
   "outputs": [
    {
     "name": "stdout",
     "output_type": "stream",
     "text": [
      "32\n"
     ]
    }
   ],
   "source": [
    "#Product\n",
    "print(4*8)"
   ]
  },
  {
   "cell_type": "code",
   "execution_count": 5,
   "id": "95072431-1dec-44a0-98fd-d4d5e763ddf7",
   "metadata": {},
   "outputs": [
    {
     "name": "stdout",
     "output_type": "stream",
     "text": [
      "0.6\n"
     ]
    }
   ],
   "source": [
    "#Quotient\n",
    "x=12\n",
    "y=20\n",
    "print(x/y)"
   ]
  },
  {
   "cell_type": "markdown",
   "id": "150e2222-955a-4118-8f59-d37da91ac1a3",
   "metadata": {},
   "source": [
    "2. Perform various assignment operations on a variable."
   ]
  },
  {
   "cell_type": "code",
   "execution_count": 6,
   "id": "0c387295-8672-40fd-b497-eab3d226714a",
   "metadata": {},
   "outputs": [],
   "source": [
    "x = 10"
   ]
  },
  {
   "cell_type": "code",
   "execution_count": 7,
   "id": "7a225b87-2f04-46d6-b3e2-c1a435cbd194",
   "metadata": {},
   "outputs": [
    {
     "data": {
      "text/plain": [
       "15"
      ]
     },
     "execution_count": 7,
     "metadata": {},
     "output_type": "execute_result"
    }
   ],
   "source": [
    "#Addition\n",
    "x=x+5\n",
    "x"
   ]
  },
  {
   "cell_type": "code",
   "execution_count": 8,
   "id": "166ade2d-ca3e-4573-a70b-12c302bfbaae",
   "metadata": {},
   "outputs": [
    {
     "data": {
      "text/plain": [
       "18"
      ]
     },
     "execution_count": 8,
     "metadata": {},
     "output_type": "execute_result"
    }
   ],
   "source": [
    "x += 3\n",
    "x"
   ]
  },
  {
   "cell_type": "code",
   "execution_count": 9,
   "id": "466e2170-6a05-4b7e-8c17-28b68de4e7fc",
   "metadata": {},
   "outputs": [
    {
     "data": {
      "text/plain": [
       "13"
      ]
     },
     "execution_count": 9,
     "metadata": {},
     "output_type": "execute_result"
    }
   ],
   "source": [
    "#Subtraction\n",
    "x -= 5\n",
    "x"
   ]
  },
  {
   "cell_type": "code",
   "execution_count": 10,
   "id": "ed286ef9-9417-4b6a-8d4a-9f5efba16ef8",
   "metadata": {},
   "outputs": [
    {
     "data": {
      "text/plain": [
       "26"
      ]
     },
     "execution_count": 10,
     "metadata": {},
     "output_type": "execute_result"
    }
   ],
   "source": [
    "#Multiplication\n",
    "x *= 2\n",
    "x"
   ]
  },
  {
   "cell_type": "code",
   "execution_count": 11,
   "id": "2ab91aab-5ff4-41b5-b545-bbc42666a515",
   "metadata": {},
   "outputs": [
    {
     "data": {
      "text/plain": [
       "13.0"
      ]
     },
     "execution_count": 11,
     "metadata": {},
     "output_type": "execute_result"
    }
   ],
   "source": [
    "#Division\n",
    "x /= 2\n",
    "x"
   ]
  },
  {
   "cell_type": "markdown",
   "id": "6451e3f3-a87d-4ed1-846e-957fe39031f9",
   "metadata": {},
   "source": [
    "3. Compare two numbers and print the results."
   ]
  },
  {
   "cell_type": "code",
   "execution_count": 12,
   "id": "d9003b9f-17b8-4b77-bc1d-296e4de5217a",
   "metadata": {},
   "outputs": [
    {
     "data": {
      "text/plain": [
       "True"
      ]
     },
     "execution_count": 12,
     "metadata": {},
     "output_type": "execute_result"
    }
   ],
   "source": [
    "5 == 5"
   ]
  },
  {
   "cell_type": "code",
   "execution_count": 13,
   "id": "36446491-1527-4e24-bedd-ba0e0b88b1ff",
   "metadata": {},
   "outputs": [
    {
     "data": {
      "text/plain": [
       "False"
      ]
     },
     "execution_count": 13,
     "metadata": {},
     "output_type": "execute_result"
    }
   ],
   "source": [
    "50 != 50"
   ]
  },
  {
   "cell_type": "code",
   "execution_count": 14,
   "id": "19e3a536-0572-4ec4-9c21-a11710cf6409",
   "metadata": {},
   "outputs": [
    {
     "data": {
      "text/plain": [
       "False"
      ]
     },
     "execution_count": 14,
     "metadata": {},
     "output_type": "execute_result"
    }
   ],
   "source": [
    "32 > 35"
   ]
  },
  {
   "cell_type": "code",
   "execution_count": 15,
   "id": "97f5da2e-2db2-4ef6-82c2-a457acb250ee",
   "metadata": {},
   "outputs": [
    {
     "data": {
      "text/plain": [
       "True"
      ]
     },
     "execution_count": 15,
     "metadata": {},
     "output_type": "execute_result"
    }
   ],
   "source": [
    "15 < 20"
   ]
  },
  {
   "cell_type": "code",
   "execution_count": 16,
   "id": "0f6ae9de-1f33-4d0f-ac21-ac11efbe442e",
   "metadata": {},
   "outputs": [
    {
     "data": {
      "text/plain": [
       "True"
      ]
     },
     "execution_count": 16,
     "metadata": {},
     "output_type": "execute_result"
    }
   ],
   "source": [
    "10 >= 10"
   ]
  },
  {
   "cell_type": "code",
   "execution_count": 17,
   "id": "d58813d4-a1f0-4d2a-9e72-cd30f1591c95",
   "metadata": {},
   "outputs": [
    {
     "data": {
      "text/plain": [
       "False"
      ]
     },
     "execution_count": 17,
     "metadata": {},
     "output_type": "execute_result"
    }
   ],
   "source": [
    "12 <= 11"
   ]
  },
  {
   "cell_type": "markdown",
   "id": "8d008d04-8fdd-4e45-b704-bc7c64b3295d",
   "metadata": {},
   "source": [
    "4. Check conditions using logical operators."
   ]
  },
  {
   "cell_type": "code",
   "execution_count": 18,
   "id": "ddb232a8-9504-40f5-bbc4-da330cca8936",
   "metadata": {},
   "outputs": [
    {
     "data": {
      "text/plain": [
       "True"
      ]
     },
     "execution_count": 18,
     "metadata": {},
     "output_type": "execute_result"
    }
   ],
   "source": [
    "#and, or, not are Logical Operators\n",
    "True and True"
   ]
  },
  {
   "cell_type": "code",
   "execution_count": 19,
   "id": "6c3e23ef-dadf-4eb0-a780-65c7b6ae4463",
   "metadata": {},
   "outputs": [
    {
     "data": {
      "text/plain": [
       "False"
      ]
     },
     "execution_count": 19,
     "metadata": {},
     "output_type": "execute_result"
    }
   ],
   "source": [
    "False and True"
   ]
  },
  {
   "cell_type": "code",
   "execution_count": 20,
   "id": "06bb1ac1-1e23-4f7c-b1f9-659131d99600",
   "metadata": {},
   "outputs": [
    {
     "name": "stdout",
     "output_type": "stream",
     "text": [
      "Both x and y are positive.\n"
     ]
    }
   ],
   "source": [
    "x = 5\n",
    "y = 10\n",
    "if x > 0 and y > 0:\n",
    "    print(\"Both x and y are positive.\")"
   ]
  },
  {
   "cell_type": "code",
   "execution_count": 21,
   "id": "1394c90b-5f62-455b-837d-380400ad0884",
   "metadata": {},
   "outputs": [
    {
     "data": {
      "text/plain": [
       "1"
      ]
     },
     "execution_count": 21,
     "metadata": {},
     "output_type": "execute_result"
    }
   ],
   "source": [
    "0 or 1"
   ]
  },
  {
   "cell_type": "code",
   "execution_count": 22,
   "id": "e5560162-c1f4-40b4-99b5-61b0df4a985f",
   "metadata": {},
   "outputs": [
    {
     "name": "stdout",
     "output_type": "stream",
     "text": [
      "I will not play outside\n"
     ]
    }
   ],
   "source": [
    "is_raining = False\n",
    "is_sunny = True\n",
    "if is_raining or is_sunny:\n",
    "    print(\"I will not play outside\")"
   ]
  },
  {
   "cell_type": "code",
   "execution_count": 23,
   "id": "fce6b533-220f-4bc5-ad0d-0d761709fcfc",
   "metadata": {},
   "outputs": [
    {
     "data": {
      "text/plain": [
       "False"
      ]
     },
     "execution_count": 23,
     "metadata": {},
     "output_type": "execute_result"
    }
   ],
   "source": [
    "False or False"
   ]
  },
  {
   "cell_type": "code",
   "execution_count": 24,
   "id": "20e1fcd1-81bc-4862-9060-6f14e2777e27",
   "metadata": {},
   "outputs": [
    {
     "name": "stdout",
     "output_type": "stream",
     "text": [
      "I am going to play outside\n"
     ]
    }
   ],
   "source": [
    "is_raining = False\n",
    "is_sunny = False\n",
    "if is_raining or is_sunny:\n",
    "    print(\"I will not play outside\")\n",
    "else:\n",
    "    print(\"I am going to play outside\")"
   ]
  },
  {
   "cell_type": "code",
   "execution_count": 25,
   "id": "97213cd6-ac7b-4dd7-8bcb-39306002b4a8",
   "metadata": {},
   "outputs": [
    {
     "data": {
      "text/plain": [
       "False"
      ]
     },
     "execution_count": 25,
     "metadata": {},
     "output_type": "execute_result"
    }
   ],
   "source": [
    "not True"
   ]
  },
  {
   "cell_type": "code",
   "execution_count": 26,
   "id": "a46dd45e-8111-4d67-816b-809683c8e1fe",
   "metadata": {},
   "outputs": [
    {
     "name": "stdout",
     "output_type": "stream",
     "text": [
      "a is not greater than 15\n"
     ]
    }
   ],
   "source": [
    "a = 10\n",
    "if not a > 15:\n",
    "    print(\"a is not greater than 15\")"
   ]
  },
  {
   "cell_type": "code",
   "execution_count": 27,
   "id": "383fbf9f-769b-4fa8-8ccb-c49879609359",
   "metadata": {},
   "outputs": [
    {
     "data": {
      "text/plain": [
       "True"
      ]
     },
     "execution_count": 27,
     "metadata": {},
     "output_type": "execute_result"
    }
   ],
   "source": [
    "not False"
   ]
  },
  {
   "cell_type": "code",
   "execution_count": 28,
   "id": "c4ed021e-27ef-4c7d-814f-3bd00c6021f7",
   "metadata": {},
   "outputs": [
    {
     "name": "stdout",
     "output_type": "stream",
     "text": [
      "You are an adult\n"
     ]
    }
   ],
   "source": [
    "age = 24\n",
    "if not age >= 18:\n",
    "    print(\"You are not an adult\")\n",
    "else:\n",
    "    print(\"You are an adult\")"
   ]
  },
  {
   "cell_type": "markdown",
   "id": "35d577b2-824f-4025-b28c-b6cc2f9f6b24",
   "metadata": {},
   "source": [
    "5. Check the identity of variables."
   ]
  },
  {
   "cell_type": "code",
   "execution_count": 29,
   "id": "ebc251ef-9f76-49b5-af4e-39ce13c4aed6",
   "metadata": {},
   "outputs": [
    {
     "data": {
      "text/plain": [
       "True"
      ]
     },
     "execution_count": 29,
     "metadata": {},
     "output_type": "execute_result"
    }
   ],
   "source": [
    "a = \"Pw Skills\"\n",
    "b = a\n",
    "a is b"
   ]
  },
  {
   "cell_type": "code",
   "execution_count": 30,
   "id": "b434e1b4-b38c-4570-93f0-3d237278f40e",
   "metadata": {},
   "outputs": [
    {
     "data": {
      "text/plain": [
       "False"
      ]
     },
     "execution_count": 30,
     "metadata": {},
     "output_type": "execute_result"
    }
   ],
   "source": [
    "a = 10\n",
    "b = 15\n",
    "id(a)==id(b)"
   ]
  },
  {
   "cell_type": "code",
   "execution_count": 31,
   "id": "aab0cdc3-cb71-48be-84b9-5f13cabad984",
   "metadata": {},
   "outputs": [
    {
     "data": {
      "text/plain": [
       "True"
      ]
     },
     "execution_count": 31,
     "metadata": {},
     "output_type": "execute_result"
    }
   ],
   "source": [
    "x = True\n",
    "y = False\n",
    "id(x) != id(y)"
   ]
  },
  {
   "cell_type": "code",
   "execution_count": 32,
   "id": "9979d0bc-2454-4cc6-b7b8-6a8de6334437",
   "metadata": {},
   "outputs": [
    {
     "data": {
      "text/plain": [
       "True"
      ]
     },
     "execution_count": 32,
     "metadata": {},
     "output_type": "execute_result"
    }
   ],
   "source": [
    "a = \"Apple\"\n",
    "b = \"Mango\"\n",
    "a is not b"
   ]
  },
  {
   "cell_type": "markdown",
   "id": "2181bace-3e43-4560-9985-95ff9521ebfb",
   "metadata": {},
   "source": [
    "6. Perform bitwise operations on any two integers."
   ]
  },
  {
   "cell_type": "code",
   "execution_count": 33,
   "id": "2a925948-a1a8-40f3-b2b8-dd630f04860f",
   "metadata": {},
   "outputs": [
    {
     "name": "stdout",
     "output_type": "stream",
     "text": [
      "3\n"
     ]
    }
   ],
   "source": [
    "#AND\n",
    "result_and= 15 & 3\n",
    "print(result_and)"
   ]
  },
  {
   "cell_type": "code",
   "execution_count": 34,
   "id": "5c587044-bd7c-4c9f-a404-618545af9b2a",
   "metadata": {},
   "outputs": [
    {
     "data": {
      "text/plain": [
       "'0b1111'"
      ]
     },
     "execution_count": 34,
     "metadata": {},
     "output_type": "execute_result"
    }
   ],
   "source": [
    "bin(15)"
   ]
  },
  {
   "cell_type": "code",
   "execution_count": 35,
   "id": "cce7adba-8dba-4493-ba17-b230bfa211bd",
   "metadata": {},
   "outputs": [
    {
     "data": {
      "text/plain": [
       "'0b11'"
      ]
     },
     "execution_count": 35,
     "metadata": {},
     "output_type": "execute_result"
    }
   ],
   "source": [
    "bin(3)"
   ]
  },
  {
   "cell_type": "code",
   "execution_count": 36,
   "id": "92b4b2d7-45e2-4007-8c90-832c6fd0c075",
   "metadata": {},
   "outputs": [
    {
     "name": "stdout",
     "output_type": "stream",
     "text": [
      "11\n"
     ]
    }
   ],
   "source": [
    "#OR\n",
    "result_or= 8 | 3\n",
    "print(result_or)"
   ]
  },
  {
   "cell_type": "code",
   "execution_count": 37,
   "id": "43eaade0-d620-4168-807f-1938203de9af",
   "metadata": {},
   "outputs": [
    {
     "data": {
      "text/plain": [
       "'0b1000'"
      ]
     },
     "execution_count": 37,
     "metadata": {},
     "output_type": "execute_result"
    }
   ],
   "source": [
    "bin(8)"
   ]
  },
  {
   "cell_type": "code",
   "execution_count": 38,
   "id": "0dbb6fda-e5b6-4298-b9e4-7bdbfece66ba",
   "metadata": {},
   "outputs": [
    {
     "data": {
      "text/plain": [
       "'0b11'"
      ]
     },
     "execution_count": 38,
     "metadata": {},
     "output_type": "execute_result"
    }
   ],
   "source": [
    "bin(3)"
   ]
  },
  {
   "cell_type": "code",
   "execution_count": 39,
   "id": "5f0b7aab-3c85-4321-9a3b-f23538d0acc9",
   "metadata": {},
   "outputs": [
    {
     "data": {
      "text/plain": [
       "'0b1011'"
      ]
     },
     "execution_count": 39,
     "metadata": {},
     "output_type": "execute_result"
    }
   ],
   "source": [
    "bin(11)"
   ]
  },
  {
   "cell_type": "code",
   "execution_count": 40,
   "id": "cb271abb-1fb9-41fa-bc13-0d4666ff061e",
   "metadata": {},
   "outputs": [
    {
     "name": "stdout",
     "output_type": "stream",
     "text": [
      "15\n"
     ]
    }
   ],
   "source": [
    "#XOR\n",
    "result_xor= 10 ^ 5\n",
    "print(result_xor)"
   ]
  },
  {
   "cell_type": "code",
   "execution_count": 41,
   "id": "d8315ed9-814b-4606-803c-56e841582d16",
   "metadata": {},
   "outputs": [
    {
     "data": {
      "text/plain": [
       "'0b1010'"
      ]
     },
     "execution_count": 41,
     "metadata": {},
     "output_type": "execute_result"
    }
   ],
   "source": [
    "bin(10)"
   ]
  },
  {
   "cell_type": "code",
   "execution_count": 42,
   "id": "3298f587-63a1-42a8-80af-0fff1e205c17",
   "metadata": {},
   "outputs": [
    {
     "data": {
      "text/plain": [
       "'0b101'"
      ]
     },
     "execution_count": 42,
     "metadata": {},
     "output_type": "execute_result"
    }
   ],
   "source": [
    "bin(5)"
   ]
  },
  {
   "cell_type": "code",
   "execution_count": 43,
   "id": "a27df1c2-2207-47f1-a393-6dc868b93368",
   "metadata": {},
   "outputs": [
    {
     "data": {
      "text/plain": [
       "'0b1111'"
      ]
     },
     "execution_count": 43,
     "metadata": {},
     "output_type": "execute_result"
    }
   ],
   "source": [
    "bin(15)"
   ]
  },
  {
   "cell_type": "code",
   "execution_count": 44,
   "id": "a2bbb2f0-0ec2-44e0-b8df-9af0ea0ebc4b",
   "metadata": {},
   "outputs": [
    {
     "data": {
      "text/plain": [
       "-11"
      ]
     },
     "execution_count": 44,
     "metadata": {},
     "output_type": "execute_result"
    }
   ],
   "source": [
    "#Negation/NOT\n",
    "result_not= ~10\n",
    "result_not"
   ]
  },
  {
   "cell_type": "code",
   "execution_count": 45,
   "id": "24c5ee72-a668-498f-a134-b0edaec5d488",
   "metadata": {},
   "outputs": [
    {
     "data": {
      "text/plain": [
       "40"
      ]
     },
     "execution_count": 45,
     "metadata": {},
     "output_type": "execute_result"
    }
   ],
   "source": [
    "#Left Shift\n",
    "result_left_shift= 10 << 2\n",
    "result_left_shift"
   ]
  },
  {
   "cell_type": "code",
   "execution_count": 46,
   "id": "a1b52008-2ced-48e7-80eb-3cae2971d2b8",
   "metadata": {},
   "outputs": [
    {
     "data": {
      "text/plain": [
       "2"
      ]
     },
     "execution_count": 46,
     "metadata": {},
     "output_type": "execute_result"
    }
   ],
   "source": [
    "#Right Shift\n",
    "result_right_shift= 10 >> 2\n",
    "result_right_shift"
   ]
  },
  {
   "cell_type": "markdown",
   "id": "b0d8054f-9f19-474f-8700-dda0b180f45e",
   "metadata": {},
   "source": [
    "7. Use unary operators to change the sign of a number."
   ]
  },
  {
   "cell_type": "code",
   "execution_count": 47,
   "id": "96b99651-64a5-4e95-bf6e-84d6c16509c9",
   "metadata": {},
   "outputs": [
    {
     "data": {
      "text/plain": [
       "5"
      ]
     },
     "execution_count": 47,
     "metadata": {},
     "output_type": "execute_result"
    }
   ],
   "source": [
    "#Unary Positive\n",
    "x=5\n",
    "positive_x = +x\n",
    "positive_x"
   ]
  },
  {
   "cell_type": "code",
   "execution_count": 48,
   "id": "3d175ec9-3f70-4390-8407-3552b5ab4f7e",
   "metadata": {},
   "outputs": [
    {
     "data": {
      "text/plain": [
       "-5"
      ]
     },
     "execution_count": 48,
     "metadata": {},
     "output_type": "execute_result"
    }
   ],
   "source": [
    "#Unary Negative\n",
    "x=5\n",
    "negative_x = -x\n",
    "negative_x"
   ]
  },
  {
   "cell_type": "code",
   "execution_count": 49,
   "id": "2b9fbc6d-324d-4a3f-b825-31c68ee13c23",
   "metadata": {},
   "outputs": [
    {
     "name": "stdout",
     "output_type": "stream",
     "text": [
      "-6\n"
     ]
    }
   ],
   "source": [
    "#Bitwise Not\n",
    "x=5\n",
    "bitwise_not_x= ~x\n",
    "print(bitwise_not_x)"
   ]
  },
  {
   "cell_type": "code",
   "execution_count": 50,
   "id": "dbde9921-cae8-4140-8808-4d6de4a8ac90",
   "metadata": {},
   "outputs": [
    {
     "name": "stdout",
     "output_type": "stream",
     "text": [
      "False\n"
     ]
    }
   ],
   "source": [
    "#Logical Not\n",
    "x= True\n",
    "logical_not_x= not x\n",
    "print(logical_not_x)"
   ]
  },
  {
   "cell_type": "markdown",
   "id": "0b213923-2ba6-4bec-a3e9-3fa88d3687a4",
   "metadata": {},
   "source": [
    "8. Use the ternary operator to assign values based on conditions."
   ]
  },
  {
   "cell_type": "code",
   "execution_count": 1,
   "id": "48b1b923-d328-4b2c-a77f-af444b598fcd",
   "metadata": {},
   "outputs": [
    {
     "name": "stdout",
     "output_type": "stream",
     "text": [
      "Odd\n"
     ]
    }
   ],
   "source": [
    "n = 11\n",
    "result = \"Even\" if n%2 == 0 else \"Odd\"\n",
    "print(result)"
   ]
  },
  {
   "cell_type": "code",
   "execution_count": 3,
   "id": "8721e3be-5d90-419f-8c87-30e104d245a9",
   "metadata": {},
   "outputs": [
    {
     "name": "stdout",
     "output_type": "stream",
     "text": [
      "Negative\n"
     ]
    }
   ],
   "source": [
    "x = -10\n",
    "result = \"Positive\" if x>0 else \"Negative\" if x<0 else \"Zero\"\n",
    "print(result)"
   ]
  },
  {
   "cell_type": "code",
   "execution_count": 4,
   "id": "e5c8ec67-06b4-44ef-a002-1d9d0a33ff5f",
   "metadata": {},
   "outputs": [
    {
     "name": "stdout",
     "output_type": "stream",
     "text": [
      "Minor\n"
     ]
    }
   ],
   "source": [
    "age= 16\n",
    "status= \"Adult\" if age>=18 else \"Minor\"\n",
    "print(status)"
   ]
  },
  {
   "cell_type": "code",
   "execution_count": 5,
   "id": "aef76208-5df8-46da-a926-21a4e5204a27",
   "metadata": {},
   "outputs": [
    {
     "name": "stdout",
     "output_type": "stream",
     "text": [
      "in range\n"
     ]
    }
   ],
   "source": [
    "n = 25\n",
    "result=\"in range\" if 20<=n<=30 else \"out of range\"\n",
    "print(result)"
   ]
  }
 ],
 "metadata": {
  "kernelspec": {
   "display_name": "Python 3 (ipykernel)",
   "language": "python",
   "name": "python3"
  },
  "language_info": {
   "codemirror_mode": {
    "name": "ipython",
    "version": 3
   },
   "file_extension": ".py",
   "mimetype": "text/x-python",
   "name": "python",
   "nbconvert_exporter": "python",
   "pygments_lexer": "ipython3",
   "version": "3.10.8"
  }
 },
 "nbformat": 4,
 "nbformat_minor": 5
}
