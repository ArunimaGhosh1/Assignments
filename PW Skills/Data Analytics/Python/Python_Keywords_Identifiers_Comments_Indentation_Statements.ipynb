{
 "cells": [
  {
   "cell_type": "markdown",
   "id": "147021c5-9766-4e12-a700-16b0eb377f50",
   "metadata": {},
   "source": [
    "1. Explain the significance of Python keywords and provide examples of five keywords."
   ]
  },
  {
   "cell_type": "markdown",
   "id": "5578e4da-ad81-4487-a98e-bebd46035f6b",
   "metadata": {},
   "source": [
    "Python keywords are reserved words that have special meanings and purposes in the Python language. They cannot be used as identifiers (such as variable names, function names, etc.) because they are already predefined by Python. These keywords define the syntax and structure of the language, allowing developers to write code that is clear, concise, and consistent.\n",
    "\n",
    "Some common Python keywords include 'if', 'else', 'for', 'while', 'def', 'class', 'return', 'import', 'from', 'try', etc. Each keyword serves a specific purpose in Python's syntax and plays a crucial role in defining the logic and structure of Python code.\n",
    "\n",
    "Here are examples of five Python keywords along with their significance:"
   ]
  },
  {
   "cell_type": "markdown",
   "id": "15f31cb4-6980-4b0d-8e7c-dcc98aae227e",
   "metadata": {},
   "source": [
    "i) if: Used for conditional statements to execute code blocks based on whether a specified condition is true or false."
   ]
  },
  {
   "cell_type": "code",
   "execution_count": 1,
   "id": "06fccbea-c6d8-4ac9-a76b-772ec808de2c",
   "metadata": {},
   "outputs": [
    {
     "name": "stdout",
     "output_type": "stream",
     "text": [
      "x is greater than 5\n"
     ]
    }
   ],
   "source": [
    "x = 10\n",
    "if x > 5:\n",
    "    print(\"x is greater than 5\")"
   ]
  },
  {
   "cell_type": "markdown",
   "id": "1560ebef-f8a2-4673-bac9-3d81ebd523a6",
   "metadata": {},
   "source": [
    "ii) for: Used for iterating over a sequence (such as a list, tuple, or string) to execute code blocks for each item in the sequence."
   ]
  },
  {
   "cell_type": "code",
   "execution_count": 2,
   "id": "1b510147-659e-4ae7-bd80-929c978c1f28",
   "metadata": {},
   "outputs": [
    {
     "name": "stdout",
     "output_type": "stream",
     "text": [
      "apple\n",
      "banana\n",
      "mango\n",
      "papaya\n"
     ]
    }
   ],
   "source": [
    "fruits = [\"apple\", \"banana\", \"mango\", \"papaya\"]\n",
    "for fruit in fruits:\n",
    "    print(fruit)"
   ]
  },
  {
   "cell_type": "markdown",
   "id": "3cbc1fcd-dd50-4442-b539-1797d8506618",
   "metadata": {},
   "source": [
    "iii) and: Used to combine multiple conditions in a logical AND operation."
   ]
  },
  {
   "cell_type": "code",
   "execution_count": 3,
   "id": "1cff5ab5-1b04-4337-a765-e254647262e4",
   "metadata": {},
   "outputs": [
    {
     "name": "stdout",
     "output_type": "stream",
     "text": [
      "x is greater than 5 and lesser than 15\n"
     ]
    }
   ],
   "source": [
    "x = 10\n",
    "if x > 5 and x < 15:\n",
    "    print(\"x is greater than 5 and lesser than 15\")"
   ]
  },
  {
   "cell_type": "markdown",
   "id": "3f7e694b-71ed-4967-884b-0afe6d248b5f",
   "metadata": {},
   "source": [
    "iv) def: Used to define a function in Python. Functions allow you to encapsulate reusable pieces of code and execute them when needed."
   ]
  },
  {
   "cell_type": "code",
   "execution_count": 4,
   "id": "a848c376-8194-4e8f-8df3-3aac5cdbba93",
   "metadata": {},
   "outputs": [
    {
     "name": "stdout",
     "output_type": "stream",
     "text": [
      "Hello, World!\n"
     ]
    }
   ],
   "source": [
    "def greet(name):\n",
    "    print(\"Hello, \" + name + \"!\")\n",
    "\n",
    "greet(\"World\")"
   ]
  },
  {
   "cell_type": "markdown",
   "id": "9924159d-41cf-4bba-afeb-9105cac93f64",
   "metadata": {},
   "source": [
    "v) return: Used inside a function to exit the function and return a value to the caller. It passes data back from the function to the calling statement."
   ]
  },
  {
   "cell_type": "code",
   "execution_count": 5,
   "id": "5330065c-ced2-4911-a6b3-8e997f11ac93",
   "metadata": {},
   "outputs": [
    {
     "name": "stdout",
     "output_type": "stream",
     "text": [
      "8\n"
     ]
    }
   ],
   "source": [
    "def add_numbers(x, y):\n",
    "    return x + y\n",
    "\n",
    "result = add_numbers(3, 5)\n",
    "print(result)"
   ]
  },
  {
   "cell_type": "markdown",
   "id": "1927a2be-85fd-4c4c-9734-d9f981151f49",
   "metadata": {},
   "source": [
    "2. Describe the rules for defining identifiers in Python and provide an example."
   ]
  },
  {
   "cell_type": "markdown",
   "id": "a73af5be-ddfc-4de0-813c-b0b064c951f1",
   "metadata": {},
   "source": [
    "In Python, identifiers are names used to identify variables, functions, classes, modules, or other objects. Here are the rules for defining identifiers:"
   ]
  },
  {
   "cell_type": "markdown",
   "id": "dfd0e60c-c91d-4a3b-bb60-de514a01c434",
   "metadata": {},
   "source": [
    "i. They can contain letters (both uppercase and lowercase), digits, and underscores."
   ]
  },
  {
   "cell_type": "markdown",
   "id": "aad2522c-60cc-4786-a436-e340894c4656",
   "metadata": {},
   "source": [
    "ii. They must start with a letter (a-z, A-Z) or an underscore ( _ ). They cannot start with a digit (0-9)."
   ]
  },
  {
   "cell_type": "markdown",
   "id": "a6f5a2a8-9a96-4eed-9328-d6904c94e7f1",
   "metadata": {},
   "source": [
    "iii. They are case-sensitive, meaning myVar, MyVar, and MYVAR are all different identifiers."
   ]
  },
  {
   "cell_type": "markdown",
   "id": "bd332af2-0645-46c5-8bec-3b42a2753ab2",
   "metadata": {},
   "source": [
    "iv. They cannot be a reserved keyword. Python keywords like if, else, for, while, etc., cannot be used as identifiers."
   ]
  },
  {
   "cell_type": "markdown",
   "id": "75bd1cad-82d7-4404-9805-92be575f69c8",
   "metadata": {},
   "source": [
    "v. They cannot contain special characters like !, @, #, $, %, etc."
   ]
  },
  {
   "cell_type": "markdown",
   "id": "9fd6ec80-cc17-42d8-b660-0d63bc09005e",
   "metadata": {},
   "source": [
    "Following these rules ensures that your identifiers are valid and can be used within Python programs without causing syntax errors.\n",
    "\n",
    "Here's an example demonstrating valid and invalid identifiers in Python:"
   ]
  },
  {
   "cell_type": "markdown",
   "id": "3dd32092-dfbc-4f7b-b6aa-31e0597a619e",
   "metadata": {},
   "source": [
    "Valid identifiers:"
   ]
  },
  {
   "cell_type": "markdown",
   "id": "e1a541b1-e291-4c52-b3ba-7c97775d12ae",
   "metadata": {},
   "source": [
    "my_variable = 10\n",
    "\n",
    "greet1 = \"Hello\"\n",
    "\n",
    "_is_condition = True\n",
    "\n",
    "myVariable - 20"
   ]
  },
  {
   "cell_type": "markdown",
   "id": "c01770ee-2be1-4ba2-aba7-499ae4ff4e4c",
   "metadata": {},
   "source": [
    "Invalid identifiers:"
   ]
  },
  {
   "cell_type": "markdown",
   "id": "acbd1925-9181-4d37-993e-8ba8f52a2178",
   "metadata": {},
   "source": [
    "2variable = 5 #Starts with a digit\n",
    "\n",
    "my-variable = 10 #Contains special character hyphen\n",
    "\n",
    "my variable = 15 # Contains space\n",
    "\n",
    "class = 20 #Reserved keyword"
   ]
  },
  {
   "cell_type": "markdown",
   "id": "2c0787ea-bbfd-4154-ba01-85cb07d129b7",
   "metadata": {},
   "source": [
    "3. What are comments in Python, and why are they useful? Provide an example."
   ]
  },
  {
   "cell_type": "markdown",
   "id": "c7f458a5-e715-42c8-b2a7-60bd72bf8a69",
   "metadata": {},
   "source": [
    "Comments in Python are text annotations within the code that are not executed by the Python interpreter. They are used to explain the code, provide additional context, or temporarily disable code. Comments are useful for documentation, making the code more understandable for other developers (including your future self), and for debugging purposes.\n",
    "\n",
    "Comments in Python are created using the # symbol, which indicates that everything after it on the same line is a comment. Multi-line comments are not supported natively in Python, but multi-line strings (docstrings) are often used for this purpose."
   ]
  },
  {
   "cell_type": "markdown",
   "id": "e46e14ed-77b6-4bd5-b6c1-b74db155964c",
   "metadata": {},
   "source": [
    "Here's an example demonstrating the use of comments in Python:"
   ]
  },
  {
   "cell_type": "code",
   "execution_count": 6,
   "id": "c8d8112e-4b65-4aa1-9e3c-051263778587",
   "metadata": {},
   "outputs": [
    {
     "name": "stdout",
     "output_type": "stream",
     "text": [
      "The area of the rectangle is: 50\n"
     ]
    }
   ],
   "source": [
    "# This program calculates the area of a rectangle\n",
    "\n",
    "# Inputs: width and height of the rectangle\n",
    "width = 5  # Width of the rectangle\n",
    "height = 10  # Height of the rectangle\n",
    "\n",
    "# Calculate the area of the rectangle\n",
    "area = width * height  # Area = width * height\n",
    "\n",
    "# Output the result\n",
    "print(\"The area of the rectangle is:\", area)  # Print the calculated area\n",
    "#In this example:\n",
    "\n",
    "#Comments are used to provide a high-level overview of what the program does.\n",
    "#Comments are used to explain the purpose of variables and calculations.\n",
    "#Comments are used to document the output statement, explaining what it displays."
   ]
  },
  {
   "cell_type": "markdown",
   "id": "995ed2d1-3eb1-4c4a-92ef-87a7816e1cba",
   "metadata": {},
   "source": [
    "4. Why is proper indentation important in Python?"
   ]
  },
  {
   "cell_type": "markdown",
   "id": "5f823432-3ec1-4897-a8bb-3e36e20834d0",
   "metadata": {},
   "source": [
    "Proper indentation in Python is crucial because it defines the structure and readability of the code. It helps the interpreter understand the relationship between different blocks of code, such as loops, conditional statements, and function definitions. Python relies on indentation to determine the scope of statements."
   ]
  },
  {
   "cell_type": "markdown",
   "id": "d3ad5e02-f5a1-4193-bc05-a53e7f895c02",
   "metadata": {},
   "source": [
    "5. What happens if indentation is incorrect in Python?"
   ]
  },
  {
   "cell_type": "markdown",
   "id": "d3b094ab-fcfd-46a2-8d26-65288ced6dda",
   "metadata": {},
   "source": [
    "Incorrect indentation in Python can lead to syntax errors or unexpected behavior in your code. Since Python uses indentation to define the structure of code blocks (such as loops, conditionals, and function definitions), errors in indentation can cause the interpreter to misinterpret the intended structure of the code. This can result in errors such as \"IndentationError\" or logic errors where the code does not behave as expected, which can be difficult to debug."
   ]
  },
  {
   "cell_type": "markdown",
   "id": "73c7b72e-5150-4759-a8bb-1c6557e58aad",
   "metadata": {},
   "source": [
    "6. Differentiate between expression and statement in Python with examples."
   ]
  },
  {
   "cell_type": "markdown",
   "id": "f62d7270-6284-4fc5-8b6c-4791a1077fdf",
   "metadata": {},
   "source": [
    "In Python, an expression is any piece of code that produces a value, while a statement is a complete line of code that performs some action."
   ]
  },
  {
   "cell_type": "markdown",
   "id": "958e411e-3e0b-4bd9-92e1-b2f133d8fd40",
   "metadata": {},
   "source": [
    "Examples of expressions:"
   ]
  },
  {
   "cell_type": "markdown",
   "id": "df502582-008e-4753-97bd-c838bbe6dd0f",
   "metadata": {},
   "source": [
    "x = 5 + 3   # Addition expression\n",
    "\n",
    "y = len(\"hello\")   # Function call expression\n",
    "\n",
    "z = True   # Boolean expression"
   ]
  },
  {
   "cell_type": "markdown",
   "id": "8450317e-e561-4c04-82d4-75a8e0fad4c5",
   "metadata": {},
   "source": [
    "Examples of statements:"
   ]
  },
  {
   "cell_type": "markdown",
   "id": "c8af75d3-8092-4804-81c0-5df08781d6e3",
   "metadata": {},
   "source": [
    "if x > 5:   #if statement\n",
    "    \n",
    "    print(\"x is greater than 5\")"
   ]
  },
  {
   "cell_type": "markdown",
   "id": "d28ed91a-d0fc-4117-b2af-66f48a2d1b17",
   "metadata": {},
   "source": [
    "def my_function(x):          #Function definition statement\n",
    "    \n",
    "    return x * 2    #return statement"
   ]
  },
  {
   "cell_type": "markdown",
   "id": "64333d02-e52a-41a3-8c20-1eacdaca2faa",
   "metadata": {},
   "source": [
    "for i in range(10):\n",
    "   \n",
    "   if i == 5:\n",
    "   \n",
    "       break   #break statement\n",
    "    \n",
    "    print(i)"
   ]
  }
 ],
 "metadata": {
  "kernelspec": {
   "display_name": "Python 3 (ipykernel)",
   "language": "python",
   "name": "python3"
  },
  "language_info": {
   "codemirror_mode": {
    "name": "ipython",
    "version": 3
   },
   "file_extension": ".py",
   "mimetype": "text/x-python",
   "name": "python",
   "nbconvert_exporter": "python",
   "pygments_lexer": "ipython3",
   "version": "3.10.8"
  }
 },
 "nbformat": 4,
 "nbformat_minor": 5
}
