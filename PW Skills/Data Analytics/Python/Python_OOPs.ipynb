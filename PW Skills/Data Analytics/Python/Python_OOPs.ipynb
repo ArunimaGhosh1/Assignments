{
  "nbformat": 4,
  "nbformat_minor": 0,
  "metadata": {
    "colab": {
      "provenance": []
    },
    "kernelspec": {
      "name": "python3",
      "display_name": "Python 3"
    },
    "language_info": {
      "name": "python"
    }
  },
  "cells": [
    {
      "cell_type": "markdown",
      "source": [
        "#### 1. Explain the importance of Functions."
      ],
      "metadata": {
        "id": "OzdKP4O28mti"
      }
    },
    {
      "cell_type": "markdown",
      "source": [
        "Functions are fundamental in programming because they allow you to organize your code into reusable blocks. They help in reducing redundancy, improving readability, and making maintenance easier.\n",
        "\n",
        "Functions encapsulate specific tasks or operations, making it easier to debug and test individual components of your program.\n",
        "\n",
        "They also promote modular programming, allowing multiple developers to work on different parts of the codebase simultaneously. By encapsulating a set of instructions within a function, you can execute that code block multiple times with different inputs, reducing redundancy and improving maintainability.\n",
        "\n",
        "Additionally, functions enable you to break down complex problems into smaller, manageable chunks, promoting better code organization and understanding."
      ],
      "metadata": {
        "id": "GOr21W1DDGXi"
      }
    },
    {
      "cell_type": "markdown",
      "source": [
        "#### 2. Write a basic function to greet students."
      ],
      "metadata": {
        "id": "Yi0o8sQf82z9"
      }
    },
    {
      "cell_type": "code",
      "source": [
        "def greet(n):\n",
        "    print(\"Welcome to class\", n)\n",
        "\n",
        "greet(\"Arunima\")"
      ],
      "metadata": {
        "colab": {
          "base_uri": "https://localhost:8080/"
        },
        "id": "euLbcfnB9Blt",
        "outputId": "e5cc9ebd-98ad-4818-f96f-080ab395c54f"
      },
      "execution_count": null,
      "outputs": [
        {
          "output_type": "stream",
          "name": "stdout",
          "text": [
            "Welcome to class Arunima\n"
          ]
        }
      ]
    },
    {
      "cell_type": "markdown",
      "source": [
        "#### 3. What is the difference between print and return statements?"
      ],
      "metadata": {
        "id": "wV0H42Tk_CTf"
      }
    },
    {
      "cell_type": "markdown",
      "source": [
        "In Python, the ```print``` statement is used to display information on the screen, while the ```return``` statement is used to send a value back from a function.\n",
        "\n",
        "```print``` is typically used for debugging or displaying output to the user, while ```return``` is used to pass data back to the caller of a function.\n",
        "\n",
        "Let's understand with an example:"
      ],
      "metadata": {
        "id": "2u5w2Pk4FqQo"
      }
    },
    {
      "cell_type": "code",
      "source": [
        "# Using the keyword return\n",
        "\n",
        "def calculate_area(radius):\n",
        "    area = 3.14 * radius ** 2\n",
        "    return area\n",
        "\n",
        "calculate_area(5)"
      ],
      "metadata": {
        "colab": {
          "base_uri": "https://localhost:8080/"
        },
        "id": "hQ6yOvuM-1MU",
        "outputId": "e6a773da-15b5-4fd6-c38c-7cbe52d09771"
      },
      "execution_count": null,
      "outputs": [
        {
          "output_type": "execute_result",
          "data": {
            "text/plain": [
              "78.5"
            ]
          },
          "metadata": {},
          "execution_count": 4
        }
      ]
    },
    {
      "cell_type": "markdown",
      "source": [
        "In this example, the ```calculate_area``` function calculates the area of a circle based on the given radius and returns the result using the ```return``` statement."
      ],
      "metadata": {
        "id": "BKyLXxkZITF6"
      }
    },
    {
      "cell_type": "code",
      "source": [
        "# Using the function print\n",
        "\n",
        "circle_radius = 5\n",
        "area_of_circle = calculate_area(circle_radius)\n",
        "print(\"The area of the circle with radius\", circle_radius, \"is\", area_of_circle)"
      ],
      "metadata": {
        "colab": {
          "base_uri": "https://localhost:8080/"
        },
        "id": "CwvqNhM5HSEL",
        "outputId": "44f52261-a70c-4a04-9186-a0e9b6ee61de"
      },
      "execution_count": null,
      "outputs": [
        {
          "output_type": "stream",
          "name": "stdout",
          "text": [
            "The area of the circle with radius 5 is 78.5\n"
          ]
        }
      ]
    },
    {
      "cell_type": "markdown",
      "source": [
        "In this example, the calculated area is assigned to the variable ```area_of_circle```, which can be used later in the program, such as printing it out as shown."
      ],
      "metadata": {
        "id": "wk8I9zIgGLU1"
      }
    },
    {
      "cell_type": "markdown",
      "source": [
        "#### 4. What are ```*args``` and ```**kwargs```?"
      ],
      "metadata": {
        "id": "lZLXjJxrIoTe"
      }
    },
    {
      "cell_type": "markdown",
      "source": [
        "In Python, ```*args``` and ```**kwargs``` are used to pass a variable number of arguments to a function.\n",
        "\n",
        "```*args``` allows you to pass a variable number of positional arguments to a function. It collects all the positional arguments passed to the function into a tuple.\n",
        "\n",
        "```**kwargs``` allows you to pass a variable number of keyword arguments to a function. It collects all the keyword arguments passed to the function into a dictionary.\n",
        "\n",
        "This flexibility is particularly useful when you're unsure about the number of arguments that a function may receive."
      ],
      "metadata": {
        "id": "O_NmjATOIvGg"
      }
    },
    {
      "cell_type": "markdown",
      "source": [
        "#### 5. Explain the iterator function."
      ],
      "metadata": {
        "id": "7Z2BidnSIxHv"
      }
    },
    {
      "cell_type": "markdown",
      "source": [
        "In Python, an iterator is an object that enables you to iterate over a sequence of data, such as lists, tuples, or dictionaries, one element at a time. They provide a way to access elements sequentially without needing to know the underlying implementation.\n",
        "\n",
        "It implements two methods: ```iter()``` and ``next()``. The ```iter()``` method returns the iterator object itself, and the ```next()``` method returns the next element in the sequence. When there are no more elements to return, it raises the StopIteration exception.\n",
        "\n",
        "You can create your own iterators using classes and implement these methods."
      ],
      "metadata": {
        "id": "ouP_o0KrJLVZ"
      }
    },
    {
      "cell_type": "markdown",
      "source": [
        "#### 6. Write a code that generates the squares of numbers from 1 to n using a generator."
      ],
      "metadata": {
        "id": "ffIhPhIuNKSu"
      }
    },
    {
      "cell_type": "code",
      "source": [
        "def square_generator(n):\n",
        "    for i in range(1, n+1):\n",
        "        yield i**2\n",
        "\n",
        "n = 5\n",
        "\n",
        "for square in square_generator(n):\n",
        "    print(square)"
      ],
      "metadata": {
        "colab": {
          "base_uri": "https://localhost:8080/"
        },
        "id": "PLuRmnRuICeT",
        "outputId": "35e05cc6-32b7-4a34-bf34-f693fd8bf6bd"
      },
      "execution_count": null,
      "outputs": [
        {
          "output_type": "stream",
          "name": "stdout",
          "text": [
            "1\n",
            "4\n",
            "9\n",
            "16\n",
            "25\n"
          ]
        }
      ]
    },
    {
      "cell_type": "markdown",
      "source": [
        "#### 7. Write a code that generates palindromic numbers up to n using a generator."
      ],
      "metadata": {
        "id": "LcMCqeIxSQtB"
      }
    },
    {
      "cell_type": "code",
      "source": [
        "def generate_palindromic_numbers(n):\n",
        "    for num in range(1, n+1):\n",
        "        if str(num) == str(num)[::-1]:\n",
        "            yield num\n",
        "\n",
        "# Example usage\n",
        "n = 100\n",
        "palindromic_gen = generate_palindromic_numbers(n)\n",
        "print(\"Palindromic numbers up to\", n, \":\")\n",
        "for palindromic_num in palindromic_gen:\n",
        "    print(palindromic_num)"
      ],
      "metadata": {
        "id": "V2QD6_obRoMc",
        "colab": {
          "base_uri": "https://localhost:8080/"
        },
        "outputId": "57f44273-3097-42f6-ba5f-5332cf331fb6"
      },
      "execution_count": null,
      "outputs": [
        {
          "output_type": "stream",
          "name": "stdout",
          "text": [
            "Palindromic numbers up to 100 :\n",
            "1\n",
            "2\n",
            "3\n",
            "4\n",
            "5\n",
            "6\n",
            "7\n",
            "8\n",
            "9\n",
            "11\n",
            "22\n",
            "33\n",
            "44\n",
            "55\n",
            "66\n",
            "77\n",
            "88\n",
            "99\n"
          ]
        }
      ]
    },
    {
      "cell_type": "markdown",
      "source": [
        "#### 8. Write a code that generates even numbers from 2 to n using a generator."
      ],
      "metadata": {
        "id": "Po6cUFGuEhak"
      }
    },
    {
      "cell_type": "code",
      "source": [
        "def even_numbers(n):\n",
        "    for i in range(2, n+1, 2):\n",
        "        yield i\n",
        "\n",
        "n = 20\n",
        "\n",
        "for even_num in even_numbers(n):\n",
        "    print(even_num)"
      ],
      "metadata": {
        "colab": {
          "base_uri": "https://localhost:8080/"
        },
        "id": "rjQz7CLWEn1G",
        "outputId": "09f16e35-f392-496a-b697-7ca2b92e24e0"
      },
      "execution_count": null,
      "outputs": [
        {
          "output_type": "stream",
          "name": "stdout",
          "text": [
            "2\n",
            "4\n",
            "6\n",
            "8\n",
            "10\n",
            "12\n",
            "14\n",
            "16\n",
            "18\n",
            "20\n"
          ]
        }
      ]
    },
    {
      "cell_type": "markdown",
      "source": [
        "#### 9. Write a code that generates powers of two up to n using a generator."
      ],
      "metadata": {
        "id": "_wXuWlolGrNB"
      }
    },
    {
      "cell_type": "code",
      "source": [
        "def powers_of_two(n):\n",
        "  power = 1\n",
        "  while power <= n:\n",
        "    yield power\n",
        "    power *= 2\n",
        "\n",
        "n = 20\n",
        "\n",
        "for powers in powers_of_two(n):\n",
        "  print(powers)"
      ],
      "metadata": {
        "colab": {
          "base_uri": "https://localhost:8080/"
        },
        "id": "sFt3coGIGbwN",
        "outputId": "048070fe-8fd7-4ee4-de66-a90aa9bb5e93"
      },
      "execution_count": null,
      "outputs": [
        {
          "output_type": "stream",
          "name": "stdout",
          "text": [
            "1\n",
            "2\n",
            "4\n",
            "8\n",
            "16\n"
          ]
        }
      ]
    },
    {
      "cell_type": "markdown",
      "source": [
        "#### 10. Write a code that generates prime numbers up to n using a generator."
      ],
      "metadata": {
        "id": "TIYNHawcICin"
      }
    },
    {
      "cell_type": "code",
      "source": [
        "def is_prime(num):\n",
        "    if num <= 1:\n",
        "        return False\n",
        "    for i in range(2, int(num//2)+1):\n",
        "        if num % i == 0:\n",
        "            return False\n",
        "    return True\n",
        "\n",
        "\n",
        "def prime_numbers(n):\n",
        "    for num in range(2, n+1):\n",
        "        if is_prime(num):\n",
        "            yield num\n",
        "\n",
        "n = 20\n",
        "\n",
        "for prime_num in prime_numbers(n):\n",
        "    print(prime_num)"
      ],
      "metadata": {
        "colab": {
          "base_uri": "https://localhost:8080/"
        },
        "id": "UkQPu9eMH-nQ",
        "outputId": "19b43cff-4af5-4c2f-fd97-8abd97cffbae"
      },
      "execution_count": null,
      "outputs": [
        {
          "output_type": "stream",
          "name": "stdout",
          "text": [
            "2\n",
            "3\n",
            "5\n",
            "7\n",
            "11\n",
            "13\n",
            "17\n",
            "19\n"
          ]
        }
      ]
    },
    {
      "cell_type": "markdown",
      "source": [
        "#### 11. Write a code that uses a lambda function to calculate the sum of two numbers."
      ],
      "metadata": {
        "id": "MlMCjLf_KkEj"
      }
    },
    {
      "cell_type": "code",
      "source": [
        "sum = lambda x, y: x+y\n",
        "\n",
        "sum(10,5)"
      ],
      "metadata": {
        "colab": {
          "base_uri": "https://localhost:8080/"
        },
        "id": "--oLcelFKcTe",
        "outputId": "26228e97-03f6-46e9-f900-d24fc467fc1e"
      },
      "execution_count": null,
      "outputs": [
        {
          "output_type": "execute_result",
          "data": {
            "text/plain": [
              "15"
            ]
          },
          "metadata": {},
          "execution_count": 6
        }
      ]
    },
    {
      "cell_type": "markdown",
      "source": [
        "#### 12. Write a code that uses a lambda function to calculate the square of a given number."
      ],
      "metadata": {
        "id": "xN9JsW_3LHkC"
      }
    },
    {
      "cell_type": "code",
      "source": [
        "square = lambda x: x ** 2\n",
        "\n",
        "square(5)"
      ],
      "metadata": {
        "colab": {
          "base_uri": "https://localhost:8080/"
        },
        "id": "plhK62uSLERv",
        "outputId": "8b8a0fae-d676-4a7b-9dcc-e83ae52c950a"
      },
      "execution_count": null,
      "outputs": [
        {
          "output_type": "execute_result",
          "data": {
            "text/plain": [
              "25"
            ]
          },
          "metadata": {},
          "execution_count": 7
        }
      ]
    },
    {
      "cell_type": "markdown",
      "source": [
        "#### 13. Write a code that uses a lambda function to check whether a given number is even or odd."
      ],
      "metadata": {
        "id": "gkocodynLY-F"
      }
    },
    {
      "cell_type": "code",
      "source": [
        "num = lambda x: 'even' if x%2==0 else 'odd'\n",
        "\n",
        "num(6)"
      ],
      "metadata": {
        "colab": {
          "base_uri": "https://localhost:8080/",
          "height": 36
        },
        "id": "tx-_Hg-3LTSe",
        "outputId": "d67542ce-e6f7-42f9-b52f-995ecfc64694"
      },
      "execution_count": null,
      "outputs": [
        {
          "output_type": "execute_result",
          "data": {
            "text/plain": [
              "'even'"
            ],
            "application/vnd.google.colaboratory.intrinsic+json": {
              "type": "string"
            }
          },
          "metadata": {},
          "execution_count": 10
        }
      ]
    },
    {
      "cell_type": "code",
      "source": [
        "num(7)"
      ],
      "metadata": {
        "colab": {
          "base_uri": "https://localhost:8080/",
          "height": 36
        },
        "id": "9yNepVh-LtcI",
        "outputId": "29656853-ea0b-419a-dc93-6fd52c4d1660"
      },
      "execution_count": null,
      "outputs": [
        {
          "output_type": "execute_result",
          "data": {
            "text/plain": [
              "'odd'"
            ],
            "application/vnd.google.colaboratory.intrinsic+json": {
              "type": "string"
            }
          },
          "metadata": {},
          "execution_count": 11
        }
      ]
    },
    {
      "cell_type": "markdown",
      "source": [
        "#### 15. Write a code that uses a lambda function to concatenate two strings."
      ],
      "metadata": {
        "id": "v1MyAJZSL40X"
      }
    },
    {
      "cell_type": "code",
      "source": [
        "strings = lambda x, y: x+y\n",
        "\n",
        "strings(\"PW\", \" Skills\")"
      ],
      "metadata": {
        "colab": {
          "base_uri": "https://localhost:8080/",
          "height": 36
        },
        "id": "gil6wTqfLyX5",
        "outputId": "99189213-25a9-4803-ff7c-27423c8fb87a"
      },
      "execution_count": null,
      "outputs": [
        {
          "output_type": "execute_result",
          "data": {
            "text/plain": [
              "'PW Skills'"
            ],
            "application/vnd.google.colaboratory.intrinsic+json": {
              "type": "string"
            }
          },
          "metadata": {},
          "execution_count": 12
        }
      ]
    },
    {
      "cell_type": "markdown",
      "source": [
        "#### 16. Write a code that uses a lambda function to find the maximum of three given numbers."
      ],
      "metadata": {
        "id": "ixgXYjbpMUvz"
      }
    },
    {
      "cell_type": "code",
      "source": [
        "max_num = lambda x,y,z: x if x>y else y if y>z else z\n",
        "\n",
        "max_num(22,39,15)"
      ],
      "metadata": {
        "colab": {
          "base_uri": "https://localhost:8080/"
        },
        "id": "CTVgaEBYMRVy",
        "outputId": "5465aa52-4a7a-4da6-bced-4b74492d1db4"
      },
      "execution_count": null,
      "outputs": [
        {
          "output_type": "execute_result",
          "data": {
            "text/plain": [
              "39"
            ]
          },
          "metadata": {},
          "execution_count": 13
        }
      ]
    },
    {
      "cell_type": "markdown",
      "source": [
        "#### 17. Write a code that generates the squares of even numbers from a given list."
      ],
      "metadata": {
        "id": "xMihN_2zNRY9"
      }
    },
    {
      "cell_type": "code",
      "source": [
        "even_num = lambda x: 'even' if x%2==0 else 'odd'\n",
        "\n",
        "numbers = [6,29,54,21,1,4,43,13,45,76,22]\n",
        "\n",
        "for i in numbers:\n",
        "  print(even_num(i))"
      ],
      "metadata": {
        "colab": {
          "base_uri": "https://localhost:8080/"
        },
        "id": "csrnBWx4NKfq",
        "outputId": "3cfe8d4a-83ee-4b27-8ddc-9f9c955fff0f"
      },
      "execution_count": null,
      "outputs": [
        {
          "output_type": "stream",
          "name": "stdout",
          "text": [
            "even\n",
            "odd\n",
            "even\n",
            "odd\n",
            "odd\n",
            "even\n",
            "odd\n",
            "odd\n",
            "odd\n",
            "even\n",
            "even\n"
          ]
        }
      ]
    },
    {
      "cell_type": "markdown",
      "source": [
        "#### 18. Write a code that calculates the product of positive numbers from a given list.\n"
      ],
      "metadata": {
        "id": "ANyVpqjfOYad"
      }
    },
    {
      "cell_type": "code",
      "source": [
        "from functools import reduce\n",
        "\n",
        "num_list = [1, 2, 4, -5, 6, -7, 0, 2]\n",
        "\n",
        "# Filter out positive numbers\n",
        "positive_numbers = list(filter(lambda x: x > 0, num_list))\n",
        "\n",
        "# Calculate the product using reduce\n",
        "product = reduce(lambda x, y: x * y, positive_numbers)\n",
        "\n",
        "print(\"Product of positive numbers:\", product)"
      ],
      "metadata": {
        "colab": {
          "base_uri": "https://localhost:8080/"
        },
        "id": "xpf-LFe4OS6C",
        "outputId": "0327710a-fd3e-49bf-ab49-691802e4b4ad"
      },
      "execution_count": null,
      "outputs": [
        {
          "output_type": "stream",
          "name": "stdout",
          "text": [
            "Product of positive numbers: 96\n"
          ]
        }
      ]
    },
    {
      "cell_type": "markdown",
      "source": [
        "#### 19. Write a code that doubles the values of odd numbers from a given list."
      ],
      "metadata": {
        "id": "sK0nIKG1QHN5"
      }
    },
    {
      "cell_type": "code",
      "source": [
        "num_list = [5, 2, 4, -5, 1, -7, 0, 3]\n",
        "\n",
        "# Filter out odd numbers\n",
        "odd_numbers = list(filter(lambda x: x%2 != 0, num_list))\n",
        "\n",
        "# Double the values using map\n",
        "doubled_values = list(map(lambda x: x * 2, odd_numbers))\n",
        "\n",
        "print(\"Doubled values of odd numbers:\", doubled_values)"
      ],
      "metadata": {
        "colab": {
          "base_uri": "https://localhost:8080/"
        },
        "id": "b120Kr52QBR-",
        "outputId": "622a53a1-f151-44c9-8443-7b1093db1a97"
      },
      "execution_count": null,
      "outputs": [
        {
          "output_type": "stream",
          "name": "stdout",
          "text": [
            "Doubled values of odd numbers: [10, -10, 2, -14, 6]\n"
          ]
        }
      ]
    },
    {
      "cell_type": "markdown",
      "source": [
        "#### 20. Write a code that calculates the sum of cubes of numbers from a given list."
      ],
      "metadata": {
        "id": "OHvxeU9qSJT7"
      }
    },
    {
      "cell_type": "code",
      "source": [
        "my_list = [2, -3, 5, 7, 4]\n",
        "\n",
        "# Cube the values using map\n",
        "cubes = list(map(lambda x: x ** 3, my_list))\n",
        "\n",
        "# Calculate sum of cubes using reduce\n",
        "sum_of_cubes = reduce(lambda x, y: x+y, cubes)\n",
        "\n",
        "print(\"The sum of cubes of the numbers:\", sum_of_cubes)"
      ],
      "metadata": {
        "colab": {
          "base_uri": "https://localhost:8080/"
        },
        "id": "tK7jjNgiR1GP",
        "outputId": "18463ca4-26a0-45f7-d49b-940ae32a7848"
      },
      "execution_count": null,
      "outputs": [
        {
          "output_type": "stream",
          "name": "stdout",
          "text": [
            "The sum of cubes of the numbers: 513\n"
          ]
        }
      ]
    },
    {
      "cell_type": "markdown",
      "source": [
        "#### 21. Write a code that filters out prime numbers from a given list."
      ],
      "metadata": {
        "id": "quvVqoDYTqB1"
      }
    },
    {
      "cell_type": "code",
      "source": [
        "def is_prime(n):\n",
        "  if n <= 1:\n",
        "    return False\n",
        "  for i in range(2, int(n//2) + 1):\n",
        "    if n % i == 0:\n",
        "      return False\n",
        "  return True\n",
        "\n",
        "numbers = [11, 12, 13, 14, 15, 16, 17, 18, 19, 20]\n",
        "\n",
        "prime_numbers = list(filter(lambda x: is_prime(x), numbers))\n",
        "print(prime_numbers)"
      ],
      "metadata": {
        "id": "2N6IV5-cTnJi",
        "colab": {
          "base_uri": "https://localhost:8080/"
        },
        "outputId": "b941dcb7-5193-41ad-f238-25c27e3d5210"
      },
      "execution_count": null,
      "outputs": [
        {
          "output_type": "stream",
          "name": "stdout",
          "text": [
            "[11, 13, 17, 19]\n"
          ]
        }
      ]
    },
    {
      "cell_type": "markdown",
      "source": [
        "#### 22. Write a code that uses a lambda function to calculate the sum of two numbers."
      ],
      "metadata": {
        "id": "4kpUGh0ybmmE"
      }
    },
    {
      "cell_type": "code",
      "source": [
        "sum = lambda a, b: a+b\n",
        "\n",
        "sum(48,52)"
      ],
      "metadata": {
        "colab": {
          "base_uri": "https://localhost:8080/"
        },
        "id": "KANP36j8bftO",
        "outputId": "5948ebf6-c98f-40ed-de94-c08567b2c8a3"
      },
      "execution_count": null,
      "outputs": [
        {
          "output_type": "execute_result",
          "data": {
            "text/plain": [
              "100"
            ]
          },
          "metadata": {},
          "execution_count": 3
        }
      ]
    },
    {
      "cell_type": "markdown",
      "source": [
        "#### 23. Write a code that uses a lambda function to calculate the square of a given number."
      ],
      "metadata": {
        "id": "-PyQeWk8c2kM"
      }
    },
    {
      "cell_type": "code",
      "source": [
        "square = lambda a: a**2\n",
        "\n",
        "square(8)"
      ],
      "metadata": {
        "colab": {
          "base_uri": "https://localhost:8080/"
        },
        "id": "gL2e5YhIcy8j",
        "outputId": "3a05f853-c2bc-416a-a533-42e1bb51343f"
      },
      "execution_count": null,
      "outputs": [
        {
          "output_type": "execute_result",
          "data": {
            "text/plain": [
              "64"
            ]
          },
          "metadata": {},
          "execution_count": 4
        }
      ]
    },
    {
      "cell_type": "markdown",
      "source": [
        "#### 24. Write a code that uses a lambda function to check whether a given number is even or odd."
      ],
      "metadata": {
        "id": "7S-Dvqxcd2Dm"
      }
    },
    {
      "cell_type": "code",
      "source": [
        "num = lambda x: 'Even' if x%2 == 0 else 'Odd'\n",
        "\n",
        "num(25)"
      ],
      "metadata": {
        "colab": {
          "base_uri": "https://localhost:8080/",
          "height": 36
        },
        "id": "DdCs7RMTdypW",
        "outputId": "28b3e97a-5125-4e1e-f11b-c90803ae08c3"
      },
      "execution_count": null,
      "outputs": [
        {
          "output_type": "execute_result",
          "data": {
            "text/plain": [
              "'Odd'"
            ],
            "application/vnd.google.colaboratory.intrinsic+json": {
              "type": "string"
            }
          },
          "metadata": {},
          "execution_count": 5
        }
      ]
    },
    {
      "cell_type": "code",
      "source": [
        "num(26)"
      ],
      "metadata": {
        "colab": {
          "base_uri": "https://localhost:8080/",
          "height": 36
        },
        "id": "v5UQtq5yeMoz",
        "outputId": "208f44aa-98ca-406a-eebe-155216cd4640"
      },
      "execution_count": null,
      "outputs": [
        {
          "output_type": "execute_result",
          "data": {
            "text/plain": [
              "'Even'"
            ],
            "application/vnd.google.colaboratory.intrinsic+json": {
              "type": "string"
            }
          },
          "metadata": {},
          "execution_count": 6
        }
      ]
    },
    {
      "cell_type": "markdown",
      "source": [
        "#### 25. Write a code that uses a lambda function to concatenate two strings."
      ],
      "metadata": {
        "id": "KJmXjdFreSr1"
      }
    },
    {
      "cell_type": "code",
      "source": [
        "concatenate = lambda x, y: x+y\n",
        "\n",
        "concatenate(\"Arunima\", \" Ghosh\")"
      ],
      "metadata": {
        "colab": {
          "base_uri": "https://localhost:8080/",
          "height": 36
        },
        "id": "sp_N1OwUeOVI",
        "outputId": "f0571e1d-c0a0-464b-cb17-c5ebc21c514f"
      },
      "execution_count": null,
      "outputs": [
        {
          "output_type": "execute_result",
          "data": {
            "text/plain": [
              "'Arunima Ghosh'"
            ],
            "application/vnd.google.colaboratory.intrinsic+json": {
              "type": "string"
            }
          },
          "metadata": {},
          "execution_count": 7
        }
      ]
    },
    {
      "cell_type": "markdown",
      "source": [
        "#### 26. Write a code that uses a lambda function to find the maximum of three given numbers."
      ],
      "metadata": {
        "id": "NIoTPToMekGB"
      }
    },
    {
      "cell_type": "code",
      "source": [
        "find_max = lambda a, b, c: a if a>b else b if b>c else c\n",
        "\n",
        "find_max(30,29,28)"
      ],
      "metadata": {
        "colab": {
          "base_uri": "https://localhost:8080/"
        },
        "id": "CWBiTPdmei74",
        "outputId": "b08ce758-ac72-49d2-fe31-279ef6f74a6e"
      },
      "execution_count": null,
      "outputs": [
        {
          "output_type": "execute_result",
          "data": {
            "text/plain": [
              "30"
            ]
          },
          "metadata": {},
          "execution_count": 8
        }
      ]
    },
    {
      "cell_type": "markdown",
      "source": [
        "#### 27. What is encapsulation in OOP?"
      ],
      "metadata": {
        "id": "6IbOzSPme6gx"
      }
    },
    {
      "cell_type": "markdown",
      "source": [
        "Encapsulation in Python refers to the concept of restricting direct access to certain attributes or methods of a class, thus hiding the internal state of an object and preventing it from being modified by external code. This is achieved by marking attributes or methods as private, which means they can only be accessed within the class itself.\n",
        "\n",
        "- Single Underscore Prefix (_): Attributes or methods prefixed with a single underscore are considered to be **protected**, indicating that they should not be accessed directly from outside the class, but can still be accessed if needed. This is more of a gentle reminder to users of the class that these members are intended for internal use.\n",
        "\n",
        "- Double Underscore Prefix (__): Attributes or methods prefixed with a double underscore are considered to be **private**, meaning they cannot be accessed directly from outside the class. Python performs name mangling on such attributes, effectively renaming them to include the class name, which makes them harder to access from outside."
      ],
      "metadata": {
        "id": "cHETnGeZfaqv"
      }
    },
    {
      "cell_type": "markdown",
      "source": [
        "#### 28. Explain the use of access modifiers in Python classes."
      ],
      "metadata": {
        "id": "KOsuwRp05Qmr"
      }
    },
    {
      "cell_type": "markdown",
      "source": [
        "In Python, access modifiers are used to control the visibility of methods and attributes within a class. There are three types of access modifiers:\n",
        "\n",
        "**Public**: Members (```variables``` or ```methods```) without an underscore prefix are considered public and can be accessed from outside the class.\n",
        "\n",
        "**Protected**: Members with a single underscore prefix (```_variable``` or ```_method```) are conventionally considered protected, indicating that they shouldn't be accessed from outside the class, but it's not strictly enforced by the language.\n",
        "\n",
        "**Private**: Members with a double underscore prefix (```__variable``` or ```__method```) are considered private, and accessing them from outside the class will raise an AttributeError. However, Python uses \"name mangling\" to effectively make these members pseudo-private rather than truly private."
      ],
      "metadata": {
        "id": "_UWVkYvlID6q"
      }
    },
    {
      "cell_type": "code",
      "source": [
        "class MyClass:\n",
        "  def __init__(self):\n",
        "    self.public_attribute = \"I am public\"\n",
        "    self._protected_attribute = \"I am protected\"\n",
        "    self.__private_attribute = \"I am private\"\n",
        "\n",
        "  def public_method(self):\n",
        "    print(\"This is a public method\")\n",
        "\n",
        "  def _protected_method(self):\n",
        "    print(\"This is a protected method\")\n",
        "\n",
        "  def __private_method(self):\n",
        "    print(\"This is a private method\")\n",
        "\n",
        "# Usage\n",
        "obj = MyClass()\n",
        "print(obj.public_attribute)  # Accessible\n",
        "print(obj._protected_attribute)  # Accessible, but conventionally not recommended\n",
        "# print(obj.__private_attribute)  # This will raise an AttributeError\n",
        "obj.public_method()  # Accessible\n",
        "obj._protected_method()  # Accessible, but conventionally not recommended\n",
        "# obj.__private_method()  # This will raise an AttributeError"
      ],
      "metadata": {
        "id": "SghZbgrue3CU",
        "colab": {
          "base_uri": "https://localhost:8080/"
        },
        "outputId": "1c90e304-2301-44c2-b1a5-5a9e59baf77e"
      },
      "execution_count": null,
      "outputs": [
        {
          "output_type": "stream",
          "name": "stdout",
          "text": [
            "I am public\n",
            "I am protected\n",
            "This is a public method\n",
            "This is a protected method\n"
          ]
        }
      ]
    },
    {
      "cell_type": "markdown",
      "source": [
        "#### 29. What is inheritance in OOP?"
      ],
      "metadata": {
        "id": "zBFy7RDbPwLZ"
      }
    },
    {
      "cell_type": "markdown",
      "source": [
        "Inheritance in Object-Oriented Programming (OOP) in Python is a mechanism where a new class inherits properties and behaviors (methods) from an existing class.\n",
        "\n",
        "The existing class is called a **parent class** or superclass or base class, and the new class is called a **child class** or subclass or derived class.\n",
        "\n",
        "This allows for code reusability and the creation of a hierarchy of classes with shared attributes and behaviors and increasing levels of specialization."
      ],
      "metadata": {
        "id": "aMFdx_aoc_N6"
      }
    },
    {
      "cell_type": "markdown",
      "source": [
        "#### 30. Define polymorphism In OOP."
      ],
      "metadata": {
        "id": "9lGHxLjgfVO4"
      }
    },
    {
      "cell_type": "markdown",
      "source": [
        "Polymorphism in object-oriented programming (OOP) refers to the ability of different objects to respond to the same message or method call in different ways.\n",
        "\n",
        "In Python, polymorphism is achieved through method overriding and method overloading. **Method overriding** allows a child class to provide a specific implementation of a method that is already defined in its parent class, while **method overloading** is not directly supported in Python but can be achieved through function overloading using default arguments or variable-length argument lists.\n",
        "\n",
        "This enables flexibility and reusability in code, as different objects can exhibit different behaviors while still adhering to a common interface."
      ],
      "metadata": {
        "id": "729O-3qHgkPS"
      }
    },
    {
      "cell_type": "markdown",
      "source": [
        "#### 31. Explain method overriding in Python."
      ],
      "metadata": {
        "id": "809W000VhztU"
      }
    },
    {
      "cell_type": "markdown",
      "source": [
        "Method overriding in Python refers to the ability of a child class to provide a specific implementation of a method that is already defined in its parent class. This allows the child class to customize or extend the behavior of the method while still maintaining the same method signature as the parent class.\n",
        "\n",
        "When the overridden method is called on an instance of the child class, the child class's implementation is executed instead of the parent class's implementation. Whenever a method in a child class has the same name, parameters, and return type as a method in its parent class, it overrides the parent class method.\n",
        "\n",
        "Overriding is commonly used in object-oriented programming to achieve polymorphism, where different objects can respond to the same message in different ways.\n",
        "\n",
        "For example:"
      ],
      "metadata": {
        "id": "Fo5mQ_a-jDd2"
      }
    },
    {
      "cell_type": "markdown",
      "source": [
        "#### 32. Define a parent class Animal with a method make_sound that prints \"Generic animal sound\". Create a child class Dog inheriting from Animal with a method make_sound that prints \"Woof!\"."
      ],
      "metadata": {
        "id": "0hjIzPEgmqp0"
      }
    },
    {
      "cell_type": "code",
      "source": [
        "class Animal:\n",
        "  def make_sound(self):\n",
        "        print(\"Generic animal sound\")\n",
        "\n",
        "class Dog(Animal):\n",
        "  def make_sound(self):\n",
        "        print(\"Woof!\")\n",
        "\n",
        "# Creating instances\n",
        "animal = Animal()\n",
        "dog = Dog()\n",
        "\n",
        "# Calling the method\n",
        "animal.make_sound()\n",
        "dog.make_sound()"
      ],
      "metadata": {
        "colab": {
          "base_uri": "https://localhost:8080/"
        },
        "id": "Q9SCsxGdmQo8",
        "outputId": "9d00e9b3-2158-4fcf-f8b7-a41d586a9bd0"
      },
      "execution_count": null,
      "outputs": [
        {
          "output_type": "stream",
          "name": "stdout",
          "text": [
            "Generic animal sound\n",
            "Woof!\n"
          ]
        }
      ]
    },
    {
      "cell_type": "markdown",
      "source": [
        "#### 33. Define a method move in the Animal class that prints \"Animal moves\". Override the move method in the Dog class to print \"Dog runs.\""
      ],
      "metadata": {
        "id": "GuicqRgynGM-"
      }
    },
    {
      "cell_type": "code",
      "source": [
        "class Animal:\n",
        "  def move(self):\n",
        "    print(\"Animal moves.\")\n",
        "\n",
        "class Dog(Animal):\n",
        "  def move(self):\n",
        "    print(\"Dog runs.\")\n",
        "\n",
        "# Creating instances\n",
        "animal = Animal()\n",
        "dog = Dog()\n",
        "\n",
        "# Calling the method\n",
        "animal.move()\n",
        "dog.move()"
      ],
      "metadata": {
        "colab": {
          "base_uri": "https://localhost:8080/"
        },
        "id": "OQeXcLR_nCPM",
        "outputId": "5f3ec05f-6506-4117-8121-3f8c1007b832"
      },
      "execution_count": null,
      "outputs": [
        {
          "output_type": "stream",
          "name": "stdout",
          "text": [
            "Animal moves.\n",
            "Dog runs.\n"
          ]
        }
      ]
    },
    {
      "cell_type": "markdown",
      "source": [
        "#### 34. Create a class Mammal with a method reproduce that prints \"Giving birth to live young.\" Create a class DogMammal inheriting from both Dog and Mammal."
      ],
      "metadata": {
        "id": "vj_zyjc1nttG"
      }
    },
    {
      "cell_type": "code",
      "source": [
        "class Mammal:\n",
        "  def reproduce(self):\n",
        "    print(\"Giving birth to live young.\")\n",
        "\n",
        "class DogMammal(Mammal):\n",
        "  def dog_reproduce(self):\n",
        "    print(\"Dog is giving birth.\")\n",
        "\n",
        "mammal = Mammal()\n",
        "dog = DogMammal()\n",
        "\n",
        "mammal.reproduce()\n",
        "dog.reproduce()\n",
        "dog.dog_reproduce()"
      ],
      "metadata": {
        "colab": {
          "base_uri": "https://localhost:8080/"
        },
        "id": "WsU5nLuEnmoP",
        "outputId": "35b66433-9527-44ae-92ab-6cfcbfd99e99"
      },
      "execution_count": null,
      "outputs": [
        {
          "output_type": "stream",
          "name": "stdout",
          "text": [
            "Giving birth to live young.\n",
            "Giving birth to live young.\n",
            "Dog is giving birth.\n"
          ]
        }
      ]
    },
    {
      "cell_type": "markdown",
      "source": [
        "#### 35. Create a class German Shepherd inheriting from Dog and override the make sound method to print \"Bark!\""
      ],
      "metadata": {
        "id": "9i-Tn0fIo9o_"
      }
    },
    {
      "cell_type": "code",
      "source": [
        "class Dog:\n",
        "  def make_sound(self):\n",
        "    print(\"Woof!\")\n",
        "\n",
        "class GermanShepherd(Dog):\n",
        "  def make_sound(self):\n",
        "    print(\"Bark!\")\n",
        "\n",
        "dog = Dog()\n",
        "gs = GermanShepherd()\n",
        "\n",
        "dog.make_sound()\n",
        "gs.make_sound()"
      ],
      "metadata": {
        "colab": {
          "base_uri": "https://localhost:8080/"
        },
        "id": "_sUk0IoGo5Lq",
        "outputId": "f3ad2f6a-96ee-492e-d50a-52699291fb67"
      },
      "execution_count": null,
      "outputs": [
        {
          "output_type": "stream",
          "name": "stdout",
          "text": [
            "Woof!\n",
            "Bark!\n"
          ]
        }
      ]
    },
    {
      "cell_type": "markdown",
      "source": [
        "#### 36. Define constructors in both the Animal and Dog classes with different initialization parameters."
      ],
      "metadata": {
        "id": "BvtXu5Z1p83m"
      }
    },
    {
      "cell_type": "code",
      "source": [
        "class Animal:\n",
        "  def __init__(self, species, age):\n",
        "    self.species = species\n",
        "    self.age = age\n",
        "\n",
        "class Dog(Animal):\n",
        "  def __init__(self, breed, name):\n",
        "    self.breed = breed\n",
        "    self.name = name\n",
        "\n",
        "animal = Animal(\"Lion\", 5)\n",
        "print(\"Animal species:\", animal.species)\n",
        "print(\"Animal age:\", animal.age)\n",
        "\n",
        "dog1 = Dog(\"Labrador\", \"Ruby\")\n",
        "print(\"Dog breed:\", dog1.breed)\n",
        "print(\"Dog name:\", dog1.name)"
      ],
      "metadata": {
        "colab": {
          "base_uri": "https://localhost:8080/"
        },
        "id": "eKm-Y5vjp4oV",
        "outputId": "b585183b-4fda-4ed6-9348-262c7a295782"
      },
      "execution_count": null,
      "outputs": [
        {
          "output_type": "stream",
          "name": "stdout",
          "text": [
            "Animal species: Lion\n",
            "Animal age: 5\n",
            "Dog breed: Labrador\n",
            "Dog name: Ruby\n"
          ]
        }
      ]
    },
    {
      "cell_type": "markdown",
      "source": [
        "#### 37. What is abstraction in Python? How is it implemented?"
      ],
      "metadata": {
        "id": "qrAVv8ixkgtw"
      }
    },
    {
      "cell_type": "markdown",
      "source": [
        "Abstraction in Python refers to the concept of hiding the complex implementation details of a class and only showing the necessary features to the outside world. It allows users to interact with objects without needing to understand how they are implemented internally, promoting simplicity and ease of use.\n",
        "\n",
        "Abstraction is typically implemented in Python using classes and methods. By defining methods in a class that perform certain tasks, developers can hide the internal workings of those tasks from users of the class.\n",
        "\n",
        "For example, consider a Car class. It might have attributes like ```make```, ```model```, and ```year```, and methods like ```start()```, ```stop()```, and ```drive()```. Users of the ```Car``` class don't need to know how these methods are implemented internally; they only need to know what they do and how to use them. This encapsulation of details is a form of abstraction."
      ],
      "metadata": {
        "id": "2jmFei9rlQds"
      }
    },
    {
      "cell_type": "markdown",
      "source": [
        "#### 38. Explain the importance of abstraction in object-oriented programming."
      ],
      "metadata": {
        "id": "BnyDSAimn7yo"
      }
    },
    {
      "cell_type": "markdown",
      "source": [
        "Abstraction in object-oriented programming (OOP) is crucial as it allows developers to focus on essential details while hiding unnecessary complexities.\n",
        "\n",
        "In Python, abstraction enables the creation of classes and objects that represent real-world entities, making code more readable, maintainable, and scalable. By abstracting away implementation details, developers can design more flexible and modular systems, promoting code reusability and reducing dependencies between different parts of the program. Essentially, abstraction helps manage complexity and enhances the overall design of Python programs."
      ],
      "metadata": {
        "id": "oOteb2Bts-Hz"
      }
    },
    {
      "cell_type": "markdown",
      "source": [
        "#### 39. How are abstract methods different from regular methods in Python?"
      ],
      "metadata": {
        "id": "7jjPx2lCtkjA"
      }
    },
    {
      "cell_type": "markdown",
      "source": [
        "In Python, abstract methods are declared in abstract classes using the ```@abstractmethod``` decorator from the ```abc``` module. They are meant to be overridden by child classes but don't have an implementation in the abstract class itself.\n",
        "\n",
        "Regular methods, on the other hand, are fully implemented within a class and can be directly called or inherited directly on instances of a class."
      ],
      "metadata": {
        "id": "F_Loa4JMuG3z"
      }
    },
    {
      "cell_type": "markdown",
      "source": [
        "#### 40. How can you achieve abstraction using interfaces in Python?"
      ],
      "metadata": {
        "id": "DNUweVMqvBX1"
      }
    },
    {
      "cell_type": "markdown",
      "source": [
        "In Python, you can achieve abstraction using interfaces by defining abstract base classes (ABCs) using the abc module. An interface can be defined by creating a ```class``` that inherits from ```ABC``` and then using the ```@abstractmethod``` decorator to mark methods as abstract.\n",
        "\n",
        "Other classes can then inherit from this interface and provide concrete implementations for its abstract methods. This allows you to define a contract for how objects of different classes should behave without specifying the implementation details."
      ],
      "metadata": {
        "id": "Kp2Nf2zkZlfT"
      }
    },
    {
      "cell_type": "markdown",
      "source": [
        "#### 41. Can you provide an example of how abstraction can be utilized to create a common interface for a group of related classes in Python?"
      ],
      "metadata": {
        "id": "JIzCrKdQakZ3"
      }
    },
    {
      "cell_type": "code",
      "source": [
        "import abc\n",
        "\n",
        "class Shape:\n",
        "  @abc.abstractmethod\n",
        "  def calculate_area(self):\n",
        "    pass\n",
        "\n",
        "class Rectangle(Shape):\n",
        "  def calculate_area(self):\n",
        "    print(\"Area of rectangle : length * breadth\")\n",
        "class Circle(Shape):\n",
        "  def calculate_area(self):\n",
        "    print(\"Area of circle : pi r**2\")\n",
        "\n",
        "\n",
        "rect = Rectangle()\n",
        "rect.calculate_area()\n",
        "\n",
        "c = Circle()\n",
        "c.calculate_area()"
      ],
      "metadata": {
        "id": "c841yHbLvbG5",
        "colab": {
          "base_uri": "https://localhost:8080/"
        },
        "outputId": "35859ec0-63c6-487b-ca79-6b666095a18d"
      },
      "execution_count": null,
      "outputs": [
        {
          "output_type": "stream",
          "name": "stdout",
          "text": [
            "Area of rectangle : length * breadth\n",
            "Area of circle : pi r**2\n"
          ]
        }
      ]
    },
    {
      "cell_type": "markdown",
      "source": [
        "#### 42. How does Python achieve polymorphism through method overriding?"
      ],
      "metadata": {
        "id": "lOK2-LaNZE37"
      }
    },
    {
      "cell_type": "markdown",
      "source": [
        "In Python, polymorphism through method overriding is achieved by defining a method in a child class that has the same name as a method in its parent class.\n",
        "\n",
        "When the method is called on an object of the child class, Python looks for the method definition in the child class first. If found, it executes that method; otherwise, it looks for it in the parent class.\n",
        "\n",
        "This allows different child classes to provide their own implementation of the same method, enabling polymorphic behavior, providing flexibility and allowing for code reuse."
      ],
      "metadata": {
        "id": "XHZ08ImCaDn8"
      }
    },
    {
      "cell_type": "markdown",
      "source": [
        "#### 43. Define a base class with a method and a subclass that overrides the method."
      ],
      "metadata": {
        "id": "jLVG0x39bb8g"
      }
    },
    {
      "cell_type": "code",
      "source": [
        "class BaseClass:\n",
        "  def method(self):\n",
        "    print(\"This is the method of the base class\")\n",
        "\n",
        "class SubClass(BaseClass):\n",
        "  def method(self):\n",
        "    print(\"This is the method of the subclass\")\n",
        "\n",
        "# Creating objects\n",
        "base_obj = BaseClass()\n",
        "sub_obj = SubClass()\n",
        "\n",
        "# Calling methods\n",
        "base_obj.method()\n",
        "sub_obj.method()"
      ],
      "metadata": {
        "colab": {
          "base_uri": "https://localhost:8080/"
        },
        "id": "LItj6M6lY6tN",
        "outputId": "20da085e-0c1a-4dc5-e177-4b08fb1261e9"
      },
      "execution_count": null,
      "outputs": [
        {
          "output_type": "stream",
          "name": "stdout",
          "text": [
            "This is the method of the base class\n",
            "This is the method of the subclass\n"
          ]
        }
      ]
    },
    {
      "cell_type": "markdown",
      "source": [
        "#### 44. Define a base class and multiple subclasses with overridden methods."
      ],
      "metadata": {
        "id": "eqDjrUQVdR2q"
      }
    },
    {
      "cell_type": "code",
      "source": [
        "class Vehicle:\n",
        "  def info(self):\n",
        "    print(\"This is a vehicle\")\n",
        "\n",
        "\n",
        "class Car(Vehicle):\n",
        "  def info(self):\n",
        "    print(\"This is a car\")\n",
        "class Bike(Vehicle):\n",
        "  def info(self):\n",
        "    print(\"This is a bike\")\n",
        "class Bus(Vehicle):\n",
        "  def info(self):\n",
        "    print(\"This is a bus\")\n",
        "\n",
        "vehicle = Vehicle()\n",
        "car = Car()\n",
        "bike =Bike()\n",
        "bus = Bus()\n",
        "\n",
        "vehicle.info()\n",
        "car.info()\n",
        "bike.info()\n",
        "bus.info()"
      ],
      "metadata": {
        "colab": {
          "base_uri": "https://localhost:8080/"
        },
        "id": "E3XczfTqdNgs",
        "outputId": "3a9f9f93-6477-4f40-d5bf-6b774b7d5fb5"
      },
      "execution_count": null,
      "outputs": [
        {
          "output_type": "stream",
          "name": "stdout",
          "text": [
            "This is a vehicle\n",
            "This is a car\n",
            "This is a bike\n",
            "This is a bus\n"
          ]
        }
      ]
    },
    {
      "cell_type": "markdown",
      "source": [
        "#### 45. How does polymorphism improve code readability and reusability?"
      ],
      "metadata": {
        "id": "1-Td3w9AhFnZ"
      }
    },
    {
      "cell_type": "markdown",
      "source": [
        "Polymorphism in Python allows objects of different types to be treated as objects of a common superclass. This improves code readability by making it easier to understand and maintain, as it promotes a more general and abstract view of the code. It also enhances reusability by enabling the same interface to be used for different types of objects, thus facilitating code reuse without modification.\n",
        "\n",
        "For example, you can have a function that iterates through a list of different types of shapes and calls a ```draw()``` method on each one, regardless of whether the shape is a circle, square, or triangle."
      ],
      "metadata": {
        "id": "Iiw8sdyohzTc"
      }
    },
    {
      "cell_type": "markdown",
      "source": [
        "#### 46. Describe how Python supports polymorphism with duck typing."
      ],
      "metadata": {
        "id": "7rfQ7N8ei0Ll"
      }
    },
    {
      "cell_type": "markdown",
      "source": [
        "Python supports polymorphism through duck typing, which essentially means that an object's suitability for a particular operation is determined by whether it behaves like the required type, rather than by its actual type. This allows different objects to be treated interchangeably if they implement the necessary methods or attributes, regardless of their class inheritance.\n",
        "\n",
        "In other words, as long as an object walks like a duck and quacks like a duck (meaning it has the necessary methods or attributes), Python will treat it like a duck, regardless of its actual type. This flexibility allows for more versatile and expressive code."
      ],
      "metadata": {
        "id": "JZNVuqY4l5hu"
      }
    },
    {
      "cell_type": "markdown",
      "source": [
        "#### 47. How do you achieve encapsulation in Python?"
      ],
      "metadata": {
        "id": "A3IfN1SkmdrX"
      }
    },
    {
      "cell_type": "markdown",
      "source": [
        "Encapsulation in Python is achieved by using private variables and methods. You can make an attribute or method private by prefixing its name with two underscores \"```__```\". This makes it inaccessible outside the class.\n",
        "\n",
        "For example:"
      ],
      "metadata": {
        "id": "AfMpHTwunvgQ"
      }
    },
    {
      "cell_type": "code",
      "source": [
        "class MyClass:\n",
        "  def __init__(self):\n",
        "        self.__private_variable = 10\n",
        "\n",
        "  def __private_method(self):\n",
        "        print(\"This is a private method.\")\n",
        "\n",
        "obj = MyClass()\n",
        "# print(obj.__private_variable)  # This will raise an error\n",
        "# obj.__private_method()  # This will raise an error"
      ],
      "metadata": {
        "id": "UN8HTCMHg6cj"
      },
      "execution_count": null,
      "outputs": []
    },
    {
      "cell_type": "markdown",
      "source": [
        "#### 48. Can encapsulation be bypassed in Python? If so, how?"
      ],
      "metadata": {
        "id": "0A-rSEWRoIjz"
      }
    },
    {
      "cell_type": "markdown",
      "source": [
        "Encapsulation in Python is a convention rather than a strict rule enforced by the language itself. It's based on the principle of making attributes private or protected by prefixing them with underscores. However, Python doesn't have strict access modifiers like some other languages. Therefore, it's technically possible to bypass encapsulation using techniques like directly accessing private attributes or using introspection.\n",
        "\n",
        "One way to bypass encapsulation is by directly accessing or modifying attributes prefixed with a single underscore (which is often used to indicate \"protected\" attributes) from outside the class.\n",
        "\n",
        "Another way is by using the ```__dict__``` attribute to access private members, although it's not recommended and goes against the principle of encapsulation. It's essential to follow the conventions and respect encapsulation to maintain code integrity and readability."
      ],
      "metadata": {
        "id": "lNjIul_iph-G"
      }
    },
    {
      "cell_type": "markdown",
      "source": [
        "#### 49. Implement a class BankAccount with a private balance attribute, include methods to deposit, withdraw. and check the balance."
      ],
      "metadata": {
        "id": "16RVxKewrlYr"
      }
    },
    {
      "cell_type": "code",
      "source": [
        "class BankAccount:\n",
        "\n",
        "  def __init__(self, balance):\n",
        "    self.__balance = balance\n",
        "\n",
        "  def deposit(self, amount):\n",
        "    self.__balance = self.__balance + amount\n",
        "\n",
        "  def withdraw(self, amount):\n",
        "    if self.__balance >= amount:\n",
        "      self.__balance = self.__balance - amount\n",
        "      return True\n",
        "    else:\n",
        "      return False\n",
        "\n",
        "  def get_balance(self):\n",
        "    return self.__balance\n",
        "\n",
        "\n",
        "bank = BankAccount(1000)\n",
        "bank.get_balance()"
      ],
      "metadata": {
        "colab": {
          "base_uri": "https://localhost:8080/"
        },
        "id": "GNXuTMNon-p0",
        "outputId": "67db6431-cc46-4000-8500-b86ad5605242"
      },
      "execution_count": null,
      "outputs": [
        {
          "output_type": "execute_result",
          "data": {
            "text/plain": [
              "1000"
            ]
          },
          "metadata": {},
          "execution_count": 7
        }
      ]
    },
    {
      "cell_type": "code",
      "source": [
        "bank.deposit(10000)\n",
        "bank.get_balance()"
      ],
      "metadata": {
        "colab": {
          "base_uri": "https://localhost:8080/"
        },
        "id": "f8nN6vXnu-L1",
        "outputId": "620a1eda-e9cd-4cd9-96a7-a03b298ccd7a"
      },
      "execution_count": null,
      "outputs": [
        {
          "output_type": "execute_result",
          "data": {
            "text/plain": [
              "11000"
            ]
          },
          "metadata": {},
          "execution_count": 8
        }
      ]
    },
    {
      "cell_type": "code",
      "source": [
        "bank.withdraw(5000)\n",
        "bank.get_balance()"
      ],
      "metadata": {
        "colab": {
          "base_uri": "https://localhost:8080/"
        },
        "id": "__CF32Miu_zt",
        "outputId": "4f412d86-8b89-42dc-96b1-2ba89ced670f"
      },
      "execution_count": null,
      "outputs": [
        {
          "output_type": "execute_result",
          "data": {
            "text/plain": [
              "6000"
            ]
          },
          "metadata": {},
          "execution_count": 9
        }
      ]
    },
    {
      "cell_type": "markdown",
      "source": [
        "#### 50. Develop a Person class with private attributes name and email, and methods to set and get the email."
      ],
      "metadata": {
        "id": "yUB4Ut6JvFQC"
      }
    },
    {
      "cell_type": "code",
      "source": [
        "class Person:\n",
        "\n",
        "  def __init__(self, name, email):\n",
        "    self.__name = name\n",
        "    self.__email = email\n",
        "\n",
        "  @property\n",
        "  def access_email(self):\n",
        "    return self.__email\n",
        "\n",
        "  @access_email.setter\n",
        "  def set_email(self, email_new):\n",
        "    self.__email = email_new\n",
        "\n",
        "person = Person(\"Arunima\", \"abc@gmail.com\")\n",
        "person.access_email"
      ],
      "metadata": {
        "colab": {
          "base_uri": "https://localhost:8080/",
          "height": 36
        },
        "id": "0i1YfZU8vA7S",
        "outputId": "11b5feb7-a169-445c-a9a9-3c0cf68c14ae"
      },
      "execution_count": null,
      "outputs": [
        {
          "output_type": "execute_result",
          "data": {
            "text/plain": [
              "'abc@gmail.com'"
            ],
            "application/vnd.google.colaboratory.intrinsic+json": {
              "type": "string"
            }
          },
          "metadata": {},
          "execution_count": 10
        }
      ]
    },
    {
      "cell_type": "code",
      "source": [
        "person.set_email = \"xyz@gmail.com\"\n",
        "person.access_email"
      ],
      "metadata": {
        "colab": {
          "base_uri": "https://localhost:8080/",
          "height": 36
        },
        "id": "SfED1gIrw3GT",
        "outputId": "b96f1fb4-80f5-46e1-a72e-887830c1b8d4"
      },
      "execution_count": null,
      "outputs": [
        {
          "output_type": "execute_result",
          "data": {
            "text/plain": [
              "'xyz@gmail.com'"
            ],
            "application/vnd.google.colaboratory.intrinsic+json": {
              "type": "string"
            }
          },
          "metadata": {},
          "execution_count": 12
        }
      ]
    },
    {
      "cell_type": "markdown",
      "source": [
        "#### 51. Why is encapsulation considered a pillar of object-oriented programming (OOP)?"
      ],
      "metadata": {
        "id": "QblErwDNxX92"
      }
    },
    {
      "cell_type": "markdown",
      "source": [
        "Encapsulation is a pillar of OOP because it allows the bundling of data and methods that operate on the data into a single unit, thus hiding the internal state of an object and only exposing the necessary functionality.\n",
        "\n",
        "This enhances data security, promotes code reusability, and reduces complexity by providing clear boundaries between different components of a program."
      ],
      "metadata": {
        "id": "molGLRxgzH4y"
      }
    },
    {
      "cell_type": "markdown",
      "source": [
        "#### 52. Create a decorator in Python that adds functionality to a simple function by printing a message before and after the function execution.\n"
      ],
      "metadata": {
        "id": "p6EEr5qqz0Fx"
      }
    },
    {
      "cell_type": "code",
      "source": [
        "def my_decorator(func):\n",
        "  def wrapper(*args, **kwargs): # adds functionality before and after the function execution\n",
        "    print(\"Before function execution\")\n",
        "    func()\n",
        "    print(\"After function execution\")\n",
        "  return wrapper\n",
        "\n",
        "@my_decorator\n",
        "def simple_function():\n",
        "  print(\"Hello World!\")\n",
        "\n",
        "simple_function()"
      ],
      "metadata": {
        "id": "pZ1cuk-ww8Nw",
        "colab": {
          "base_uri": "https://localhost:8080/"
        },
        "outputId": "b94f9c70-5e90-4ef2-d203-2b91f1f4e7e4"
      },
      "execution_count": null,
      "outputs": [
        {
          "output_type": "stream",
          "name": "stdout",
          "text": [
            "Before function execution\n",
            "Hello World!\n",
            "After function execution\n"
          ]
        }
      ]
    },
    {
      "cell_type": "markdown",
      "source": [
        "#### 53. Modify the decorator to accept arguments and print the function name along with the message."
      ],
      "metadata": {
        "id": "P2eMtfaAAsYG"
      }
    },
    {
      "cell_type": "code",
      "source": [
        "def decorator_with_args(message):\n",
        "  def my_decorator(func):\n",
        "    def wrapper(*args, **kwargs):\n",
        "      print(f\"Before {func.__name__} execution: {message}\")\n",
        "      func()\n",
        "      print(f\"After {func.__name__} execution: {message}\")\n",
        "    return wrapper\n",
        "  return my_decorator\n",
        "\n",
        "@decorator_with_args(\"function execution\")\n",
        "def simple_function():\n",
        "  print(\"Hello World!\")\n",
        "\n",
        "simple_function()"
      ],
      "metadata": {
        "colab": {
          "base_uri": "https://localhost:8080/"
        },
        "id": "rOXnEynDAk5f",
        "outputId": "fdc8972e-7b55-4bc6-af39-5e86929f193c"
      },
      "execution_count": null,
      "outputs": [
        {
          "output_type": "stream",
          "name": "stdout",
          "text": [
            "Before simple_function execution: function execution\n",
            "Hello World!\n",
            "After simple_function execution: function execution\n"
          ]
        }
      ]
    },
    {
      "cell_type": "markdown",
      "source": [
        "#### 54. Create two decorators, and apply them to a single function. Ensure that they execute in the order they are applied."
      ],
      "metadata": {
        "id": "LKutVpBzDz_n"
      }
    },
    {
      "cell_type": "code",
      "source": [
        "def first_decorator(func):\n",
        "  def wrapper(*args, **kwargs):\n",
        "    print(\"First decorator before function execution\")\n",
        "    func()\n",
        "    print(\"First decorator after function execution\")\n",
        "  return wrapper\n",
        "\n",
        "def second_decorator(func):\n",
        "  def wrapper(*args, **kwargs):\n",
        "    print(\"Second decorator before function execution\")\n",
        "    func()\n",
        "    print(\"Second decorator after function execution\")\n",
        "  return wrapper\n",
        "\n",
        "@first_decorator\n",
        "@second_decorator\n",
        "def my_function():\n",
        "  print(\"Inside my function\")\n",
        "\n",
        "my_function()"
      ],
      "metadata": {
        "colab": {
          "base_uri": "https://localhost:8080/"
        },
        "id": "H1P_Gh72DwVA",
        "outputId": "e647f701-e09c-438b-e3c8-81480b6d4431"
      },
      "execution_count": null,
      "outputs": [
        {
          "output_type": "stream",
          "name": "stdout",
          "text": [
            "First decorator before function execution\n",
            "Second decorator before function execution\n",
            "Inside my function\n",
            "Second decorator after function execution\n",
            "First decorator after function execution\n"
          ]
        }
      ]
    },
    {
      "cell_type": "markdown",
      "source": [
        "#### 55. Modify the decorator to accept and pass function arguments to the wrapped function."
      ],
      "metadata": {
        "id": "6jdQlNIGFy55"
      }
    },
    {
      "cell_type": "code",
      "source": [
        "def first_decorator(func):\n",
        "  def wrapper(*args, **kwargs):\n",
        "    print(\"First decorator before function execution\")\n",
        "    result = func(*args, **kwargs)\n",
        "    print(\"First decorator after function execution\")\n",
        "    return result\n",
        "  return wrapper\n",
        "\n",
        "def second_decorator(func):\n",
        "  def wrapper(*args, **kwargs):\n",
        "    print(\"Second decorator before function execution\")\n",
        "    result = func(*args, **kwargs)\n",
        "    print(\"Second decorator after function execution\")\n",
        "    return result\n",
        "  return wrapper\n",
        "\n",
        "@first_decorator\n",
        "@second_decorator\n",
        "def my_function(arg1, arg2):\n",
        "  print(f\"Inside my function with arguments: {arg1}, {arg2}\")\n",
        "\n",
        "my_function(\"Hello\", \"World\")"
      ],
      "metadata": {
        "colab": {
          "base_uri": "https://localhost:8080/"
        },
        "id": "NgM9iQFhFqGA",
        "outputId": "9e2fa5f8-5fc9-4c2e-fe06-2e4e45f6887b"
      },
      "execution_count": null,
      "outputs": [
        {
          "output_type": "stream",
          "name": "stdout",
          "text": [
            "First decorator before function execution\n",
            "Second decorator before function execution\n",
            "Inside my function with arguments: Hello, World\n",
            "Second decorator after function execution\n",
            "First decorator after function execution\n"
          ]
        }
      ]
    },
    {
      "cell_type": "markdown",
      "source": [
        "#### 56. Create a decorator that preserves the metadata of the original function."
      ],
      "metadata": {
        "id": "6wT3s912IONe"
      }
    },
    {
      "cell_type": "code",
      "source": [
        "from functools import wraps\n",
        "\n",
        "def decorator(func):\n",
        "  @wraps(func)\n",
        "  def wrapper(*args, **kwargs):\n",
        "    print(\"Before function execution\")\n",
        "    result = func(*args, **kwargs)\n",
        "    print(\"After function execution\")\n",
        "    return result\n",
        "  return wrapper\n",
        "\n",
        "@decorator\n",
        "def my_function():\n",
        "  \"\"\"\n",
        "  This is the original function with metadata\n",
        "  \"\"\"\n",
        "  print(\"Inside my function\")\n",
        "\n",
        "# Accessing metadata of the original function\n",
        "print(my_function.__name__)\n",
        "print(my_function.__doc__)"
      ],
      "metadata": {
        "colab": {
          "base_uri": "https://localhost:8080/"
        },
        "id": "xPFFXJgtH9vW",
        "outputId": "08202736-1c54-4f24-9a4c-8508356c1042"
      },
      "execution_count": null,
      "outputs": [
        {
          "output_type": "stream",
          "name": "stdout",
          "text": [
            "my_function\n",
            "\n",
            "  This is the original function with metadata\n",
            "  \n"
          ]
        }
      ]
    },
    {
      "cell_type": "markdown",
      "source": [
        "#### 57. Create a Python class 'Calculator' with a static method 'add' that takes in two numbers and returns their sum."
      ],
      "metadata": {
        "id": "CHiDgOydKlw1"
      }
    },
    {
      "cell_type": "code",
      "source": [
        "class Calculator:\n",
        "\n",
        "  @staticmethod\n",
        "  def add(x, y):\n",
        "    return x+y\n",
        "\n",
        "Calculator.add(20,10)"
      ],
      "metadata": {
        "colab": {
          "base_uri": "https://localhost:8080/"
        },
        "id": "AZcU4TpEKfqg",
        "outputId": "86f2306d-f363-4beb-df74-ec35b1fda4f2"
      },
      "execution_count": null,
      "outputs": [
        {
          "output_type": "execute_result",
          "data": {
            "text/plain": [
              "30"
            ]
          },
          "metadata": {},
          "execution_count": 16
        }
      ]
    },
    {
      "cell_type": "markdown",
      "source": [
        "#### 58. Create a Python class 'Employee' with a class method 'get_employee_count' that returns the total number of employees created."
      ],
      "metadata": {
        "id": "4iWleoxxLCGr"
      }
    },
    {
      "cell_type": "code",
      "source": [
        "class Employee:\n",
        "  employee_count = 0\n",
        "  def __init__(self, name):\n",
        "    self.name = name\n",
        "    Employee.employee_count = Employee.employee_count + 1\n",
        "\n",
        "  @classmethod\n",
        "  def get_employee_count(cls):\n",
        "    return cls.employee_count\n",
        "\n",
        "Employee.get_employee_count()"
      ],
      "metadata": {
        "colab": {
          "base_uri": "https://localhost:8080/"
        },
        "id": "f3w-G_7nK9er",
        "outputId": "62519b8e-ee77-4b5d-deaa-145d3c926cd6"
      },
      "execution_count": null,
      "outputs": [
        {
          "output_type": "execute_result",
          "data": {
            "text/plain": [
              "0"
            ]
          },
          "metadata": {},
          "execution_count": 17
        }
      ]
    },
    {
      "cell_type": "code",
      "source": [
        "emp1 = Employee(\"Akash\")\n",
        "emp2 = Employee(\"Anita\")\n",
        "emp3 = Employee(\"Bijay\")\n",
        "emp4 = Employee(\"Baani\")\n",
        "\n",
        "Employee.get_employee_count()"
      ],
      "metadata": {
        "colab": {
          "base_uri": "https://localhost:8080/"
        },
        "id": "8OWcGTKtN2KV",
        "outputId": "8305cecd-5ac5-41c9-efd2-291ec759ea3a"
      },
      "execution_count": null,
      "outputs": [
        {
          "output_type": "execute_result",
          "data": {
            "text/plain": [
              "4"
            ]
          },
          "metadata": {},
          "execution_count": 18
        }
      ]
    },
    {
      "cell_type": "markdown",
      "source": [
        "#### 59. Create a Python class 'StringFormatter' with a static method 'reverse_string' that takes a string as input and returns its reverse."
      ],
      "metadata": {
        "id": "wVzJAhj4N-s0"
      }
    },
    {
      "cell_type": "code",
      "source": [
        "class StringFormatter:\n",
        "\n",
        "  @staticmethod\n",
        "  def reverse_string(input_string):\n",
        "    return input_string[::-1]\n",
        "\n",
        "\n",
        "StringFormatter.reverse_string(\"Hello, World!\")"
      ],
      "metadata": {
        "id": "PmamEo7wN5RY",
        "colab": {
          "base_uri": "https://localhost:8080/",
          "height": 36
        },
        "outputId": "8798d16b-5199-422f-955f-008e2bc2dd67"
      },
      "execution_count": null,
      "outputs": [
        {
          "output_type": "execute_result",
          "data": {
            "text/plain": [
              "'!dlroW ,olleH'"
            ],
            "application/vnd.google.colaboratory.intrinsic+json": {
              "type": "string"
            }
          },
          "metadata": {},
          "execution_count": 1
        }
      ]
    },
    {
      "cell_type": "markdown",
      "source": [
        "#### 60. Create a Python class 'Circle' with a class method 'calculate_area' that calculates the area of a circle given its radius."
      ],
      "metadata": {
        "id": "EI_v3KyGl0GW"
      }
    },
    {
      "cell_type": "code",
      "source": [
        "class Circle:\n",
        "\n",
        "  @classmethod\n",
        "  def calculate_area(cls, radius):\n",
        "    return cls.__name__, 3.14 * radius**2\n",
        "\n",
        "Circle.calculate_area(6)"
      ],
      "metadata": {
        "id": "gBmDUICBlm3D",
        "colab": {
          "base_uri": "https://localhost:8080/"
        },
        "outputId": "7c5f1285-758a-4619-90c3-98fcb894166b"
      },
      "execution_count": null,
      "outputs": [
        {
          "output_type": "execute_result",
          "data": {
            "text/plain": [
              "('Circle', 113.04)"
            ]
          },
          "metadata": {},
          "execution_count": 2
        }
      ]
    },
    {
      "cell_type": "markdown",
      "source": [
        "#### 61. Create a Python class 'TemperatureConverter' with a static method 'celsius_to_fahrenheit' that converts Celsius to Fahrenheit."
      ],
      "metadata": {
        "id": "9sSuCuzWna7u"
      }
    },
    {
      "cell_type": "code",
      "source": [
        "class TemperatureConverter:\n",
        "\n",
        "  @staticmethod\n",
        "  def celsius_to_fahrenheit(input_celcius):\n",
        "    return (input_celcius*9/5)+32\n",
        "\n",
        "\n",
        "celcius = 5\n",
        "farenheit = TemperatureConverter.celsius_to_fahrenheit(celcius)\n",
        "print(f\"{celcius} degree celcius in fahenheit is {farenheit} degrees\")"
      ],
      "metadata": {
        "id": "HGI26aC0m1SA",
        "colab": {
          "base_uri": "https://localhost:8080/"
        },
        "outputId": "ac41f5f8-7914-4b21-9db7-37cc83c2194e"
      },
      "execution_count": null,
      "outputs": [
        {
          "output_type": "stream",
          "name": "stdout",
          "text": [
            "5 degree celcius in fahenheit is 41.0 degrees\n"
          ]
        }
      ]
    },
    {
      "cell_type": "markdown",
      "source": [
        "#### 62. What is the purpose of the ```__str__()``` method in Python classes? Provide an example."
      ],
      "metadata": {
        "id": "XslvL4j6puGi"
      }
    },
    {
      "cell_type": "markdown",
      "source": [
        "The ```__str__()``` method in Python classes is used to define how an instance of the class should be represented as a string when it's converted using the ```str()``` function or when printed. It's useful for providing a human-readable representation of the object.\n",
        "\n",
        "Here's an example:"
      ],
      "metadata": {
        "id": "gKXVrMYuqqjO"
      }
    },
    {
      "cell_type": "code",
      "source": [
        "class Car:\n",
        "  def __init__(self, make, model, year):\n",
        "    self.make = make\n",
        "    self.model = model\n",
        "    self.year = year\n",
        "\n",
        "  def __str__(self):\n",
        "    return f\"Make: {self.make}, Model: {self.model}, Year: {self.year}\"\n",
        "\n",
        "# Creating an instance of the Car class\n",
        "my_car = Car(\"Tata\", \"Harrier\", 2023)\n",
        "\n",
        "# Printing the object directly\n",
        "print(my_car)"
      ],
      "metadata": {
        "colab": {
          "base_uri": "https://localhost:8080/"
        },
        "id": "BuiCvInUpqnq",
        "outputId": "b68ca9e5-2eb8-4dc0-b27e-8f3fee8248a0"
      },
      "execution_count": null,
      "outputs": [
        {
          "output_type": "stream",
          "name": "stdout",
          "text": [
            "Make: Tata, Model: Harrier, Year: 2023\n"
          ]
        }
      ]
    },
    {
      "cell_type": "code",
      "source": [
        "# Using the str() function explicitly\n",
        "car_str = str(my_car)\n",
        "print(car_str)"
      ],
      "metadata": {
        "colab": {
          "base_uri": "https://localhost:8080/"
        },
        "id": "04Cb9RjytV5m",
        "outputId": "54627921-e2f4-4d60-cf36-c656b6f75489"
      },
      "execution_count": null,
      "outputs": [
        {
          "output_type": "stream",
          "name": "stdout",
          "text": [
            "Make: Tata, Model: Harrier, Year: 2023\n"
          ]
        }
      ]
    },
    {
      "cell_type": "markdown",
      "source": [
        "#### 63. How does the ```__len__()``` method work in Python? Provide an example."
      ],
      "metadata": {
        "id": "UHPjxjRbthcq"
      }
    },
    {
      "cell_type": "markdown",
      "source": [
        "In Python, the ```__len__()``` method is a special method used to determine the length of an object. It's called when the built-in ```len()``` function is used on an object.\n",
        "\n",
        "For example, if you define a custom class and implement ```__len__()```, you can specify what it means for an instance of that class to be considered \"lengthy.\""
      ],
      "metadata": {
        "id": "SvnviGnn2Vc3"
      }
    },
    {
      "cell_type": "code",
      "source": [
        "class CustomList:\n",
        "  def __init__(self, data):\n",
        "    self.data = data\n",
        "\n",
        "  def __len__(self):\n",
        "    return len(self.data)\n",
        "\n",
        "# Creating an instance of CustomList\n",
        "my_list = CustomList([0, 1, 2, 3, 4, 5])\n",
        "\n",
        "# Using len() function on the instance\n",
        "print(len(my_list))"
      ],
      "metadata": {
        "colab": {
          "base_uri": "https://localhost:8080/"
        },
        "id": "edCVR6tWtbaF",
        "outputId": "51adce79-3ee7-447b-95df-545c1bc00114"
      },
      "execution_count": null,
      "outputs": [
        {
          "output_type": "stream",
          "name": "stdout",
          "text": [
            "6\n"
          ]
        }
      ]
    },
    {
      "cell_type": "markdown",
      "source": [
        "In this example, ```len(my_list)``` calls the ```__len__()``` method of the MyList class, which in turn returns the length of the data attribute."
      ],
      "metadata": {
        "id": "kJs5f53v3jj1"
      }
    },
    {
      "cell_type": "markdown",
      "source": [
        "#### 64. Explain the usage of the ```__add__()``` method in Python classes. Provide an example."
      ],
      "metadata": {
        "id": "K5q5vR3q4acu"
      }
    },
    {
      "cell_type": "markdown",
      "source": [
        "The ```__add__()``` method in Python classes is used to define the behavior of the addition operator (+) when applied to instances of the class. It allows you to customize how objects of your class are added together.\n",
        "\n",
        "Here's an example:"
      ],
      "metadata": {
        "id": "lP8WmXqK96sr"
      }
    },
    {
      "cell_type": "code",
      "source": [
        "class Point:\n",
        "  def __init__(self, x, y):\n",
        "    self.x = x\n",
        "    self.y = y\n",
        "\n",
        "  def __add__(self, other):\n",
        "    if isinstance(other, Point):\n",
        "      return Point(self.x + other.x, self.y + other.y)\n",
        "    else:\n",
        "      raise TypeError(\"Unsupported operand type for +\")\n",
        "\n",
        "  def __str__(self):\n",
        "    return f\"({self.x}, {self.y})\"\n",
        "\n",
        "# Creating two Point objects\n",
        "point1 = Point(1, 2)\n",
        "point2 = Point(3, 4)\n",
        "\n",
        "# Adding two Point objects\n",
        "result = point1 + point2\n",
        "\n",
        "print(\"Resulting Point coordinates:\", result)"
      ],
      "metadata": {
        "colab": {
          "base_uri": "https://localhost:8080/"
        },
        "id": "FHcAmlAQ3drZ",
        "outputId": "f6acc3e6-a390-4c79-a23c-75e2492f7ff7"
      },
      "execution_count": null,
      "outputs": [
        {
          "output_type": "stream",
          "name": "stdout",
          "text": [
            "Resulting Point coordinates: (4, 6)\n"
          ]
        }
      ]
    },
    {
      "cell_type": "markdown",
      "source": [
        "In this example, the ```__add__()``` method is defined inside the Point class. It takes two arguments: self (representing the instance on which the method is called) and other (representing the object being added).\n",
        "\n",
        "Inside the method, it checks if the other object is also a Point instance. If it is, it performs the addition of the corresponding coordinates and returns a new Point object. Otherwise, it raises a TypeError indicating that the operation is not supported."
      ],
      "metadata": {
        "id": "nmbNP7e5_Ong"
      }
    },
    {
      "cell_type": "markdown",
      "source": [
        "#### 65. What is the purpose of the ```__getitem__()``` method in Python? Provide an example."
      ],
      "metadata": {
        "id": "vZf4kPc2A2A-"
      }
    },
    {
      "cell_type": "markdown",
      "source": [
        "The ```__getitem__()``` method in Python is used to implement the indexing and slicing operations for objects using the indexing syntax (e.g., ```obj[index]```). It enables objects to support the behavior of sequences like lists or dictionaries.\n",
        "\n",
        "Here's an example:"
      ],
      "metadata": {
        "id": "__9FsJVUBski"
      }
    },
    {
      "cell_type": "code",
      "source": [
        "class MyList:\n",
        "  def __init__(self, data):\n",
        "    self.data = data\n",
        "\n",
        "  def __getitem__(self, index):\n",
        "    return self.data[index]\n",
        "\n",
        "\n",
        "my_list = MyList([1, 2, 3, 4, 5])\n",
        "print(my_list[3])"
      ],
      "metadata": {
        "colab": {
          "base_uri": "https://localhost:8080/"
        },
        "id": "mk1P4OcU_JTW",
        "outputId": "a0685884-c87e-4d52-dd74-3aa45bf4d8c0"
      },
      "execution_count": null,
      "outputs": [
        {
          "output_type": "stream",
          "name": "stdout",
          "text": [
            "4\n"
          ]
        }
      ]
    },
    {
      "cell_type": "markdown",
      "source": [
        "In this example, ```__getitem__()``` allows instances of ```MyList``` to be accessed using square brackets, just like a regular built-in list."
      ],
      "metadata": {
        "id": "ePbMoewsC1J3"
      }
    },
    {
      "cell_type": "markdown",
      "source": [
        "#### 66. Explain the usage of the ```__iter__()``` and ```__next__()``` methods in Python. Provide an example using iterators.\n"
      ],
      "metadata": {
        "id": "k62zyfoPDDPS"
      }
    },
    {
      "cell_type": "markdown",
      "source": [
        "In Python, the ```__iter__()``` and ```__next__()``` methods are used to create iterators.\n",
        "\n",
        "```__iter__()```: This method returns the iterator object itself and is called when the iterator is initialized.\n",
        "\n",
        "```__next__()```: This method returns the next item in the sequence and is called sequentially to fetch the next element.\n",
        "\n",
        "Here's an example using iterators:"
      ],
      "metadata": {
        "id": "3j9twDzxETr9"
      }
    },
    {
      "cell_type": "code",
      "source": [
        "class MyIterator:\n",
        "    def __init__(self, max_num):\n",
        "        self.max_num = max_num\n",
        "        self.current = 0\n",
        "\n",
        "    def __iter__(self):\n",
        "        return self\n",
        "\n",
        "    def __next__(self):\n",
        "        if self.current < self.max_num:\n",
        "            self.current += 1\n",
        "            return self.current\n",
        "        else:\n",
        "            raise StopIteration\n",
        "\n",
        "# Using the iterator\n",
        "my_iter = MyIterator(5)\n",
        "for num in my_iter:\n",
        "    print(num)"
      ],
      "metadata": {
        "colab": {
          "base_uri": "https://localhost:8080/"
        },
        "id": "R0f848L5CxgO",
        "outputId": "2fe8d2d0-dd70-4c82-fce4-ca67df4100be"
      },
      "execution_count": null,
      "outputs": [
        {
          "output_type": "stream",
          "name": "stdout",
          "text": [
            "1\n",
            "2\n",
            "3\n",
            "4\n",
            "5\n"
          ]
        }
      ]
    },
    {
      "cell_type": "markdown",
      "source": [
        "In this example, ```MyIterator``` is a class that implements both ```__iter__()``` and ```__next__()``` methods.\n",
        "\n",
        "```__iter__()``` returns the iterator object itself, and ```__next__()``` defines the logic for iterating over the object."
      ],
      "metadata": {
        "id": "aS_tbmKzHYJJ"
      }
    },
    {
      "cell_type": "markdown",
      "source": [
        "#### 67. What is the purpose of a getter method in Python? Provide an example demonstrating the use of a getter method using property decorators."
      ],
      "metadata": {
        "id": "lR_LRODmHmdi"
      }
    },
    {
      "cell_type": "markdown",
      "source": [
        "In Python, getter methods are used to access and retrieve the values of attributes within a class, especially those that are declared with a single leading underscore (_) to indicate they are private. They are often used with property decorators to control access and potentially add logic to getting the attribute's value. This promotes data encapsulation and improves code maintainability.\n",
        "\n",
        "Here's an example using a property decorator:"
      ],
      "metadata": {
        "id": "xcrlt9aoscnt"
      }
    },
    {
      "cell_type": "code",
      "source": [
        "class Person:\n",
        "  def __init__(self, name):\n",
        "    self._name = name\n",
        "\n",
        "  @property\n",
        "  def name(self):\n",
        "    return self._name\n",
        "\n",
        "# Create a person object\n",
        "person = Person(\"Arunima\")\n",
        "\n",
        "# Access the name using the getter method (property)\n",
        "print(person.name)"
      ],
      "metadata": {
        "colab": {
          "base_uri": "https://localhost:8080/"
        },
        "id": "ErW7z-NIHTml",
        "outputId": "c553603d-1e7d-41d6-9512-da352274cc4f"
      },
      "execution_count": null,
      "outputs": [
        {
          "output_type": "stream",
          "name": "stdout",
          "text": [
            "Arunima\n"
          ]
        }
      ]
    },
    {
      "cell_type": "markdown",
      "source": [
        "In this example, the name attribute is prefixed with an underscore (_) to indicate it's private (by convention). The name property acts as a getter method, allowing controlled access to the ```_name``` attribute."
      ],
      "metadata": {
        "id": "r8qYs7zDte8S"
      }
    },
    {
      "cell_type": "markdown",
      "source": [
        "#### 68. Explain the role of setter methods in Python. Demonstrate how to use a setter method to modify a class attribute using property decorators."
      ],
      "metadata": {
        "id": "wBFEiwRCtxi-"
      }
    },
    {
      "cell_type": "markdown",
      "source": [
        "In Python, a setter method is used to control how an attribute value is assigned within a class. It provides a way to validate, modify, or perform actions before setting a new value to the attribute.\n",
        "\n",
        "Here's how to use a setter method with property decorators:"
      ],
      "metadata": {
        "id": "eMgMOQtIumHU"
      }
    },
    {
      "cell_type": "code",
      "source": [
        "class Person:\n",
        "  def __init__(self, name):\n",
        "    self._name = name  # Convention for private attribute\n",
        "\n",
        "  @property\n",
        "  def name(self):\n",
        "    return self._name\n",
        "\n",
        "  @name.setter\n",
        "  def name(self, new_name):\n",
        "    if len(new_name) < 2:\n",
        "      raise ValueError(\"Name must be at least 2 characters long\")\n",
        "    self._name = new_name\n",
        "\n",
        "# Usage\n",
        "person = Person(\"Arunima\")\n",
        "person.name"
      ],
      "metadata": {
        "colab": {
          "base_uri": "https://localhost:8080/",
          "height": 36
        },
        "id": "Ncb6yTdEtcFd",
        "outputId": "06b86c7e-0db6-4f28-e182-0002664415b6"
      },
      "execution_count": null,
      "outputs": [
        {
          "output_type": "execute_result",
          "data": {
            "text/plain": [
              "'Arunima'"
            ],
            "application/vnd.google.colaboratory.intrinsic+json": {
              "type": "string"
            }
          },
          "metadata": {},
          "execution_count": 14
        }
      ]
    },
    {
      "cell_type": "code",
      "source": [
        "person.name = \"Bikram\"\n",
        "person.name"
      ],
      "metadata": {
        "colab": {
          "base_uri": "https://localhost:8080/",
          "height": 36
        },
        "id": "7NV3hNduxPbs",
        "outputId": "a82c545c-0f23-4b4d-aec1-e9d226dd0c83"
      },
      "execution_count": null,
      "outputs": [
        {
          "output_type": "execute_result",
          "data": {
            "text/plain": [
              "'Bikram'"
            ],
            "application/vnd.google.colaboratory.intrinsic+json": {
              "type": "string"
            }
          },
          "metadata": {},
          "execution_count": 15
        }
      ]
    },
    {
      "cell_type": "markdown",
      "source": [
        "#### 69. What is the purpose of the @property decorator in Python? Provide an example illustrating its usage."
      ],
      "metadata": {
        "id": "ajXdmCavxbT_"
      }
    },
    {
      "cell_type": "markdown",
      "source": [
        "The ```@property``` decorator in Python is used to create properties. These properties act like attributes but can have custom logic for getting, setting, or deleting their values using getter, setter, and deleter methods.\n",
        "\n",
        "This allows for more control over attribute like data validation, adding side effects, or other functionalities when accessing or modifying the data.\n",
        "\n",
        "Here's an example:"
      ],
      "metadata": {
        "id": "MM6lJ5VLyqKo"
      }
    },
    {
      "cell_type": "code",
      "source": [
        "class Person:\n",
        "  def __init__(self, name):\n",
        "    self._name = name\n",
        "\n",
        "  @property\n",
        "  def name(self):\n",
        "    return self._name.upper()  # Getter - returns name in uppercase\n",
        "\n",
        "  @name.setter\n",
        "  def name(self, new_name):\n",
        "    self._name = new_name   # Setter - validates and sets name\n",
        "\n",
        "person = Person(\"arunima\")\n",
        "print(person.name)"
      ],
      "metadata": {
        "colab": {
          "base_uri": "https://localhost:8080/"
        },
        "id": "mO2cUzItxUxQ",
        "outputId": "53cad786-b2cb-4227-a703-a485ddc9ab10"
      },
      "execution_count": null,
      "outputs": [
        {
          "output_type": "stream",
          "name": "stdout",
          "text": [
            "ARUNIMA\n"
          ]
        }
      ]
    },
    {
      "cell_type": "code",
      "source": [
        "person.name = \"BikrAm\"\n",
        "print(person.name)"
      ],
      "metadata": {
        "colab": {
          "base_uri": "https://localhost:8080/"
        },
        "id": "VVo4HDus2GdP",
        "outputId": "1ea2cb59-4130-46af-e852-34f181f679ed"
      },
      "execution_count": null,
      "outputs": [
        {
          "output_type": "stream",
          "name": "stdout",
          "text": [
            "BIKRAM\n"
          ]
        }
      ]
    },
    {
      "cell_type": "code",
      "source": [
        "class Rectangle:\n",
        "  def __init__(self, width, height):\n",
        "    self._width = width\n",
        "    self._height = height\n",
        "\n",
        "  @property\n",
        "  def area(self):\n",
        "    return self._width * self._height\n",
        "\n",
        "# Create a rectangle\n",
        "rect = Rectangle(4, 5)\n",
        "\n",
        "# Access the property like an attribute\n",
        "print(rect.area)"
      ],
      "metadata": {
        "colab": {
          "base_uri": "https://localhost:8080/"
        },
        "id": "G0LoBt3D1-lw",
        "outputId": "d936f332-3ab5-4c65-8762-0ead666e0b98"
      },
      "execution_count": null,
      "outputs": [
        {
          "output_type": "stream",
          "name": "stdout",
          "text": [
            "20\n"
          ]
        }
      ]
    },
    {
      "cell_type": "markdown",
      "source": [
        "#### 70. Explain the use of the @deleter decorator in Python property decorators. Provide a code example demonstrating its application."
      ],
      "metadata": {
        "id": "hlxVhIWU2U7m"
      }
    },
    {
      "cell_type": "markdown",
      "source": [
        "The ```@deleter``` decorator in Python is used with property decorators to define a method that gets called when you delete a property of an object.\n",
        "\n",
        "This allows you to perform custom actions such as cleaning up resources, ensuring data integrity or validating the deletion, when a property is removed.\n",
        "\n",
        "Here's an example:"
      ],
      "metadata": {
        "id": "J6EiSe803KXW"
      }
    },
    {
      "cell_type": "code",
      "source": [
        "class User:\n",
        "  def __init__(self, name):\n",
        "    self._name = name\n",
        "\n",
        "  @property\n",
        "  def name(self):\n",
        "    return self._name\n",
        "\n",
        "  @name.deleter\n",
        "  def name(self):\n",
        "    print(\"User name deleted!\")\n",
        "    del self._name  # Remove the underlying attribute\n",
        "\n",
        "# Create a user\n",
        "user = User(\"Arunima\")\n",
        "\n",
        "# Access the property (normal behavior)\n",
        "print(user.name)"
      ],
      "metadata": {
        "colab": {
          "base_uri": "https://localhost:8080/"
        },
        "id": "BNrfQ3gw5Eet",
        "outputId": "c75f714f-bc69-4642-8c14-7fe1f8cf99f1"
      },
      "execution_count": null,
      "outputs": [
        {
          "output_type": "stream",
          "name": "stdout",
          "text": [
            "Arunima\n"
          ]
        }
      ]
    },
    {
      "cell_type": "code",
      "source": [
        "# Delete the property using del\n",
        "del user.name\n",
        "\n",
        "# Attempting to access the property after deletion results in an AttributeError\n",
        "# since the underlying attribute is gone\n",
        "# print(user.name)  # This would raise an AttributeError"
      ],
      "metadata": {
        "colab": {
          "base_uri": "https://localhost:8080/"
        },
        "id": "1TYbwMj45UtH",
        "outputId": "a7e1cd5e-89ac-4cb3-cd24-44f14d5d6187"
      },
      "execution_count": null,
      "outputs": [
        {
          "output_type": "stream",
          "name": "stdout",
          "text": [
            "User name deleted!\n"
          ]
        }
      ]
    },
    {
      "cell_type": "markdown",
      "source": [
        "#### 71. How does encapsulation relate to property decorators in Python? Provide an example showcasing encapsulation using property decorators."
      ],
      "metadata": {
        "id": "3ET9mhlC5c8W"
      }
    },
    {
      "cell_type": "markdown",
      "source": [
        "Encapsulation in Python is about bundling data (attributes) with methods that operate on that data. Property decorators help achieve this by letting you define getters and setters for attributes.\n",
        "\n",
        "These methods control how the attribute is accessed and modified, hiding the internal logic and promoting data integrity.\n",
        "\n",
        "Here's an example:"
      ],
      "metadata": {
        "id": "Ml3Gj9qY6NCd"
      }
    },
    {
      "cell_type": "code",
      "source": [
        "class Circle:\n",
        "  def __init__(self, radius):\n",
        "    self._radius = radius  # Private attribute\n",
        "\n",
        "  @property\n",
        "  def radius(self):\n",
        "    return self._radius\n",
        "\n",
        "  @radius.setter\n",
        "  def radius(self, new_radius):\n",
        "    if new_radius <= 0:\n",
        "      raise ValueError(\"Radius must be positive\")\n",
        "    self._radius = new_radius\n",
        "\n",
        "  def area(self):\n",
        "    return 3.14 * self.radius ** 2\n",
        "\n",
        "circle = Circle(5)\n",
        "print(circle.radius)  # Uses getter"
      ],
      "metadata": {
        "colab": {
          "base_uri": "https://localhost:8080/"
        },
        "id": "tg23ZAcY5XVj",
        "outputId": "22268842-02c0-4404-ec97-eeb788060220"
      },
      "execution_count": null,
      "outputs": [
        {
          "output_type": "stream",
          "name": "stdout",
          "text": [
            "5\n"
          ]
        }
      ]
    },
    {
      "cell_type": "code",
      "source": [
        "circle.radius = 10      # Uses setter (validated)\n",
        "print(circle.area())   # Uses public method"
      ],
      "metadata": {
        "colab": {
          "base_uri": "https://localhost:8080/"
        },
        "id": "2sqN6T5i7qNJ",
        "outputId": "b53d9329-510e-44e5-c2bb-154020de6e8e"
      },
      "execution_count": null,
      "outputs": [
        {
          "output_type": "stream",
          "name": "stdout",
          "text": [
            "314.0\n"
          ]
        }
      ]
    }
  ]
}