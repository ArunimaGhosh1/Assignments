{
 "cells": [
  {
   "cell_type": "markdown",
   "id": "d125d709-e876-4e88-ac38-f855ef21b218",
   "metadata": {},
   "source": [
    "1. Write a program to print numbers from 1 to 10, but stop if the number is 5."
   ]
  },
  {
   "cell_type": "code",
   "execution_count": 1,
   "id": "10366b9e-0971-4214-b992-1f5f8bae05a7",
   "metadata": {},
   "outputs": [
    {
     "name": "stdout",
     "output_type": "stream",
     "text": [
      "1\n",
      "2\n",
      "3\n",
      "4\n"
     ]
    }
   ],
   "source": [
    "n=10\n",
    "i=1\n",
    "while i<=n:\n",
    "    if i==5:\n",
    "        break\n",
    "    print(i)\n",
    "    i += 1"
   ]
  },
  {
   "cell_type": "markdown",
   "id": "1e95c12a-7824-48d2-85f9-009701f72524",
   "metadata": {},
   "source": [
    "2. Write a program to iterate through a list and stop when encountering a specific element."
   ]
  },
  {
   "cell_type": "code",
   "execution_count": 2,
   "id": "1233e957-d280-470a-8387-a7c0f9b9a15c",
   "metadata": {},
   "outputs": [
    {
     "name": "stdout",
     "output_type": "stream",
     "text": [
      "1\n",
      "2\n",
      "True\n",
      "orange\n"
     ]
    }
   ],
   "source": [
    "list1=[1,2, True, 'orange', \"Arunima\",\"pwskills\"]\n",
    "for i in list1:\n",
    "    if i == \"Arunima\":\n",
    "        break\n",
    "    print(i)"
   ]
  },
  {
   "cell_type": "markdown",
   "id": "f39697dd-7cfd-4b87-bebd-b7d10ac6fdc7",
   "metadata": {},
   "source": [
    "3. Write a program to skip printing even numbers from 1 to 10."
   ]
  },
  {
   "cell_type": "code",
   "execution_count": 3,
   "id": "bbdaecc4-52ed-4539-bcad-130fd2a020cd",
   "metadata": {},
   "outputs": [
    {
     "name": "stdout",
     "output_type": "stream",
     "text": [
      "1\n",
      "3\n",
      "5\n",
      "7\n",
      "9\n"
     ]
    }
   ],
   "source": [
    "for n in range(1,11):\n",
    "    if n%2 ==0:\n",
    "        continue\n",
    "    print(n)"
   ]
  },
  {
   "cell_type": "markdown",
   "id": "7b87303b-a1a4-414b-aadc-b9dbe51ac37f",
   "metadata": {},
   "source": [
    "4. Write a program to print numbers from 0 to 9 using range."
   ]
  },
  {
   "cell_type": "code",
   "execution_count": 5,
   "id": "622caec6-f7ee-46b5-b4b8-4c4de5627e59",
   "metadata": {},
   "outputs": [
    {
     "name": "stdout",
     "output_type": "stream",
     "text": [
      "0\n",
      "1\n",
      "2\n",
      "3\n",
      "4\n",
      "5\n",
      "6\n",
      "7\n",
      "8\n",
      "9\n"
     ]
    }
   ],
   "source": [
    "for n in range(0,10):\n",
    "    print(n)"
   ]
  },
  {
   "cell_type": "markdown",
   "id": "16a72f31-ec3d-4aac-b313-029d041dae2c",
   "metadata": {},
   "source": [
    "5. Write a program to print multiplication tables from 1 to 5, but stop after the first table is printed for each number."
   ]
  },
  {
   "cell_type": "code",
   "execution_count": 6,
   "id": "375b0634-37db-4c71-a93e-37d22eea5a17",
   "metadata": {},
   "outputs": [
    {
     "name": "stdout",
     "output_type": "stream",
     "text": [
      " 1  2  3  4  5 \n"
     ]
    }
   ],
   "source": [
    "start=1\n",
    "end=5\n",
    "for i in range(start,end+1):\n",
    "    for j in range(start,end+1):\n",
    "        result=i*j\n",
    "        print(\"{:2}\".format(result), end=\" \")\n",
    "    print()\n",
    "    if i !=5:\n",
    "        break"
   ]
  },
  {
   "cell_type": "markdown",
   "id": "84ac4335-c21b-431d-8c55-ae3ed9adfc59",
   "metadata": {},
   "source": [
    "6. Write a program to skip printing even numbers using a while loop."
   ]
  },
  {
   "cell_type": "code",
   "execution_count": 7,
   "id": "a6a114f6-840a-46ab-915e-7e1cb9af6699",
   "metadata": {},
   "outputs": [
    {
     "name": "stdout",
     "output_type": "stream",
     "text": [
      "1\n",
      "3\n",
      "5\n",
      "7\n",
      "9\n"
     ]
    }
   ],
   "source": [
    "n=1\n",
    "while n<=10:\n",
    "    if n%2 ==0:\n",
    "        #Skip even numbers\n",
    "        n+=1\n",
    "        continue\n",
    "    #Print odd numbers\n",
    "    print(n)\n",
    "    #Increment n by 1\n",
    "    n+=1"
   ]
  },
  {
   "cell_type": "code",
   "execution_count": null,
   "id": "e10af7b2-fd8b-4468-b7b2-a637dd1d461e",
   "metadata": {},
   "outputs": [],
   "source": []
  }
 ],
 "metadata": {
  "kernelspec": {
   "display_name": "Python 3 (ipykernel)",
   "language": "python",
   "name": "python3"
  },
  "language_info": {
   "codemirror_mode": {
    "name": "ipython",
    "version": 3
   },
   "file_extension": ".py",
   "mimetype": "text/x-python",
   "name": "python",
   "nbconvert_exporter": "python",
   "pygments_lexer": "ipython3",
   "version": "3.10.8"
  }
 },
 "nbformat": 4,
 "nbformat_minor": 5
}
