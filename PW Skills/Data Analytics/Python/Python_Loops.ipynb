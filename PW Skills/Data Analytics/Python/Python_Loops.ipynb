{
 "cells": [
  {
   "cell_type": "markdown",
   "id": "fa870f35-6738-4888-882d-11517884ebe6",
   "metadata": {},
   "source": [
    "1. Print numbers from 1 to 5 using a while loop."
   ]
  },
  {
   "cell_type": "code",
   "execution_count": 1,
   "id": "6ea96934-d634-4e70-a89d-6521195c77d2",
   "metadata": {},
   "outputs": [
    {
     "name": "stdout",
     "output_type": "stream",
     "text": [
      "1\n",
      "2\n",
      "3\n",
      "4\n",
      "5\n"
     ]
    }
   ],
   "source": [
    "n = 1\n",
    "while n <= 5:\n",
    "    print(n)\n",
    "    n += 1"
   ]
  },
  {
   "cell_type": "markdown",
   "id": "0d12ab03-fc4b-4677-a1af-5de8f863546b",
   "metadata": {},
   "source": [
    "2. Calculate the sum of numbers from 1 to 10 using a while loop."
   ]
  },
  {
   "cell_type": "code",
   "execution_count": 2,
   "id": "59d94e16-74bf-436d-b4e0-195bf25508c7",
   "metadata": {},
   "outputs": [
    {
     "name": "stdout",
     "output_type": "stream",
     "text": [
      "55\n"
     ]
    }
   ],
   "source": [
    "n=1\n",
    "total_sum=0\n",
    "while n <= 10:\n",
    "    total_sum += n\n",
    "    n += 1\n",
    "print(total_sum)"
   ]
  },
  {
   "cell_type": "markdown",
   "id": "a63d271e-6b09-46bc-aaf0-c3b9d9a1df59",
   "metadata": {},
   "source": [
    "3. Calculate the factorial of a number using a for loop."
   ]
  },
  {
   "cell_type": "code",
   "execution_count": 3,
   "id": "2041a2ad-960f-4520-a0e6-20f934792f98",
   "metadata": {},
   "outputs": [
    {
     "name": "stdout",
     "output_type": "stream",
     "text": [
      "120\n"
     ]
    }
   ],
   "source": [
    "#Factorial of the number 5\n",
    "factorial = 1\n",
    "for i in range(1,6):\n",
    "    factorial *= i\n",
    "print(factorial)"
   ]
  },
  {
   "cell_type": "markdown",
   "id": "cb851bd3-fd6a-4920-a9f3-759262fa3b73",
   "metadata": {},
   "source": [
    "4. Count the number of vowel in a string using a for loop."
   ]
  },
  {
   "cell_type": "code",
   "execution_count": 4,
   "id": "7b321904-cefd-49ca-af37-279cfb7de982",
   "metadata": {},
   "outputs": [
    {
     "name": "stdout",
     "output_type": "stream",
     "text": [
      "5\n"
     ]
    }
   ],
   "source": [
    "a = 'Arunima Ghosh'\n",
    "num_of_vowels = 0\n",
    "vowels= ['a', 'e', 'i', 'o', 'u']\n",
    "for char in a:\n",
    "    if char.lower() in vowels:\n",
    "        num_of_vowels += 1\n",
    "print(num_of_vowels)"
   ]
  },
  {
   "cell_type": "markdown",
   "id": "b9b705f6-fa85-498d-b45d-45f822d6bc1d",
   "metadata": {},
   "source": [
    "5. Print a pattern using nested loop."
   ]
  },
  {
   "cell_type": "code",
   "execution_count": 5,
   "id": "0bb36c24-37da-44cb-93c7-9a8e603fb2f8",
   "metadata": {},
   "outputs": [
    {
     "name": "stdout",
     "output_type": "stream",
     "text": [
      "* \n",
      "* * \n",
      "* * * \n",
      "* * * * \n",
      "* * * * * \n"
     ]
    }
   ],
   "source": [
    "rows = 5\n",
    "for i in range(rows):\n",
    "    for j in range(i+1):\n",
    "        print('*', end=\" \")\n",
    "    print()"
   ]
  },
  {
   "cell_type": "code",
   "execution_count": 6,
   "id": "0e2ac0c3-a9f3-4674-b8c7-4c98caa0bdb7",
   "metadata": {},
   "outputs": [
    {
     "name": "stdout",
     "output_type": "stream",
     "text": [
      "@ \n",
      "@ @ \n",
      "@ @ @ \n",
      "@ @ @ @ \n"
     ]
    }
   ],
   "source": [
    "rows = 1\n",
    "while rows <= 4:\n",
    "    cols = 1\n",
    "    while cols <= rows:\n",
    "        print(\"@\", end=\" \")\n",
    "        cols = cols+1\n",
    "    print()\n",
    "    rows = rows+1"
   ]
  },
  {
   "cell_type": "markdown",
   "id": "0ff3002c-cef4-4dad-9397-7a5eb6bcbd7b",
   "metadata": {},
   "source": [
    "6. Generate a multiplication table using nested loop."
   ]
  },
  {
   "cell_type": "code",
   "execution_count": 7,
   "id": "54be2893-4a7e-45c0-829d-2a6e174ffc8c",
   "metadata": {},
   "outputs": [
    {
     "name": "stdout",
     "output_type": "stream",
     "text": [
      " 1  2  3  4  5 \n",
      " 2  4  6  8 10 \n",
      " 3  6  9 12 15 \n",
      " 4  8 12 16 20 \n",
      " 5 10 15 20 25 \n"
     ]
    }
   ],
   "source": [
    "start=1\n",
    "end=5\n",
    "for i in range(start,end+1):\n",
    "    for j in range(start,end+1):\n",
    "        result=i*j\n",
    "        print(\"{:2}\".format(result), end=\" \")\n",
    "    print()"
   ]
  }
 ],
 "metadata": {
  "kernelspec": {
   "display_name": "Python 3 (ipykernel)",
   "language": "python",
   "name": "python3"
  },
  "language_info": {
   "codemirror_mode": {
    "name": "ipython",
    "version": 3
   },
   "file_extension": ".py",
   "mimetype": "text/x-python",
   "name": "python",
   "nbconvert_exporter": "python",
   "pygments_lexer": "ipython3",
   "version": "3.10.8"
  }
 },
 "nbformat": 4,
 "nbformat_minor": 5
}
