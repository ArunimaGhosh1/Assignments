{
 "cells": [
  {
   "cell_type": "markdown",
   "id": "0da9f12d-8c25-4d82-9fab-8fef14e8d224",
   "metadata": {},
   "source": [
    "1. Convert an integer to a floating-point number."
   ]
  },
  {
   "cell_type": "code",
   "execution_count": 1,
   "id": "37d903ba-b91c-462a-9afa-e5bc0851bbae",
   "metadata": {},
   "outputs": [
    {
     "data": {
      "text/plain": [
       "float"
      ]
     },
     "execution_count": 1,
     "metadata": {},
     "output_type": "execute_result"
    }
   ],
   "source": [
    "x=15\n",
    "y=float(15)\n",
    "type(y)"
   ]
  },
  {
   "cell_type": "code",
   "execution_count": 2,
   "id": "13808879-c4d9-4a77-88f4-93c90dd3abb9",
   "metadata": {},
   "outputs": [
    {
     "data": {
      "text/plain": [
       "15.0"
      ]
     },
     "execution_count": 2,
     "metadata": {},
     "output_type": "execute_result"
    }
   ],
   "source": [
    "y"
   ]
  },
  {
   "cell_type": "markdown",
   "id": "15a55ca6-231f-477c-b2f5-f760575ba3af",
   "metadata": {},
   "source": [
    "2. Convert a float to an integer."
   ]
  },
  {
   "cell_type": "code",
   "execution_count": 3,
   "id": "2f99bd88-ef24-4651-8dab-b1ff6d28eb99",
   "metadata": {},
   "outputs": [
    {
     "data": {
      "text/plain": [
       "12"
      ]
     },
     "execution_count": 3,
     "metadata": {},
     "output_type": "execute_result"
    }
   ],
   "source": [
    "a=12.7\n",
    "b=int(a)\n",
    "b"
   ]
  },
  {
   "cell_type": "code",
   "execution_count": 4,
   "id": "26fd9c95-334d-48c8-9c2e-abfb74318e5d",
   "metadata": {},
   "outputs": [
    {
     "data": {
      "text/plain": [
       "int"
      ]
     },
     "execution_count": 4,
     "metadata": {},
     "output_type": "execute_result"
    }
   ],
   "source": [
    "type(b)"
   ]
  },
  {
   "cell_type": "markdown",
   "id": "a6ef0e0c-cd14-46a5-852d-dfcc16d55945",
   "metadata": {},
   "source": [
    "3. Covert an integer to a string."
   ]
  },
  {
   "cell_type": "code",
   "execution_count": 5,
   "id": "74951b2d-e784-49e2-b8f6-9ca6a2040efe",
   "metadata": {},
   "outputs": [
    {
     "data": {
      "text/plain": [
       "'45'"
      ]
     },
     "execution_count": 5,
     "metadata": {},
     "output_type": "execute_result"
    }
   ],
   "source": [
    "int=45\n",
    "int_to_str=str(int)\n",
    "int_to_str"
   ]
  },
  {
   "cell_type": "code",
   "execution_count": 6,
   "id": "c4b1ca1b-0c93-43cd-9b12-ec3914aab26e",
   "metadata": {},
   "outputs": [
    {
     "data": {
      "text/plain": [
       "str"
      ]
     },
     "execution_count": 6,
     "metadata": {},
     "output_type": "execute_result"
    }
   ],
   "source": [
    "type(int_to_str)"
   ]
  },
  {
   "cell_type": "markdown",
   "id": "09d7381f-1c13-4ce1-8002-d1e78fd90598",
   "metadata": {},
   "source": [
    "4. Convert a list to a tuple."
   ]
  },
  {
   "cell_type": "code",
   "execution_count": 7,
   "id": "8cf1f63e-1d0a-4a50-9a03-d8b5bb52f5d0",
   "metadata": {},
   "outputs": [
    {
     "data": {
      "text/plain": [
       "(1, 2, 'apple', 'data science')"
      ]
     },
     "execution_count": 7,
     "metadata": {},
     "output_type": "execute_result"
    }
   ],
   "source": [
    "list1=[1, 2, \"apple\", \"data science\"]\n",
    "tuple1=tuple(list1)\n",
    "tuple1"
   ]
  },
  {
   "cell_type": "markdown",
   "id": "753c3ea9-1266-444c-af30-d0d3f7bbcd03",
   "metadata": {},
   "source": [
    "5. Convert a tuple to a list."
   ]
  },
  {
   "cell_type": "code",
   "execution_count": 8,
   "id": "862e60f4-7876-4081-b63b-2650feede977",
   "metadata": {},
   "outputs": [
    {
     "data": {
      "text/plain": [
       "[1, 2, 'orange', 'PW Skills']"
      ]
     },
     "execution_count": 8,
     "metadata": {},
     "output_type": "execute_result"
    }
   ],
   "source": [
    "tuple2=(1, 2, 'orange', 'PW Skills')\n",
    "list2= list (tuple2)\n",
    "list2"
   ]
  },
  {
   "cell_type": "markdown",
   "id": "eaae0f38-c2e0-4220-8f96-00a8c54a1543",
   "metadata": {},
   "source": [
    "6. Convert a decimal number to binary."
   ]
  },
  {
   "cell_type": "code",
   "execution_count": 9,
   "id": "36cb2ed9-cfab-4cc5-8e0f-6c1b73c4635d",
   "metadata": {},
   "outputs": [
    {
     "data": {
      "text/plain": [
       "'0b10010'"
      ]
     },
     "execution_count": 9,
     "metadata": {},
     "output_type": "execute_result"
    }
   ],
   "source": [
    "decimal_number=18\n",
    "binary_number=bin(decimal_number)\n",
    "binary_number"
   ]
  },
  {
   "cell_type": "markdown",
   "id": "5a4d8bd1-6678-498d-b3df-baa13f11da27",
   "metadata": {},
   "source": [
    "7. Convert a non-zero number to boolean."
   ]
  },
  {
   "cell_type": "code",
   "execution_count": 10,
   "id": "902ad83f-d088-4bdc-9e51-e0b6260c7dc8",
   "metadata": {},
   "outputs": [
    {
     "data": {
      "text/plain": [
       "True"
      ]
     },
     "execution_count": 10,
     "metadata": {},
     "output_type": "execute_result"
    }
   ],
   "source": [
    "number=5\n",
    "bool_value=bool(number)\n",
    "bool_value"
   ]
  }
 ],
 "metadata": {
  "kernelspec": {
   "display_name": "Python 3 (ipykernel)",
   "language": "python",
   "name": "python3"
  },
  "language_info": {
   "codemirror_mode": {
    "name": "ipython",
    "version": 3
   },
   "file_extension": ".py",
   "mimetype": "text/x-python",
   "name": "python",
   "nbconvert_exporter": "python",
   "pygments_lexer": "ipython3",
   "version": "3.10.8"
  }
 },
 "nbformat": 4,
 "nbformat_minor": 5
}
