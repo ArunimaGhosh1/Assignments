{
  "nbformat": 4,
  "nbformat_minor": 0,
  "metadata": {
    "colab": {
      "provenance": []
    },
    "kernelspec": {
      "name": "python3",
      "display_name": "Python 3"
    },
    "language_info": {
      "name": "python"
    }
  },
  "cells": [
    {
      "cell_type": "markdown",
      "source": [
        "#### 1. What is the purpose of the len() function in Python, and how can it be used with strings?"
      ],
      "metadata": {
        "id": "AFCrCRXrfg4g"
      }
    },
    {
      "cell_type": "markdown",
      "source": [
        "The len() function in Python is used to determine the length of an object, which can be a string, list, tuple, dictionary, or any other iterable or sequence. Specifically for strings, len() returns the number of characters in the string.\n",
        "\n",
        "For example:"
      ],
      "metadata": {
        "id": "93bmC_sEgVeZ"
      }
    },
    {
      "cell_type": "code",
      "source": [
        "my_string = \"Hello, world!\"\n",
        "length = len(my_string)\n",
        "print(length)"
      ],
      "metadata": {
        "colab": {
          "base_uri": "https://localhost:8080/"
        },
        "id": "_3aWYqsdgbwq",
        "outputId": "8c1fe4e3-791d-4cd1-ed82-0740e3e08207"
      },
      "execution_count": null,
      "outputs": [
        {
          "output_type": "stream",
          "name": "stdout",
          "text": [
            "13\n"
          ]
        }
      ]
    },
    {
      "cell_type": "markdown",
      "source": [
        "In this example, len() is used to find the length of the string \"Hello, World!\", which is 13 characters long. This includes letters, spaces, punctuation, and any other characters.\n",
        "\n",
        "This function can be useful for tasks like checking the length of user input, validating string lengths in conditionals, or iterating over strings based on their length."
      ],
      "metadata": {
        "id": "4OxhJSlYg-Fw"
      }
    },
    {
      "cell_type": "markdown",
      "source": [
        "#### 2. How can you concatenate two or more strings in Python, and can you provide an example of string concatenation?"
      ],
      "metadata": {
        "id": "eWEdvx3UiBrM"
      }
    },
    {
      "cell_type": "markdown",
      "source": [
        "In Python, you can concatenate strings using the + operator or by using the join() method.\n",
        "\n",
        "Here's an example using both methods:"
      ],
      "metadata": {
        "id": "BK1cAbCTiMOD"
      }
    },
    {
      "cell_type": "code",
      "source": [
        "# Using the + operator:\n",
        "str1 = \"Hello\"\n",
        "str2 = \"World\"\n",
        "concatenated_str = str1 + \" \" + str2\n",
        "print(concatenated_str)"
      ],
      "metadata": {
        "colab": {
          "base_uri": "https://localhost:8080/"
        },
        "id": "pTYxjv6Ii0dr",
        "outputId": "af9b7ad1-698b-4a71-c219-0f2e392fd4e2"
      },
      "execution_count": null,
      "outputs": [
        {
          "output_type": "stream",
          "name": "stdout",
          "text": [
            "Hello World\n"
          ]
        }
      ]
    },
    {
      "cell_type": "code",
      "source": [
        "# Using the join() method:\n",
        "str_list = [\"Hello\", \"world\"]\n",
        "result = \" \".join(str_list)\n",
        "print(result)"
      ],
      "metadata": {
        "colab": {
          "base_uri": "https://localhost:8080/"
        },
        "id": "YeQwDEcui9HH",
        "outputId": "8ef2ab36-85af-4cd5-80a3-81e2c18eb24b"
      },
      "execution_count": null,
      "outputs": [
        {
          "output_type": "stream",
          "name": "stdout",
          "text": [
            "Hello world\n"
          ]
        }
      ]
    },
    {
      "cell_type": "markdown",
      "source": [
        "#### 3. What is string slicing in Python, and how can you extract a portion of a string using this method?"
      ],
      "metadata": {
        "id": "MD5tiaxNjRDg"
      }
    },
    {
      "cell_type": "markdown",
      "source": [
        "String slicing in Python refers to the process of extracting a portion of a string by specifying a start index and an end index within square brackets []. The syntax for string slicing is string[start_index:end_index], where the start index is inclusive and the end index is exclusive.\n",
        "\n",
        "Here are some examples:"
      ],
      "metadata": {
        "id": "kuVT2wo0jWNX"
      }
    },
    {
      "cell_type": "code",
      "source": [
        "my_string = \"Hello, world!\"\n",
        "\n",
        "# Extracting \"Hello\"\n",
        "substring1 = my_string[0:5]\n",
        "\n",
        "print(substring1)"
      ],
      "metadata": {
        "id": "b7UdRA9OpvOX",
        "colab": {
          "base_uri": "https://localhost:8080/"
        },
        "outputId": "090f21da-dd8c-4490-af32-2bff008385d6"
      },
      "execution_count": null,
      "outputs": [
        {
          "output_type": "stream",
          "name": "stdout",
          "text": [
            "Hello\n"
          ]
        }
      ]
    },
    {
      "cell_type": "code",
      "source": [
        "# Extracting \"world\"\n",
        "substring2 = my_string[7:12]\n",
        "\n",
        "print(substring2)"
      ],
      "metadata": {
        "colab": {
          "base_uri": "https://localhost:8080/"
        },
        "id": "58N87-9SqhM-",
        "outputId": "ff93248e-ed6b-4408-dc76-dded710f0529"
      },
      "execution_count": null,
      "outputs": [
        {
          "output_type": "stream",
          "name": "stdout",
          "text": [
            "world\n"
          ]
        }
      ]
    },
    {
      "cell_type": "markdown",
      "source": [
        "Omitting start index defaults to beginning of the string:"
      ],
      "metadata": {
        "id": "aat7g62FrIaq"
      }
    },
    {
      "cell_type": "code",
      "source": [
        "substring = my_string[:5]\n",
        "print(substring)"
      ],
      "metadata": {
        "colab": {
          "base_uri": "https://localhost:8080/"
        },
        "id": "g0TUvettrMoU",
        "outputId": "0e0efd17-463b-4a72-ff6e-b6944621f7ef"
      },
      "execution_count": null,
      "outputs": [
        {
          "output_type": "stream",
          "name": "stdout",
          "text": [
            "Hello\n"
          ]
        }
      ]
    },
    {
      "cell_type": "markdown",
      "source": [
        "Omitting end index defaults to end of the string:"
      ],
      "metadata": {
        "id": "Jz7hn9iQrSMo"
      }
    },
    {
      "cell_type": "code",
      "source": [
        "substring = my_string[7:]\n",
        "print(substring)"
      ],
      "metadata": {
        "colab": {
          "base_uri": "https://localhost:8080/"
        },
        "id": "9A9C0xEqrU7V",
        "outputId": "af70d511-a958-435a-accd-c97cfe0bc18c"
      },
      "execution_count": null,
      "outputs": [
        {
          "output_type": "stream",
          "name": "stdout",
          "text": [
            "world!\n"
          ]
        }
      ]
    },
    {
      "cell_type": "markdown",
      "source": [
        "You can also use negative indices to slice from the end of the string:"
      ],
      "metadata": {
        "id": "POMOsoRarh4S"
      }
    },
    {
      "cell_type": "code",
      "source": [
        "my_string1 = \"Hello, world!\"\n",
        "sub_string = my_string1[-13:-1]\n",
        "print(sub_string)"
      ],
      "metadata": {
        "id": "e7CVyUSjsKh9",
        "outputId": "53cfde9b-77ce-4c5b-f9bf-c2dc92872c52",
        "colab": {
          "base_uri": "https://localhost:8080/"
        }
      },
      "execution_count": null,
      "outputs": [
        {
          "output_type": "stream",
          "name": "stdout",
          "text": [
            "Hello, world\n"
          ]
        }
      ]
    },
    {
      "cell_type": "markdown",
      "source": [
        "Additionally, you can specify a step size (also known as stride) to skip characters:"
      ],
      "metadata": {
        "id": "38XzyJbOtu1Z"
      }
    },
    {
      "cell_type": "code",
      "source": [
        "my_string = \"abcdefghij\"\n",
        "\n",
        "# Extracting \"acegi\", the alternate digits\n",
        "substring = my_string[::2]\n",
        "\n",
        "print(substring)"
      ],
      "metadata": {
        "colab": {
          "base_uri": "https://localhost:8080/"
        },
        "id": "ebHBmj6isp5Z",
        "outputId": "dc2720c1-e37b-4d7a-84d4-6827a7b6127d"
      },
      "execution_count": null,
      "outputs": [
        {
          "output_type": "stream",
          "name": "stdout",
          "text": [
            "acegi\n"
          ]
        }
      ]
    },
    {
      "cell_type": "markdown",
      "source": [
        "#### 4. How can you change the case of a string in Python, and can you provide examples of both making a string all uppercase and all lowercase?"
      ],
      "metadata": {
        "id": "oyb24YW-uJgU"
      }
    },
    {
      "cell_type": "markdown",
      "source": [
        "In Python, you can change the case of a string using the upper() and lower() methods.\n",
        "\n",
        "Here are examples of both:"
      ],
      "metadata": {
        "id": "695Cn8mjuP3l"
      }
    },
    {
      "cell_type": "code",
      "source": [
        "# Converting a string to uppercase\n",
        "my_string = \"Hello, World!\"\n",
        "upper_case_string = my_string.upper()\n",
        "print(upper_case_string)"
      ],
      "metadata": {
        "colab": {
          "base_uri": "https://localhost:8080/"
        },
        "id": "BzFefurSuzOv",
        "outputId": "14011123-0ecc-4fd3-cbb1-4c8e8ba15e68"
      },
      "execution_count": null,
      "outputs": [
        {
          "output_type": "stream",
          "name": "stdout",
          "text": [
            "HELLO, WORLD!\n"
          ]
        }
      ]
    },
    {
      "cell_type": "code",
      "source": [
        "# Converting a string to lowercase\n",
        "my_string = \"Hello, World!\"\n",
        "lower_case_string = my_string.lower()\n",
        "print(lower_case_string)"
      ],
      "metadata": {
        "colab": {
          "base_uri": "https://localhost:8080/"
        },
        "id": "XzgtF6e3vTby",
        "outputId": "3bc7c283-d10b-4be0-b6a9-8b0aadb2e389"
      },
      "execution_count": null,
      "outputs": [
        {
          "output_type": "stream",
          "name": "stdout",
          "text": [
            "hello, world!\n"
          ]
        }
      ]
    },
    {
      "cell_type": "markdown",
      "source": [
        "#### 5. What does the split() method do in Python, and how can you split a string using a specific delimiter?"
      ],
      "metadata": {
        "id": "77SwzmCNvYA3"
      }
    },
    {
      "cell_type": "markdown",
      "source": [
        "In Python, the split() method is used to split a string into a list of substrings based on a specified delimiter. By default, it splits the string by whitespace characters. However, you can specify a custom delimiter by passing it as an argument to the split() method.\n",
        "\n",
        "For example:"
      ],
      "metadata": {
        "id": "XMl0W0OvxDaR"
      }
    },
    {
      "cell_type": "code",
      "source": [
        "my_string = \"Hello, how are you?\"\n",
        "split_string = my_string.split()  # Splits by whitespace by default\n",
        "print(split_string)"
      ],
      "metadata": {
        "colab": {
          "base_uri": "https://localhost:8080/"
        },
        "id": "jbeODs8FvUkr",
        "outputId": "9468f755-9dd0-47cf-de4d-e0f8fec3dc72"
      },
      "execution_count": null,
      "outputs": [
        {
          "output_type": "stream",
          "name": "stdout",
          "text": [
            "['Hello,', 'how', 'are', 'you?']\n"
          ]
        }
      ]
    },
    {
      "cell_type": "code",
      "source": [
        "# Splitting using a specific delimiter (comma)\n",
        "split_string = my_string.split(',')\n",
        "print(split_string)"
      ],
      "metadata": {
        "colab": {
          "base_uri": "https://localhost:8080/"
        },
        "id": "lIZ0tz2uxsHY",
        "outputId": "efc21824-f041-44e7-92c8-7d92927d0a54"
      },
      "execution_count": null,
      "outputs": [
        {
          "output_type": "stream",
          "name": "stdout",
          "text": [
            "['Hello', ' how are you?']\n"
          ]
        }
      ]
    },
    {
      "cell_type": "code",
      "source": [
        "my_string = \"apple,mango,orange\"\n",
        "split_string = my_string.split(\",\")  # Splitting based on comma delimiter\n",
        "print(split_string)"
      ],
      "metadata": {
        "colab": {
          "base_uri": "https://localhost:8080/"
        },
        "id": "eb5Y2UXZyEzp",
        "outputId": "7a8aba83-8cd4-418e-dfdf-6361b9a26d42"
      },
      "execution_count": null,
      "outputs": [
        {
          "output_type": "stream",
          "name": "stdout",
          "text": [
            "['apple', 'mango', 'orange']\n"
          ]
        }
      ]
    }
  ]
}